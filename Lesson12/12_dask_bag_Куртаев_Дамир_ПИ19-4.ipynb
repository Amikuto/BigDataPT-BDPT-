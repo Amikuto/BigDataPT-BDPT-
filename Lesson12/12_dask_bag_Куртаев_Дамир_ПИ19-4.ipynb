{
 "cells": [
  {
   "cell_type": "markdown",
   "metadata": {},
   "source": [
    "# Dask Bag"
   ]
  },
  {
   "cell_type": "markdown",
   "metadata": {},
   "source": [
    "Материалы: \n",
    "* Макрушин С.В. Лекция 12: Map-Reduce\n",
    "* https://docs.dask.org/en/latest/bag.html\n",
    "* Jesse C. Daniel. Data Science with Python and Dask. "
   ]
  },
  {
   "cell_type": "markdown",
   "metadata": {},
   "source": [
    "## Задачи для совместного разбора"
   ]
  },
  {
   "cell_type": "code",
   "execution_count": 1,
   "outputs": [],
   "source": [
    "import nltk"
   ],
   "metadata": {
    "collapsed": false,
    "pycharm": {
     "name": "#%%\n"
    }
   }
  },
  {
   "cell_type": "markdown",
   "metadata": {},
   "source": [
    "1. Считайте файл `Dostoevskiy Fedor. Igrok - BooksCafe.Net.txt` и разбейте на предложения. Подсчитайте длину (в кол-ве символов) каждого предложения."
   ]
  },
  {
   "cell_type": "code",
   "execution_count": 2,
   "outputs": [
    {
     "data": {
      "text/plain": "['Спасибо, что скачали книгу в бесплатной электронной библиотеке BooksCafe.Net: http://bookscafe.net\\n\\nВсе книги автора: http://bookscafe.net/author/dostoevskiy_fedor-1096.html\\n\\nЭта же книга в других форматах: http://bookscafe.net/book/dostoevskiy_fedor-igrok-240117.html\\n\\nПриятного чтения!',\n 'Федор Михайлович Достоевский\\n\\nИгрок\\n\\n(Из записок молодого человека)\\n\\n\\n\\n\\nГлава I\\n\\nНаконец я возвратился из моей двухнедельной отлучки.',\n 'Наши уже три дня как были в Рулетенбурге.']"
     },
     "execution_count": 2,
     "metadata": {},
     "output_type": "execute_result"
    }
   ],
   "source": [
    "text = open('Dostoevskiy Fedor. Igrok - BooksCafe.Net.txt').read()\n",
    "sents = nltk.sent_tokenize(text)\n",
    "sents[:3]"
   ],
   "metadata": {
    "collapsed": false,
    "pycharm": {
     "name": "#%%\n"
    }
   }
  },
  {
   "cell_type": "code",
   "execution_count": 3,
   "outputs": [
    {
     "data": {
      "text/plain": "[287, 133, 41]"
     },
     "execution_count": 3,
     "metadata": {},
     "output_type": "execute_result"
    }
   ],
   "source": [
    "[len(sent) for sent in sents][:3]"
   ],
   "metadata": {
    "collapsed": false,
    "pycharm": {
     "name": "#%%\n"
    }
   }
  },
  {
   "cell_type": "code",
   "execution_count": 4,
   "outputs": [
    {
     "data": {
      "text/plain": "[287, 133, 41]"
     },
     "execution_count": 4,
     "metadata": {},
     "output_type": "execute_result"
    }
   ],
   "source": [
    "list(map(len, sents))[:3]"
   ],
   "metadata": {
    "collapsed": false,
    "pycharm": {
     "name": "#%%\n"
    }
   }
  },
  {
   "cell_type": "markdown",
   "metadata": {},
   "source": [
    "2. Считайте файл `Dostoevskiy Fedor. Igrok - BooksCafe.Net.txt` и разбейте на предложения. Выведите предложения, длина которых не более 10 символов."
   ]
  },
  {
   "cell_type": "code",
   "execution_count": 5,
   "outputs": [
    {
     "data": {
      "text/plain": "['— ton).]', '—\\xa0Плюнуть?', '«Как!']"
     },
     "execution_count": 5,
     "metadata": {},
     "output_type": "execute_result"
    }
   ],
   "source": [
    "[sent for sent in sents if len(sent) <= 10][:3]"
   ],
   "metadata": {
    "collapsed": false,
    "pycharm": {
     "name": "#%%\n"
    }
   }
  },
  {
   "cell_type": "code",
   "execution_count": 7,
   "outputs": [
    {
     "data": {
      "text/plain": "['— ton).]', '—\\xa0Плюнуть?', '«Как!']"
     },
     "execution_count": 7,
     "metadata": {},
     "output_type": "execute_result"
    }
   ],
   "source": [
    "list(filter(lambda sent: len(sent) <= 10, sents))[:3]"
   ],
   "metadata": {
    "collapsed": false,
    "pycharm": {
     "name": "#%%\n"
    }
   }
  },
  {
   "cell_type": "markdown",
   "metadata": {},
   "source": [
    "3. На основе списка предложений из задачи 1-2 создайте `dask.bag`. Рассчитайте среднюю длину предложений в тексте."
   ]
  },
  {
   "cell_type": "code",
   "execution_count": 10,
   "outputs": [],
   "source": [
    "import dask.bag as db"
   ],
   "metadata": {
    "collapsed": false,
    "pycharm": {
     "name": "#%%\n"
    }
   }
  },
  {
   "cell_type": "code",
   "execution_count": 15,
   "outputs": [
    {
     "data": {
      "text/plain": "72.89840944073885"
     },
     "execution_count": 15,
     "metadata": {},
     "output_type": "execute_result"
    }
   ],
   "source": [
    "bag = db.from_sequence(sents)\n",
    "bag.map(len).mean().compute()"
   ],
   "metadata": {
    "collapsed": false,
    "pycharm": {
     "name": "#%%\n"
    }
   }
  },
  {
   "cell_type": "markdown",
   "metadata": {},
   "source": [
    "4. На основе файла `addres_book.json` создайте `dask.bag`. Посчитайте количество мобильных и рабочих телефонов в наборе данных"
   ]
  },
  {
   "cell_type": "code",
   "execution_count": 27,
   "outputs": [],
   "source": [
    "import json"
   ],
   "metadata": {
    "collapsed": false,
    "pycharm": {
     "name": "#%%\n"
    }
   }
  },
  {
   "cell_type": "code",
   "execution_count": 28,
   "outputs": [
    {
     "data": {
      "text/plain": "{'name': 'Faina Lee',\n 'email': 'faina@mail.ru',\n 'birthday': '22.08.1994',\n 'phones': [{'phone': '232-19-55'}, {'phone': '+7 (916) 232-19-55'}]}"
     },
     "execution_count": 28,
     "metadata": {},
     "output_type": "execute_result"
    }
   ],
   "source": [
    "data = json.load(open('addres-book.json'))\n",
    "data[0]"
   ],
   "metadata": {
    "collapsed": false,
    "pycharm": {
     "name": "#%%\n"
    }
   }
  },
  {
   "cell_type": "code",
   "execution_count": 29,
   "outputs": [
    {
     "data": {
      "text/plain": "dask.bag<from_sequence, npartitions=8>"
     },
     "execution_count": 29,
     "metadata": {},
     "output_type": "execute_result"
    }
   ],
   "source": [
    "bag = db.from_sequence(data)\n",
    "bag"
   ],
   "metadata": {
    "collapsed": false,
    "pycharm": {
     "name": "#%%\n"
    }
   }
  },
  {
   "cell_type": "code",
   "execution_count": 22,
   "outputs": [
    {
     "data": {
      "text/plain": "[[{'phone': '232-19-55'}, {'phone': '+7 (916) 232-19-55'}],\n [{'phone': '111-19-55'}],\n [{'phone': '232-19-56'}, {'phone': '+7 (916) 232-19-56'}],\n [{'phone': '+7 (916) 445-19-57'}],\n [{'phone': '232-19-58'}, {'phone': '+7 (916) 232-19-58'}],\n [{'phone': '+7 (916) 445-19-59'}],\n [{'phone': '232-19-50'}, {'phone': '+7 (916) 232-19-50'}],\n [{'phone': '111-19-51'}, {'phone': '+7 (916) 445-19-51'}]]"
     },
     "execution_count": 22,
     "metadata": {},
     "output_type": "execute_result"
    }
   ],
   "source": [
    "bag.map(lambda record: record['phones']).compute()"
   ],
   "metadata": {
    "collapsed": false,
    "pycharm": {
     "name": "#%%\n"
    }
   }
  },
  {
   "cell_type": "code",
   "execution_count": 25,
   "outputs": [
    {
     "data": {
      "text/plain": "[{'phone': '232-19-55'},\n {'phone': '+7 (916) 232-19-55'},\n {'phone': '111-19-55'},\n {'phone': '232-19-56'},\n {'phone': '+7 (916) 232-19-56'},\n {'phone': '+7 (916) 445-19-57'},\n {'phone': '232-19-58'},\n {'phone': '+7 (916) 232-19-58'},\n {'phone': '+7 (916) 445-19-59'},\n {'phone': '232-19-50'},\n {'phone': '+7 (916) 232-19-50'},\n {'phone': '111-19-51'},\n {'phone': '+7 (916) 445-19-51'}]"
     },
     "execution_count": 25,
     "metadata": {},
     "output_type": "execute_result"
    }
   ],
   "source": [
    "bag.pluck('phones').flatten().compute()"
   ],
   "metadata": {
    "collapsed": false,
    "pycharm": {
     "name": "#%%\n"
    }
   }
  },
  {
   "cell_type": "code",
   "execution_count": 30,
   "outputs": [],
   "source": [
    "def add_type(record):\n",
    "    record['type'] = 'mobile' if record['phone'].startswith('+7') else 'work'\n",
    "    return record"
   ],
   "metadata": {
    "collapsed": false,
    "pycharm": {
     "name": "#%%\n"
    }
   }
  },
  {
   "cell_type": "code",
   "execution_count": 37,
   "outputs": [
    {
     "data": {
      "text/plain": "[{'phone': '232-19-55', 'type': 'work'},\n {'phone': '+7 (916) 232-19-55', 'type': 'mobile'},\n {'phone': '111-19-55', 'type': 'work'},\n {'phone': '232-19-56', 'type': 'work'},\n {'phone': '+7 (916) 232-19-56', 'type': 'mobile'},\n {'phone': '+7 (916) 445-19-57', 'type': 'mobile'},\n {'phone': '232-19-58', 'type': 'work'},\n {'phone': '+7 (916) 232-19-58', 'type': 'mobile'},\n {'phone': '+7 (916) 445-19-59', 'type': 'mobile'},\n {'phone': '232-19-50', 'type': 'work'},\n {'phone': '+7 (916) 232-19-50', 'type': 'mobile'},\n {'phone': '111-19-51', 'type': 'work'},\n {'phone': '+7 (916) 445-19-51', 'type': 'mobile'}]"
     },
     "execution_count": 37,
     "metadata": {},
     "output_type": "execute_result"
    }
   ],
   "source": [
    "bag.pluck('phones').flatten().map(add_type).compute()"
   ],
   "metadata": {
    "collapsed": false,
    "pycharm": {
     "name": "#%%\n"
    }
   }
  },
  {
   "cell_type": "code",
   "execution_count": 31,
   "outputs": [
    {
     "data": {
      "text/plain": "[('work', 6), ('mobile', 7)]"
     },
     "execution_count": 31,
     "metadata": {},
     "output_type": "execute_result"
    }
   ],
   "source": [
    "bag.pluck('phones').flatten().map(\n",
    "    lambda record: 'mobile' if record['phone'].startswith('+7') else 'work').frequencies().compute()"
   ],
   "metadata": {
    "collapsed": false,
    "pycharm": {
     "name": "#%%\n"
    }
   }
  },
  {
   "cell_type": "code",
   "execution_count": 39,
   "outputs": [
    {
     "data": {
      "text/plain": "[('work', 6), ('mobile', 7)]"
     },
     "execution_count": 39,
     "metadata": {},
     "output_type": "execute_result"
    }
   ],
   "source": [
    "(bag.pluck('phones')\n",
    " .flatten()\n",
    " .map(add_type)\n",
    " .pluck('type')\n",
    " .frequencies()\n",
    " .compute())"
   ],
   "metadata": {
    "collapsed": false,
    "pycharm": {
     "name": "#%%\n"
    }
   }
  },
  {
   "cell_type": "code",
   "execution_count": 40,
   "outputs": [
    {
     "data": {
      "text/plain": "[('work', 6), ('mobile', 7)]"
     },
     "execution_count": 40,
     "metadata": {},
     "output_type": "execute_result"
    }
   ],
   "source": [
    "phones_with_types = bag.pluck('phones').flatten().map(add_type)\n",
    "type_freqs = phones_with_types.pluck('type').frequencies()\n",
    "type_freqs.compute()"
   ],
   "metadata": {
    "collapsed": false,
    "pycharm": {
     "name": "#%%\n"
    }
   }
  },
  {
   "cell_type": "code",
   "execution_count": 240,
   "outputs": [],
   "source": [
    "def binop(total, value):\n",
    "    return total + 1\n",
    "\n",
    "\n",
    "def combine(left, right):\n",
    "    return left + right"
   ],
   "metadata": {
    "collapsed": false,
    "pycharm": {
     "name": "#%%\n"
    }
   }
  },
  {
   "cell_type": "code",
   "execution_count": 242,
   "outputs": [
    {
     "data": {
      "text/plain": "[('work', 6), ('mobile', 7)]"
     },
     "execution_count": 242,
     "metadata": {},
     "output_type": "execute_result"
    }
   ],
   "source": [
    "bag.pluck('phones')\\\n",
    ".flatten()\\\n",
    ".map(add_type)\\\n",
    ".foldby('type', binop, 0, combine, 0)\\\n",
    ".compute()"
   ],
   "metadata": {
    "collapsed": false,
    "pycharm": {
     "name": "#%%\n"
    }
   }
  },
  {
   "cell_type": "markdown",
   "metadata": {},
   "source": [
    "## Лабораторная работа 12"
   ]
  },
  {
   "cell_type": "code",
   "execution_count": 1,
   "metadata": {},
   "outputs": [],
   "source": [
    "import dask.bag as db\n",
    "import json\n",
    "import re\n",
    "import pandas as pd"
   ]
  },
  {
   "cell_type": "markdown",
   "metadata": {},
   "source": [
    "1. В файлах архиве `reviews_full.zip` находятся файлы, содержащие информацию об отзывах к рецептам в формате JSON Lines. Отзывы разделены на файлы в зависимости от оценки (например, в файле `reviews_1.json` находятся отзывы с оценкой 1). Считайте файлы из этого архива в виде `dask.bag`. Преобразуйте текстовое содержимое файлов с помощью модуля `json`. Выведите на экран первые 5 элементов полученного `bag`."
   ]
  },
  {
   "cell_type": "code",
   "source": [
    "import os\n",
    "\n",
    "fn = os.path.join(\"./reviews_full/reviews_*.json\")\n",
    "fn"
   ],
   "metadata": {
    "collapsed": false,
    "pycharm": {
     "name": "#%%\n"
    }
   },
   "execution_count": 69,
   "outputs": [
    {
     "data": {
      "text/plain": "'./reviews_full/reviews_*.json'"
     },
     "execution_count": 69,
     "metadata": {},
     "output_type": "execute_result"
    }
   ]
  },
  {
   "cell_type": "code",
   "execution_count": 2,
   "outputs": [
    {
     "data": {
      "text/plain": "({'user_id': 452355,\n  'recipe_id': 292657,\n  'date': '2016-05-08',\n  'review': 'WOW!!! This is the best. I have never been able to make homemade enchiladas that taste like the Mexican restaurants. I made this last night for my family and they said they will never have enchiladas at the Mexican Restaurants again. Thanks for sharing.'},\n {'user_id': 329304,\n  'recipe_id': 433404,\n  'date': '2006-06-14',\n  'review': 'This was good but the dressing needed something and I found it to be a little too sweet, next time I will experiment with some garlic and herbs and reduce the sugar slightly, thanks for sharing kcdlong!...Kitten'},\n {'user_id': 227932,\n  'recipe_id': 2008187,\n  'date': '1985-11-19',\n  'review': 'Very good,it was a hit for my family. I used 6 cloves of garlic and had 1 lb beef and  Johnsonville sausage,1/2 lb hot and  1/2 lb honey garlic( which I wanted to use). That was a perfect combo for us. The sausage gave it nice flavor No guestion , I will be making this often.'},\n {'user_id': 171468,\n  'recipe_id': 270716,\n  'date': '2019-05-21',\n  'review': 'Made for ZWT-8 Family Picks after I saw these mentioned in the Family Picks thread. So I got up this morning, made my morning coffee while the oven was heating & then made these quick-fix sweet treats B4 I was ready for my 2nd cup of coffee. I used 8\" tortillas (all I had on-hand) & cut them into 8 wedges. Then I used 2 of my Pamperd Chef gadgets .. my sml basting brush to spread the honey on the warm tortillas & my flour/sugar shaker to sprinkle the powd sugar/cinnamon mixture atop the honeyed tortillas. It might have taken a total of 2 min from oven to tasting! Yum! Using the same \"sweet mix\" these would also be good w/butter, cream cheese or even lime juice. Can\\'t wait to try them w/lime juice! Thx for sharing this tasty little treat w/us.'},\n {'user_id': 91392,\n  'recipe_id': 1159916,\n  'date': '1972-09-18',\n  'review': \"Very nice slaw. I especially like that it doesn't have the mayo dressing. I used a prepackaged Cole slaw mix, so i didn't include the carrots nor the nuts. I also doubled the sauce. :)\"})"
     },
     "execution_count": 2,
     "metadata": {},
     "output_type": "execute_result"
    }
   ],
   "source": [
    "b = db.read_text(\"./reviews_full/reviews_*.json\").map(json.loads)\n",
    "b.take(5)"
   ],
   "metadata": {
    "collapsed": false,
    "pycharm": {
     "name": "#%%\n"
    }
   }
  },
  {
   "cell_type": "markdown",
   "metadata": {},
   "source": [
    "2. Модифицируйте функцию разбора JSON таким образом, чтобы в каждый словарь c информацией об отзыве добавить ключ `rating`. Значение получите на основе названия файла (см. аргумент `include_path`), использовав для этого регулярное выражение."
   ]
  },
  {
   "cell_type": "code",
   "execution_count": 3,
   "outputs": [],
   "source": [
    "bag = db.read_text(\"./reviews_full/reviews_*.json\", include_path=True)"
   ],
   "metadata": {
    "collapsed": false,
    "pycharm": {
     "name": "#%%\n"
    }
   }
  },
  {
   "cell_type": "code",
   "execution_count": 15,
   "outputs": [],
   "source": [
    "def add_rating_column(string):\n",
    "    import ast\n",
    "    import re\n",
    "\n",
    "    dct = ast.literal_eval(re.sub(r\"\\n\", '', string[0]))\n",
    "    dct['rating'] = int(re.search(r\"\\d.json\", string[1]).group(0)[0])\n",
    "    return dct"
   ],
   "metadata": {
    "collapsed": false,
    "pycharm": {
     "name": "#%%\n"
    }
   }
  },
  {
   "cell_type": "code",
   "execution_count": 16,
   "outputs": [
    {
     "data": {
      "text/plain": "({'user_id': 452355,\n  'recipe_id': 292657,\n  'date': '2016-05-08',\n  'review': 'WOW!!! This is the best. I have never been able to make homemade enchiladas that taste like the Mexican restaurants. I made this last night for my family and they said they will never have enchiladas at the Mexican Restaurants again. Thanks for sharing.',\n  'rating': 0},\n {'user_id': 329304,\n  'recipe_id': 433404,\n  'date': '2006-06-14',\n  'review': 'This was good but the dressing needed something and I found it to be a little too sweet, next time I will experiment with some garlic and herbs and reduce the sugar slightly, thanks for sharing kcdlong!...Kitten',\n  'rating': 0},\n {'user_id': 227932,\n  'recipe_id': 2008187,\n  'date': '1985-11-19',\n  'review': 'Very good,it was a hit for my family. I used 6 cloves of garlic and had 1 lb beef and  Johnsonville sausage,1/2 lb hot and  1/2 lb honey garlic( which I wanted to use). That was a perfect combo for us. The sausage gave it nice flavor No guestion , I will be making this often.',\n  'rating': 0},\n {'user_id': 171468,\n  'recipe_id': 270716,\n  'date': '2019-05-21',\n  'review': 'Made for ZWT-8 Family Picks after I saw these mentioned in the Family Picks thread. So I got up this morning, made my morning coffee while the oven was heating & then made these quick-fix sweet treats B4 I was ready for my 2nd cup of coffee. I used 8\" tortillas (all I had on-hand) & cut them into 8 wedges. Then I used 2 of my Pamperd Chef gadgets .. my sml basting brush to spread the honey on the warm tortillas & my flour/sugar shaker to sprinkle the powd sugar/cinnamon mixture atop the honeyed tortillas. It might have taken a total of 2 min from oven to tasting! Yum! Using the same \"sweet mix\" these would also be good w/butter, cream cheese or even lime juice. Can\\'t wait to try them w/lime juice! Thx for sharing this tasty little treat w/us.',\n  'rating': 0},\n {'user_id': 91392,\n  'recipe_id': 1159916,\n  'date': '1972-09-18',\n  'review': \"Very nice slaw. I especially like that it doesn't have the mayo dressing. I used a prepackaged Cole slaw mix, so i didn't include the carrots nor the nuts. I also doubled the sauce. :)\",\n  'rating': 0})"
     },
     "execution_count": 16,
     "metadata": {},
     "output_type": "execute_result"
    }
   ],
   "source": [
    "bag_with_rating = (bag.map(lambda x: add_rating_column(x))\n",
    "                   .map(json.dumps)\n",
    "                   .map(json.loads))\n",
    "\n",
    "bag_with_rating.take(5)"
   ],
   "metadata": {
    "collapsed": false,
    "pycharm": {
     "name": "#%%\n"
    }
   }
  },
  {
   "cell_type": "markdown",
   "metadata": {},
   "source": [
    "3. Посчитайте количество отзывов в исходном датасете."
   ]
  },
  {
   "cell_type": "code",
   "execution_count": 9,
   "outputs": [
    {
     "data": {
      "text/plain": "9057540"
     },
     "execution_count": 9,
     "metadata": {},
     "output_type": "execute_result"
    }
   ],
   "source": [
    "b = db.read_text(\"./reviews_full/reviews_*.json\").map(json.loads)\n",
    "b.count().compute()"
   ],
   "metadata": {
    "collapsed": false,
    "pycharm": {
     "name": "#%%\n"
    }
   }
  },
  {
   "cell_type": "markdown",
   "metadata": {},
   "source": [
    "4. Отфильтруйте `bag`, сохранив только отзывы, оставленные в 2014 и 2015 годах."
   ]
  },
  {
   "cell_type": "code",
   "execution_count": 6,
   "outputs": [
    {
     "data": {
      "text/plain": "dask.bag<filter-lambda, npartitions=6>"
     },
     "execution_count": 6,
     "metadata": {},
     "output_type": "execute_result"
    }
   ],
   "source": [
    "b_filtered_by_years = bag_with_rating.filter(lambda i: i['date'].split(\"-\")[0] in ('2014', '2015'))\n",
    "b_filtered_by_years"
   ],
   "metadata": {
    "collapsed": false,
    "pycharm": {
     "name": "#%%\n"
    }
   }
  },
  {
   "cell_type": "code",
   "execution_count": 14,
   "outputs": [
    {
     "data": {
      "text/plain": "735274"
     },
     "execution_count": 14,
     "metadata": {},
     "output_type": "execute_result"
    }
   ],
   "source": [
    "b_filtered_by_years.count().compute()"
   ],
   "metadata": {
    "collapsed": false,
    "pycharm": {
     "name": "#%%\n"
    }
   }
  },
  {
   "cell_type": "code",
   "execution_count": 23,
   "outputs": [
    {
     "data": {
      "text/plain": "('2016-05-08', '2006-06-14', '1985-11-19', '2019-05-21', '1972-09-18')"
     },
     "execution_count": 23,
     "metadata": {},
     "output_type": "execute_result"
    }
   ],
   "source": [
    "bag_with_rating.pluck('date').take(5)     #i['date'].split(\"-\")[0] in ['2014', '2015'])"
   ],
   "metadata": {
    "collapsed": false,
    "pycharm": {
     "name": "#%%\n"
    }
   }
  },
  {
   "cell_type": "code",
   "execution_count": 11,
   "outputs": [
    {
     "data": {
      "text/plain": "({'user_id': 229850,\n  'recipe_id': 1300038,\n  'date': '2014-10-03',\n  'review': 'Took this to a New Year&#039;s Eve Party. Everyone loved it! It&#039;s absolutely perfect, the flavor, the crunch, just delicious!',\n  'rating': '0'},\n {'user_id': 2706705,\n  'recipe_id': 133747,\n  'date': '2015-05-08',\n  'review': 'Simple and easy way to enjoy a slice of pizza any time!  Well-toasted bread is the key - really toast it!  I put a bit of pizza sauce underneath my cheese for a more pizza-like flavor.  I used sourdough bread & medium cheddar cheese.  Fast & fun!  Great idea!  Made for 1-2-3 Hits Tag Game.',\n  'rating': '0'},\n {'user_id': 945545,\n  'recipe_id': 898468,\n  'date': '2015-06-30',\n  'review': 'Delish!  I wanted to make this spicy so I used hot enchilada sauce and jalapeno refried beans.  I forgot to buy the onions so I doctored up the beans with onion powder and granulated garlic.  Added the olives under the cheese and baked, uncovered, for the 25 minutes.  Served with pico de gallo, sour cream and avocado chunks.  Fantastic!  Thanks for sharing, lazyme!',\n  'rating': '0'},\n {'user_id': 262915,\n  'recipe_id': 1657686,\n  'date': '2015-11-29',\n  'review': 'This is seriously delicious.  I mixed it up the night before and baked it in the morning before work.  Made the sauce the night before and refrigerated overnight and heated in microwave.  Such an unusual combination but it kind of reminded me of the pancake on a stick that my kids used to get at the convenience store (sausage wrapped in a pancake, kind of like a corn dog.  Making it again this week and will try to get a pic this time!',\n  'rating': '0'},\n {'user_id': 2000408662,\n  'recipe_id': 128848,\n  'date': '2015-08-17',\n  'review': 'Many thanks. Found the recipe truly marvellous! I can now make full use of the lemons growing in my garden.The marmalade was delicious and very easy to make. Since it was the first time, I didn&#039;t want to use a large quantity and so I halved the measures after converting them into grams. Please could we have measurements of ingredients in  recipes in the metric system, i.e. grams and litres,and not in pounds?  Now I am going to search for a recipe to make lemon squash',\n  'rating': '0'},\n {'user_id': 1803736692,\n  'recipe_id': 180306,\n  'date': '2015-02-02',\n  'review': 'Thank you very much for this recipe! My daughter is allergic to gluten. In Poland we have no shops with gluten free products so I have to prepare it by myself . And finally I found great recipe!:)',\n  'rating': '0'},\n {'user_id': 226863,\n  'recipe_id': 2047275,\n  'date': '2015-03-13',\n  'review': \"This was SO fun to make :) It was my first tempura and I made it with my mom for ZWT6. The recipe was easy to follow and it turned out very delicious. The plum sauce is the best sweet & sour sauce I've had so far, so it is going in my permanent recipe folder :D\",\n  'rating': '0'},\n {'user_id': 86318,\n  'recipe_id': 220950,\n  'date': '2014-03-06',\n  'review': 'I don&#039;t know whether my harissa is extremely weak or not, but the 1/2 teaspoon didn&#039;t seem to flavor anything (of course, the sensitivity of the person eating also needs to be considered - I prefer to eat hot, spicy food). I added more harissa, to get about a tablespoon, total. That was all I had, but I was still not so happy with it. And then, instead of lemon juice and parsley, I decided that chopped coriander was what this recipe needed. It was okay. As you can see, I changed the recipe all around, so do not feel comfortable assigning stars. I do think I&#039;ll seek out recipes with more promise of fire. Thank you for the experience.',\n  'rating': '0'},\n {'user_id': 46300491,\n  'recipe_id': 22171,\n  'date': '2014-03-26',\n  'review': 'I made these into balls and dipped them in melted chocolate instead of the cinnamon. They were delicious.  Just a little tip:  When you melt chocolate wafers for dipping, add about 1/2 tsp. of solid shortening (Crisco, etc.).  It makes the chocolate a little thinner.',\n  'rating': '0'},\n {'user_id': 88099,\n  'recipe_id': 1866173,\n  'date': '2014-07-09',\n  'review': 'This is a very hearty soup and there is a ton of it for leftovers.  I am only giving it three stars, because it seemed to need a bit more seasoning for my tastes. Thank you for sharing.',\n  'rating': '0'},\n {'user_id': 720962,\n  'recipe_id': 1496622,\n  'date': '2014-10-05',\n  'review': 'This is a really good pasta.  I did think the lemon was a little overpowering but it was still great.  I served as a side dish with grilled chicken and roasted veggies but even as a meat eater I would definitely enjoy this as a main dish with a salad as suggested.  Thanks for posting!',\n  'rating': '0'},\n {'user_id': 1803370473,\n  'recipe_id': 16693,\n  'date': '2014-11-19',\n  'review': 'I order this pie anytime I am lucky enough to go to the Angus Barn, however when I tried making it myself using this recipe, my pie didn&#039;t end up tasting much like the restaurant version. For one thing, it seemed too sweet. It may be that the recipe requires unsweetened coconut, but I wasn&#039;t sure and what seems most easy to find in grocery stores is sweetened. If you use sweetened coconut I would recommend decreasing the amount of sugar you add. The other problem was that my pie wasn&#039;t as firm as the restaurant&#039;s version. I used liquid eggwhites but couldn&#039;t find a good conversion chart for the 7 eggwhites the recipe calls for. I used a cup of the liquid eggwhites and it was too much. Last but not least, a homemade crust probably tastes best. I used a frozen shell and my pie was just so-so.&lt;br/&gt;At the restaurant this pie is served with both whipped cream and sliced bananas on the top. Since my pie was a little sweet, sprinkling nutmeg and/or cinnamon on top of the bananas seemed to help cut the sweetness a little and complimented the pie nicely.',\n  'rating': '0'},\n {'user_id': 1803010092,\n  'recipe_id': 129764,\n  'date': '2014-08-09',\n  'review': 'I tried this recipe after using the online converter to metric, and the batter resembled a bread dough. Checked the recipe and found out the 2 cups of flour were converted into 473gr!!!',\n  'rating': '0'},\n {'user_id': 1017552,\n  'recipe_id': 1429883,\n  'date': '2014-03-13',\n  'review': 'I made a half amount for us using some Splenda in place of the sugar. This is SO easy! I prepared the apples and popped them into the freezer yesterday afternoon and just whizzed it up in the food pro when we were ready for dessert and a movie break last evening. I used beautiful Fuji apples to make this marvelous treat. Thanks so much for sharing this little wonder awalde.',\n  'rating': '0'},\n {'user_id': 424680,\n  'recipe_id': 1008509,\n  'date': '2015-03-01',\n  'review': 'I thought this was very good. I may use a bit less Pepsi next time. It was a bit on the sweet side, but very delicious.',\n  'rating': '0'},\n {'user_id': 21752,\n  'recipe_id': 721834,\n  'date': '2015-04-28',\n  'review': 'These were excellent!  Cheesy and full of flavor.  Perfect side for any grilled meat and of course for brunch!',\n  'rating': '0'},\n {'user_id': 522099,\n  'recipe_id': 2092472,\n  'date': '2015-08-23',\n  'review': \"These were amazing. I used soymilk because its all I had and used a super simple cream cheese icing:\\n4T. cream cheese\\n2-4T. milk (soy, buttermilk etc.)\\ndash vanilla, salt\\nUp to 2C. powdered sugar\\nwhisk cheese, milk, vanilla, salt. stir in sugar slowly until desired consistency is reached.\\nperfection. I'm soo grateful for this dough recipe!\",\n  'rating': '0'},\n {'user_id': 2854039,\n  'recipe_id': 1701040,\n  'date': '2014-12-26',\n  'review': 'Made for Everyday is a Holiday Tag.  If I could give a recipe more than five stars this would be one of them.  We all loved it - this is pure comfort food.  The cornbread topping is so good and the filling is nice and creamy.  I did leave out the mushrooms due to an allergy and increased the corn to 1 cup.  Will definitely make this again as I always have these ingredients on hand.  Thanks BabyKato for a great recipe!',\n  'rating': '0'},\n {'user_id': 20395,\n  'recipe_id': 1475172,\n  'date': '2014-01-20',\n  'review': 'I have been making this chicken for over 10 years.  It was a popular treat for us when we would eat at Planet Hollywood.  My kids & hubby love it and there are never any leftovers!  \\r\\n\\r\\nIf you have never made it and are hesitant, thinking it might be too sweet, I assure you that it is not.  It is just perfectly seasoned and is almost similar to that of Chik-fil-A strips..\\r\\n\\r\\nEnjoy!!!',\n  'rating': '0'},\n {'user_id': 89831,\n  'recipe_id': 683960,\n  'date': '2015-03-31',\n  'review': 'hi guys,  my son picked up this style of roast. it wouldnt have been my 1st pick, but since i owned i thought i would give this recipe a try. i dont normaly take the time to respond to stuff like this, however i had such great results. i had to rate this roast. i was a little leary of the recipe but oh well.<br/>    my roast came out exactly as the one pictured in the recipe, even after it was done, i was still unsure how it came out. i have cooked several pork roast in the past, but i must say. this was by far the tastiest roast i have ever eaten. everyoe who shared in it said the same thing. \"IT WASNT NOT WHAT I EXSPECTED, BUT ABSOLUTELY WONDERFUL\"<br/>so please give it a try. you will not be dissappointed..<br/>john from riverside ca',\n  'rating': '0'},\n {'user_id': 208751,\n  'recipe_id': 1356027,\n  'date': '2014-07-25',\n  'review': \"A very good sandwich! I made this as listed, using about half the butter. The sauce was terrific and quite spicy for me - I had the last serving so I got the pepper flakes! I wasn't sure what do to with the last portion of chili powder so I just sprinkled it on the sandwich. I would make this again for sure! Good luck in the contest! :)\",\n  'rating': '0'},\n {'user_id': 1802506815,\n  'recipe_id': 173585,\n  'date': '2014-07-08',\n  'review': 'I have to say that this burger hit on all cylinders! Umami power. Combination of flavors in each layer, textures and just-slightly-different twists on traditional burgerisms. If you are going to do a run on new and unique, use this as a blueprint. Hats off to the chef from one burger meister to another.',\n  'rating': '0'},\n {'user_id': 2729690,\n  'recipe_id': 515145,\n  'date': '2014-04-01',\n  'review': 'looks so delish',\n  'rating': '0'},\n {'user_id': 2000271817,\n  'recipe_id': 452519,\n  'date': '2015-06-15',\n  'review': 'Wait a minute Canadians Hot Dogs come in 12 a pack. O&#039; my',\n  'rating': '0'},\n {'user_id': 116009,\n  'recipe_id': 185045,\n  'date': '2014-02-07',\n  'review': 'These are great.  They have the same gooey, chewiness that fudge brownies have.  I added toffee chips to mine along with the chocolate chips, supper yummy.',\n  'rating': '0'},\n {'user_id': 2001399305,\n  'recipe_id': 360303,\n  'date': '2015-04-02',\n  'review': 'Oh my goodness! I have never heard of egg patties, but I totally wish I knew about this recipe like...decades ago! This is SO good!!! The only thing I did was add some minced garlic and a bit of minced ginger when I cooked the tomatoes. I found it a tad difficult to get the potato to seal properly... but it worked out in the end after dipping in the egg and coating in breadcrumbs. These are so delicious!  Served with spicy tomato sauce and DH (as always) ate his patties with bread.',\n  'rating': '0'},\n {'user_id': 362184,\n  'recipe_id': 13673,\n  'date': '2014-11-07',\n  'review': 'Simply wonderful - easy to make and yes, make some extra \"for tasting\".',\n  'rating': '0'},\n {'user_id': 482376,\n  'recipe_id': 281440,\n  'date': '2014-09-20',\n  'review': 'Really good roasted chicken - I used fresh rosemary instead of parsley in an organic, free-range chicken. I tucked the rosemary, butter and lemon under the skin as well as in the cavity - yums!',\n  'rating': '0'},\n {'user_id': 323186,\n  'recipe_id': 734563,\n  'date': '2014-02-04',\n  'review': 'In trying to use up some powd. milk I came across this recipe. We all loved it, although I made mine with milk to make it thicker. It is also good without the bittersweet bits, and less of the cinnamon.',\n  'rating': '0'},\n {'user_id': 128473,\n  'recipe_id': 1646393,\n  'date': '2014-09-14',\n  'review': 'Terrific bread.  I sprinkled sesame seeds on the loaf after brushing it with the egg white.',\n  'rating': '0'},\n {'user_id': 109547,\n  'recipe_id': 457100,\n  'date': '2015-07-01',\n  'review': \"Made for Potsie's Cook-a-thon, simple and delicious followed the recipe just as written, everyone in the family enjoyed it's creamy goodness,\",\n  'rating': '0'},\n {'user_id': 2002151432,\n  'recipe_id': 935820,\n  'date': '2015-05-17',\n  'review': \"Made this last year for Thanksgiving and I can't believe I didn't rate it then.  I usually bring a mac and cheese to Thanksgiving dinner with my family, but last year I was given the task of the potatoes.  I always get rave reviews for my mac, and it was no different here.  However, this time I had people asking if THEY could take home the left overs. Hah!  So, well done.  Thanks for a great recipe.  BTW, I'll be doing the mashed potatoes again this year, and SO looking forward to it.\",\n  'rating': '0'},\n {'user_id': 270799,\n  'recipe_id': 1811058,\n  'date': '2015-12-08',\n  'review': 'This is easily \"Top 5\" including anything I\\'ve ever eaten. This recipe is absolutely incredible, it is THAT good. Thanks for sharing.',\n  'rating': '0'},\n {'user_id': 56463,\n  'recipe_id': 1014878,\n  'date': '2015-02-11',\n  'review': \"I love potatoes and this recipe is no exception. The grocery I was in didn't have new red potatoes so I got the smallest red potatoes they had. I also sprayed the potatoes with some olive oil so they'd be coated before baking. They were served with bbq'd spareribs and salad.\",\n  'rating': '0'},\n {'user_id': 1800054678,\n  'recipe_id': 1261718,\n  'date': '2015-09-10',\n  'review': 'I followed the directions, except I used no sugar (or substitute). This salad was great! Thank you. :)\\r\\nReviewed for Healthy Choices ABC tag.',\n  'rating': '0'},\n {'user_id': 181638,\n  'recipe_id': 2172768,\n  'date': '2015-09-15',\n  'review': 'Had this \"tagged\", shopped for, cooked and eaten in 2 hours. It\\'s fast and tasty-lots of nice flavours in there. Thanks for a good quickie Inez.',\n  'rating': '0'},\n {'user_id': 930328,\n  'recipe_id': 1717086,\n  'date': '2015-08-06',\n  'review': 'Just put this in the crock pot. My house already smells amazing! I added another tsp of chili powder, and I used chicken thighs instead of pork. The sauce tastes amazing! I&#039;m sure I&#039;ll LOVE this. Thanks!',\n  'rating': '0'},\n {'user_id': 1671566,\n  'recipe_id': 16531,\n  'date': '2015-02-03',\n  'review': 'Have not made this yet, question as anyone tryed it in the pressure cooker. That helps keep white meat moist.',\n  'rating': '0'},\n {'user_id': 962474,\n  'recipe_id': 2105614,\n  'date': '2014-06-20',\n  'review': 'This was good! It was a little dry and I might add a bit more cheese next time, but it was tasty nonetheless. We used mild sausage and that worked nicely. ',\n  'rating': '0'},\n {'user_id': 70073,\n  'recipe_id': 1570534,\n  'date': '2015-03-22',\n  'review': \"I've never had Panera soup, but this recipe makes a delicious soup. Only changes I made were 2 cloves of garlic sauted with the onion, whole milk instead of half/half, and I only added about five ounces of cheese as opposed to eight. Seemed like 8 ounces was a bit much for such a small volume of soup. The soup thickened up beautifully. Creamy and thick without being overly rich. For those who complain that this has no flavor, I am baffled. My first guess is lack of salt. The soup does require a good bit of salt and pepper, but that's the nature of any recipe. You salt as you go, and add as much as you think it needs to bring out the flavor. My second guess is using a bland supermarket cheese. I used a good quality cheddar from Trader Joe's. Not expensive at all, but way more flavor than the bland rubbery stuff. I will definitely be making this again.\",\n  'rating': '0'},\n {'user_id': 1702878,\n  'recipe_id': 206574,\n  'date': '2015-04-25',\n  'review': \"I have this same recipe here (also slightly adapted), only I have it under venison marinade.  I love this recipe and it's pretty much the only one I ever use for grilled pork or venison.  I'm glad to see lots of other people are enjoying it too.\",\n  'rating': '0'},\n {'user_id': 145626,\n  'recipe_id': 773752,\n  'date': '2014-09-12',\n  'review': \"This really steps it up a notch for potato salads!  I doubled the recipe for a big crowd here for the holiday. I got rave reviews every time I turned around!  Definately do use the canned shrimp.  It really gives great taste appeal to the recipe. I look forward to having this all winter long, it's so delicious!\",\n  'rating': '0'},\n {'user_id': 73697,\n  'recipe_id': 834977,\n  'date': '2015-11-01',\n  'review': 'This was very good. Made it after work and the family really enjoyed it. I added some minced garlic and some lemon juice and baked the porkloin at 400 for 25 minutes and then broiled it (it was late we were hungry).  I think this would be even better if I let the tenderloin marinate for a bit.',\n  'rating': '0'},\n {'user_id': 302094,\n  'recipe_id': 1759170,\n  'date': '2014-08-06',\n  'review': \"This is a great recipe for a classic dish. There's something so addictive about mashed potatoes - we love them! Thanks for posting Jubes.\",\n  'rating': '0'},\n {'user_id': 95763,\n  'recipe_id': 1948364,\n  'date': '2014-02-18',\n  'review': 'cake components 5 egge 1/2 milk cupe 1/2 oil cupe',\n  'rating': '0'},\n {'user_id': 80079,\n  'recipe_id': 1708021,\n  'date': '2014-03-29',\n  'review': \"Okay, so I didn't exactly stay totally true to the recipe!  I halved it and then I added ice and a little more creme de menthe and another scoop of ice cream.  It came out like an iced coffee.  I'm eating it right now with a spoon and it is delicious!  But cold!  Thank you twissis!!\",\n  'rating': '0'},\n {'user_id': 606420,\n  'recipe_id': 1990022,\n  'date': '2015-08-07',\n  'review': 'Ooops...I made these last summer and forgot to rate. We LOVE these! I used Panko Japanese bread crumbs, so very crispy and delicious.\\r\\nThanks for posting!',\n  'rating': '0'},\n {'user_id': 572039,\n  'recipe_id': 1822949,\n  'date': '2015-03-25',\n  'review': 'WOW, was this good! I used vanilla wafers for the cookies. This was a delicious and light treat that\\'s perfect for the summer months but I could easily enjoy this all year. Thank\\'s so much for sharing. A definate \"repeat\" for us!!',\n  'rating': '0'},\n {'user_id': 1803582883,\n  'recipe_id': 60350,\n  'date': '2014-12-30',\n  'review': 'I made this for dinner tonight and it turned out fantastic. Since the recipe called for cheddar cheese and I had extra sharp cheddar in the fridge, that is what I used. My guy said it&#039;s definitely a &quot;do-again&quot; recipe. Thank you!',\n  'rating': '0'},\n {'user_id': 522099,\n  'recipe_id': 484993,\n  'date': '2015-05-24',\n  'review': 'This is the best chocolate cake I ever made and it was years ago and I still remember how great it was.',\n  'rating': '0'})"
     },
     "execution_count": 11,
     "metadata": {},
     "output_type": "execute_result"
    }
   ],
   "source": [
    "b_filtered_by_years.take(50)"
   ],
   "metadata": {
    "collapsed": false,
    "pycharm": {
     "name": "#%%\n"
    }
   }
  },
  {
   "cell_type": "markdown",
   "metadata": {},
   "source": [
    "5. Выполните препроцессинг отзывов:\n",
    "    * привести строки к нижнему регистру\n",
    "    * обрезать пробельные символы в начале и конце строки\n",
    "    * удалите все символы, кроме английских букв и пробелов\n",
    "    \n",
    "Примените препроцессинг ко всем записям из `bag`, полученного в задании 4."
   ]
  },
  {
   "cell_type": "code",
   "execution_count": 17,
   "outputs": [],
   "source": [
    "def preprocess(record):\n",
    "    record[\"review\"] = re.sub(r'[^A-Za-z ]+', '', record[\"review\"].lower().strip())\n",
    "    return record"
   ],
   "metadata": {
    "collapsed": false,
    "pycharm": {
     "name": "#%%\n"
    }
   }
  },
  {
   "cell_type": "code",
   "execution_count": 18,
   "outputs": [
    {
     "data": {
      "text/plain": "({'user_id': 229850,\n  'recipe_id': 1300038,\n  'date': '2014-10-03',\n  'review': 'took this to a new years eve party everyone loved it its absolutely perfect the flavor the crunch just delicious',\n  'rating': 0},\n {'user_id': 2706705,\n  'recipe_id': 133747,\n  'date': '2015-05-08',\n  'review': 'simple and easy way to enjoy a slice of pizza any time  welltoasted bread is the key  really toast it  i put a bit of pizza sauce underneath my cheese for a more pizzalike flavor  i used sourdough bread  medium cheddar cheese  fast  fun  great idea  made for  hits tag game',\n  'rating': 0},\n {'user_id': 945545,\n  'recipe_id': 898468,\n  'date': '2015-06-30',\n  'review': 'delish  i wanted to make this spicy so i used hot enchilada sauce and jalapeno refried beans  i forgot to buy the onions so i doctored up the beans with onion powder and granulated garlic  added the olives under the cheese and baked uncovered for the  minutes  served with pico de gallo sour cream and avocado chunks  fantastic  thanks for sharing lazyme',\n  'rating': 0},\n {'user_id': 262915,\n  'recipe_id': 1657686,\n  'date': '2015-11-29',\n  'review': 'this is seriously delicious  i mixed it up the night before and baked it in the morning before work  made the sauce the night before and refrigerated overnight and heated in microwave  such an unusual combination but it kind of reminded me of the pancake on a stick that my kids used to get at the convenience store sausage wrapped in a pancake kind of like a corn dog  making it again this week and will try to get a pic this time',\n  'rating': 0},\n {'user_id': 2000408662,\n  'recipe_id': 128848,\n  'date': '2015-08-17',\n  'review': 'many thanks found the recipe truly marvellous i can now make full use of the lemons growing in my gardenthe marmalade was delicious and very easy to make since it was the first time i didnt want to use a large quantity and so i halved the measures after converting them into grams please could we have measurements of ingredients in  recipes in the metric system ie grams and litresand not in pounds  now i am going to search for a recipe to make lemon squash',\n  'rating': 0})"
     },
     "execution_count": 18,
     "metadata": {},
     "output_type": "execute_result"
    }
   ],
   "source": [
    "b_filtered_and_preprocessed = b_filtered_by_years.map(lambda x: preprocess(x))\n",
    "b_filtered_and_preprocessed.take(5)"
   ],
   "metadata": {
    "collapsed": false,
    "pycharm": {
     "name": "#%%\n"
    }
   }
  },
  {
   "cell_type": "markdown",
   "metadata": {},
   "source": [
    "6. Посчитайте количество отзывов в датасете, полученном в результате решения задачи 5. В случае ошибок прокомментируйте результат и исправьте функцию препроцессинга."
   ]
  },
  {
   "cell_type": "code",
   "execution_count": 31,
   "outputs": [
    {
     "data": {
      "text/plain": "735274"
     },
     "execution_count": 31,
     "metadata": {},
     "output_type": "execute_result"
    }
   ],
   "source": [
    "b_filtered_and_preprocessed.count().compute()"
   ],
   "metadata": {
    "collapsed": false,
    "pycharm": {
     "name": "#%%\n"
    }
   }
  },
  {
   "cell_type": "markdown",
   "metadata": {},
   "source": [
    "7. Посчитайте, как часто в наборе, полученном в задании 5, встречается та или иная оценка."
   ]
  },
  {
   "cell_type": "code",
   "execution_count": 21,
   "outputs": [
    {
     "data": {
      "text/plain": "{0: 42472, 1: 9246, 2: 9380, 3: 26532, 4: 119413, 5: 528231}"
     },
     "execution_count": 21,
     "metadata": {},
     "output_type": "execute_result"
    }
   ],
   "source": [
    "dict(b_filtered_and_preprocessed.pluck(\"rating\").frequencies())"
   ],
   "metadata": {
    "collapsed": false,
    "pycharm": {
     "name": "#%%\n"
    }
   }
  },
  {
   "cell_type": "markdown",
   "metadata": {},
   "source": [
    "8. Найдите среднее значение `rating` в наборе, полученном в задании 5."
   ]
  },
  {
   "cell_type": "code",
   "execution_count": 19,
   "outputs": [
    {
     "data": {
      "text/plain": "4.388036296673077"
     },
     "execution_count": 19,
     "metadata": {},
     "output_type": "execute_result"
    }
   ],
   "source": [
    "b_filtered_and_preprocessed.pluck('rating').mean().compute()"
   ],
   "metadata": {
    "collapsed": false,
    "pycharm": {
     "name": "#%%\n"
    }
   }
  },
  {
   "cell_type": "markdown",
   "metadata": {},
   "source": [
    "9. Используя метод `foldby`, подсчитать максимальную длину отзывов в зависимости от оценки `rating` в наборе, полученном в задании 5."
   ]
  },
  {
   "cell_type": "code",
   "execution_count": 239,
   "outputs": [
    {
     "data": {
      "text/plain": "{0: 6548, 1: 2868, 2: 2834, 3: 3174, 4: 6548, 5: 5343}"
     },
     "execution_count": 239,
     "metadata": {},
     "output_type": "execute_result"
    }
   ],
   "source": [
    "def binop(total, value):\n",
    "    return max(total, len(value[\"review\"]))\n",
    "\n",
    "def combine(left, right):\n",
    "    return max(left, right)\n",
    "\n",
    "dict(b_filtered_and_preprocessed.foldby(\"rating\", binop, 0, combine, 0))"
   ],
   "metadata": {
    "collapsed": false,
    "pycharm": {
     "name": "#%%\n"
    }
   }
  }
 ],
 "metadata": {
  "kernelspec": {
   "display_name": "Python 3",
   "language": "python",
   "name": "python3"
  },
  "language_info": {
   "codemirror_mode": {
    "name": "ipython",
    "version": 3
   },
   "file_extension": ".py",
   "mimetype": "text/x-python",
   "name": "python",
   "nbconvert_exporter": "python",
   "pygments_lexer": "ipython3",
   "version": "3.7.4"
  }
 },
 "nbformat": 4,
 "nbformat_minor": 4
}