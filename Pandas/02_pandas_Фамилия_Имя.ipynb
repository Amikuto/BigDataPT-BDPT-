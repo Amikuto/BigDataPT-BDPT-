{
 "cells": [
  {
   "cell_type": "markdown",
   "metadata": {},
   "source": [
    "# Pandas"
   ]
  },
  {
   "cell_type": "markdown",
   "metadata": {},
   "source": [
    "Материалы:\n",
    "* Макрушин С.В. \"Лекция 2: Библиотека Pandas\"\n",
    "* https://pandas.pydata.org/docs/user_guide/index.html#\n",
    "* https://pandas.pydata.org/docs/reference/index.html\n",
    "* Уэс Маккини. Python и анализ данных"
   ]
  },
  {
   "cell_type": "markdown",
   "metadata": {},
   "source": [
    "## Задачи для совместного разбора"
   ]
  },
  {
   "cell_type": "markdown",
   "metadata": {},
   "source": [
    "1. Загрузите данные из файла `sp500hst.txt` и обозначьте столбцы в соответствии с содержимым: `\"date\", \"ticker\", \"open\", \"high\", \"low\", \"close\", \"volume\"`."
   ]
  },
  {
   "cell_type": "markdown",
   "metadata": {},
   "source": [
    "2. Рассчитайте среднее значение показателей для каждого из столбцов с номерами 3-6."
   ]
  },
  {
   "cell_type": "markdown",
   "metadata": {},
   "source": [
    "3. Добавьте столбец, содержащий только число месяца, к которому относится дата."
   ]
  },
  {
   "cell_type": "markdown",
   "metadata": {},
   "source": [
    "4. Рассчитайте суммарный объем торгов для одинаковых значений тикеров."
   ]
  },
  {
   "cell_type": "markdown",
   "metadata": {},
   "source": [
    "5. Загрузите данные из файла sp500hst.txt и обозначьте столбцы в соответствии с содержимым: \"date\", \"ticker\", \"open\", \"high\", \"low\", \"close\", \"volume\". Добавьте столбец с расшифровкой названия тикера, используя данные из файла `sp_data2.csv` . В случае нехватки данных об именах тикеров корректно обработать их."
   ]
  },
  {
   "cell_type": "markdown",
   "metadata": {},
   "source": [
    "## Лабораторная работа №2"
   ]
  },
  {
   "cell_type": "markdown",
   "metadata": {},
   "source": [
    "### Базовые операции с `DataFrame`"
   ]
  },
  {
   "cell_type": "code",
   "execution_count": 415,
   "metadata": {
    "pycharm": {
     "name": "#%%\n"
    }
   },
   "outputs": [],
   "source": [
    "import numpy as np\n",
    "import pandas as pd"
   ]
  },
  {
   "cell_type": "markdown",
   "metadata": {},
   "source": [
    "1.1 В файлах `recipes_sample.csv` и `reviews_sample.csv` находится информация об рецептах блюд и отзывах на эти рецепты соответственно. Загрузите данные из файлов в виде `pd.DataFrame` с названиями `recipes` и `reviews`. Обратите внимание на корректное считывание столбца(ов) с индексами."
   ]
  },
  {
   "cell_type": "code",
   "execution_count": 465,
   "metadata": {},
   "outputs": [
    {
     "data": {
      "text/plain": "        Unnamed: 0     user_id  recipe_id       date  rating  \\\n0           370476       21752      57993 2003-05-01       5   \n1           624300      431813     142201 2007-09-16       5   \n2           187037      400708     252013 2008-01-10       4   \n3           706134  2001852463     404716 2017-12-11       5   \n4           312179       95810     129396 2008-03-14       5   \n...            ...         ...        ...        ...     ...   \n126691     1013457     1270706     335534 2009-05-17       4   \n126692      158736     2282344       8701 2012-06-03       0   \n126693     1059834      689540     222001 2008-04-08       5   \n126694      453285  2000242659     354979 2015-06-02       5   \n126695      691207      463435     415599 2010-09-30       5   \n\n                                                   review  \n0       Last week whole sides of frozen salmon fillet ...  \n1       So simple and so tasty!  I used a yellow capsi...  \n2       Very nice breakfast HH, easy to make and yummy...  \n3       These are a favorite for the holidays and so e...  \n4       Excellent soup!  The tomato flavor is just gre...  \n...                                                   ...  \n126691  This recipe was great! I made it last night. I...  \n126692  This recipe is outstanding. I followed the rec...  \n126693  Well, we were not a crowd but it was a fabulou...  \n126694  I have been a steak eater and dedicated BBQ gr...  \n126695  Wonderful and simple to prepare seasoning blen...  \n\n[126696 rows x 6 columns]",
      "text/html": "<div>\n<style scoped>\n    .dataframe tbody tr th:only-of-type {\n        vertical-align: middle;\n    }\n\n    .dataframe tbody tr th {\n        vertical-align: top;\n    }\n\n    .dataframe thead th {\n        text-align: right;\n    }\n</style>\n<table border=\"1\" class=\"dataframe\">\n  <thead>\n    <tr style=\"text-align: right;\">\n      <th></th>\n      <th>Unnamed: 0</th>\n      <th>user_id</th>\n      <th>recipe_id</th>\n      <th>date</th>\n      <th>rating</th>\n      <th>review</th>\n    </tr>\n  </thead>\n  <tbody>\n    <tr>\n      <th>0</th>\n      <td>370476</td>\n      <td>21752</td>\n      <td>57993</td>\n      <td>2003-05-01</td>\n      <td>5</td>\n      <td>Last week whole sides of frozen salmon fillet ...</td>\n    </tr>\n    <tr>\n      <th>1</th>\n      <td>624300</td>\n      <td>431813</td>\n      <td>142201</td>\n      <td>2007-09-16</td>\n      <td>5</td>\n      <td>So simple and so tasty!  I used a yellow capsi...</td>\n    </tr>\n    <tr>\n      <th>2</th>\n      <td>187037</td>\n      <td>400708</td>\n      <td>252013</td>\n      <td>2008-01-10</td>\n      <td>4</td>\n      <td>Very nice breakfast HH, easy to make and yummy...</td>\n    </tr>\n    <tr>\n      <th>3</th>\n      <td>706134</td>\n      <td>2001852463</td>\n      <td>404716</td>\n      <td>2017-12-11</td>\n      <td>5</td>\n      <td>These are a favorite for the holidays and so e...</td>\n    </tr>\n    <tr>\n      <th>4</th>\n      <td>312179</td>\n      <td>95810</td>\n      <td>129396</td>\n      <td>2008-03-14</td>\n      <td>5</td>\n      <td>Excellent soup!  The tomato flavor is just gre...</td>\n    </tr>\n    <tr>\n      <th>...</th>\n      <td>...</td>\n      <td>...</td>\n      <td>...</td>\n      <td>...</td>\n      <td>...</td>\n      <td>...</td>\n    </tr>\n    <tr>\n      <th>126691</th>\n      <td>1013457</td>\n      <td>1270706</td>\n      <td>335534</td>\n      <td>2009-05-17</td>\n      <td>4</td>\n      <td>This recipe was great! I made it last night. I...</td>\n    </tr>\n    <tr>\n      <th>126692</th>\n      <td>158736</td>\n      <td>2282344</td>\n      <td>8701</td>\n      <td>2012-06-03</td>\n      <td>0</td>\n      <td>This recipe is outstanding. I followed the rec...</td>\n    </tr>\n    <tr>\n      <th>126693</th>\n      <td>1059834</td>\n      <td>689540</td>\n      <td>222001</td>\n      <td>2008-04-08</td>\n      <td>5</td>\n      <td>Well, we were not a crowd but it was a fabulou...</td>\n    </tr>\n    <tr>\n      <th>126694</th>\n      <td>453285</td>\n      <td>2000242659</td>\n      <td>354979</td>\n      <td>2015-06-02</td>\n      <td>5</td>\n      <td>I have been a steak eater and dedicated BBQ gr...</td>\n    </tr>\n    <tr>\n      <th>126695</th>\n      <td>691207</td>\n      <td>463435</td>\n      <td>415599</td>\n      <td>2010-09-30</td>\n      <td>5</td>\n      <td>Wonderful and simple to prepare seasoning blen...</td>\n    </tr>\n  </tbody>\n</table>\n<p>126696 rows × 6 columns</p>\n</div>"
     },
     "execution_count": 465,
     "metadata": {},
     "output_type": "execute_result"
    }
   ],
   "source": [
    "recipes = pd.read_csv(\"./data/data/recipes_sample.csv\")\n",
    "reviews = pd.read_csv(\"./data/data/reviews_sample.csv\", parse_dates=[\"date\"])\n",
    "reviews"
   ]
  },
  {
   "cell_type": "markdown",
   "metadata": {},
   "source": [
    "1.2 Для каждой из таблиц выведите основные параметры:\n",
    "* количество точек данных (строк);\n",
    "* количество столбцов;\n",
    "* тип данных каждого столбца."
   ]
  },
  {
   "cell_type": "code",
   "execution_count": 417,
   "outputs": [
    {
     "data": {
      "text/plain": "('recipes: (30000, 8) ',\n name               object\n id                  int64\n minutes             int64\n contributor_id      int64\n submitted          object\n n_steps           float64\n description        object\n n_ingredients     float64\n dtype: object,\n 'reviews: (126696, 6)',\n Unnamed: 0             int64\n user_id                int64\n recipe_id              int64\n date          datetime64[ns]\n rating                 int64\n review                object\n dtype: object)"
     },
     "execution_count": 417,
     "metadata": {},
     "output_type": "execute_result"
    }
   ],
   "source": [
    "f\"recipes: {recipes.shape} \", recipes.dtypes, f\"reviews: {reviews.shape}\", reviews.dtypes"
   ],
   "metadata": {
    "collapsed": false,
    "pycharm": {
     "name": "#%%\n"
    }
   }
  },
  {
   "cell_type": "markdown",
   "metadata": {},
   "source": [
    "1.3 Исследуйте, в каких столбцах таблиц содержатся пропуски. Посчитайте долю строк, содержащих пропуски, в отношении к общему количеству строк."
   ]
  },
  {
   "cell_type": "code",
   "execution_count": 418,
   "outputs": [
    {
     "data": {
      "text/plain": "(name                  0\n id                    0\n minutes               0\n contributor_id        0\n submitted             0\n n_steps           11190\n description         623\n n_ingredients      8880\n dtype: int64,\n Unnamed: 0     0\n user_id        0\n recipe_id      0\n date           0\n rating         0\n review        17\n dtype: int64)"
     },
     "execution_count": 418,
     "metadata": {},
     "output_type": "execute_result"
    }
   ],
   "source": [
    "recipes.isna().sum(), reviews.isna().sum()"
   ],
   "metadata": {
    "collapsed": false,
    "pycharm": {
     "name": "#%%\n"
    }
   }
  },
  {
   "cell_type": "code",
   "execution_count": 419,
   "outputs": [
    {
     "data": {
      "text/plain": "('recipes: 56.85%', 'reviews: 0.0134179%')"
     },
     "execution_count": 419,
     "metadata": {},
     "output_type": "execute_result"
    }
   ],
   "source": [
    "# (recipes.isna().sum().sum() + reviews.isna().sum().sum()) / (len(recipes.index) + len(reviews.index))\n",
    "\n",
    "recipes_NA = recipes.isna().sum(axis=1)\n",
    "reviews_NA = reviews.isna().sum(axis=1)\n",
    "f\"recipes: {round(recipes_NA[recipes_NA != 0].count() * 100 / len(recipes.index), 2)}%\", \\\n",
    "f\"reviews: {round(reviews_NA[reviews_NA != 0].count() * 100 / len(reviews.index), 7)}%\"\n"
   ],
   "metadata": {
    "collapsed": false,
    "pycharm": {
     "name": "#%%\n"
    }
   }
  },
  {
   "cell_type": "markdown",
   "metadata": {},
   "source": [
    "1.4 Рассчитайте среднее значение для каждого из числовых столбцов (где это имеет смысл)."
   ]
  },
  {
   "cell_type": "code",
   "execution_count": 420,
   "outputs": [
    {
     "name": "stdout",
     "output_type": "stream",
     "text": [
      "minutes 123.35813333333333\n",
      "n_steps 9.805582137161085\n",
      "n_ingredients 9.008285984848484\n",
      "Ср рейтинг: 4.410802235271832\n"
     ]
    }
   ],
   "source": [
    "# reviews.mean(), recipes.mean()\n",
    "for i in (\"minutes\", \"n_steps\", \"n_ingredients\"):\n",
    "    print(i, recipes[i].mean())\n",
    "\n",
    "\n",
    "print(\"Ср рейтинг:\", reviews[\"rating\"].mean())"
   ],
   "metadata": {
    "collapsed": false,
    "pycharm": {
     "name": "#%%\n"
    }
   }
  },
  {
   "cell_type": "markdown",
   "metadata": {},
   "source": [
    "1.5 Создайте серию из 10 случайных названий рецептов."
   ]
  },
  {
   "cell_type": "code",
   "execution_count": 421,
   "outputs": [
    {
     "data": {
      "text/plain": "0              new york bialy  first cousin to a bagel\n1                            sticky chicken drumsticks\n2                        afghan   style chicken  murgh\n3                                    tortellini caesar\n4                                          sweet salad\n5                                         tvp crumbles\n6                             nutty cheesecake cookies\n7                      shrimp and vegetable fried rice\n8    ww 6 point assorted vegetable meatloaf  with meat\n9               fried peanut butter and jelly sandwich\ndtype: object"
     },
     "execution_count": 421,
     "metadata": {},
     "output_type": "execute_result"
    }
   ],
   "source": [
    "pd.Series(np.random.choice(recipes.loc[:, \"name\"], 10))"
   ],
   "metadata": {
    "collapsed": false,
    "pycharm": {
     "name": "#%%\n"
    }
   }
  },
  {
   "cell_type": "markdown",
   "metadata": {},
   "source": [
    "1.6 Измените индекс в таблице `reviews`, пронумеровав строки, начиная с нуля."
   ]
  },
  {
   "cell_type": "code",
   "execution_count": 422,
   "outputs": [],
   "source": [
    "reviews = reviews.set_index('Unnamed: 0').sort_index()"
   ],
   "metadata": {
    "collapsed": false,
    "pycharm": {
     "name": "#%%\n"
    }
   }
  },
  {
   "cell_type": "markdown",
   "metadata": {},
   "source": [
    "1.7 Выведите информацию о рецептах, время выполнения которых не больше 20 минут и кол-во ингредиентов в которых не больше 5."
   ]
  },
  {
   "cell_type": "code",
   "execution_count": 423,
   "outputs": [
    {
     "data": {
      "text/plain": "                                                    name      id  minutes  \\\n90                     hawaiian sunrise           mimosa  100837        5   \n91            tasty dish s   banana pudding in 2 minutes  286484        2   \n94                                    1 minute meatballs   11361       13   \n112                                   10 minute lime pie  513963       10   \n117                               100 year old pie crust  126072       15   \n...                                                  ...     ...      ...   \n29873  zip and steam red potatoes with butter and garlic  304922       13   \n29874                          ziplock vanilla ice cream   74250       10   \n29905                      zucchini and corn with cheese  256177       15   \n29980               zucchini with jalapeno monterey jack  320622       10   \n29983                          zucchini with serrano ham  162411       15   \n\n       contributor_id   submitted  n_steps  \\\n90              58104  2004-09-29      4.0   \n91              47892  2008-02-13      NaN   \n94               4470  2001-09-03      NaN   \n112           2284242  2014-03-04     12.0   \n117            205983  2005-06-15      NaN   \n...               ...         ...      ...   \n29873          724218  2008-05-27      9.0   \n29874           24386  2003-10-29      8.0   \n29905          305531  2007-09-29      4.0   \n29980          305531  2008-08-20      3.0   \n29983          152500  2006-03-31      6.0   \n\n                                             description  n_ingredients  \n90     pineapple mimosa was changed to hawaiian sunri...            3.0  \n91     \"mmmm, i love bananas!\" a --tasty dish-- origi...            4.0  \n94     this is a real short cut for cooks in a hurry....            2.0  \n112    a super easy stand-in for traditional key lime...            5.0  \n117                                very nice light crust            5.0  \n...                                                  ...            ...  \n29873  i haven't tried this yet, but i am going to so...            5.0  \n29874  a fun thing for kids to do. may want to use mi...            3.0  \n29905  from betty crocker fresh spring recipes. i lik...            5.0  \n29980                                  simple and yummy!            3.0  \n29983  this dish is from tim malzer, a german chef wh...            5.0  \n\n[1750 rows x 8 columns]",
      "text/html": "<div>\n<style scoped>\n    .dataframe tbody tr th:only-of-type {\n        vertical-align: middle;\n    }\n\n    .dataframe tbody tr th {\n        vertical-align: top;\n    }\n\n    .dataframe thead th {\n        text-align: right;\n    }\n</style>\n<table border=\"1\" class=\"dataframe\">\n  <thead>\n    <tr style=\"text-align: right;\">\n      <th></th>\n      <th>name</th>\n      <th>id</th>\n      <th>minutes</th>\n      <th>contributor_id</th>\n      <th>submitted</th>\n      <th>n_steps</th>\n      <th>description</th>\n      <th>n_ingredients</th>\n    </tr>\n  </thead>\n  <tbody>\n    <tr>\n      <th>90</th>\n      <td>hawaiian sunrise           mimosa</td>\n      <td>100837</td>\n      <td>5</td>\n      <td>58104</td>\n      <td>2004-09-29</td>\n      <td>4.0</td>\n      <td>pineapple mimosa was changed to hawaiian sunri...</td>\n      <td>3.0</td>\n    </tr>\n    <tr>\n      <th>91</th>\n      <td>tasty dish s   banana pudding in 2 minutes</td>\n      <td>286484</td>\n      <td>2</td>\n      <td>47892</td>\n      <td>2008-02-13</td>\n      <td>NaN</td>\n      <td>\"mmmm, i love bananas!\" a --tasty dish-- origi...</td>\n      <td>4.0</td>\n    </tr>\n    <tr>\n      <th>94</th>\n      <td>1 minute meatballs</td>\n      <td>11361</td>\n      <td>13</td>\n      <td>4470</td>\n      <td>2001-09-03</td>\n      <td>NaN</td>\n      <td>this is a real short cut for cooks in a hurry....</td>\n      <td>2.0</td>\n    </tr>\n    <tr>\n      <th>112</th>\n      <td>10 minute lime pie</td>\n      <td>513963</td>\n      <td>10</td>\n      <td>2284242</td>\n      <td>2014-03-04</td>\n      <td>12.0</td>\n      <td>a super easy stand-in for traditional key lime...</td>\n      <td>5.0</td>\n    </tr>\n    <tr>\n      <th>117</th>\n      <td>100 year old pie crust</td>\n      <td>126072</td>\n      <td>15</td>\n      <td>205983</td>\n      <td>2005-06-15</td>\n      <td>NaN</td>\n      <td>very nice light crust</td>\n      <td>5.0</td>\n    </tr>\n    <tr>\n      <th>...</th>\n      <td>...</td>\n      <td>...</td>\n      <td>...</td>\n      <td>...</td>\n      <td>...</td>\n      <td>...</td>\n      <td>...</td>\n      <td>...</td>\n    </tr>\n    <tr>\n      <th>29873</th>\n      <td>zip and steam red potatoes with butter and garlic</td>\n      <td>304922</td>\n      <td>13</td>\n      <td>724218</td>\n      <td>2008-05-27</td>\n      <td>9.0</td>\n      <td>i haven't tried this yet, but i am going to so...</td>\n      <td>5.0</td>\n    </tr>\n    <tr>\n      <th>29874</th>\n      <td>ziplock vanilla ice cream</td>\n      <td>74250</td>\n      <td>10</td>\n      <td>24386</td>\n      <td>2003-10-29</td>\n      <td>8.0</td>\n      <td>a fun thing for kids to do. may want to use mi...</td>\n      <td>3.0</td>\n    </tr>\n    <tr>\n      <th>29905</th>\n      <td>zucchini and corn with cheese</td>\n      <td>256177</td>\n      <td>15</td>\n      <td>305531</td>\n      <td>2007-09-29</td>\n      <td>4.0</td>\n      <td>from betty crocker fresh spring recipes. i lik...</td>\n      <td>5.0</td>\n    </tr>\n    <tr>\n      <th>29980</th>\n      <td>zucchini with jalapeno monterey jack</td>\n      <td>320622</td>\n      <td>10</td>\n      <td>305531</td>\n      <td>2008-08-20</td>\n      <td>3.0</td>\n      <td>simple and yummy!</td>\n      <td>3.0</td>\n    </tr>\n    <tr>\n      <th>29983</th>\n      <td>zucchini with serrano ham</td>\n      <td>162411</td>\n      <td>15</td>\n      <td>152500</td>\n      <td>2006-03-31</td>\n      <td>6.0</td>\n      <td>this dish is from tim malzer, a german chef wh...</td>\n      <td>5.0</td>\n    </tr>\n  </tbody>\n</table>\n<p>1750 rows × 8 columns</p>\n</div>"
     },
     "execution_count": 423,
     "metadata": {},
     "output_type": "execute_result"
    }
   ],
   "source": [
    "recipes[(recipes[\"minutes\"] < 20) & (recipes[\"n_ingredients\"] <= 5)]"
   ],
   "metadata": {
    "collapsed": false,
    "pycharm": {
     "name": "#%%\n"
    }
   }
  },
  {
   "cell_type": "markdown",
   "metadata": {},
   "source": [
    "### Работа с датами в `pandas`"
   ]
  },
  {
   "cell_type": "markdown",
   "metadata": {},
   "source": [
    "2.1 Преобразуйте столбец `submitted` из таблицы `recipes` в формат времени. Модифицируйте решение задачи 1.1 так, чтобы считать столбец сразу в нужном формате."
   ]
  },
  {
   "cell_type": "code",
   "execution_count": 424,
   "outputs": [
    {
     "data": {
      "text/plain": "pandas._libs.tslibs.timestamps.Timestamp"
     },
     "execution_count": 424,
     "metadata": {},
     "output_type": "execute_result"
    }
   ],
   "source": [
    "recipes[\"submitted\"] = pd.DatetimeIndex(pd.to_datetime(recipes[\"submitted\"]))\n",
    "type(recipes[\"submitted\"][0])"
   ],
   "metadata": {
    "collapsed": false,
    "pycharm": {
     "name": "#%%\n"
    }
   }
  },
  {
   "cell_type": "markdown",
   "metadata": {},
   "source": [
    "2.2 Выведите информацию о рецептах, добавленных в датасет не позже 2010 года."
   ]
  },
  {
   "cell_type": "code",
   "execution_count": 425,
   "outputs": [
    {
     "data": {
      "text/plain": "                                               name      id  minutes  \\\n0             george s at the cove  black bean soup   44123       90   \n1                healthy for them  yogurt popsicles   67664       10   \n2                      i can t believe it s spinach   38798       30   \n3                              italian  gut busters   35173       45   \n4          love is in the air  beef fondue   sauces   84797       25   \n...                                             ...     ...      ...   \n29993                     zuni caf zucchini pickles  316950     2895   \n29995  zurie s holey rustic olive and cheddar bread  267661       80   \n29996          zwetschgenkuchen  bavarian plum cake  386977      240   \n29997   zwiebelkuchen   southwest german onion cake  103312       75   \n29999        cookies by design   cookies on a stick  298512       29   \n\n       contributor_id  submitted  n_steps  \\\n0               35193 2002-10-25      NaN   \n1               91970 2003-07-26      NaN   \n2                1533 2002-08-29      NaN   \n3               22724 2002-07-27      NaN   \n4                4470 2004-02-23      4.0   \n...               ...        ...      ...   \n29993           62264 2008-07-31      NaN   \n29995          200862 2007-11-25     16.0   \n29996          177443 2009-08-24      NaN   \n29997          161745 2004-11-03      NaN   \n29999          506822 2008-04-15      9.0   \n\n                                             description  n_ingredients  \n0      an original recipe created by chef scott meska...           18.0  \n1      my children and their friends ask for my homem...            NaN  \n2                these were so go, it surprised even me.            8.0  \n3      my sister-in-law made these for us at a family...            NaN  \n4      i think a fondue is a very romantic casual din...            NaN  \n...                                                  ...            ...  \n29993  refrigerator pickles for some of the zucchini ...            8.0  \n29995  this is based on a french recipe but i changed...           10.0  \n29996  this is a traditional fresh plum cake, thought...           11.0  \n29997  this is a traditional late summer early fall s...            NaN  \n29999  i've heard of the 'cookies by design' company,...           10.0  \n\n[26123 rows x 8 columns]",
      "text/html": "<div>\n<style scoped>\n    .dataframe tbody tr th:only-of-type {\n        vertical-align: middle;\n    }\n\n    .dataframe tbody tr th {\n        vertical-align: top;\n    }\n\n    .dataframe thead th {\n        text-align: right;\n    }\n</style>\n<table border=\"1\" class=\"dataframe\">\n  <thead>\n    <tr style=\"text-align: right;\">\n      <th></th>\n      <th>name</th>\n      <th>id</th>\n      <th>minutes</th>\n      <th>contributor_id</th>\n      <th>submitted</th>\n      <th>n_steps</th>\n      <th>description</th>\n      <th>n_ingredients</th>\n    </tr>\n  </thead>\n  <tbody>\n    <tr>\n      <th>0</th>\n      <td>george s at the cove  black bean soup</td>\n      <td>44123</td>\n      <td>90</td>\n      <td>35193</td>\n      <td>2002-10-25</td>\n      <td>NaN</td>\n      <td>an original recipe created by chef scott meska...</td>\n      <td>18.0</td>\n    </tr>\n    <tr>\n      <th>1</th>\n      <td>healthy for them  yogurt popsicles</td>\n      <td>67664</td>\n      <td>10</td>\n      <td>91970</td>\n      <td>2003-07-26</td>\n      <td>NaN</td>\n      <td>my children and their friends ask for my homem...</td>\n      <td>NaN</td>\n    </tr>\n    <tr>\n      <th>2</th>\n      <td>i can t believe it s spinach</td>\n      <td>38798</td>\n      <td>30</td>\n      <td>1533</td>\n      <td>2002-08-29</td>\n      <td>NaN</td>\n      <td>these were so go, it surprised even me.</td>\n      <td>8.0</td>\n    </tr>\n    <tr>\n      <th>3</th>\n      <td>italian  gut busters</td>\n      <td>35173</td>\n      <td>45</td>\n      <td>22724</td>\n      <td>2002-07-27</td>\n      <td>NaN</td>\n      <td>my sister-in-law made these for us at a family...</td>\n      <td>NaN</td>\n    </tr>\n    <tr>\n      <th>4</th>\n      <td>love is in the air  beef fondue   sauces</td>\n      <td>84797</td>\n      <td>25</td>\n      <td>4470</td>\n      <td>2004-02-23</td>\n      <td>4.0</td>\n      <td>i think a fondue is a very romantic casual din...</td>\n      <td>NaN</td>\n    </tr>\n    <tr>\n      <th>...</th>\n      <td>...</td>\n      <td>...</td>\n      <td>...</td>\n      <td>...</td>\n      <td>...</td>\n      <td>...</td>\n      <td>...</td>\n      <td>...</td>\n    </tr>\n    <tr>\n      <th>29993</th>\n      <td>zuni caf zucchini pickles</td>\n      <td>316950</td>\n      <td>2895</td>\n      <td>62264</td>\n      <td>2008-07-31</td>\n      <td>NaN</td>\n      <td>refrigerator pickles for some of the zucchini ...</td>\n      <td>8.0</td>\n    </tr>\n    <tr>\n      <th>29995</th>\n      <td>zurie s holey rustic olive and cheddar bread</td>\n      <td>267661</td>\n      <td>80</td>\n      <td>200862</td>\n      <td>2007-11-25</td>\n      <td>16.0</td>\n      <td>this is based on a french recipe but i changed...</td>\n      <td>10.0</td>\n    </tr>\n    <tr>\n      <th>29996</th>\n      <td>zwetschgenkuchen  bavarian plum cake</td>\n      <td>386977</td>\n      <td>240</td>\n      <td>177443</td>\n      <td>2009-08-24</td>\n      <td>NaN</td>\n      <td>this is a traditional fresh plum cake, thought...</td>\n      <td>11.0</td>\n    </tr>\n    <tr>\n      <th>29997</th>\n      <td>zwiebelkuchen   southwest german onion cake</td>\n      <td>103312</td>\n      <td>75</td>\n      <td>161745</td>\n      <td>2004-11-03</td>\n      <td>NaN</td>\n      <td>this is a traditional late summer early fall s...</td>\n      <td>NaN</td>\n    </tr>\n    <tr>\n      <th>29999</th>\n      <td>cookies by design   cookies on a stick</td>\n      <td>298512</td>\n      <td>29</td>\n      <td>506822</td>\n      <td>2008-04-15</td>\n      <td>9.0</td>\n      <td>i've heard of the 'cookies by design' company,...</td>\n      <td>10.0</td>\n    </tr>\n  </tbody>\n</table>\n<p>26123 rows × 8 columns</p>\n</div>"
     },
     "execution_count": 425,
     "metadata": {},
     "output_type": "execute_result"
    }
   ],
   "source": [
    "recipes[recipes[\"submitted\"] < pd.to_datetime(\"2010-01-01\")]"
   ],
   "metadata": {
    "collapsed": false,
    "pycharm": {
     "name": "#%%\n"
    }
   }
  },
  {
   "cell_type": "markdown",
   "metadata": {},
   "source": [
    "### Работа со строковыми данными в `pandas`"
   ]
  },
  {
   "cell_type": "markdown",
   "metadata": {},
   "source": [
    "3.1 Добавьте в таблицу `recipes` столбец `description_length`, в котором хранится длина описания рецепта из столбца `description`."
   ]
  },
  {
   "cell_type": "code",
   "execution_count": 426,
   "outputs": [
    {
     "data": {
      "text/plain": "                                               name      id  minutes  \\\n0             george s at the cove  black bean soup   44123       90   \n1                healthy for them  yogurt popsicles   67664       10   \n2                      i can t believe it s spinach   38798       30   \n3                              italian  gut busters   35173       45   \n4          love is in the air  beef fondue   sauces   84797       25   \n...                                             ...     ...      ...   \n29995  zurie s holey rustic olive and cheddar bread  267661       80   \n29996          zwetschgenkuchen  bavarian plum cake  386977      240   \n29997   zwiebelkuchen   southwest german onion cake  103312       75   \n29998                                   zydeco soup  486161       60   \n29999        cookies by design   cookies on a stick  298512       29   \n\n       contributor_id  submitted  n_steps  \\\n0               35193 2002-10-25      NaN   \n1               91970 2003-07-26      NaN   \n2                1533 2002-08-29      NaN   \n3               22724 2002-07-27      NaN   \n4                4470 2004-02-23      4.0   \n...               ...        ...      ...   \n29995          200862 2007-11-25     16.0   \n29996          177443 2009-08-24      NaN   \n29997          161745 2004-11-03      NaN   \n29998          227978 2012-08-29      NaN   \n29999          506822 2008-04-15      9.0   \n\n                                             description  n_ingredients  \\\n0      an original recipe created by chef scott meska...           18.0   \n1      my children and their friends ask for my homem...            NaN   \n2                these were so go, it surprised even me.            8.0   \n3      my sister-in-law made these for us at a family...            NaN   \n4      i think a fondue is a very romantic casual din...            NaN   \n...                                                  ...            ...   \n29995  this is based on a french recipe but i changed...           10.0   \n29996  this is a traditional fresh plum cake, thought...           11.0   \n29997  this is a traditional late summer early fall s...            NaN   \n29998  this is a delicious soup that i originally fou...            NaN   \n29999  i've heard of the 'cookies by design' company,...           10.0   \n\n       description_length  \n0                   330.0  \n1                   255.0  \n2                    39.0  \n3                   154.0  \n4                   587.0  \n...                   ...  \n29995               484.0  \n29996               286.0  \n29997               311.0  \n29998               648.0  \n29999               125.0  \n\n[30000 rows x 9 columns]",
      "text/html": "<div>\n<style scoped>\n    .dataframe tbody tr th:only-of-type {\n        vertical-align: middle;\n    }\n\n    .dataframe tbody tr th {\n        vertical-align: top;\n    }\n\n    .dataframe thead th {\n        text-align: right;\n    }\n</style>\n<table border=\"1\" class=\"dataframe\">\n  <thead>\n    <tr style=\"text-align: right;\">\n      <th></th>\n      <th>name</th>\n      <th>id</th>\n      <th>minutes</th>\n      <th>contributor_id</th>\n      <th>submitted</th>\n      <th>n_steps</th>\n      <th>description</th>\n      <th>n_ingredients</th>\n      <th>description_length</th>\n    </tr>\n  </thead>\n  <tbody>\n    <tr>\n      <th>0</th>\n      <td>george s at the cove  black bean soup</td>\n      <td>44123</td>\n      <td>90</td>\n      <td>35193</td>\n      <td>2002-10-25</td>\n      <td>NaN</td>\n      <td>an original recipe created by chef scott meska...</td>\n      <td>18.0</td>\n      <td>330.0</td>\n    </tr>\n    <tr>\n      <th>1</th>\n      <td>healthy for them  yogurt popsicles</td>\n      <td>67664</td>\n      <td>10</td>\n      <td>91970</td>\n      <td>2003-07-26</td>\n      <td>NaN</td>\n      <td>my children and their friends ask for my homem...</td>\n      <td>NaN</td>\n      <td>255.0</td>\n    </tr>\n    <tr>\n      <th>2</th>\n      <td>i can t believe it s spinach</td>\n      <td>38798</td>\n      <td>30</td>\n      <td>1533</td>\n      <td>2002-08-29</td>\n      <td>NaN</td>\n      <td>these were so go, it surprised even me.</td>\n      <td>8.0</td>\n      <td>39.0</td>\n    </tr>\n    <tr>\n      <th>3</th>\n      <td>italian  gut busters</td>\n      <td>35173</td>\n      <td>45</td>\n      <td>22724</td>\n      <td>2002-07-27</td>\n      <td>NaN</td>\n      <td>my sister-in-law made these for us at a family...</td>\n      <td>NaN</td>\n      <td>154.0</td>\n    </tr>\n    <tr>\n      <th>4</th>\n      <td>love is in the air  beef fondue   sauces</td>\n      <td>84797</td>\n      <td>25</td>\n      <td>4470</td>\n      <td>2004-02-23</td>\n      <td>4.0</td>\n      <td>i think a fondue is a very romantic casual din...</td>\n      <td>NaN</td>\n      <td>587.0</td>\n    </tr>\n    <tr>\n      <th>...</th>\n      <td>...</td>\n      <td>...</td>\n      <td>...</td>\n      <td>...</td>\n      <td>...</td>\n      <td>...</td>\n      <td>...</td>\n      <td>...</td>\n      <td>...</td>\n    </tr>\n    <tr>\n      <th>29995</th>\n      <td>zurie s holey rustic olive and cheddar bread</td>\n      <td>267661</td>\n      <td>80</td>\n      <td>200862</td>\n      <td>2007-11-25</td>\n      <td>16.0</td>\n      <td>this is based on a french recipe but i changed...</td>\n      <td>10.0</td>\n      <td>484.0</td>\n    </tr>\n    <tr>\n      <th>29996</th>\n      <td>zwetschgenkuchen  bavarian plum cake</td>\n      <td>386977</td>\n      <td>240</td>\n      <td>177443</td>\n      <td>2009-08-24</td>\n      <td>NaN</td>\n      <td>this is a traditional fresh plum cake, thought...</td>\n      <td>11.0</td>\n      <td>286.0</td>\n    </tr>\n    <tr>\n      <th>29997</th>\n      <td>zwiebelkuchen   southwest german onion cake</td>\n      <td>103312</td>\n      <td>75</td>\n      <td>161745</td>\n      <td>2004-11-03</td>\n      <td>NaN</td>\n      <td>this is a traditional late summer early fall s...</td>\n      <td>NaN</td>\n      <td>311.0</td>\n    </tr>\n    <tr>\n      <th>29998</th>\n      <td>zydeco soup</td>\n      <td>486161</td>\n      <td>60</td>\n      <td>227978</td>\n      <td>2012-08-29</td>\n      <td>NaN</td>\n      <td>this is a delicious soup that i originally fou...</td>\n      <td>NaN</td>\n      <td>648.0</td>\n    </tr>\n    <tr>\n      <th>29999</th>\n      <td>cookies by design   cookies on a stick</td>\n      <td>298512</td>\n      <td>29</td>\n      <td>506822</td>\n      <td>2008-04-15</td>\n      <td>9.0</td>\n      <td>i've heard of the 'cookies by design' company,...</td>\n      <td>10.0</td>\n      <td>125.0</td>\n    </tr>\n  </tbody>\n</table>\n<p>30000 rows × 9 columns</p>\n</div>"
     },
     "execution_count": 426,
     "metadata": {},
     "output_type": "execute_result"
    }
   ],
   "source": [
    "recipes[\"description_length\"] = recipes[\"description\"].str.len()\n",
    "recipes"
   ],
   "metadata": {
    "collapsed": false,
    "pycharm": {
     "name": "#%%\n"
    }
   }
  },
  {
   "cell_type": "markdown",
   "metadata": {},
   "source": [
    "3.2 Измените название каждого рецепта в таблице `recipes` таким образом, чтобы каждое слово в названии начиналось с прописной буквы."
   ]
  },
  {
   "cell_type": "code",
   "execution_count": 427,
   "outputs": [
    {
     "data": {
      "text/plain": "0               George S At The Cove  Black Bean Soup\n1                  Healthy For Them  Yogurt Popsicles\n2                        I Can T Believe It S Spinach\n3                                Italian  Gut Busters\n4            Love Is In The Air  Beef Fondue   Sauces\n                             ...                     \n29995    Zurie S Holey Rustic Olive And Cheddar Bread\n29996            Zwetschgenkuchen  Bavarian Plum Cake\n29997     Zwiebelkuchen   Southwest German Onion Cake\n29998                                     Zydeco Soup\n29999          Cookies By Design   Cookies On A Stick\nName: name, Length: 30000, dtype: object"
     },
     "execution_count": 427,
     "metadata": {},
     "output_type": "execute_result"
    }
   ],
   "source": [
    "recipes[\"name\"].str.title()"
   ],
   "metadata": {
    "collapsed": false,
    "pycharm": {
     "name": "#%%\n"
    }
   }
  },
  {
   "cell_type": "markdown",
   "metadata": {},
   "source": [
    "3.3 Добавьте в таблицу `recipes` столбец `name_word_count`, в котором хранится количество слов из названии рецепта (считайте, что слова в названии разделяются только пробелами)."
   ]
  },
  {
   "cell_type": "code",
   "execution_count": 428,
   "outputs": [
    {
     "data": {
      "text/plain": "                                               name      id  minutes  \\\n0             george s at the cove  black bean soup   44123       90   \n1                healthy for them  yogurt popsicles   67664       10   \n2                      i can t believe it s spinach   38798       30   \n3                              italian  gut busters   35173       45   \n4          love is in the air  beef fondue   sauces   84797       25   \n...                                             ...     ...      ...   \n29995  zurie s holey rustic olive and cheddar bread  267661       80   \n29996          zwetschgenkuchen  bavarian plum cake  386977      240   \n29997   zwiebelkuchen   southwest german onion cake  103312       75   \n29998                                   zydeco soup  486161       60   \n29999        cookies by design   cookies on a stick  298512       29   \n\n       contributor_id  submitted  n_steps  \\\n0               35193 2002-10-25      NaN   \n1               91970 2003-07-26      NaN   \n2                1533 2002-08-29      NaN   \n3               22724 2002-07-27      NaN   \n4                4470 2004-02-23      4.0   \n...               ...        ...      ...   \n29995          200862 2007-11-25     16.0   \n29996          177443 2009-08-24      NaN   \n29997          161745 2004-11-03      NaN   \n29998          227978 2012-08-29      NaN   \n29999          506822 2008-04-15      9.0   \n\n                                             description  n_ingredients  \\\n0      an original recipe created by chef scott meska...           18.0   \n1      my children and their friends ask for my homem...            NaN   \n2                these were so go, it surprised even me.            8.0   \n3      my sister-in-law made these for us at a family...            NaN   \n4      i think a fondue is a very romantic casual din...            NaN   \n...                                                  ...            ...   \n29995  this is based on a french recipe but i changed...           10.0   \n29996  this is a traditional fresh plum cake, thought...           11.0   \n29997  this is a traditional late summer early fall s...            NaN   \n29998  this is a delicious soup that i originally fou...            NaN   \n29999  i've heard of the 'cookies by design' company,...           10.0   \n\n       description_length  name_word_count  \n0                   330.0                8  \n1                   255.0                5  \n2                    39.0                7  \n3                   154.0                3  \n4                   587.0                8  \n...                   ...              ...  \n29995               484.0                8  \n29996               286.0                4  \n29997               311.0                5  \n29998               648.0                2  \n29999               125.0                7  \n\n[30000 rows x 10 columns]",
      "text/html": "<div>\n<style scoped>\n    .dataframe tbody tr th:only-of-type {\n        vertical-align: middle;\n    }\n\n    .dataframe tbody tr th {\n        vertical-align: top;\n    }\n\n    .dataframe thead th {\n        text-align: right;\n    }\n</style>\n<table border=\"1\" class=\"dataframe\">\n  <thead>\n    <tr style=\"text-align: right;\">\n      <th></th>\n      <th>name</th>\n      <th>id</th>\n      <th>minutes</th>\n      <th>contributor_id</th>\n      <th>submitted</th>\n      <th>n_steps</th>\n      <th>description</th>\n      <th>n_ingredients</th>\n      <th>description_length</th>\n      <th>name_word_count</th>\n    </tr>\n  </thead>\n  <tbody>\n    <tr>\n      <th>0</th>\n      <td>george s at the cove  black bean soup</td>\n      <td>44123</td>\n      <td>90</td>\n      <td>35193</td>\n      <td>2002-10-25</td>\n      <td>NaN</td>\n      <td>an original recipe created by chef scott meska...</td>\n      <td>18.0</td>\n      <td>330.0</td>\n      <td>8</td>\n    </tr>\n    <tr>\n      <th>1</th>\n      <td>healthy for them  yogurt popsicles</td>\n      <td>67664</td>\n      <td>10</td>\n      <td>91970</td>\n      <td>2003-07-26</td>\n      <td>NaN</td>\n      <td>my children and their friends ask for my homem...</td>\n      <td>NaN</td>\n      <td>255.0</td>\n      <td>5</td>\n    </tr>\n    <tr>\n      <th>2</th>\n      <td>i can t believe it s spinach</td>\n      <td>38798</td>\n      <td>30</td>\n      <td>1533</td>\n      <td>2002-08-29</td>\n      <td>NaN</td>\n      <td>these were so go, it surprised even me.</td>\n      <td>8.0</td>\n      <td>39.0</td>\n      <td>7</td>\n    </tr>\n    <tr>\n      <th>3</th>\n      <td>italian  gut busters</td>\n      <td>35173</td>\n      <td>45</td>\n      <td>22724</td>\n      <td>2002-07-27</td>\n      <td>NaN</td>\n      <td>my sister-in-law made these for us at a family...</td>\n      <td>NaN</td>\n      <td>154.0</td>\n      <td>3</td>\n    </tr>\n    <tr>\n      <th>4</th>\n      <td>love is in the air  beef fondue   sauces</td>\n      <td>84797</td>\n      <td>25</td>\n      <td>4470</td>\n      <td>2004-02-23</td>\n      <td>4.0</td>\n      <td>i think a fondue is a very romantic casual din...</td>\n      <td>NaN</td>\n      <td>587.0</td>\n      <td>8</td>\n    </tr>\n    <tr>\n      <th>...</th>\n      <td>...</td>\n      <td>...</td>\n      <td>...</td>\n      <td>...</td>\n      <td>...</td>\n      <td>...</td>\n      <td>...</td>\n      <td>...</td>\n      <td>...</td>\n      <td>...</td>\n    </tr>\n    <tr>\n      <th>29995</th>\n      <td>zurie s holey rustic olive and cheddar bread</td>\n      <td>267661</td>\n      <td>80</td>\n      <td>200862</td>\n      <td>2007-11-25</td>\n      <td>16.0</td>\n      <td>this is based on a french recipe but i changed...</td>\n      <td>10.0</td>\n      <td>484.0</td>\n      <td>8</td>\n    </tr>\n    <tr>\n      <th>29996</th>\n      <td>zwetschgenkuchen  bavarian plum cake</td>\n      <td>386977</td>\n      <td>240</td>\n      <td>177443</td>\n      <td>2009-08-24</td>\n      <td>NaN</td>\n      <td>this is a traditional fresh plum cake, thought...</td>\n      <td>11.0</td>\n      <td>286.0</td>\n      <td>4</td>\n    </tr>\n    <tr>\n      <th>29997</th>\n      <td>zwiebelkuchen   southwest german onion cake</td>\n      <td>103312</td>\n      <td>75</td>\n      <td>161745</td>\n      <td>2004-11-03</td>\n      <td>NaN</td>\n      <td>this is a traditional late summer early fall s...</td>\n      <td>NaN</td>\n      <td>311.0</td>\n      <td>5</td>\n    </tr>\n    <tr>\n      <th>29998</th>\n      <td>zydeco soup</td>\n      <td>486161</td>\n      <td>60</td>\n      <td>227978</td>\n      <td>2012-08-29</td>\n      <td>NaN</td>\n      <td>this is a delicious soup that i originally fou...</td>\n      <td>NaN</td>\n      <td>648.0</td>\n      <td>2</td>\n    </tr>\n    <tr>\n      <th>29999</th>\n      <td>cookies by design   cookies on a stick</td>\n      <td>298512</td>\n      <td>29</td>\n      <td>506822</td>\n      <td>2008-04-15</td>\n      <td>9.0</td>\n      <td>i've heard of the 'cookies by design' company,...</td>\n      <td>10.0</td>\n      <td>125.0</td>\n      <td>7</td>\n    </tr>\n  </tbody>\n</table>\n<p>30000 rows × 10 columns</p>\n</div>"
     },
     "execution_count": 428,
     "metadata": {},
     "output_type": "execute_result"
    }
   ],
   "source": [
    "recipes[\"name_word_count\"] = recipes[\"name\"].str.split().str.len()\n",
    "recipes"
   ],
   "metadata": {
    "collapsed": false,
    "pycharm": {
     "name": "#%%\n"
    }
   }
  },
  {
   "cell_type": "markdown",
   "metadata": {},
   "source": [
    "### Группировки таблиц `pd.DataFrame`"
   ]
  },
  {
   "cell_type": "markdown",
   "metadata": {},
   "source": [
    "4.1 Посчитайте количество рецептов, представленных каждым из участников (`contributor_id`). Какой участник добавил максимальное кол-во рецептов?"
   ]
  },
  {
   "cell_type": "code",
   "execution_count": 429,
   "outputs": [
    {
     "data": {
      "text/plain": "contributor_id\n302190      1\n449247      1\n449229      1\n449014      1\n448748      1\n         ... \n169430    183\n1533      186\n37779     345\n37449     346\n89831     421\nName: id, Length: 8404, dtype: int64"
     },
     "execution_count": 429,
     "metadata": {},
     "output_type": "execute_result"
    }
   ],
   "source": [
    "recipes.groupby(\"contributor_id\")[\"id\"].count().sort_values()#.iloc[-1]"
   ],
   "metadata": {
    "collapsed": false,
    "pycharm": {
     "name": "#%%\n"
    }
   }
  },
  {
   "cell_type": "markdown",
   "metadata": {},
   "source": [
    "4.2 Посчитайте средний рейтинг к каждому из рецептов. Для скольких рецептов отсутствуют отзывы?"
   ]
  },
  {
   "cell_type": "code",
   "execution_count": 430,
   "outputs": [
    {
     "data": {
      "text/plain": "(recipe_id\n 48        1.000000\n 55        4.750000\n 66        4.944444\n 91        4.750000\n 94        5.000000\n             ...   \n 536547    5.000000\n 536610    0.000000\n 536728    4.000000\n 536729    4.750000\n 536747    0.000000\n Name: rating, Length: 28100, dtype: float64,\n 660)"
     },
     "execution_count": 430,
     "metadata": {},
     "output_type": "execute_result"
    }
   ],
   "source": [
    "reviews.groupby(\"recipe_id\")[\"rating\"].mean(), reviews.groupby(\"recipe_id\")[\"rating\"].mean().eq(0).sum()"
   ],
   "metadata": {
    "collapsed": false,
    "pycharm": {
     "name": "#%%\n"
    }
   }
  },
  {
   "cell_type": "markdown",
   "metadata": {},
   "source": [
    "4.3 Посчитайте количество рецептов с разбивкой по годам создания."
   ]
  },
  {
   "cell_type": "code",
   "execution_count": 431,
   "outputs": [
    {
     "data": {
      "text/plain": "submitted\n1999-12-31     275\n2000-12-31     104\n2001-12-31     589\n2002-12-31    2644\n2003-12-31    2334\n2004-12-31    2153\n2005-12-31    3130\n2006-12-31    3473\n2007-12-31    4429\n2008-12-31    4029\n2009-12-31    2963\n2010-12-31    1538\n2011-12-31     922\n2012-12-31     659\n2013-12-31     490\n2014-12-31     139\n2015-12-31      42\n2016-12-31      24\n2017-12-31      39\n2018-12-31      24\nFreq: A-DEC, Name: id, dtype: int64"
     },
     "execution_count": 431,
     "metadata": {},
     "output_type": "execute_result"
    }
   ],
   "source": [
    "recipes.groupby(pd.Grouper(key=\"submitted\", freq=\"Y\"))[\"id\"].count()\n",
    "# recipes.groupby(recipes[\"submitted\"].dt.year)[\"name\"].count()"
   ],
   "metadata": {
    "collapsed": false,
    "pycharm": {
     "name": "#%%\n"
    }
   }
  },
  {
   "cell_type": "markdown",
   "metadata": {},
   "source": [
    "### Объединение таблиц `pd.DataFrame`"
   ]
  },
  {
   "cell_type": "markdown",
   "metadata": {},
   "source": [
    "5.1 При помощи объединения таблиц, создайте `DataFrame`, состоящий из четырех столбцов: `id`, `name`, `user_id`, `rating`. Рецепты без отзывов должны отсутствовать в данной таблице. Подтвердите правильность работы вашего кода, выбрав рецепт, не имеющий отзывов, и выведя на экран строку из полученного `DataFrame`, содержащую информацию об этом отзыве.\n"
   ]
  },
  {
   "cell_type": "code",
   "execution_count": 482,
   "outputs": [
    {
     "name": "stderr",
     "output_type": "stream",
     "text": [
      "C:\\Users\\damir\\AppData\\Local\\Temp/ipykernel_14768/3222096098.py:3: FutureWarning: In a future version of pandas all arguments of DataFrame.drop except for the argument 'labels' will be keyword-only\n",
      "  recipe_review.drop(recipe_review.columns.difference([\"id\", \"name\", \"user_id\", \"rating\"]), 1, inplace=True)\n"
     ]
    },
    {
     "data": {
      "text/plain": "            id                                          name  user_id  rating\n28      107229                          open sesame  noodles   133842       5\n65      453467            1 in canada chocolate chip cookies   424680       5\n85      200148                  better than tofu  cheesecake   929450       0\n86      200148                  better than tofu  cheesecake   527823       3\n87      310570             burek  or feta cheese  phyllo pie  2710499       5\n...        ...                                           ...      ...     ...\n126677  267661  zurie s holey rustic olive and cheddar bread    93006       5\n126678  267661  zurie s holey rustic olive and cheddar bread   232886       5\n126679  267661  zurie s holey rustic olive and cheddar bread    55729       0\n126680  267661  zurie s holey rustic olive and cheddar bread   538190       5\n126695  298512        cookies by design   cookies on a stick   804234       1\n\n[53292 rows x 4 columns]",
      "text/html": "<div>\n<style scoped>\n    .dataframe tbody tr th:only-of-type {\n        vertical-align: middle;\n    }\n\n    .dataframe tbody tr th {\n        vertical-align: top;\n    }\n\n    .dataframe thead th {\n        text-align: right;\n    }\n</style>\n<table border=\"1\" class=\"dataframe\">\n  <thead>\n    <tr style=\"text-align: right;\">\n      <th></th>\n      <th>id</th>\n      <th>name</th>\n      <th>user_id</th>\n      <th>rating</th>\n    </tr>\n  </thead>\n  <tbody>\n    <tr>\n      <th>28</th>\n      <td>107229</td>\n      <td>open sesame  noodles</td>\n      <td>133842</td>\n      <td>5</td>\n    </tr>\n    <tr>\n      <th>65</th>\n      <td>453467</td>\n      <td>1 in canada chocolate chip cookies</td>\n      <td>424680</td>\n      <td>5</td>\n    </tr>\n    <tr>\n      <th>85</th>\n      <td>200148</td>\n      <td>better than tofu  cheesecake</td>\n      <td>929450</td>\n      <td>0</td>\n    </tr>\n    <tr>\n      <th>86</th>\n      <td>200148</td>\n      <td>better than tofu  cheesecake</td>\n      <td>527823</td>\n      <td>3</td>\n    </tr>\n    <tr>\n      <th>87</th>\n      <td>310570</td>\n      <td>burek  or feta cheese  phyllo pie</td>\n      <td>2710499</td>\n      <td>5</td>\n    </tr>\n    <tr>\n      <th>...</th>\n      <td>...</td>\n      <td>...</td>\n      <td>...</td>\n      <td>...</td>\n    </tr>\n    <tr>\n      <th>126677</th>\n      <td>267661</td>\n      <td>zurie s holey rustic olive and cheddar bread</td>\n      <td>93006</td>\n      <td>5</td>\n    </tr>\n    <tr>\n      <th>126678</th>\n      <td>267661</td>\n      <td>zurie s holey rustic olive and cheddar bread</td>\n      <td>232886</td>\n      <td>5</td>\n    </tr>\n    <tr>\n      <th>126679</th>\n      <td>267661</td>\n      <td>zurie s holey rustic olive and cheddar bread</td>\n      <td>55729</td>\n      <td>0</td>\n    </tr>\n    <tr>\n      <th>126680</th>\n      <td>267661</td>\n      <td>zurie s holey rustic olive and cheddar bread</td>\n      <td>538190</td>\n      <td>5</td>\n    </tr>\n    <tr>\n      <th>126695</th>\n      <td>298512</td>\n      <td>cookies by design   cookies on a stick</td>\n      <td>804234</td>\n      <td>1</td>\n    </tr>\n  </tbody>\n</table>\n<p>53292 rows × 4 columns</p>\n</div>"
     },
     "execution_count": 482,
     "metadata": {},
     "output_type": "execute_result"
    }
   ],
   "source": [
    "recipe_review = pd.merge(recipes, reviews, left_on=\"id\", right_on=\"recipe_id\")\n",
    "recipe_review = recipe_review.dropna(how=\"any\")\n",
    "recipe_review.drop(recipe_review.columns.difference([\"id\", \"name\", \"user_id\", \"rating\"]), 1, inplace=True)\n",
    "recipe_review = recipe_review[[\"id\", \"name\", \"user_id\", \"rating\"]]\n",
    "# recipe_review = recipe_review.drop(recipe_review[recipe_review[\"rating\"] == 0].index)\n",
    "# recipe_review[recipe_review[\"rating\"] == 0]\n",
    "recipe_review"
   ],
   "metadata": {
    "collapsed": false,
    "pycharm": {
     "name": "#%%\n"
    }
   }
  },
  {
   "cell_type": "markdown",
   "metadata": {},
   "source": [
    "5.2 При помощи объединения таблиц и группировок, создайте `DataFrame`, состоящий из трех столбцов: `recipe_id`, `name`, `review_count`. У рецептов, для которых отсутствуют отзывы, в соответствущем столбце должен быть указан 0. Подтвердите правильность работы вашего кода, выбрав рецепт, не имеющий отзывов, и выведя на экран строку из полученного `DataFrame`, содержащую информацию об этом отзыве."
   ]
  },
  {
   "cell_type": "code",
   "execution_count": 460,
   "outputs": [
    {
     "name": "stderr",
     "output_type": "stream",
     "text": [
      "C:\\Users\\damir\\AppData\\Local\\Temp/ipykernel_14768/638306241.py:7: FutureWarning: In a future version of pandas all arguments of DataFrame.drop except for the argument 'labels' will be keyword-only\n",
      "  review_count.drop(review_count.columns.difference([\"id\", \"name\", \"rating\"]), 1, inplace=True)\n"
     ]
    },
    {
     "data": {
      "text/plain": "0"
     },
     "execution_count": 460,
     "metadata": {},
     "output_type": "execute_result"
    }
   ],
   "source": [
    "recipe_name_review = pd.merge(recipes, reviews, left_on=\"id\", right_on=\"recipe_id\")\n",
    "\n",
    "review_count = recipe_name_review.groupby(\"recipe_id\")[\"rating\"].count()\n",
    "review_count.columns = [\"recipe_id\", \"review_count\"]\n",
    "\n",
    "review_count = pd.merge(recipes, review_count, how=\"inner\", left_on=\"id\", right_on=\"recipe_id\")\n",
    "review_count.drop(review_count.columns.difference([\"id\", \"name\", \"rating\"]), 1, inplace=True)\n",
    "\n",
    "review_count.columns = [\"name\", \"recipe_id\", \"review_count\"]\n",
    "(review_count[\"review_count\"] == 0).sum()\n"
   ],
   "metadata": {
    "collapsed": false,
    "pycharm": {
     "name": "#%%\n"
    }
   }
  },
  {
   "cell_type": "markdown",
   "metadata": {},
   "source": [
    "5.3. Выясните, отзывы, добавленные в каком году, имеют наименьший средний рейтинг?"
   ]
  },
  {
   "cell_type": "code",
   "execution_count": 437,
   "outputs": [
    {
     "data": {
      "text/plain": "(2017, 3.3530416951469584)"
     },
     "execution_count": 437,
     "metadata": {},
     "output_type": "execute_result"
    }
   ],
   "source": [
    "reviews_and_score = reviews.groupby(reviews['date'].dt.year)['rating'].mean()\n",
    "reviews_and_score.idxmin(), reviews_and_score.min()"
   ],
   "metadata": {
    "collapsed": false,
    "pycharm": {
     "name": "#%%\n"
    }
   }
  },
  {
   "cell_type": "markdown",
   "metadata": {},
   "source": [
    "### Сохранение таблиц `pd.DataFrame`"
   ]
  },
  {
   "cell_type": "markdown",
   "metadata": {},
   "source": [
    "6.1 Отсортируйте таблицу в порядке убывания величины столбца `name_word_count` и сохраните результаты выполнения заданий 3.1-3.3 в csv файл. "
   ]
  },
  {
   "cell_type": "code",
   "execution_count": 435,
   "outputs": [],
   "source": [
    "recipes = recipes.sort_values(\"name_word_count\")\n",
    "recipes.to_csv(\"recipes_out.csv\", sep=\";\", encoding=\"UTF-8\")"
   ],
   "metadata": {
    "collapsed": false,
    "pycharm": {
     "name": "#%%\n"
    }
   }
  },
  {
   "cell_type": "markdown",
   "metadata": {
    "pycharm": {
     "name": "#%% md\n"
    }
   },
   "source": [
    "6.2 Воспользовавшись `pd.ExcelWriter`, cохраните результаты 5.1 и 5.2 в файл: на лист с названием `Рецепты с оценками` сохраните результаты выполнения 5.1; на лист с названием `Количество отзывов по рецептам` сохраните результаты выполнения 5.2."
   ]
  },
  {
   "cell_type": "code",
   "execution_count": 436,
   "outputs": [],
   "source": [
    "# TODO"
   ],
   "metadata": {
    "collapsed": false,
    "pycharm": {
     "name": "#%%\n"
    }
   }
  }
 ],
 "metadata": {
  "kernelspec": {
   "display_name": "Python 3 (ipykernel)",
   "language": "python",
   "name": "python3"
  },
  "language_info": {
   "codemirror_mode": {
    "name": "ipython",
    "version": 3
   },
   "file_extension": ".py",
   "mimetype": "text/x-python",
   "name": "python",
   "nbconvert_exporter": "python",
   "pygments_lexer": "ipython3",
   "version": "3.9.1"
  }
 },
 "nbformat": 4,
 "nbformat_minor": 4
}