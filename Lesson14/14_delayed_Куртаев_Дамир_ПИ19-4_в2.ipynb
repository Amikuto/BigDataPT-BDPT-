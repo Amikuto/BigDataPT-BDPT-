{
 "cells": [
  {
   "cell_type": "markdown",
   "metadata": {},
   "source": [
    "# Dask Delayed"
   ]
  },
  {
   "cell_type": "markdown",
   "metadata": {},
   "source": [
    "Материалы:\n",
    "* Макрушин С.В. Лекция 13: Dask Delayed\n",
    "* https://docs.dask.org/en/latest/delayed.html\n",
    "* Jesse C. Daniel. Data Science with Python and Dask.\n"
   ]
  },
  {
   "cell_type": "markdown",
   "metadata": {},
   "source": [
    "## Задачи для совместного разбора"
   ]
  },
  {
   "cell_type": "markdown",
   "metadata": {},
   "source": [
    "![](https://i.imgur.com/AwiN8y6.png)\n",
    "![](https://i.imgur.com/ceY6guU.png)"
   ]
  },
  {
   "cell_type": "markdown",
   "metadata": {},
   "source": [
    "1. Напишите 2 функции, имитирующие CPU-bound задачу и IO-bound задачу:\n",
    "\n",
    "`cpu_task()`: генерирует 100 тыс. случайных чисел и возвращает их сумму (без использования `numpy`)\n",
    "\n",
    "`io_task()`: \"спит\" 0.1 сек, затем генерирует случайное число и возвращает его\n",
    "\n",
    "Замерьте время выполнения 100 последовательных вызовов каждой из этих функций. Распараллелив вычисления при помощи `dask.delayed`, сократите время выполнения. Исследуйте, как зависит время вычислений от выбранного планировщика `scheduler`."
   ]
  },
  {
   "cell_type": "code",
   "execution_count": 1,
   "outputs": [],
   "source": [
    "import random\n",
    "import time\n",
    "\n",
    "\n",
    "def cpu_task():\n",
    "\tlst = [random.randint(0, 10) for _ in range(100_000)]\n",
    "\treturn sum(lst)\n",
    "\n",
    "def io_task():\n",
    "\ttime.sleep(0.1)\n",
    "\treturn random.randint(0, 10)"
   ],
   "metadata": {
    "collapsed": false,
    "pycharm": {
     "name": "#%%\n"
    }
   }
  },
  {
   "cell_type": "code",
   "execution_count": 2,
   "outputs": [
    {
     "name": "stdout",
     "output_type": "stream",
     "text": [
      "Wall time: 4.07 s\n"
     ]
    }
   ],
   "source": [
    "%%time\n",
    "res = [cpu_task() for _ in range(100)]"
   ],
   "metadata": {
    "collapsed": false,
    "pycharm": {
     "name": "#%%\n"
    }
   }
  },
  {
   "cell_type": "code",
   "execution_count": 3,
   "outputs": [
    {
     "name": "stdout",
     "output_type": "stream",
     "text": [
      "Wall time: 10.8 s\n"
     ]
    }
   ],
   "source": [
    "%%time\n",
    "res = [io_task() for _ in range(100)]"
   ],
   "metadata": {
    "collapsed": false,
    "pycharm": {
     "name": "#%%\n"
    }
   }
  },
  {
   "cell_type": "code",
   "execution_count": 8,
   "outputs": [],
   "source": [
    "from dask import delayed\n",
    "from dask import compute"
   ],
   "metadata": {
    "collapsed": false,
    "pycharm": {
     "name": "#%%\n"
    }
   }
  },
  {
   "cell_type": "code",
   "execution_count": 5,
   "outputs": [],
   "source": [
    "cpu_task_delayed = delayed(cpu_task)"
   ],
   "metadata": {
    "collapsed": false,
    "pycharm": {
     "name": "#%%\n"
    }
   }
  },
  {
   "cell_type": "code",
   "execution_count": 6,
   "outputs": [
    {
     "data": {
      "text/plain": "Delayed('cpu_task-ac40120a-5ea1-41a4-a72f-fcc99c234c17')"
     },
     "execution_count": 6,
     "metadata": {},
     "output_type": "execute_result"
    }
   ],
   "source": [
    "cpu_task_delayed"
   ],
   "metadata": {
    "collapsed": false,
    "pycharm": {
     "name": "#%%\n"
    }
   }
  },
  {
   "cell_type": "code",
   "execution_count": 9,
   "outputs": [
    {
     "name": "stdout",
     "output_type": "stream",
     "text": [
      "Wall time: 4.11 s\n"
     ]
    },
    {
     "data": {
      "text/plain": "([499472,\n  499501,\n  500654,\n  499008,\n  499409,\n  501652,\n  499998,\n  500428,\n  500694,\n  500807,\n  500337,\n  500528,\n  498999,\n  500009,\n  500968,\n  500769,\n  499749,\n  500257,\n  499002,\n  500213,\n  499322,\n  499651,\n  499006,\n  499855,\n  500670,\n  499468,\n  500032,\n  500305,\n  500738,\n  500681,\n  499722,\n  499936,\n  499420,\n  499469,\n  499147,\n  498455,\n  499582,\n  500873,\n  498704,\n  499185,\n  499081,\n  499935,\n  501697,\n  499051,\n  500626,\n  498240,\n  499822,\n  500641,\n  500555,\n  499455,\n  499789,\n  500923,\n  499739,\n  500361,\n  499573,\n  500466,\n  499965,\n  499165,\n  500741,\n  498951,\n  498171,\n  501325,\n  501753,\n  500672,\n  499119,\n  497931,\n  499771,\n  500095,\n  498941,\n  499373,\n  501018,\n  500978,\n  500876,\n  499428,\n  501467,\n  500921,\n  500299,\n  498792,\n  500449,\n  502080,\n  500052,\n  500557,\n  500347,\n  498825,\n  502218,\n  500087,\n  500189,\n  499657,\n  499366,\n  500435,\n  499825,\n  500746,\n  499879,\n  499346,\n  502463,\n  501392,\n  500078,\n  499590,\n  500666,\n  499117],)"
     },
     "execution_count": 9,
     "metadata": {},
     "output_type": "execute_result"
    }
   ],
   "source": [
    "%%time\n",
    "res = [cpu_task_delayed() for _ in range(100)]\n",
    "compute(res)"
   ],
   "metadata": {
    "collapsed": false,
    "pycharm": {
     "name": "#%%\n"
    }
   }
  },
  {
   "cell_type": "code",
   "execution_count": 10,
   "outputs": [
    {
     "name": "stdout",
     "output_type": "stream",
     "text": [
      "Wall time: 1.17 s\n"
     ]
    }
   ],
   "source": [
    "%%time\n",
    "res = [cpu_task_delayed() for _ in range(100)]\n",
    "res_computed = compute(res, scheduler='multiprocessing')"
   ],
   "metadata": {
    "collapsed": false,
    "pycharm": {
     "name": "#%%\n"
    }
   }
  },
  {
   "cell_type": "code",
   "execution_count": 11,
   "outputs": [],
   "source": [
    "io_task_delayed = delayed(io_task)"
   ],
   "metadata": {
    "collapsed": false,
    "pycharm": {
     "name": "#%%\n"
    }
   }
  },
  {
   "cell_type": "code",
   "execution_count": 13,
   "outputs": [
    {
     "name": "stdout",
     "output_type": "stream",
     "text": [
      "Wall time: 756 ms\n"
     ]
    }
   ],
   "source": [
    "%%time\n",
    "res = [io_task_delayed() for _ in range(100)]\n",
    "res_computed = compute(res, scheduler='threading')"
   ],
   "metadata": {
    "collapsed": false,
    "pycharm": {
     "name": "#%%\n"
    }
   }
  },
  {
   "cell_type": "code",
   "execution_count": 14,
   "outputs": [
    {
     "name": "stdout",
     "output_type": "stream",
     "text": [
      "Wall time: 1.44 s\n"
     ]
    }
   ],
   "source": [
    "%%time\n",
    "res = [io_task_delayed() for _ in range(100)]\n",
    "res_computed = compute(res, scheduler='multiprocessing')"
   ],
   "metadata": {
    "collapsed": false,
    "pycharm": {
     "name": "#%%\n"
    }
   }
  },
  {
   "cell_type": "markdown",
   "metadata": {},
   "source": [
    "## Лабораторная работа 14"
   ]
  },
  {
   "cell_type": "markdown",
   "metadata": {},
   "source": [
    "1. Напишите функцию, которая считывает файл формата xml из каталога `reviewers_full` и по данным этого файла формирует список словарей, содержащих следующие ключи: `id`, `username`, `name`, `sex`, `country`, `mail`, `registered`, `birthdate`, `name_prefix`, `country_code`. Часть из этих значений в исходном файле хранится в виде тэгов, часть - в виде атрибутов тэгов. Для конкретного человека какие-то из этих ключей могут отсутствовать. \n",
    "\n"
   ]
  },
  {
   "cell_type": "code",
   "execution_count": 59,
   "outputs": [
    {
     "data": {
      "text/plain": "[{'id': <id>556011</id>,\n  'username': <username>gabrielacalhoun</username>,\n  'name': None,\n  'sex': <sex>F</sex>,\n  'country': None,\n  'mail': None,\n  'registered': None,\n  'birthdate': <birthdate>1988-01-25</birthdate>,\n  'name_prefix': None,\n  'country_code': None},\n {'id': <id>1251087</id>,\n  'username': <username>qbaxter</username>,\n  'name': None,\n  'sex': None,\n  'country': <country code=\"NO\">Norway</country>,\n  'mail': <mail>qware@gmail.com</mail>,\n  'registered': None,\n  'birthdate': <birthdate>1985-01-19</birthdate>,\n  'name_prefix': None,\n  'country_code': <country code=\"NO\">Norway</country>},\n {'id': <id>537188</id>,\n  'username': <username>crosschristopher</username>,\n  'name': <name>Dana Moore</name>,\n  'sex': None,\n  'country': None,\n  'mail': <mail>stephaniestrong@yahoo.com</mail>,\n  'registered': <registered>2018-11-21</registered>,\n  'birthdate': <birthdate>1955-07-03</birthdate>,\n  'name_prefix': None,\n  'country_code': None},\n {'id': <id>250427</id>,\n  'username': <username>karen27</username>,\n  'name': <name>Jennifer Horne</name>,\n  'sex': None,\n  'country': <country code=\"CU\">Cuba</country>,\n  'mail': <mail>wjarvis@yahoo.com</mail>,\n  'registered': <registered>2013-11-20</registered>,\n  'birthdate': <birthdate>2007-04-30</birthdate>,\n  'name_prefix': None,\n  'country_code': <country code=\"CU\">Cuba</country>},\n {'id': <id>2945188</id>,\n  'username': <username>gambledanielle</username>,\n  'name': <name>Henry Harris</name>,\n  'sex': None,\n  'country': <country code=\"RS\">Serbia</country>,\n  'mail': None,\n  'registered': <registered>2011-04-08</registered>,\n  'birthdate': None,\n  'name_prefix': None,\n  'country_code': <country code=\"RS\">Serbia</country>},\n {'id': <id>452355</id>,\n  'username': <username>smullen</username>,\n  'name': <name>Cynthia Johnson</name>,\n  'sex': <sex>F</sex>,\n  'country': None,\n  'mail': None,\n  'registered': None,\n  'birthdate': <birthdate>2005-03-29</birthdate>,\n  'name_prefix': None,\n  'country_code': None},\n {'id': <id>382203</id>,\n  'username': <username>barrettmichael</username>,\n  'name': <name>Margaret Banks</name>,\n  'sex': None,\n  'country': None,\n  'mail': <mail>christinaday@hotmail.com</mail>,\n  'registered': None,\n  'birthdate': <birthdate>1971-11-15</birthdate>,\n  'name_prefix': None,\n  'country_code': None},\n {'id': <id>81563</id>,\n  'username': <username>morrischarles</username>,\n  'name': None,\n  'sex': <sex>F</sex>,\n  'country': <country code=\"ZM\">Zambia</country>,\n  'mail': None,\n  'registered': <registered>2014-09-28</registered>,\n  'birthdate': None,\n  'name_prefix': None,\n  'country_code': <country code=\"ZM\">Zambia</country>},\n {'id': <id>1355079</id>,\n  'username': <username>osalazar</username>,\n  'name': None,\n  'sex': <sex>F</sex>,\n  'country': None,\n  'mail': <mail>justintyler@hotmail.com</mail>,\n  'registered': <registered>2009-08-02</registered>,\n  'birthdate': None,\n  'name_prefix': None,\n  'country_code': None},\n {'id': <id>185926</id>,\n  'username': <username>juanmontoya</username>,\n  'name': None,\n  'sex': <sex>M</sex>,\n  'country': <country code=\"AW\">Aruba</country>,\n  'mail': None,\n  'registered': <registered>2016-07-16</registered>,\n  'birthdate': None,\n  'name_prefix': None,\n  'country_code': <country code=\"AW\">Aruba</country>}]"
     },
     "execution_count": 59,
     "metadata": {},
     "output_type": "execute_result"
    }
   ],
   "source": [
    "from bs4 import BeautifulSoup as bs\n",
    "\n",
    "# soup = bs(xml_text, \"xml\")\n",
    "user_list = []\n",
    "\n",
    "content = []\n",
    "with open(\"14_delayed_data/reviewers_full/reviewers_full_0.xml\", \"r\") as f:\n",
    "\tusers = bs(f, \"lxml\")\n",
    "\trows = users.find_all(\"user\")\n",
    "\tc = 0\n",
    "\tfor i in rows:\n",
    "\t\t# try:\n",
    "\t\tuser_dict = {\n",
    "\t\t\t\"id\": i.find(\"id\"),\n",
    "\t\t\t\"username\": i.find(\"username\"),\n",
    "\t\t\t\"name\": i.find(\"name\"),\n",
    "\t\t\t\"sex\": i.find(\"sex\"),\n",
    "\t\t\t\"country\": i.find(\"country\"),\n",
    "\t\t\t\"mail\": i.find(\"mail\"),\n",
    "\t\t\t\"registered\": i.find(\"registered\"),\n",
    "\t\t\t\"birthdate\": i.find(\"birthdate\"),\n",
    "\t\t\t\"name_prefix\": i.find(\"user\"),\n",
    "\t\t\t\"country_code\": i.find(\"country\")\n",
    "\t\t}\n",
    "\t\t# except Exception as e:\n",
    "\t\t# \te\n",
    "\t\tuser_list.append(user_dict)\n",
    "\t\tc += 1\n",
    "\t\tif c == 10:\n",
    "\t\t\tbreak\n",
    "user_list"
   ],
   "metadata": {
    "collapsed": false,
    "pycharm": {
     "name": "#%%\n"
    }
   }
  },
  {
   "cell_type": "code",
   "execution_count": 139,
   "outputs": [],
   "source": [
    "import os\n",
    "import xml.etree.ElementTree as ET\n",
    "from dask import delayed as dd\n",
    "from dask import bag as db\n",
    "from dask import dataframe as df\n",
    "from dask import compute\n",
    "from pprint import pp"
   ],
   "metadata": {
    "collapsed": false,
    "pycharm": {
     "name": "#%%\n"
    }
   }
  },
  {
   "cell_type": "code",
   "execution_count": 119,
   "outputs": [],
   "source": [
    "def xml_to_dict(file):\n",
    "\ttree = ET.parse(file)\n",
    "\troot = tree.getroot()\n",
    "\tuser_list = []\n",
    "\tfor child in root.findall('user'):\n",
    "\t\tuser_dict = {\n",
    "\t\t\t\t\"id\": None,\n",
    "\t\t\t\t\"username\": None,\n",
    "\t\t\t\t\"name\": None,\n",
    "\t\t\t\t\"sex\": None,\n",
    "\t\t\t\t\"country\": None,\n",
    "\t\t\t\t\"mail\": None,\n",
    "\t\t\t\t\"registered\": None,\n",
    "\t\t\t\t\"birthdate\": None,\n",
    "\t\t\t\t\"name_prefix\": None,\n",
    "\t\t\t\t\"country_code\": None,\n",
    "\t\t\t}\n",
    "\n",
    "\t\ttry:\n",
    "\t\t\tuser_dict[\"id\"] = child.find(\"id\").text\n",
    "\t\texcept:\n",
    "\t\t\tpass\n",
    "\n",
    "\t\ttry:\n",
    "\t\t\tuser_dict[\"username\"] = child.find(\"username\").text\n",
    "\t\texcept:\n",
    "\t\t\tpass\n",
    "\n",
    "\t\ttry:\n",
    "\t\t\tuser_dict[\"name\"] = child.find(\"name\").text\n",
    "\t\texcept:\n",
    "\t\t\tpass\n",
    "\n",
    "\t\ttry:\n",
    "\t\t\tuser_dict[\"sex\"] = child.find(\"sex\").text\n",
    "\t\texcept:\n",
    "\t\t\tpass\n",
    "\n",
    "\t\ttry:\n",
    "\t\t\tuser_dict[\"country\"] = child.find(\"country\").text\n",
    "\t\texcept:\n",
    "\t\t\tpass\n",
    "\n",
    "\t\ttry:\n",
    "\t\t\tuser_dict[\"mail\"] = child.find(\"mail\").text\n",
    "\t\texcept:\n",
    "\t\t\tpass\n",
    "\n",
    "\t\ttry:\n",
    "\t\t\tuser_dict[\"registered\"] = child.find(\"registered\").text\n",
    "\t\texcept:\n",
    "\t\t\tpass\n",
    "\n",
    "\t\ttry:\n",
    "\t\t\tuser_dict[\"birthdate\"] = child.find(\"birthdate\").text\n",
    "\t\texcept:\n",
    "\t\t\tpass\n",
    "\n",
    "\t\ttry:\n",
    "\t\t\tuser_dict[\"name_prefix\"] = child.attrib[\"prefix\"]\n",
    "\t\texcept:\n",
    "\t\t\tpass\n",
    "\n",
    "\t\ttry:\n",
    "\t\t\tuser_dict[\"country_code\"] = child.find(\"country\").attrib[\"code\"]\n",
    "\t\texcept:\n",
    "\t\t\tpass\n",
    "\t\tuser_list.append(user_dict)\n",
    "\treturn user_list"
   ],
   "metadata": {
    "collapsed": false,
    "pycharm": {
     "name": "#%%\n"
    }
   }
  },
  {
   "cell_type": "code",
   "execution_count": 120,
   "outputs": [
    {
     "data": {
      "text/plain": "{'id': '556011',\n 'username': 'gabrielacalhoun',\n 'name': None,\n 'sex': 'F',\n 'country': None,\n 'mail': None,\n 'registered': None,\n 'birthdate': '1988-01-25',\n 'name_prefix': 'Mrs.',\n 'country_code': None}"
     },
     "execution_count": 120,
     "metadata": {},
     "output_type": "execute_result"
    }
   ],
   "source": [
    "file = \"14_delayed_data/reviewers_full/reviewers_full_0.xml\"\n",
    "ul = xml_to_dict(file)\n",
    "ul[0]"
   ],
   "metadata": {
    "collapsed": false,
    "pycharm": {
     "name": "#%%\n"
    }
   }
  },
  {
   "cell_type": "markdown",
   "metadata": {},
   "source": [
    "2. Измерьте время выполнения функции из задания 1 на всех файлах из каталога `reviewers_full`. Ускорьте время выполнения, используя `dask.delayed`."
   ]
  },
  {
   "cell_type": "code",
   "execution_count": 134,
   "outputs": [
    {
     "name": "stdout",
     "output_type": "stream",
     "text": [
      "{'id': '556011', 'username': 'gabrielacalhoun', 'name': None, 'sex': 'F', 'country': None, 'mail': None, 'registered': None, 'birthdate': '1988-01-25', 'name_prefix': 'Mrs.', 'country_code': None}\n",
      "{'id': '394270', 'username': 'bridgesdennis', 'name': 'Melissa Vaughn', 'sex': 'F', 'country': None, 'mail': 'carmengonzales@hotmail.com', 'registered': None, 'birthdate': '1992-07-28', 'name_prefix': 'Mrs.', 'country_code': None}\n",
      "{'id': '2951090', 'username': 'jesse68', 'name': None, 'sex': None, 'country': 'Jamaica', 'mail': 'kaitlyn40@yahoo.com', 'registered': '2019-03-31', 'birthdate': '1980-04-30', 'name_prefix': None, 'country_code': 'JM'}\n",
      "{'id': '46542', 'username': 'dawn16', 'name': None, 'sex': None, 'country': 'Serbia', 'mail': 'murrayshannon@gmail.com', 'registered': '2019-11-24', 'birthdate': '2018-06-10', 'name_prefix': None, 'country_code': 'RS'}\n",
      "{'id': '2214951', 'username': 'nancyharrison', 'name': None, 'sex': 'M', 'country': 'Mali', 'mail': None, 'registered': '2017-05-24', 'birthdate': None, 'name_prefix': None, 'country_code': 'ML'}\n",
      "Wall time: 3.28 s\n"
     ]
    }
   ],
   "source": [
    "%%time\n",
    "\n",
    "for filename in os.listdir(\"14_delayed_data/reviewers_full/\"):\n",
    "\twith open(\"14_delayed_data/reviewers_full/\" + filename, \"r\") as file:\n",
    "\t\tout = xml_to_dict(file)\n",
    "\t\tprint(out[0])"
   ],
   "metadata": {
    "collapsed": false,
    "pycharm": {
     "name": "#%%\n"
    }
   }
  },
  {
   "cell_type": "code",
   "execution_count": 135,
   "outputs": [
    {
     "name": "stdout",
     "output_type": "stream",
     "text": [
      "{'id': '556011', 'username': 'gabrielacalhoun', 'name': None, 'sex': 'F', 'country': None, 'mail': None, 'registered': None, 'birthdate': '1988-01-25', 'name_prefix': 'Mrs.', 'country_code': None}\n",
      "{'id': '394270', 'username': 'bridgesdennis', 'name': 'Melissa Vaughn', 'sex': 'F', 'country': None, 'mail': 'carmengonzales@hotmail.com', 'registered': None, 'birthdate': '1992-07-28', 'name_prefix': 'Mrs.', 'country_code': None}\n",
      "{'id': '2951090', 'username': 'jesse68', 'name': None, 'sex': None, 'country': 'Jamaica', 'mail': 'kaitlyn40@yahoo.com', 'registered': '2019-03-31', 'birthdate': '1980-04-30', 'name_prefix': None, 'country_code': 'JM'}\n",
      "{'id': '46542', 'username': 'dawn16', 'name': None, 'sex': None, 'country': 'Serbia', 'mail': 'murrayshannon@gmail.com', 'registered': '2019-11-24', 'birthdate': '2018-06-10', 'name_prefix': None, 'country_code': 'RS'}\n",
      "{'id': '2214951', 'username': 'nancyharrison', 'name': None, 'sex': 'M', 'country': 'Mali', 'mail': None, 'registered': '2017-05-24', 'birthdate': None, 'name_prefix': None, 'country_code': 'ML'}\n",
      "Wall time: 1.21 s\n"
     ]
    }
   ],
   "source": [
    "%%time\n",
    "for i in range(len(os.listdir(\"14_delayed_data/reviewers_full/\"))):\n",
    "\tout = xml_to_dict(\"14_delayed_data/reviewers_full/reviewers_full_\"+str(i)+\".xml\")\n",
    "\tprint(out[0])"
   ],
   "metadata": {
    "collapsed": false,
    "pycharm": {
     "name": "#%%\n"
    }
   }
  },
  {
   "cell_type": "markdown",
   "metadata": {},
   "source": [
    "3. Задекорируйте функцию из задания 1 при помощи `dask.delayed` и создайте список `reviewers`, состоящий из 5 объектов `delayed` (по одному объекту на файл). Из списка объектов `delayed`, создайте `dask.bag` при помощи метода `db.from_delayed`. Добавьте ключ `birth_year`, в котором хранится год рождения человека. Оставьте в выборке только тех людей, которые __наверняка__ моложе 1980 года. Преобразуйте поле `id` к целому типу."
   ]
  },
  {
   "cell_type": "code",
   "execution_count": 124,
   "outputs": [
    {
     "data": {
      "text/plain": "Delayed('xml_to_dict-1d04e7c6-2a88-49fd-91de-063554cbb82e')"
     },
     "execution_count": 124,
     "metadata": {},
     "output_type": "execute_result"
    }
   ],
   "source": [
    "delayed(xml_to_dict)"
   ],
   "metadata": {
    "collapsed": false,
    "pycharm": {
     "name": "#%%\n"
    }
   }
  },
  {
   "cell_type": "code",
   "execution_count": 138,
   "outputs": [
    {
     "data": {
      "text/plain": "[Delayed('xml_to_dict-4512cadf-8909-41e8-b04a-02934dd19831'),\n Delayed('xml_to_dict-65868e3e-7bf2-4af8-93b1-84164a0ee2b8'),\n Delayed('xml_to_dict-291d8264-f905-4bcf-a7a8-0bce55a76aff'),\n Delayed('xml_to_dict-9214ba40-3d49-45b4-afe0-1cc5c549dde5'),\n Delayed('xml_to_dict-2cbe8c49-f3fe-4890-9ca2-0d6113d3b025')]"
     },
     "execution_count": 138,
     "metadata": {},
     "output_type": "execute_result"
    }
   ],
   "source": [
    "reviewers = []\n",
    "for filename in os.listdir(\"14_delayed_data/reviewers_full/\"):\n",
    "\twith open(\"14_delayed_data/reviewers_full/\" + filename, \"r\") as file:\n",
    "\t\treviewers.append(dd(xml_to_dict))\n",
    "reviewers"
   ],
   "metadata": {
    "collapsed": false,
    "pycharm": {
     "name": "#%%\n"
    }
   }
  },
  {
   "cell_type": "code",
   "execution_count": 148,
   "outputs": [
    {
     "data": {
      "text/plain": "dask.bag<bag-from-delayed, npartitions=5>"
     },
     "execution_count": 148,
     "metadata": {},
     "output_type": "execute_result"
    }
   ],
   "source": [
    "bag = db.from_delayed(reviewers)\n",
    "bag"
   ],
   "metadata": {
    "collapsed": false,
    "pycharm": {
     "name": "#%%\n"
    }
   }
  },
  {
   "cell_type": "code",
   "execution_count": 147,
   "outputs": [],
   "source": [],
   "metadata": {
    "collapsed": false,
    "pycharm": {
     "name": "#%%\n"
    }
   }
  },
  {
   "cell_type": "markdown",
   "metadata": {},
   "source": [
    "4. Из `dask.bag`, полученного в задании 3, создайте `dask.dataframe` при помощи метода `bag.to_dataframe`. Укажите столбец `id` в качестве индекса."
   ]
  },
  {
   "cell_type": "code",
   "execution_count": 149,
   "outputs": [
    {
     "ename": "TypeError",
     "evalue": "'function' object is not iterable\n\nTraceback\n---------\n  File \"f:\\programming\\python\\bigdatapt-bdpt-\\venv39\\lib\\site-packages\\dask\\local.py\", line 220, in execute_task\n    result = _execute_task(task, data)\n  File \"f:\\programming\\python\\bigdatapt-bdpt-\\venv39\\lib\\site-packages\\dask\\core.py\", line 119, in _execute_task\n    return func(*(_execute_task(a, cache) for a in args))\n  File \"f:\\programming\\python\\bigdatapt-bdpt-\\venv39\\lib\\site-packages\\dask\\bag\\core.py\", line 2457, in safe_take\n    r = list(take(n, b))\n  File \"f:\\programming\\python\\bigdatapt-bdpt-\\venv39\\lib\\site-packages\\toolz\\itertoolz.py\", line 329, in take\n    return itertools.islice(seq, n)\n",
     "output_type": "error",
     "traceback": [
      "\u001B[1;31m---------------------------------------------------------------------------\u001B[0m",
      "\u001B[1;31mTypeError\u001B[0m                                 Traceback (most recent call last)",
      "\u001B[1;32m~\\AppData\\Local\\Temp/ipykernel_21452/2022293449.py\u001B[0m in \u001B[0;36m<module>\u001B[1;34m\u001B[0m\n\u001B[1;32m----> 1\u001B[1;33m \u001B[0mddf\u001B[0m \u001B[1;33m=\u001B[0m \u001B[0mbag\u001B[0m\u001B[1;33m.\u001B[0m\u001B[0mto_dataframe\u001B[0m\u001B[1;33m(\u001B[0m\u001B[1;33m)\u001B[0m\u001B[1;33m\u001B[0m\u001B[1;33m\u001B[0m\u001B[0m\n\u001B[0m\u001B[0;32m      2\u001B[0m \u001B[0mddf\u001B[0m\u001B[1;33m\u001B[0m\u001B[1;33m\u001B[0m\u001B[0m\n",
      "\u001B[1;32mf:\\programming\\python\\bigdatapt-bdpt-\\venv39\\lib\\site-packages\\dask\\bag\\core.py\u001B[0m in \u001B[0;36mto_dataframe\u001B[1;34m(self, meta, columns)\u001B[0m\n\u001B[0;32m   1578\u001B[0m \u001B[1;33m\u001B[0m\u001B[0m\n\u001B[0;32m   1579\u001B[0m         \u001B[1;32mif\u001B[0m \u001B[0mmeta\u001B[0m \u001B[1;32mis\u001B[0m \u001B[1;32mNone\u001B[0m\u001B[1;33m:\u001B[0m\u001B[1;33m\u001B[0m\u001B[1;33m\u001B[0m\u001B[0m\n\u001B[1;32m-> 1580\u001B[1;33m             \u001B[0mhead\u001B[0m \u001B[1;33m=\u001B[0m \u001B[0mself\u001B[0m\u001B[1;33m.\u001B[0m\u001B[0mtake\u001B[0m\u001B[1;33m(\u001B[0m\u001B[1;36m1\u001B[0m\u001B[1;33m,\u001B[0m \u001B[0mwarn\u001B[0m\u001B[1;33m=\u001B[0m\u001B[1;32mFalse\u001B[0m\u001B[1;33m)\u001B[0m\u001B[1;33m\u001B[0m\u001B[1;33m\u001B[0m\u001B[0m\n\u001B[0m\u001B[0;32m   1581\u001B[0m             \u001B[1;32mif\u001B[0m \u001B[0mlen\u001B[0m\u001B[1;33m(\u001B[0m\u001B[0mhead\u001B[0m\u001B[1;33m)\u001B[0m \u001B[1;33m==\u001B[0m \u001B[1;36m0\u001B[0m\u001B[1;33m:\u001B[0m\u001B[1;33m\u001B[0m\u001B[1;33m\u001B[0m\u001B[0m\n\u001B[0;32m   1582\u001B[0m                 raise ValueError(\n",
      "\u001B[1;32mf:\\programming\\python\\bigdatapt-bdpt-\\venv39\\lib\\site-packages\\dask\\bag\\core.py\u001B[0m in \u001B[0;36mtake\u001B[1;34m(self, k, npartitions, compute, warn)\u001B[0m\n\u001B[0;32m   1441\u001B[0m \u001B[1;33m\u001B[0m\u001B[0m\n\u001B[0;32m   1442\u001B[0m         \u001B[1;32mif\u001B[0m \u001B[0mcompute\u001B[0m\u001B[1;33m:\u001B[0m\u001B[1;33m\u001B[0m\u001B[1;33m\u001B[0m\u001B[0m\n\u001B[1;32m-> 1443\u001B[1;33m             \u001B[1;32mreturn\u001B[0m \u001B[0mtuple\u001B[0m\u001B[1;33m(\u001B[0m\u001B[0mb\u001B[0m\u001B[1;33m.\u001B[0m\u001B[0mcompute\u001B[0m\u001B[1;33m(\u001B[0m\u001B[1;33m)\u001B[0m\u001B[1;33m)\u001B[0m\u001B[1;33m\u001B[0m\u001B[1;33m\u001B[0m\u001B[0m\n\u001B[0m\u001B[0;32m   1444\u001B[0m         \u001B[1;32melse\u001B[0m\u001B[1;33m:\u001B[0m\u001B[1;33m\u001B[0m\u001B[1;33m\u001B[0m\u001B[0m\n\u001B[0;32m   1445\u001B[0m             \u001B[1;32mreturn\u001B[0m \u001B[0mb\u001B[0m\u001B[1;33m\u001B[0m\u001B[1;33m\u001B[0m\u001B[0m\n",
      "\u001B[1;32mf:\\programming\\python\\bigdatapt-bdpt-\\venv39\\lib\\site-packages\\dask\\base.py\u001B[0m in \u001B[0;36mcompute\u001B[1;34m(self, **kwargs)\u001B[0m\n\u001B[0;32m    286\u001B[0m         \u001B[0mdask\u001B[0m\u001B[1;33m.\u001B[0m\u001B[0mbase\u001B[0m\u001B[1;33m.\u001B[0m\u001B[0mcompute\u001B[0m\u001B[1;33m\u001B[0m\u001B[1;33m\u001B[0m\u001B[0m\n\u001B[0;32m    287\u001B[0m         \"\"\"\n\u001B[1;32m--> 288\u001B[1;33m         \u001B[1;33m(\u001B[0m\u001B[0mresult\u001B[0m\u001B[1;33m,\u001B[0m\u001B[1;33m)\u001B[0m \u001B[1;33m=\u001B[0m \u001B[0mcompute\u001B[0m\u001B[1;33m(\u001B[0m\u001B[0mself\u001B[0m\u001B[1;33m,\u001B[0m \u001B[0mtraverse\u001B[0m\u001B[1;33m=\u001B[0m\u001B[1;32mFalse\u001B[0m\u001B[1;33m,\u001B[0m \u001B[1;33m**\u001B[0m\u001B[0mkwargs\u001B[0m\u001B[1;33m)\u001B[0m\u001B[1;33m\u001B[0m\u001B[1;33m\u001B[0m\u001B[0m\n\u001B[0m\u001B[0;32m    289\u001B[0m         \u001B[1;32mreturn\u001B[0m \u001B[0mresult\u001B[0m\u001B[1;33m\u001B[0m\u001B[1;33m\u001B[0m\u001B[0m\n\u001B[0;32m    290\u001B[0m \u001B[1;33m\u001B[0m\u001B[0m\n",
      "\u001B[1;32mf:\\programming\\python\\bigdatapt-bdpt-\\venv39\\lib\\site-packages\\dask\\base.py\u001B[0m in \u001B[0;36mcompute\u001B[1;34m(traverse, optimize_graph, scheduler, get, *args, **kwargs)\u001B[0m\n\u001B[0;32m    569\u001B[0m         \u001B[0mpostcomputes\u001B[0m\u001B[1;33m.\u001B[0m\u001B[0mappend\u001B[0m\u001B[1;33m(\u001B[0m\u001B[0mx\u001B[0m\u001B[1;33m.\u001B[0m\u001B[0m__dask_postcompute__\u001B[0m\u001B[1;33m(\u001B[0m\u001B[1;33m)\u001B[0m\u001B[1;33m)\u001B[0m\u001B[1;33m\u001B[0m\u001B[1;33m\u001B[0m\u001B[0m\n\u001B[0;32m    570\u001B[0m \u001B[1;33m\u001B[0m\u001B[0m\n\u001B[1;32m--> 571\u001B[1;33m     \u001B[0mresults\u001B[0m \u001B[1;33m=\u001B[0m \u001B[0mschedule\u001B[0m\u001B[1;33m(\u001B[0m\u001B[0mdsk\u001B[0m\u001B[1;33m,\u001B[0m \u001B[0mkeys\u001B[0m\u001B[1;33m,\u001B[0m \u001B[1;33m**\u001B[0m\u001B[0mkwargs\u001B[0m\u001B[1;33m)\u001B[0m\u001B[1;33m\u001B[0m\u001B[1;33m\u001B[0m\u001B[0m\n\u001B[0m\u001B[0;32m    572\u001B[0m     \u001B[1;32mreturn\u001B[0m \u001B[0mrepack\u001B[0m\u001B[1;33m(\u001B[0m\u001B[1;33m[\u001B[0m\u001B[0mf\u001B[0m\u001B[1;33m(\u001B[0m\u001B[0mr\u001B[0m\u001B[1;33m,\u001B[0m \u001B[1;33m*\u001B[0m\u001B[0ma\u001B[0m\u001B[1;33m)\u001B[0m \u001B[1;32mfor\u001B[0m \u001B[0mr\u001B[0m\u001B[1;33m,\u001B[0m \u001B[1;33m(\u001B[0m\u001B[0mf\u001B[0m\u001B[1;33m,\u001B[0m \u001B[0ma\u001B[0m\u001B[1;33m)\u001B[0m \u001B[1;32min\u001B[0m \u001B[0mzip\u001B[0m\u001B[1;33m(\u001B[0m\u001B[0mresults\u001B[0m\u001B[1;33m,\u001B[0m \u001B[0mpostcomputes\u001B[0m\u001B[1;33m)\u001B[0m\u001B[1;33m]\u001B[0m\u001B[1;33m)\u001B[0m\u001B[1;33m\u001B[0m\u001B[1;33m\u001B[0m\u001B[0m\n\u001B[0;32m    573\u001B[0m \u001B[1;33m\u001B[0m\u001B[0m\n",
      "\u001B[1;32mf:\\programming\\python\\bigdatapt-bdpt-\\venv39\\lib\\site-packages\\dask\\multiprocessing.py\u001B[0m in \u001B[0;36mget\u001B[1;34m(dsk, keys, num_workers, func_loads, func_dumps, optimize_graph, pool, chunksize, **kwargs)\u001B[0m\n\u001B[0;32m    217\u001B[0m     \u001B[1;32mtry\u001B[0m\u001B[1;33m:\u001B[0m\u001B[1;33m\u001B[0m\u001B[1;33m\u001B[0m\u001B[0m\n\u001B[0;32m    218\u001B[0m         \u001B[1;31m# Run\u001B[0m\u001B[1;33m\u001B[0m\u001B[1;33m\u001B[0m\u001B[0m\n\u001B[1;32m--> 219\u001B[1;33m         result = get_async(\n\u001B[0m\u001B[0;32m    220\u001B[0m             \u001B[0mpool\u001B[0m\u001B[1;33m.\u001B[0m\u001B[0msubmit\u001B[0m\u001B[1;33m,\u001B[0m\u001B[1;33m\u001B[0m\u001B[1;33m\u001B[0m\u001B[0m\n\u001B[0;32m    221\u001B[0m             \u001B[0mpool\u001B[0m\u001B[1;33m.\u001B[0m\u001B[0m_max_workers\u001B[0m\u001B[1;33m,\u001B[0m\u001B[1;33m\u001B[0m\u001B[1;33m\u001B[0m\u001B[0m\n",
      "\u001B[1;32mf:\\programming\\python\\bigdatapt-bdpt-\\venv39\\lib\\site-packages\\dask\\local.py\u001B[0m in \u001B[0;36mget_async\u001B[1;34m(submit, num_workers, dsk, result, cache, get_id, rerun_exceptions_locally, pack_exception, raise_exception, callbacks, dumps, loads, chunksize, **kwargs)\u001B[0m\n\u001B[0;32m    505\u001B[0m                             \u001B[0m_execute_task\u001B[0m\u001B[1;33m(\u001B[0m\u001B[0mtask\u001B[0m\u001B[1;33m,\u001B[0m \u001B[0mdata\u001B[0m\u001B[1;33m)\u001B[0m  \u001B[1;31m# Re-execute locally\u001B[0m\u001B[1;33m\u001B[0m\u001B[1;33m\u001B[0m\u001B[0m\n\u001B[0;32m    506\u001B[0m                         \u001B[1;32melse\u001B[0m\u001B[1;33m:\u001B[0m\u001B[1;33m\u001B[0m\u001B[1;33m\u001B[0m\u001B[0m\n\u001B[1;32m--> 507\u001B[1;33m                             \u001B[0mraise_exception\u001B[0m\u001B[1;33m(\u001B[0m\u001B[0mexc\u001B[0m\u001B[1;33m,\u001B[0m \u001B[0mtb\u001B[0m\u001B[1;33m)\u001B[0m\u001B[1;33m\u001B[0m\u001B[1;33m\u001B[0m\u001B[0m\n\u001B[0m\u001B[0;32m    508\u001B[0m                     \u001B[0mres\u001B[0m\u001B[1;33m,\u001B[0m \u001B[0mworker_id\u001B[0m \u001B[1;33m=\u001B[0m \u001B[0mloads\u001B[0m\u001B[1;33m(\u001B[0m\u001B[0mres_info\u001B[0m\u001B[1;33m)\u001B[0m\u001B[1;33m\u001B[0m\u001B[1;33m\u001B[0m\u001B[0m\n\u001B[0;32m    509\u001B[0m                     \u001B[0mstate\u001B[0m\u001B[1;33m[\u001B[0m\u001B[1;34m\"cache\"\u001B[0m\u001B[1;33m]\u001B[0m\u001B[1;33m[\u001B[0m\u001B[0mkey\u001B[0m\u001B[1;33m]\u001B[0m \u001B[1;33m=\u001B[0m \u001B[0mres\u001B[0m\u001B[1;33m\u001B[0m\u001B[1;33m\u001B[0m\u001B[0m\n",
      "\u001B[1;32mf:\\programming\\python\\bigdatapt-bdpt-\\venv39\\lib\\site-packages\\dask\\multiprocessing.py\u001B[0m in \u001B[0;36mreraise\u001B[1;34m(exc, tb)\u001B[0m\n\u001B[0;32m    107\u001B[0m     \u001B[1;32mdef\u001B[0m \u001B[0mreraise\u001B[0m\u001B[1;33m(\u001B[0m\u001B[0mexc\u001B[0m\u001B[1;33m,\u001B[0m \u001B[0mtb\u001B[0m\u001B[1;33m)\u001B[0m\u001B[1;33m:\u001B[0m\u001B[1;33m\u001B[0m\u001B[1;33m\u001B[0m\u001B[0m\n\u001B[0;32m    108\u001B[0m         \u001B[0mexc\u001B[0m \u001B[1;33m=\u001B[0m \u001B[0mremote_exception\u001B[0m\u001B[1;33m(\u001B[0m\u001B[0mexc\u001B[0m\u001B[1;33m,\u001B[0m \u001B[0mtb\u001B[0m\u001B[1;33m)\u001B[0m\u001B[1;33m\u001B[0m\u001B[1;33m\u001B[0m\u001B[0m\n\u001B[1;32m--> 109\u001B[1;33m         \u001B[1;32mraise\u001B[0m \u001B[0mexc\u001B[0m\u001B[1;33m\u001B[0m\u001B[1;33m\u001B[0m\u001B[0m\n\u001B[0m\u001B[0;32m    110\u001B[0m \u001B[1;33m\u001B[0m\u001B[0m\n\u001B[0;32m    111\u001B[0m \u001B[1;33m\u001B[0m\u001B[0m\n",
      "\u001B[1;31mTypeError\u001B[0m: 'function' object is not iterable\n\nTraceback\n---------\n  File \"f:\\programming\\python\\bigdatapt-bdpt-\\venv39\\lib\\site-packages\\dask\\local.py\", line 220, in execute_task\n    result = _execute_task(task, data)\n  File \"f:\\programming\\python\\bigdatapt-bdpt-\\venv39\\lib\\site-packages\\dask\\core.py\", line 119, in _execute_task\n    return func(*(_execute_task(a, cache) for a in args))\n  File \"f:\\programming\\python\\bigdatapt-bdpt-\\venv39\\lib\\site-packages\\dask\\bag\\core.py\", line 2457, in safe_take\n    r = list(take(n, b))\n  File \"f:\\programming\\python\\bigdatapt-bdpt-\\venv39\\lib\\site-packages\\toolz\\itertoolz.py\", line 329, in take\n    return itertools.islice(seq, n)\n"
     ]
    }
   ],
   "source": [
    "ddf = bag.to_dataframe()\n",
    "ddf"
   ],
   "metadata": {
    "collapsed": false,
    "pycharm": {
     "name": "#%%\n"
    }
   }
  },
  {
   "cell_type": "markdown",
   "metadata": {},
   "source": [
    "5. Назовем отзыв негативным, если оценка равна 0, 1 или 2. Загрузите данные о негативных отзывах из файлов архива `reviews_full` (__ЛР12__) в виде `dask.DataFrame`. Посчитайте количество отзывов с группировкой по пользователю, оставившему отзыв. Объедините результат с таблицей, полученной в задаче 4."
   ]
  },
  {
   "cell_type": "markdown",
   "metadata": {},
   "source": [
    "#### [версия 2]\n",
    "* Уточнена формулировка задачи 1"
   ]
  },
  {
   "cell_type": "code",
   "execution_count": null,
   "metadata": {},
   "outputs": [],
   "source": []
  }
 ],
 "metadata": {
  "kernelspec": {
   "display_name": "Python 3 (ipykernel)",
   "language": "python",
   "name": "python3"
  },
  "language_info": {
   "codemirror_mode": {
    "name": "ipython",
    "version": 3
   },
   "file_extension": ".py",
   "mimetype": "text/x-python",
   "name": "python",
   "nbconvert_exporter": "python",
   "pygments_lexer": "ipython3",
   "version": "3.8.3"
  }
 },
 "nbformat": 4,
 "nbformat_minor": 4
}