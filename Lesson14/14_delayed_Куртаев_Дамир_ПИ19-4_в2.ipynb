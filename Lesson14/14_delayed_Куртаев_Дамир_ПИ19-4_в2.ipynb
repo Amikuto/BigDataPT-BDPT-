{
 "cells": [
  {
   "cell_type": "markdown",
   "metadata": {},
   "source": [
    "# Dask Delayed"
   ]
  },
  {
   "cell_type": "markdown",
   "metadata": {},
   "source": [
    "Материалы:\n",
    "* Макрушин С.В. Лекция 13: Dask Delayed\n",
    "* https://docs.dask.org/en/latest/delayed.html\n",
    "* Jesse C. Daniel. Data Science with Python and Dask.\n"
   ]
  },
  {
   "cell_type": "markdown",
   "metadata": {},
   "source": [
    "## Задачи для совместного разбора"
   ]
  },
  {
   "cell_type": "markdown",
   "metadata": {},
   "source": [
    "![](https://i.imgur.com/AwiN8y6.png)\n",
    "![](https://i.imgur.com/ceY6guU.png)"
   ]
  },
  {
   "cell_type": "markdown",
   "metadata": {},
   "source": [
    "1. Напишите 2 функции, имитирующие CPU-bound задачу и IO-bound задачу:\n",
    "\n",
    "`cpu_task()`: генерирует 100 тыс. случайных чисел и возвращает их сумму (без использования `numpy`)\n",
    "\n",
    "`io_task()`: \"спит\" 0.1 сек, затем генерирует случайное число и возвращает его\n",
    "\n",
    "Замерьте время выполнения 100 последовательных вызовов каждой из этих функций. Распараллелив вычисления при помощи `dask.delayed`, сократите время выполнения. Исследуйте, как зависит время вычислений от выбранного планировщика `scheduler`."
   ]
  },
  {
   "cell_type": "code",
   "execution_count": 1,
   "outputs": [],
   "source": [
    "import random\n",
    "import time\n",
    "\n",
    "import dask.bag\n",
    "\n",
    "\n",
    "def cpu_task():\n",
    "\tlst = [random.randint(0, 10) for _ in range(100_000)]\n",
    "\treturn sum(lst)\n",
    "\n",
    "def io_task():\n",
    "\ttime.sleep(0.1)\n",
    "\treturn random.randint(0, 10)"
   ],
   "metadata": {
    "collapsed": false,
    "pycharm": {
     "name": "#%%\n"
    }
   }
  },
  {
   "cell_type": "code",
   "execution_count": 2,
   "outputs": [
    {
     "name": "stdout",
     "output_type": "stream",
     "text": [
      "Wall time: 4.07 s\n"
     ]
    }
   ],
   "source": [
    "%%time\n",
    "res = [cpu_task() for _ in range(100)]"
   ],
   "metadata": {
    "collapsed": false,
    "pycharm": {
     "name": "#%%\n"
    }
   }
  },
  {
   "cell_type": "code",
   "execution_count": 3,
   "outputs": [
    {
     "name": "stdout",
     "output_type": "stream",
     "text": [
      "Wall time: 10.8 s\n"
     ]
    }
   ],
   "source": [
    "%%time\n",
    "res = [io_task() for _ in range(100)]"
   ],
   "metadata": {
    "collapsed": false,
    "pycharm": {
     "name": "#%%\n"
    }
   }
  },
  {
   "cell_type": "code",
   "execution_count": 8,
   "outputs": [],
   "source": [
    "from dask import delayed\n",
    "from dask import compute"
   ],
   "metadata": {
    "collapsed": false,
    "pycharm": {
     "name": "#%%\n"
    }
   }
  },
  {
   "cell_type": "code",
   "execution_count": 5,
   "outputs": [],
   "source": [
    "cpu_task_delayed = delayed(cpu_task)"
   ],
   "metadata": {
    "collapsed": false,
    "pycharm": {
     "name": "#%%\n"
    }
   }
  },
  {
   "cell_type": "code",
   "execution_count": 6,
   "outputs": [
    {
     "data": {
      "text/plain": "Delayed('cpu_task-ac40120a-5ea1-41a4-a72f-fcc99c234c17')"
     },
     "execution_count": 6,
     "metadata": {},
     "output_type": "execute_result"
    }
   ],
   "source": [
    "cpu_task_delayed"
   ],
   "metadata": {
    "collapsed": false,
    "pycharm": {
     "name": "#%%\n"
    }
   }
  },
  {
   "cell_type": "code",
   "execution_count": 9,
   "outputs": [
    {
     "name": "stdout",
     "output_type": "stream",
     "text": [
      "Wall time: 4.11 s\n"
     ]
    },
    {
     "data": {
      "text/plain": "([499472,\n  499501,\n  500654,\n  499008,\n  499409,\n  501652,\n  499998,\n  500428,\n  500694,\n  500807,\n  500337,\n  500528,\n  498999,\n  500009,\n  500968,\n  500769,\n  499749,\n  500257,\n  499002,\n  500213,\n  499322,\n  499651,\n  499006,\n  499855,\n  500670,\n  499468,\n  500032,\n  500305,\n  500738,\n  500681,\n  499722,\n  499936,\n  499420,\n  499469,\n  499147,\n  498455,\n  499582,\n  500873,\n  498704,\n  499185,\n  499081,\n  499935,\n  501697,\n  499051,\n  500626,\n  498240,\n  499822,\n  500641,\n  500555,\n  499455,\n  499789,\n  500923,\n  499739,\n  500361,\n  499573,\n  500466,\n  499965,\n  499165,\n  500741,\n  498951,\n  498171,\n  501325,\n  501753,\n  500672,\n  499119,\n  497931,\n  499771,\n  500095,\n  498941,\n  499373,\n  501018,\n  500978,\n  500876,\n  499428,\n  501467,\n  500921,\n  500299,\n  498792,\n  500449,\n  502080,\n  500052,\n  500557,\n  500347,\n  498825,\n  502218,\n  500087,\n  500189,\n  499657,\n  499366,\n  500435,\n  499825,\n  500746,\n  499879,\n  499346,\n  502463,\n  501392,\n  500078,\n  499590,\n  500666,\n  499117],)"
     },
     "execution_count": 9,
     "metadata": {},
     "output_type": "execute_result"
    }
   ],
   "source": [
    "%%time\n",
    "res = [cpu_task_delayed() for _ in range(100)]\n",
    "compute(res)"
   ],
   "metadata": {
    "collapsed": false,
    "pycharm": {
     "name": "#%%\n"
    }
   }
  },
  {
   "cell_type": "code",
   "execution_count": 10,
   "outputs": [
    {
     "name": "stdout",
     "output_type": "stream",
     "text": [
      "Wall time: 1.17 s\n"
     ]
    }
   ],
   "source": [
    "%%time\n",
    "res = [cpu_task_delayed() for _ in range(100)]\n",
    "res_computed = compute(res, scheduler='multiprocessing')"
   ],
   "metadata": {
    "collapsed": false,
    "pycharm": {
     "name": "#%%\n"
    }
   }
  },
  {
   "cell_type": "code",
   "execution_count": 11,
   "outputs": [],
   "source": [
    "io_task_delayed = delayed(io_task)"
   ],
   "metadata": {
    "collapsed": false,
    "pycharm": {
     "name": "#%%\n"
    }
   }
  },
  {
   "cell_type": "code",
   "execution_count": 13,
   "outputs": [
    {
     "name": "stdout",
     "output_type": "stream",
     "text": [
      "Wall time: 756 ms\n"
     ]
    }
   ],
   "source": [
    "%%time\n",
    "res = [io_task_delayed() for _ in range(100)]\n",
    "res_computed = compute(res, scheduler='threading')"
   ],
   "metadata": {
    "collapsed": false,
    "pycharm": {
     "name": "#%%\n"
    }
   }
  },
  {
   "cell_type": "code",
   "execution_count": 14,
   "outputs": [
    {
     "name": "stdout",
     "output_type": "stream",
     "text": [
      "Wall time: 1.44 s\n"
     ]
    }
   ],
   "source": [
    "%%time\n",
    "res = [io_task_delayed() for _ in range(100)]\n",
    "res_computed = compute(res, scheduler='multiprocessing')"
   ],
   "metadata": {
    "collapsed": false,
    "pycharm": {
     "name": "#%%\n"
    }
   }
  },
  {
   "cell_type": "markdown",
   "metadata": {},
   "source": [
    "## Лабораторная работа 14"
   ]
  },
  {
   "cell_type": "markdown",
   "metadata": {},
   "source": [
    "1. Напишите функцию, которая считывает файл формата xml из каталога `reviewers_full` и по данным этого файла формирует список словарей, содержащих следующие ключи: `id`, `username`, `name`, `sex`, `country`, `mail`, `registered`, `birthdate`, `name_prefix`, `country_code`. Часть из этих значений в исходном файле хранится в виде тэгов, часть - в виде атрибутов тэгов. Для конкретного человека какие-то из этих ключей могут отсутствовать. \n",
    "\n"
   ]
  },
  {
   "cell_type": "code",
   "execution_count": 59,
   "outputs": [
    {
     "data": {
      "text/plain": "[{'id': <id>556011</id>,\n  'username': <username>gabrielacalhoun</username>,\n  'name': None,\n  'sex': <sex>F</sex>,\n  'country': None,\n  'mail': None,\n  'registered': None,\n  'birthdate': <birthdate>1988-01-25</birthdate>,\n  'name_prefix': None,\n  'country_code': None},\n {'id': <id>1251087</id>,\n  'username': <username>qbaxter</username>,\n  'name': None,\n  'sex': None,\n  'country': <country code=\"NO\">Norway</country>,\n  'mail': <mail>qware@gmail.com</mail>,\n  'registered': None,\n  'birthdate': <birthdate>1985-01-19</birthdate>,\n  'name_prefix': None,\n  'country_code': <country code=\"NO\">Norway</country>},\n {'id': <id>537188</id>,\n  'username': <username>crosschristopher</username>,\n  'name': <name>Dana Moore</name>,\n  'sex': None,\n  'country': None,\n  'mail': <mail>stephaniestrong@yahoo.com</mail>,\n  'registered': <registered>2018-11-21</registered>,\n  'birthdate': <birthdate>1955-07-03</birthdate>,\n  'name_prefix': None,\n  'country_code': None},\n {'id': <id>250427</id>,\n  'username': <username>karen27</username>,\n  'name': <name>Jennifer Horne</name>,\n  'sex': None,\n  'country': <country code=\"CU\">Cuba</country>,\n  'mail': <mail>wjarvis@yahoo.com</mail>,\n  'registered': <registered>2013-11-20</registered>,\n  'birthdate': <birthdate>2007-04-30</birthdate>,\n  'name_prefix': None,\n  'country_code': <country code=\"CU\">Cuba</country>},\n {'id': <id>2945188</id>,\n  'username': <username>gambledanielle</username>,\n  'name': <name>Henry Harris</name>,\n  'sex': None,\n  'country': <country code=\"RS\">Serbia</country>,\n  'mail': None,\n  'registered': <registered>2011-04-08</registered>,\n  'birthdate': None,\n  'name_prefix': None,\n  'country_code': <country code=\"RS\">Serbia</country>},\n {'id': <id>452355</id>,\n  'username': <username>smullen</username>,\n  'name': <name>Cynthia Johnson</name>,\n  'sex': <sex>F</sex>,\n  'country': None,\n  'mail': None,\n  'registered': None,\n  'birthdate': <birthdate>2005-03-29</birthdate>,\n  'name_prefix': None,\n  'country_code': None},\n {'id': <id>382203</id>,\n  'username': <username>barrettmichael</username>,\n  'name': <name>Margaret Banks</name>,\n  'sex': None,\n  'country': None,\n  'mail': <mail>christinaday@hotmail.com</mail>,\n  'registered': None,\n  'birthdate': <birthdate>1971-11-15</birthdate>,\n  'name_prefix': None,\n  'country_code': None},\n {'id': <id>81563</id>,\n  'username': <username>morrischarles</username>,\n  'name': None,\n  'sex': <sex>F</sex>,\n  'country': <country code=\"ZM\">Zambia</country>,\n  'mail': None,\n  'registered': <registered>2014-09-28</registered>,\n  'birthdate': None,\n  'name_prefix': None,\n  'country_code': <country code=\"ZM\">Zambia</country>},\n {'id': <id>1355079</id>,\n  'username': <username>osalazar</username>,\n  'name': None,\n  'sex': <sex>F</sex>,\n  'country': None,\n  'mail': <mail>justintyler@hotmail.com</mail>,\n  'registered': <registered>2009-08-02</registered>,\n  'birthdate': None,\n  'name_prefix': None,\n  'country_code': None},\n {'id': <id>185926</id>,\n  'username': <username>juanmontoya</username>,\n  'name': None,\n  'sex': <sex>M</sex>,\n  'country': <country code=\"AW\">Aruba</country>,\n  'mail': None,\n  'registered': <registered>2016-07-16</registered>,\n  'birthdate': None,\n  'name_prefix': None,\n  'country_code': <country code=\"AW\">Aruba</country>}]"
     },
     "execution_count": 59,
     "metadata": {},
     "output_type": "execute_result"
    }
   ],
   "source": [
    "from bs4 import BeautifulSoup as bs\n",
    "\n",
    "# soup = bs(xml_text, \"xml\")\n",
    "user_list = []\n",
    "\n",
    "content = []\n",
    "with open(\"14_delayed_data/reviewers_full/reviewers_full_0.xml\", \"r\") as f:\n",
    "\tusers = bs(f, \"lxml\")\n",
    "\trows = users.find_all(\"user\")\n",
    "\tc = 0\n",
    "\tfor i in rows:\n",
    "\t\t# try:\n",
    "\t\tuser_dict = {\n",
    "\t\t\t\"id\": i.find(\"id\"),\n",
    "\t\t\t\"username\": i.find(\"username\"),\n",
    "\t\t\t\"name\": i.find(\"name\"),\n",
    "\t\t\t\"sex\": i.find(\"sex\"),\n",
    "\t\t\t\"country\": i.find(\"country\"),\n",
    "\t\t\t\"mail\": i.find(\"mail\"),\n",
    "\t\t\t\"registered\": i.find(\"registered\"),\n",
    "\t\t\t\"birthdate\": i.find(\"birthdate\"),\n",
    "\t\t\t\"name_prefix\": i.find(\"user\"),\n",
    "\t\t\t\"country_code\": i.find(\"country\")\n",
    "\t\t}\n",
    "\t\t# except Exception as e:\n",
    "\t\t# \te\n",
    "\t\tuser_list.append(user_dict)\n",
    "\t\tc += 1\n",
    "\t\tif c == 10:\n",
    "\t\t\tbreak\n",
    "user_list"
   ],
   "metadata": {
    "collapsed": false,
    "pycharm": {
     "name": "#%%\n"
    }
   }
  },
  {
   "cell_type": "code",
   "execution_count": 18,
   "outputs": [],
   "source": [
    "import os\n",
    "import xml.etree.ElementTree as ET\n",
    "import dask\n",
    "from dask import delayed\n",
    "from dask import bag as db\n",
    "from dask import dataframe as df\n",
    "from dask import compute\n",
    "from pprint import pp"
   ],
   "metadata": {
    "collapsed": false,
    "pycharm": {
     "name": "#%%\n"
    }
   }
  },
  {
   "cell_type": "code",
   "execution_count": 96,
   "outputs": [],
   "source": [
    "def xml_to_dict(file):\n",
    "\ttree = ET.parse(file)\n",
    "\troot = tree.getroot()\n",
    "\tuser_list = []\n",
    "\tfor child in root.findall('user'):\n",
    "\t\tuser_dict = {\n",
    "\t\t\t\t\"id\": None,\n",
    "\t\t\t\t\"username\": None,\n",
    "\t\t\t\t\"name\": None,\n",
    "\t\t\t\t\"sex\": None,\n",
    "\t\t\t\t\"country\": None,\n",
    "\t\t\t\t\"mail\": None,\n",
    "\t\t\t\t\"registered\": None,\n",
    "\t\t\t\t\"birthdate\": None,\n",
    "\t\t\t\t\"name_prefix\": None,\n",
    "\t\t\t\t\"country_code\": None,\n",
    "\t\t\t}\n",
    "\n",
    "\t\ttry:\n",
    "\t\t\tuser_dict[\"id\"] = child.find(\"id\").text\n",
    "\t\texcept:\n",
    "\t\t\tpass\n",
    "\n",
    "\t\ttry:\n",
    "\t\t\tuser_dict[\"username\"] = child.find(\"username\").text\n",
    "\t\texcept:\n",
    "\t\t\tpass\n",
    "\n",
    "\t\ttry:\n",
    "\t\t\tuser_dict[\"name\"] = child.find(\"name\").text\n",
    "\t\texcept:\n",
    "\t\t\tpass\n",
    "\n",
    "\t\ttry:\n",
    "\t\t\tuser_dict[\"sex\"] = child.find(\"sex\").text\n",
    "\t\texcept:\n",
    "\t\t\tpass\n",
    "\n",
    "\t\ttry:\n",
    "\t\t\tuser_dict[\"country\"] = child.find(\"country\").text\n",
    "\t\texcept:\n",
    "\t\t\tpass\n",
    "\n",
    "\t\ttry:\n",
    "\t\t\tuser_dict[\"mail\"] = child.find(\"mail\").text\n",
    "\t\texcept:\n",
    "\t\t\tpass\n",
    "\n",
    "\t\ttry:\n",
    "\t\t\tuser_dict[\"registered\"] = child.find(\"registered\").text\n",
    "\t\texcept:\n",
    "\t\t\tpass\n",
    "\n",
    "\t\ttry:\n",
    "\t\t\tuser_dict[\"birthdate\"] = child.find(\"birthdate\").text\n",
    "\t\texcept:\n",
    "\t\t\tpass\n",
    "\n",
    "\t\ttry:\n",
    "\t\t\tuser_dict[\"name_prefix\"] = child.attrib[\"prefix\"]\n",
    "\t\texcept:\n",
    "\t\t\tpass\n",
    "\n",
    "\t\ttry:\n",
    "\t\t\tuser_dict[\"country_code\"] = child.find(\"country\").attrib[\"code\"]\n",
    "\t\texcept:\n",
    "\t\t\tpass\n",
    "\t\tuser_list.append(user_dict)\n",
    "\treturn user_list"
   ],
   "metadata": {
    "collapsed": false,
    "pycharm": {
     "name": "#%%\n"
    }
   }
  },
  {
   "cell_type": "code",
   "execution_count": 127,
   "outputs": [
    {
     "data": {
      "text/plain": "{'id': '556011',\n 'username': 'gabrielacalhoun',\n 'name': None,\n 'sex': 'F',\n 'country': None,\n 'mail': None,\n 'registered': None,\n 'birthdate': '1988-01-25',\n 'name_prefix': 'Mrs.',\n 'country_code': None}"
     },
     "execution_count": 127,
     "metadata": {},
     "output_type": "execute_result"
    }
   ],
   "source": [
    "file = \"14_delayed_data/reviewers_full/reviewers_full_0.xml\"\n",
    "ul = xml_to_dict(file)\n",
    "ul[0]"
   ],
   "metadata": {
    "collapsed": false,
    "pycharm": {
     "name": "#%%\n"
    }
   }
  },
  {
   "cell_type": "markdown",
   "metadata": {},
   "source": [
    "2. Измерьте время выполнения функции из задания 1 на всех файлах из каталога `reviewers_full`. Ускорьте время выполнения, используя `dask.delayed`."
   ]
  },
  {
   "cell_type": "code",
   "execution_count": 129,
   "outputs": [
    {
     "name": "stdout",
     "output_type": "stream",
     "text": [
      "Wall time: 2.11 s\n"
     ]
    }
   ],
   "source": [
    "%%time\n",
    "\n",
    "for filename in os.listdir(\"14_delayed_data/reviewers_full/\"):\n",
    "\twith open(\"14_delayed_data/reviewers_full/\" + filename, \"r\") as file:\n",
    "\t\tout = xml_to_dict(file)\n",
    "\t\t# print(out[0])"
   ],
   "metadata": {
    "collapsed": false,
    "pycharm": {
     "name": "#%%\n"
    }
   }
  },
  {
   "cell_type": "code",
   "execution_count": 83,
   "outputs": [
    {
     "name": "stdout",
     "output_type": "stream",
     "text": [
      "Wall time: 1.91 s\n"
     ]
    }
   ],
   "source": [
    "%%time\n",
    "lst = []\n",
    "for i in range(len(os.listdir(\"14_delayed_data/reviewers_full/\"))):\n",
    "\tlst.append(xml_to_dict(\"14_delayed_data/reviewers_full/reviewers_full_\"+str(i)+\".xml\"))\n"
   ],
   "metadata": {
    "collapsed": false,
    "pycharm": {
     "name": "#%%\n"
    }
   }
  },
  {
   "cell_type": "code",
   "execution_count": 84,
   "outputs": [
    {
     "name": "stdout",
     "output_type": "stream",
     "text": [
      "{'id': '556011', 'username': 'gabrielacalhoun', 'name': None, 'sex': 'F', 'country': None, 'mail': None, 'registered': None, 'birthdate': '1988-01-25', 'name_prefix': 'Mrs.', 'country_code': None}\n",
      "{'id': '394270', 'username': 'bridgesdennis', 'name': 'Melissa Vaughn', 'sex': 'F', 'country': None, 'mail': 'carmengonzales@hotmail.com', 'registered': None, 'birthdate': '1992-07-28', 'name_prefix': 'Mrs.', 'country_code': None}\n",
      "{'id': '2951090', 'username': 'jesse68', 'name': None, 'sex': None, 'country': 'Jamaica', 'mail': 'kaitlyn40@yahoo.com', 'registered': '2019-03-31', 'birthdate': '1980-04-30', 'name_prefix': None, 'country_code': 'JM'}\n",
      "{'id': '46542', 'username': 'dawn16', 'name': None, 'sex': None, 'country': 'Serbia', 'mail': 'murrayshannon@gmail.com', 'registered': '2019-11-24', 'birthdate': '2018-06-10', 'name_prefix': None, 'country_code': 'RS'}\n",
      "{'id': '2214951', 'username': 'nancyharrison', 'name': None, 'sex': 'M', 'country': 'Mali', 'mail': None, 'registered': '2017-05-24', 'birthdate': None, 'name_prefix': None, 'country_code': 'ML'}\n"
     ]
    }
   ],
   "source": [
    "for i in lst:\n",
    "\tprint(i[0])"
   ],
   "metadata": {
    "collapsed": false,
    "pycharm": {
     "name": "#%%\n"
    }
   }
  },
  {
   "cell_type": "code",
   "execution_count": 85,
   "outputs": [
    {
     "name": "stdout",
     "output_type": "stream",
     "text": [
      "Wall time: 2.47 s\n"
     ]
    }
   ],
   "source": [
    "%%time\n",
    "tasks = []\n",
    "for i in range(len(os.listdir(\"14_delayed_data/reviewers_full/\"))):\n",
    "\ttasks.append(dask.delayed(xml_to_dict)(\"14_delayed_data/reviewers_full/reviewers_full_\"+str(i)+\".xml\"))\n",
    "\n",
    "res_computed = compute(tasks, scheduler='threading')"
   ],
   "metadata": {
    "collapsed": false,
    "pycharm": {
     "name": "#%%\n"
    }
   }
  },
  {
   "cell_type": "code",
   "execution_count": 69,
   "outputs": [
    {
     "data": {
      "image/png": "[encoded data removed]",
      "text/plain": "<IPython.core.display.Image object>"
     },
     "execution_count": 69,
     "metadata": {},
     "output_type": "execute_result"
    }
   ],
   "source": [
    "tasks[0].visualize()"
   ],
   "metadata": {
    "collapsed": false,
    "pycharm": {
     "name": "#%%\n"
    }
   }
  },
  {
   "cell_type": "code",
   "execution_count": 81,
   "outputs": [
    {
     "name": "stdout",
     "output_type": "stream",
     "text": [
      "{'id': '556011', 'username': 'gabrielacalhoun', 'name': None, 'sex': 'F', 'country': None, 'mail': None, 'registered': None, 'birthdate': '1988-01-25', 'name_prefix': 'Mrs.', 'country_code': None}\n",
      "{'id': '394270', 'username': 'bridgesdennis', 'name': 'Melissa Vaughn', 'sex': 'F', 'country': None, 'mail': 'carmengonzales@hotmail.com', 'registered': None, 'birthdate': '1992-07-28', 'name_prefix': 'Mrs.', 'country_code': None}\n",
      "{'id': '2951090', 'username': 'jesse68', 'name': None, 'sex': None, 'country': 'Jamaica', 'mail': 'kaitlyn40@yahoo.com', 'registered': '2019-03-31', 'birthdate': '1980-04-30', 'name_prefix': None, 'country_code': 'JM'}\n",
      "{'id': '46542', 'username': 'dawn16', 'name': None, 'sex': None, 'country': 'Serbia', 'mail': 'murrayshannon@gmail.com', 'registered': '2019-11-24', 'birthdate': '2018-06-10', 'name_prefix': None, 'country_code': 'RS'}\n",
      "{'id': '2214951', 'username': 'nancyharrison', 'name': None, 'sex': 'M', 'country': 'Mali', 'mail': None, 'registered': '2017-05-24', 'birthdate': None, 'name_prefix': None, 'country_code': 'ML'}\n"
     ]
    }
   ],
   "source": [
    "for i in res_computed[0]:\n",
    "\tprint(i[0])"
   ],
   "metadata": {
    "collapsed": false,
    "pycharm": {
     "name": "#%%\n"
    }
   }
  },
  {
   "cell_type": "markdown",
   "metadata": {},
   "source": [
    "3. Задекорируйте функцию из задания 1 при помощи `dask.delayed` и создайте список `reviewers`, состоящий из 5 объектов `delayed` (по одному объекту на файл). Из списка объектов `delayed`, создайте `dask.bag` при помощи метода `db.from_delayed`. Добавьте ключ `birth_year`, в котором хранится год рождения человека. Оставьте в выборке только тех людей, которые __наверняка__ моложе 1980 года. Преобразуйте поле `id` к целому типу."
   ]
  },
  {
   "cell_type": "code",
   "execution_count": 5,
   "outputs": [
    {
     "data": {
      "text/plain": "Delayed('xml_to_dict-d4acf7c3-1ad6-481e-87ef-dd19deafa6ed')"
     },
     "execution_count": 5,
     "metadata": {},
     "output_type": "execute_result"
    }
   ],
   "source": [
    "delayed(xml_to_dict)"
   ],
   "metadata": {
    "collapsed": false,
    "pycharm": {
     "name": "#%%\n"
    }
   }
  },
  {
   "cell_type": "code",
   "execution_count": 99,
   "outputs": [
    {
     "data": {
      "text/plain": "[Delayed('xml_to_dict-07299a3c-bb14-4f45-abc2-1258e670edeb'),\n Delayed('xml_to_dict-50f5bf65-6f17-4cbf-b44f-352d44ff2569'),\n Delayed('xml_to_dict-2a8bd9fd-c761-442f-9052-24d6bc7f0e21'),\n Delayed('xml_to_dict-9332e34f-db11-461e-85f9-20b422ae302f'),\n Delayed('xml_to_dict-2381f680-0f5c-446c-8d82-f9f21ce21c20')]"
     },
     "execution_count": 99,
     "metadata": {},
     "output_type": "execute_result"
    }
   ],
   "source": [
    "reviewers = []\n",
    "# for filename in os.listdir(\"14_delayed_data/reviewers_full/\"):\n",
    "# \twith open(\"14_delayed_data/reviewers_full/\" + filename, \"r\") as file:\n",
    "# \t\tprint(file)\n",
    "\n",
    "for i in range(len(os.listdir(\"14_delayed_data/reviewers_full/\"))):\n",
    "\treviewers.append(dask.delayed(xml_to_dict)(\"14_delayed_data/reviewers_full/reviewers_full_\"+str(i)+\".xml\"))\n",
    "\n",
    "reviewers"
   ],
   "metadata": {
    "collapsed": false,
    "pycharm": {
     "name": "#%%\n"
    }
   }
  },
  {
   "cell_type": "code",
   "execution_count": 29,
   "outputs": [
    {
     "data": {
      "text/plain": "['14_delayed_data/reviewers_full/reviewers_full_0.xml',\n '14_delayed_data/reviewers_full/reviewers_full_1.xml',\n '14_delayed_data/reviewers_full/reviewers_full_2.xml',\n '14_delayed_data/reviewers_full/reviewers_full_3.xml',\n '14_delayed_data/reviewers_full/reviewers_full_4.xml']"
     },
     "execution_count": 29,
     "metadata": {},
     "output_type": "execute_result"
    }
   ],
   "source": [
    "pa = []\n",
    "for filename in os.listdir(\"14_delayed_data/reviewers_full/\"):\n",
    "\tpa.append(\"14_delayed_data/reviewers_full/\" + filename)\n",
    "\n",
    "pa"
   ],
   "metadata": {
    "collapsed": false,
    "pycharm": {
     "name": "#%%\n"
    }
   }
  },
  {
   "cell_type": "code",
   "execution_count": 31,
   "outputs": [
    {
     "data": {
      "text/plain": "[Delayed('xml_to_dict-048777b4-bcff-4586-bd39-1edd4cf6a3c3'),\n Delayed('xml_to_dict-1ed76912-3a4a-49c8-a83d-d5dd13cadb27'),\n Delayed('xml_to_dict-d2bdd140-e32c-4c13-b2b5-87442bf390de'),\n Delayed('xml_to_dict-e7b633cc-5988-4fa6-bad4-498d77814464'),\n Delayed('xml_to_dict-028c368d-8a87-4f74-a22a-bd38c318d8ea')]"
     },
     "execution_count": 31,
     "metadata": {},
     "output_type": "execute_result"
    }
   ],
   "source": [
    "dbag = [delayed(xml_to_dict)(fn) for fn in pa]\n",
    "dbag"
   ],
   "metadata": {
    "collapsed": false,
    "pycharm": {
     "name": "#%%\n"
    }
   }
  },
  {
   "cell_type": "code",
   "execution_count": 38,
   "outputs": [
    {
     "ename": "TypeError",
     "evalue": "Delayed objects of unspecified length are not iterable",
     "output_type": "error",
     "traceback": [
      "\u001B[1;31m---------------------------------------------------------------------------\u001B[0m",
      "\u001B[1;31mTypeError\u001B[0m                                 Traceback (most recent call last)",
      "\u001B[1;32m~\\AppData\\Local\\Temp/ipykernel_29528/1325758455.py\u001B[0m in \u001B[0;36m<module>\u001B[1;34m\u001B[0m\n\u001B[1;32m----> 1\u001B[1;33m \u001B[1;32mfor\u001B[0m \u001B[0mi\u001B[0m \u001B[1;32min\u001B[0m \u001B[0mdbag\u001B[0m\u001B[1;33m[\u001B[0m\u001B[1;36m0\u001B[0m\u001B[1;33m]\u001B[0m\u001B[1;33m:\u001B[0m\u001B[1;33m\u001B[0m\u001B[1;33m\u001B[0m\u001B[0m\n\u001B[0m\u001B[0;32m      2\u001B[0m         \u001B[0mprint\u001B[0m\u001B[1;33m(\u001B[0m\u001B[0mi\u001B[0m\u001B[1;33m)\u001B[0m\u001B[1;33m\u001B[0m\u001B[1;33m\u001B[0m\u001B[0m\n\u001B[0;32m      3\u001B[0m         \u001B[1;32mbreak\u001B[0m\u001B[1;33m\u001B[0m\u001B[1;33m\u001B[0m\u001B[0m\n",
      "\u001B[1;32mf:\\programming\\python\\bigdatapt-bdpt-\\venv39\\lib\\site-packages\\dask\\delayed.py\u001B[0m in \u001B[0;36m__iter__\u001B[1;34m(self)\u001B[0m\n\u001B[0;32m    569\u001B[0m     \u001B[1;32mdef\u001B[0m \u001B[0m__iter__\u001B[0m\u001B[1;33m(\u001B[0m\u001B[0mself\u001B[0m\u001B[1;33m)\u001B[0m\u001B[1;33m:\u001B[0m\u001B[1;33m\u001B[0m\u001B[1;33m\u001B[0m\u001B[0m\n\u001B[0;32m    570\u001B[0m         \u001B[1;32mif\u001B[0m \u001B[0mself\u001B[0m\u001B[1;33m.\u001B[0m\u001B[0m_length\u001B[0m \u001B[1;32mis\u001B[0m \u001B[1;32mNone\u001B[0m\u001B[1;33m:\u001B[0m\u001B[1;33m\u001B[0m\u001B[1;33m\u001B[0m\u001B[0m\n\u001B[1;32m--> 571\u001B[1;33m             \u001B[1;32mraise\u001B[0m \u001B[0mTypeError\u001B[0m\u001B[1;33m(\u001B[0m\u001B[1;34m\"Delayed objects of unspecified length are not iterable\"\u001B[0m\u001B[1;33m)\u001B[0m\u001B[1;33m\u001B[0m\u001B[1;33m\u001B[0m\u001B[0m\n\u001B[0m\u001B[0;32m    572\u001B[0m         \u001B[1;32mfor\u001B[0m \u001B[0mi\u001B[0m \u001B[1;32min\u001B[0m \u001B[0mrange\u001B[0m\u001B[1;33m(\u001B[0m\u001B[0mself\u001B[0m\u001B[1;33m.\u001B[0m\u001B[0m_length\u001B[0m\u001B[1;33m)\u001B[0m\u001B[1;33m:\u001B[0m\u001B[1;33m\u001B[0m\u001B[1;33m\u001B[0m\u001B[0m\n\u001B[0;32m    573\u001B[0m             \u001B[1;32myield\u001B[0m \u001B[0mself\u001B[0m\u001B[1;33m[\u001B[0m\u001B[0mi\u001B[0m\u001B[1;33m]\u001B[0m\u001B[1;33m\u001B[0m\u001B[1;33m\u001B[0m\u001B[0m\n",
      "\u001B[1;31mTypeError\u001B[0m: Delayed objects of unspecified length are not iterable"
     ]
    }
   ],
   "source": [
    "for i in dbag[0]:\n",
    "\tprint(i)\n",
    "\tbreak"
   ],
   "metadata": {
    "collapsed": false,
    "pycharm": {
     "name": "#%%\n"
    }
   }
  },
  {
   "cell_type": "code",
   "execution_count": 39,
   "outputs": [
    {
     "data": {
      "text/plain": "Delayed('xml_to_dict-048777b4-bcff-4586-bd39-1edd4cf6a3c3')"
     },
     "execution_count": 39,
     "metadata": {},
     "output_type": "execute_result"
    }
   ],
   "source": [
    "dbag[0]"
   ],
   "metadata": {
    "collapsed": false,
    "pycharm": {
     "name": "#%%\n"
    }
   }
  },
  {
   "cell_type": "code",
   "execution_count": 40,
   "outputs": [
    {
     "data": {
      "text/plain": "dask.bag<bag-from-delayed, npartitions=5>"
     },
     "execution_count": 40,
     "metadata": {},
     "output_type": "execute_result"
    }
   ],
   "source": [
    "dbag = db.from_delayed(reviewers)\n",
    "dbag"
   ],
   "metadata": {
    "collapsed": false,
    "pycharm": {
     "name": "#%%\n"
    }
   }
  },
  {
   "cell_type": "code",
   "execution_count": 45,
   "outputs": [
    {
     "data": {
      "text/plain": "dask.bag<lambda, npartitions=5>"
     },
     "execution_count": 45,
     "metadata": {},
     "output_type": "execute_result"
    }
   ],
   "source": [
    "def func(x):\n",
    "\tprint(type(x))\n",
    "\treturn 0\n",
    "\n",
    "dbag.map(lambda x: func(x))"
   ],
   "metadata": {
    "collapsed": false,
    "pycharm": {
     "name": "#%%\n"
    }
   }
  },
  {
   "cell_type": "code",
   "execution_count": 49,
   "outputs": [
    {
     "data": {
      "image/png": "[encoded data removed]",
      "text/plain": "<IPython.core.display.Image object>"
     },
     "execution_count": 49,
     "metadata": {},
     "output_type": "execute_result"
    }
   ],
   "source": [
    "dbag.visualize()"
   ],
   "metadata": {
    "collapsed": false,
    "pycharm": {
     "name": "#%%\n"
    }
   }
  },
  {
   "cell_type": "code",
   "execution_count": 100,
   "outputs": [
    {
     "data": {
      "text/plain": "dask.bag<bag-from-delayed, npartitions=5>"
     },
     "execution_count": 100,
     "metadata": {},
     "output_type": "execute_result"
    }
   ],
   "source": [
    "dbag = db.from_delayed(reviewers)\n",
    "dbag"
   ],
   "metadata": {
    "collapsed": false,
    "pycharm": {
     "name": "#%%\n"
    }
   }
  },
  {
   "cell_type": "code",
   "execution_count": 121,
   "outputs": [
    {
     "data": {
      "text/plain": "({'id': '556011',\n  'username': 'gabrielacalhoun',\n  'name': None,\n  'sex': 'F',\n  'country': None,\n  'mail': None,\n  'registered': None,\n  'birthdate': '1988-01-25',\n  'name_prefix': 'Mrs.',\n  'country_code': None},)"
     },
     "execution_count": 121,
     "metadata": {},
     "output_type": "execute_result"
    }
   ],
   "source": [
    "dbag.take(1)"
   ],
   "metadata": {
    "collapsed": false,
    "pycharm": {
     "name": "#%%\n"
    }
   }
  },
  {
   "cell_type": "code",
   "execution_count": 153,
   "outputs": [
    {
     "data": {
      "text/plain": "({'id': 556011,\n  'username': 'gabrielacalhoun',\n  'name': None,\n  'sex': 'F',\n  'country': None,\n  'mail': None,\n  'registered': None,\n  'birthdate': '1988-01-25',\n  'name_prefix': 'Mrs.',\n  'country_code': None,\n  'birth_year': 1988},\n {'id': 1251087,\n  'username': 'qbaxter',\n  'name': None,\n  'sex': None,\n  'country': 'Norway',\n  'mail': 'qware@gmail.com',\n  'registered': None,\n  'birthdate': '1985-01-19',\n  'name_prefix': None,\n  'country_code': 'NO',\n  'birth_year': 1985},\n {'id': 250427,\n  'username': 'karen27',\n  'name': 'Jennifer Horne',\n  'sex': None,\n  'country': 'Cuba',\n  'mail': 'wjarvis@yahoo.com',\n  'registered': '2013-11-20',\n  'birthdate': '2007-04-30',\n  'name_prefix': None,\n  'country_code': 'CU',\n  'birth_year': 2007},\n {'id': 452355,\n  'username': 'smullen',\n  'name': 'Cynthia Johnson',\n  'sex': 'F',\n  'country': None,\n  'mail': None,\n  'registered': None,\n  'birthdate': '2005-03-29',\n  'name_prefix': 'Miss',\n  'country_code': None,\n  'birth_year': 2005},\n {'id': 2056668,\n  'username': 'franklinhancock',\n  'name': 'Michele Richards',\n  'sex': None,\n  'country': 'Namibia',\n  'mail': 'claudiamccoy@gmail.com',\n  'registered': '2009-08-12',\n  'birthdate': '1983-02-20',\n  'name_prefix': None,\n  'country_code': 'nan',\n  'birth_year': 1983})"
     },
     "execution_count": 153,
     "metadata": {},
     "output_type": "execute_result"
    }
   ],
   "source": [
    "def add_birth_year_and_filter(x):\n",
    "\tx[\"id\"] = int(x[\"id\"])\n",
    "\tif x[\"birthdate\"]:\n",
    "\t\tage = int(x[\"birthdate\"].split(\"-\")[0])\n",
    "\t\tx[\"birth_year\"] = age\n",
    "\t\tif age > 1980:\n",
    "\t\t\treturn x\n",
    "\n",
    "process_result = dbag.map(add_birth_year_and_filter).filter(bool)\n",
    "process_result.take(5)"
   ],
   "metadata": {
    "collapsed": false,
    "pycharm": {
     "name": "#%%\n"
    }
   }
  },
  {
   "cell_type": "markdown",
   "metadata": {},
   "source": [
    "4. Из `dask.bag`, полученного в задании 3, создайте `dask.dataframe` при помощи метода `bag.to_dataframe`. Укажите столбец `id` в качестве индекса."
   ]
  },
  {
   "cell_type": "code",
   "execution_count": 148,
   "outputs": [
    {
     "data": {
      "text/plain": "Dask DataFrame Structure:\n                  id username    name     sex country    mail registered birthdate name_prefix country_code birth_year\nnpartitions=5                                                                                                         \n               int64   object  object  object  object  object     object    object      object       object      int64\n                 ...      ...     ...     ...     ...     ...        ...       ...         ...          ...        ...\n...              ...      ...     ...     ...     ...     ...        ...       ...         ...          ...        ...\n                 ...      ...     ...     ...     ...     ...        ...       ...         ...          ...        ...\n                 ...      ...     ...     ...     ...     ...        ...       ...         ...          ...        ...\nDask Name: to_dataframe, 15 tasks",
      "text/html": "<div><strong>Dask DataFrame Structure:</strong></div>\n<div>\n<style scoped>\n    .dataframe tbody tr th:only-of-type {\n        vertical-align: middle;\n    }\n\n    .dataframe tbody tr th {\n        vertical-align: top;\n    }\n\n    .dataframe thead th {\n        text-align: right;\n    }\n</style>\n<table border=\"1\" class=\"dataframe\">\n  <thead>\n    <tr style=\"text-align: right;\">\n      <th></th>\n      <th>id</th>\n      <th>username</th>\n      <th>name</th>\n      <th>sex</th>\n      <th>country</th>\n      <th>mail</th>\n      <th>registered</th>\n      <th>birthdate</th>\n      <th>name_prefix</th>\n      <th>country_code</th>\n      <th>birth_year</th>\n    </tr>\n    <tr>\n      <th>npartitions=5</th>\n      <th></th>\n      <th></th>\n      <th></th>\n      <th></th>\n      <th></th>\n      <th></th>\n      <th></th>\n      <th></th>\n      <th></th>\n      <th></th>\n      <th></th>\n    </tr>\n  </thead>\n  <tbody>\n    <tr>\n      <th></th>\n      <td>int64</td>\n      <td>object</td>\n      <td>object</td>\n      <td>object</td>\n      <td>object</td>\n      <td>object</td>\n      <td>object</td>\n      <td>object</td>\n      <td>object</td>\n      <td>object</td>\n      <td>int64</td>\n    </tr>\n    <tr>\n      <th></th>\n      <td>...</td>\n      <td>...</td>\n      <td>...</td>\n      <td>...</td>\n      <td>...</td>\n      <td>...</td>\n      <td>...</td>\n      <td>...</td>\n      <td>...</td>\n      <td>...</td>\n      <td>...</td>\n    </tr>\n    <tr>\n      <th>...</th>\n      <td>...</td>\n      <td>...</td>\n      <td>...</td>\n      <td>...</td>\n      <td>...</td>\n      <td>...</td>\n      <td>...</td>\n      <td>...</td>\n      <td>...</td>\n      <td>...</td>\n      <td>...</td>\n    </tr>\n    <tr>\n      <th></th>\n      <td>...</td>\n      <td>...</td>\n      <td>...</td>\n      <td>...</td>\n      <td>...</td>\n      <td>...</td>\n      <td>...</td>\n      <td>...</td>\n      <td>...</td>\n      <td>...</td>\n      <td>...</td>\n    </tr>\n    <tr>\n      <th></th>\n      <td>...</td>\n      <td>...</td>\n      <td>...</td>\n      <td>...</td>\n      <td>...</td>\n      <td>...</td>\n      <td>...</td>\n      <td>...</td>\n      <td>...</td>\n      <td>...</td>\n      <td>...</td>\n    </tr>\n  </tbody>\n</table>\n</div>\n<div>Dask Name: to_dataframe, 15 tasks</div>"
     },
     "execution_count": 148,
     "metadata": {},
     "output_type": "execute_result"
    }
   ],
   "source": [
    "process_result.to_dataframe()#.reset_index().set_index(\"id\")"
   ],
   "metadata": {
    "collapsed": false,
    "pycharm": {
     "name": "#%%\n"
    }
   }
  },
  {
   "cell_type": "code",
   "execution_count": 154,
   "outputs": [
    {
     "data": {
      "text/plain": "Dask DataFrame Structure:\n               index username    name     sex country    mail registered birthdate name_prefix country_code birth_year\nnpartitions=5                                                                                                         \n1676           int64   object  object  object  object  object     object    object      object       object      int64\n356877           ...      ...     ...     ...     ...     ...        ...       ...         ...          ...        ...\n...              ...      ...     ...     ...     ...     ...        ...       ...         ...          ...        ...\n2000186826       ...      ...     ...     ...     ...     ...        ...       ...         ...          ...        ...\n2002372706       ...      ...     ...     ...     ...     ...        ...       ...         ...          ...        ...\nDask Name: sort_index, 57 tasks",
      "text/html": "<div><strong>Dask DataFrame Structure:</strong></div>\n<div>\n<style scoped>\n    .dataframe tbody tr th:only-of-type {\n        vertical-align: middle;\n    }\n\n    .dataframe tbody tr th {\n        vertical-align: top;\n    }\n\n    .dataframe thead th {\n        text-align: right;\n    }\n</style>\n<table border=\"1\" class=\"dataframe\">\n  <thead>\n    <tr style=\"text-align: right;\">\n      <th></th>\n      <th>index</th>\n      <th>username</th>\n      <th>name</th>\n      <th>sex</th>\n      <th>country</th>\n      <th>mail</th>\n      <th>registered</th>\n      <th>birthdate</th>\n      <th>name_prefix</th>\n      <th>country_code</th>\n      <th>birth_year</th>\n    </tr>\n    <tr>\n      <th>npartitions=5</th>\n      <th></th>\n      <th></th>\n      <th></th>\n      <th></th>\n      <th></th>\n      <th></th>\n      <th></th>\n      <th></th>\n      <th></th>\n      <th></th>\n      <th></th>\n    </tr>\n  </thead>\n  <tbody>\n    <tr>\n      <th>1676</th>\n      <td>int64</td>\n      <td>object</td>\n      <td>object</td>\n      <td>object</td>\n      <td>object</td>\n      <td>object</td>\n      <td>object</td>\n      <td>object</td>\n      <td>object</td>\n      <td>object</td>\n      <td>int64</td>\n    </tr>\n    <tr>\n      <th>356877</th>\n      <td>...</td>\n      <td>...</td>\n      <td>...</td>\n      <td>...</td>\n      <td>...</td>\n      <td>...</td>\n      <td>...</td>\n      <td>...</td>\n      <td>...</td>\n      <td>...</td>\n      <td>...</td>\n    </tr>\n    <tr>\n      <th>...</th>\n      <td>...</td>\n      <td>...</td>\n      <td>...</td>\n      <td>...</td>\n      <td>...</td>\n      <td>...</td>\n      <td>...</td>\n      <td>...</td>\n      <td>...</td>\n      <td>...</td>\n      <td>...</td>\n    </tr>\n    <tr>\n      <th>2000186826</th>\n      <td>...</td>\n      <td>...</td>\n      <td>...</td>\n      <td>...</td>\n      <td>...</td>\n      <td>...</td>\n      <td>...</td>\n      <td>...</td>\n      <td>...</td>\n      <td>...</td>\n      <td>...</td>\n    </tr>\n    <tr>\n      <th>2002372706</th>\n      <td>...</td>\n      <td>...</td>\n      <td>...</td>\n      <td>...</td>\n      <td>...</td>\n      <td>...</td>\n      <td>...</td>\n      <td>...</td>\n      <td>...</td>\n      <td>...</td>\n      <td>...</td>\n    </tr>\n  </tbody>\n</table>\n</div>\n<div>Dask Name: sort_index, 57 tasks</div>"
     },
     "execution_count": 154,
     "metadata": {},
     "output_type": "execute_result"
    }
   ],
   "source": [
    "daskdf = process_result.to_dataframe().reset_index().set_index(\"id\")\n",
    "daskdf"
   ],
   "metadata": {
    "collapsed": false,
    "pycharm": {
     "name": "#%%\n"
    }
   }
  },
  {
   "cell_type": "markdown",
   "metadata": {},
   "source": [
    "5. Назовем отзыв негативным, если оценка равна 0, 1 или 2. Загрузите данные о негативных отзывах из файлов архива `reviews_full` (__ЛР12__) в виде `dask.DataFrame`. Посчитайте количество отзывов с группировкой по пользователю, оставившему отзыв. Объедините результат с таблицей, полученной в задаче 4."
   ]
  },
  {
   "cell_type": "code",
   "execution_count": null,
   "outputs": [
    {
     "ename": "FileNotFoundError",
     "evalue": "[Errno 2] No such file or directory: './Lesson12/reviews_full/reviews_0'",
     "output_type": "error",
     "traceback": [
      "\u001B[1;31m---------------------------------------------------------------------------\u001B[0m",
      "\u001B[1;31mFileNotFoundError\u001B[0m                         Traceback (most recent call last)",
      "\u001B[1;32m~\\AppData\\Local\\Temp/ipykernel_29528/3482201464.py\u001B[0m in \u001B[0;36m<module>\u001B[1;34m\u001B[0m\n\u001B[1;32m----> 1\u001B[1;33m \u001B[1;32mwith\u001B[0m \u001B[0mopen\u001B[0m\u001B[1;33m(\u001B[0m\u001B[1;34m\"./Lesson12/reviews_full/reviews_0\"\u001B[0m\u001B[1;33m,\u001B[0m \u001B[1;34m\"r\"\u001B[0m\u001B[1;33m)\u001B[0m \u001B[1;32mas\u001B[0m \u001B[0mf\u001B[0m\u001B[1;33m:\u001B[0m\u001B[1;33m\u001B[0m\u001B[1;33m\u001B[0m\u001B[0m\n\u001B[0m\u001B[0;32m      2\u001B[0m         \u001B[0mf\u001B[0m\u001B[1;33m\u001B[0m\u001B[1;33m\u001B[0m\u001B[0m\n",
      "\u001B[1;31mFileNotFoundError\u001B[0m: [Errno 2] No such file or directory: './Lesson12/reviews_full/reviews_0'"
     ]
    }
   ],
   "source": [
    "with open(\"./Lesson12/reviews_full/reviews_0\", \"r\") as f:\n",
    "\tpass"
   ],
   "metadata": {
    "collapsed": false,
    "pycharm": {
     "name": "#%%\n"
    }
   }
  },
  {
   "cell_type": "markdown",
   "metadata": {},
   "source": [
    "#### [версия 2]\n",
    "* Уточнена формулировка задачи 1"
   ]
  },
  {
   "cell_type": "code",
   "execution_count": null,
   "metadata": {},
   "outputs": [],
   "source": []
  }
 ],
 "metadata": {
  "kernelspec": {
   "display_name": "Python 3 (ipykernel)",
   "language": "python",
   "name": "python3"
  },
  "language_info": {
   "codemirror_mode": {
    "name": "ipython",
    "version": 3
   },
   "file_extension": ".py",
   "mimetype": "text/x-python",
   "name": "python",
   "nbconvert_exporter": "python",
   "pygments_lexer": "ipython3",
   "version": "3.8.3"
  }
 },
 "nbformat": 4,
 "nbformat_minor": 4
}