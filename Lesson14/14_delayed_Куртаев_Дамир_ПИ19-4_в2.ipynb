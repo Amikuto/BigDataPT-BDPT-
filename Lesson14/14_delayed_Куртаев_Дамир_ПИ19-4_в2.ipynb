{
 "cells": [
  {
   "cell_type": "markdown",
   "metadata": {},
   "source": [
    "# Dask Delayed"
   ]
  },
  {
   "cell_type": "markdown",
   "metadata": {},
   "source": [
    "Материалы:\n",
    "* Макрушин С.В. Лекция 13: Dask Delayed\n",
    "* https://docs.dask.org/en/latest/delayed.html\n",
    "* Jesse C. Daniel. Data Science with Python and Dask.\n"
   ]
  },
  {
   "cell_type": "markdown",
   "metadata": {},
   "source": [
    "## Задачи для совместного разбора"
   ]
  },
  {
   "cell_type": "markdown",
   "metadata": {},
   "source": [
    "![](https://i.imgur.com/AwiN8y6.png)\n",
    "![](https://i.imgur.com/ceY6guU.png)"
   ]
  },
  {
   "cell_type": "markdown",
   "metadata": {},
   "source": [
    "1. Напишите 2 функции, имитирующие CPU-bound задачу и IO-bound задачу:\n",
    "\n",
    "`cpu_task()`: генерирует 100 тыс. случайных чисел и возвращает их сумму (без использования `numpy`)\n",
    "\n",
    "`io_task()`: \"спит\" 0.1 сек, затем генерирует случайное число и возвращает его\n",
    "\n",
    "Замерьте время выполнения 100 последовательных вызовов каждой из этих функций. Распараллелив вычисления при помощи `dask.delayed`, сократите время выполнения. Исследуйте, как зависит время вычислений от выбранного планировщика `scheduler`."
   ]
  },
  {
   "cell_type": "code",
   "execution_count": 1,
   "outputs": [],
   "source": [
    "import random\n",
    "import time\n",
    "\n",
    "import dask.bag\n",
    "\n",
    "\n",
    "def cpu_task():\n",
    "\tlst = [random.randint(0, 10) for _ in range(100_000)]\n",
    "\treturn sum(lst)\n",
    "\n",
    "def io_task():\n",
    "\ttime.sleep(0.1)\n",
    "\treturn random.randint(0, 10)"
   ],
   "metadata": {
    "collapsed": false,
    "pycharm": {
     "name": "#%%\n"
    }
   }
  },
  {
   "cell_type": "code",
   "execution_count": 2,
   "outputs": [
    {
     "name": "stdout",
     "output_type": "stream",
     "text": [
      "Wall time: 4.07 s\n"
     ]
    }
   ],
   "source": [
    "%%time\n",
    "res = [cpu_task() for _ in range(100)]"
   ],
   "metadata": {
    "collapsed": false,
    "pycharm": {
     "name": "#%%\n"
    }
   }
  },
  {
   "cell_type": "code",
   "execution_count": 3,
   "outputs": [
    {
     "name": "stdout",
     "output_type": "stream",
     "text": [
      "Wall time: 10.8 s\n"
     ]
    }
   ],
   "source": [
    "%%time\n",
    "res = [io_task() for _ in range(100)]"
   ],
   "metadata": {
    "collapsed": false,
    "pycharm": {
     "name": "#%%\n"
    }
   }
  },
  {
   "cell_type": "code",
   "execution_count": 8,
   "outputs": [],
   "source": [
    "from dask import delayed\n",
    "from dask import compute"
   ],
   "metadata": {
    "collapsed": false,
    "pycharm": {
     "name": "#%%\n"
    }
   }
  },
  {
   "cell_type": "code",
   "execution_count": 5,
   "outputs": [],
   "source": [
    "cpu_task_delayed = delayed(cpu_task)"
   ],
   "metadata": {
    "collapsed": false,
    "pycharm": {
     "name": "#%%\n"
    }
   }
  },
  {
   "cell_type": "code",
   "execution_count": 6,
   "outputs": [
    {
     "data": {
      "text/plain": "Delayed('cpu_task-ac40120a-5ea1-41a4-a72f-fcc99c234c17')"
     },
     "execution_count": 6,
     "metadata": {},
     "output_type": "execute_result"
    }
   ],
   "source": [
    "cpu_task_delayed"
   ],
   "metadata": {
    "collapsed": false,
    "pycharm": {
     "name": "#%%\n"
    }
   }
  },
  {
   "cell_type": "code",
   "execution_count": 9,
   "outputs": [
    {
     "name": "stdout",
     "output_type": "stream",
     "text": [
      "Wall time: 4.11 s\n"
     ]
    },
    {
     "data": {
      "text/plain": "([499472,\n  499501,\n  500654,\n  499008,\n  499409,\n  501652,\n  499998,\n  500428,\n  500694,\n  500807,\n  500337,\n  500528,\n  498999,\n  500009,\n  500968,\n  500769,\n  499749,\n  500257,\n  499002,\n  500213,\n  499322,\n  499651,\n  499006,\n  499855,\n  500670,\n  499468,\n  500032,\n  500305,\n  500738,\n  500681,\n  499722,\n  499936,\n  499420,\n  499469,\n  499147,\n  498455,\n  499582,\n  500873,\n  498704,\n  499185,\n  499081,\n  499935,\n  501697,\n  499051,\n  500626,\n  498240,\n  499822,\n  500641,\n  500555,\n  499455,\n  499789,\n  500923,\n  499739,\n  500361,\n  499573,\n  500466,\n  499965,\n  499165,\n  500741,\n  498951,\n  498171,\n  501325,\n  501753,\n  500672,\n  499119,\n  497931,\n  499771,\n  500095,\n  498941,\n  499373,\n  501018,\n  500978,\n  500876,\n  499428,\n  501467,\n  500921,\n  500299,\n  498792,\n  500449,\n  502080,\n  500052,\n  500557,\n  500347,\n  498825,\n  502218,\n  500087,\n  500189,\n  499657,\n  499366,\n  500435,\n  499825,\n  500746,\n  499879,\n  499346,\n  502463,\n  501392,\n  500078,\n  499590,\n  500666,\n  499117],)"
     },
     "execution_count": 9,
     "metadata": {},
     "output_type": "execute_result"
    }
   ],
   "source": [
    "%%time\n",
    "res = [cpu_task_delayed() for _ in range(100)]\n",
    "compute(res)"
   ],
   "metadata": {
    "collapsed": false,
    "pycharm": {
     "name": "#%%\n"
    }
   }
  },
  {
   "cell_type": "code",
   "execution_count": 10,
   "outputs": [
    {
     "name": "stdout",
     "output_type": "stream",
     "text": [
      "Wall time: 1.17 s\n"
     ]
    }
   ],
   "source": [
    "%%time\n",
    "res = [cpu_task_delayed() for _ in range(100)]\n",
    "res_computed = compute(res, scheduler='multiprocessing')"
   ],
   "metadata": {
    "collapsed": false,
    "pycharm": {
     "name": "#%%\n"
    }
   }
  },
  {
   "cell_type": "code",
   "execution_count": 11,
   "outputs": [],
   "source": [
    "io_task_delayed = delayed(io_task)"
   ],
   "metadata": {
    "collapsed": false,
    "pycharm": {
     "name": "#%%\n"
    }
   }
  },
  {
   "cell_type": "code",
   "execution_count": 13,
   "outputs": [
    {
     "name": "stdout",
     "output_type": "stream",
     "text": [
      "Wall time: 756 ms\n"
     ]
    }
   ],
   "source": [
    "%%time\n",
    "res = [io_task_delayed() for _ in range(100)]\n",
    "res_computed = compute(res, scheduler='threading')"
   ],
   "metadata": {
    "collapsed": false,
    "pycharm": {
     "name": "#%%\n"
    }
   }
  },
  {
   "cell_type": "code",
   "execution_count": 14,
   "outputs": [
    {
     "name": "stdout",
     "output_type": "stream",
     "text": [
      "Wall time: 1.44 s\n"
     ]
    }
   ],
   "source": [
    "%%time\n",
    "res = [io_task_delayed() for _ in range(100)]\n",
    "res_computed = compute(res, scheduler='multiprocessing')"
   ],
   "metadata": {
    "collapsed": false,
    "pycharm": {
     "name": "#%%\n"
    }
   }
  },
  {
   "cell_type": "markdown",
   "metadata": {},
   "source": [
    "## Лабораторная работа 14"
   ]
  },
  {
   "cell_type": "markdown",
   "metadata": {},
   "source": [
    "1. Напишите функцию, которая считывает файл формата xml из каталога `reviewers_full` и по данным этого файла формирует список словарей, содержащих следующие ключи: `id`, `username`, `name`, `sex`, `country`, `mail`, `registered`, `birthdate`, `name_prefix`, `country_code`. Часть из этих значений в исходном файле хранится в виде тэгов, часть - в виде атрибутов тэгов. Для конкретного человека какие-то из этих ключей могут отсутствовать. \n",
    "\n"
   ]
  },
  {
   "cell_type": "code",
   "execution_count": 59,
   "outputs": [
    {
     "data": {
      "text/plain": "[{'id': <id>556011</id>,\n  'username': <username>gabrielacalhoun</username>,\n  'name': None,\n  'sex': <sex>F</sex>,\n  'country': None,\n  'mail': None,\n  'registered': None,\n  'birthdate': <birthdate>1988-01-25</birthdate>,\n  'name_prefix': None,\n  'country_code': None},\n {'id': <id>1251087</id>,\n  'username': <username>qbaxter</username>,\n  'name': None,\n  'sex': None,\n  'country': <country code=\"NO\">Norway</country>,\n  'mail': <mail>qware@gmail.com</mail>,\n  'registered': None,\n  'birthdate': <birthdate>1985-01-19</birthdate>,\n  'name_prefix': None,\n  'country_code': <country code=\"NO\">Norway</country>},\n {'id': <id>537188</id>,\n  'username': <username>crosschristopher</username>,\n  'name': <name>Dana Moore</name>,\n  'sex': None,\n  'country': None,\n  'mail': <mail>stephaniestrong@yahoo.com</mail>,\n  'registered': <registered>2018-11-21</registered>,\n  'birthdate': <birthdate>1955-07-03</birthdate>,\n  'name_prefix': None,\n  'country_code': None},\n {'id': <id>250427</id>,\n  'username': <username>karen27</username>,\n  'name': <name>Jennifer Horne</name>,\n  'sex': None,\n  'country': <country code=\"CU\">Cuba</country>,\n  'mail': <mail>wjarvis@yahoo.com</mail>,\n  'registered': <registered>2013-11-20</registered>,\n  'birthdate': <birthdate>2007-04-30</birthdate>,\n  'name_prefix': None,\n  'country_code': <country code=\"CU\">Cuba</country>},\n {'id': <id>2945188</id>,\n  'username': <username>gambledanielle</username>,\n  'name': <name>Henry Harris</name>,\n  'sex': None,\n  'country': <country code=\"RS\">Serbia</country>,\n  'mail': None,\n  'registered': <registered>2011-04-08</registered>,\n  'birthdate': None,\n  'name_prefix': None,\n  'country_code': <country code=\"RS\">Serbia</country>},\n {'id': <id>452355</id>,\n  'username': <username>smullen</username>,\n  'name': <name>Cynthia Johnson</name>,\n  'sex': <sex>F</sex>,\n  'country': None,\n  'mail': None,\n  'registered': None,\n  'birthdate': <birthdate>2005-03-29</birthdate>,\n  'name_prefix': None,\n  'country_code': None},\n {'id': <id>382203</id>,\n  'username': <username>barrettmichael</username>,\n  'name': <name>Margaret Banks</name>,\n  'sex': None,\n  'country': None,\n  'mail': <mail>christinaday@hotmail.com</mail>,\n  'registered': None,\n  'birthdate': <birthdate>1971-11-15</birthdate>,\n  'name_prefix': None,\n  'country_code': None},\n {'id': <id>81563</id>,\n  'username': <username>morrischarles</username>,\n  'name': None,\n  'sex': <sex>F</sex>,\n  'country': <country code=\"ZM\">Zambia</country>,\n  'mail': None,\n  'registered': <registered>2014-09-28</registered>,\n  'birthdate': None,\n  'name_prefix': None,\n  'country_code': <country code=\"ZM\">Zambia</country>},\n {'id': <id>1355079</id>,\n  'username': <username>osalazar</username>,\n  'name': None,\n  'sex': <sex>F</sex>,\n  'country': None,\n  'mail': <mail>justintyler@hotmail.com</mail>,\n  'registered': <registered>2009-08-02</registered>,\n  'birthdate': None,\n  'name_prefix': None,\n  'country_code': None},\n {'id': <id>185926</id>,\n  'username': <username>juanmontoya</username>,\n  'name': None,\n  'sex': <sex>M</sex>,\n  'country': <country code=\"AW\">Aruba</country>,\n  'mail': None,\n  'registered': <registered>2016-07-16</registered>,\n  'birthdate': None,\n  'name_prefix': None,\n  'country_code': <country code=\"AW\">Aruba</country>}]"
     },
     "execution_count": 59,
     "metadata": {},
     "output_type": "execute_result"
    }
   ],
   "source": [
    "from bs4 import BeautifulSoup as bs\n",
    "\n",
    "# soup = bs(xml_text, \"xml\")\n",
    "user_list = []\n",
    "\n",
    "content = []\n",
    "with open(\"14_delayed_data/reviewers_full/reviewers_full_0.xml\", \"r\") as f:\n",
    "\tusers = bs(f, \"lxml\")\n",
    "\trows = users.find_all(\"user\")\n",
    "\tc = 0\n",
    "\tfor i in rows:\n",
    "\t\t# try:\n",
    "\t\tuser_dict = {\n",
    "\t\t\t\"id\": i.find(\"id\"),\n",
    "\t\t\t\"username\": i.find(\"username\"),\n",
    "\t\t\t\"name\": i.find(\"name\"),\n",
    "\t\t\t\"sex\": i.find(\"sex\"),\n",
    "\t\t\t\"country\": i.find(\"country\"),\n",
    "\t\t\t\"mail\": i.find(\"mail\"),\n",
    "\t\t\t\"registered\": i.find(\"registered\"),\n",
    "\t\t\t\"birthdate\": i.find(\"birthdate\"),\n",
    "\t\t\t\"name_prefix\": i.find(\"user\"),\n",
    "\t\t\t\"country_code\": i.find(\"country\")\n",
    "\t\t}\n",
    "\t\t# except Exception as e:\n",
    "\t\t# \te\n",
    "\t\tuser_list.append(user_dict)\n",
    "\t\tc += 1\n",
    "\t\tif c == 10:\n",
    "\t\t\tbreak\n",
    "user_list"
   ],
   "metadata": {
    "collapsed": false,
    "pycharm": {
     "name": "#%%\n"
    }
   }
  },
  {
   "cell_type": "code",
   "execution_count": 1,
   "outputs": [],
   "source": [
    "import os\n",
    "import xml.etree.ElementTree as ET\n",
    "import dask\n",
    "from dask import delayed\n",
    "from dask import bag as db\n",
    "from dask import dataframe as df\n",
    "from dask import compute\n",
    "from pprint import pp"
   ],
   "metadata": {
    "collapsed": false,
    "pycharm": {
     "name": "#%%\n"
    }
   }
  },
  {
   "cell_type": "code",
   "execution_count": 2,
   "outputs": [],
   "source": [
    "def xml_to_dict(file):\n",
    "\ttree = ET.parse(file)\n",
    "\troot = tree.getroot()\n",
    "\tuser_list = []\n",
    "\tfor child in root.findall('user'):\n",
    "\t\tuser_dict = {\n",
    "\t\t\t\t\"id\": None,\n",
    "\t\t\t\t\"username\": None,\n",
    "\t\t\t\t\"name\": None,\n",
    "\t\t\t\t\"sex\": None,\n",
    "\t\t\t\t\"country\": None,\n",
    "\t\t\t\t\"mail\": None,\n",
    "\t\t\t\t\"registered\": None,\n",
    "\t\t\t\t\"birthdate\": None,\n",
    "\t\t\t\t\"name_prefix\": None,\n",
    "\t\t\t\t\"country_code\": None,\n",
    "\t\t\t}\n",
    "\n",
    "\t\ttry:\n",
    "\t\t\tuser_dict[\"id\"] = child.find(\"id\").text\n",
    "\t\texcept:\n",
    "\t\t\tpass\n",
    "\n",
    "\t\ttry:\n",
    "\t\t\tuser_dict[\"username\"] = child.find(\"username\").text\n",
    "\t\texcept:\n",
    "\t\t\tpass\n",
    "\n",
    "\t\ttry:\n",
    "\t\t\tuser_dict[\"name\"] = child.find(\"name\").text\n",
    "\t\texcept:\n",
    "\t\t\tpass\n",
    "\n",
    "\t\ttry:\n",
    "\t\t\tuser_dict[\"sex\"] = child.find(\"sex\").text\n",
    "\t\texcept:\n",
    "\t\t\tpass\n",
    "\n",
    "\t\ttry:\n",
    "\t\t\tuser_dict[\"country\"] = child.find(\"country\").text\n",
    "\t\texcept:\n",
    "\t\t\tpass\n",
    "\n",
    "\t\ttry:\n",
    "\t\t\tuser_dict[\"mail\"] = child.find(\"mail\").text\n",
    "\t\texcept:\n",
    "\t\t\tpass\n",
    "\n",
    "\t\ttry:\n",
    "\t\t\tuser_dict[\"registered\"] = child.find(\"registered\").text\n",
    "\t\texcept:\n",
    "\t\t\tpass\n",
    "\n",
    "\t\ttry:\n",
    "\t\t\tuser_dict[\"birthdate\"] = child.find(\"birthdate\").text\n",
    "\t\texcept:\n",
    "\t\t\tpass\n",
    "\n",
    "\t\ttry:\n",
    "\t\t\tuser_dict[\"name_prefix\"] = child.attrib[\"prefix\"]\n",
    "\t\texcept:\n",
    "\t\t\tpass\n",
    "\n",
    "\t\ttry:\n",
    "\t\t\tuser_dict[\"country_code\"] = child.find(\"country\").attrib[\"code\"]\n",
    "\t\texcept:\n",
    "\t\t\tpass\n",
    "\t\tuser_list.append(user_dict)\n",
    "\treturn user_list"
   ],
   "metadata": {
    "collapsed": false,
    "pycharm": {
     "name": "#%%\n"
    }
   }
  },
  {
   "cell_type": "code",
   "execution_count": 3,
   "outputs": [
    {
     "data": {
      "text/plain": "{'id': '556011',\n 'username': 'gabrielacalhoun',\n 'name': None,\n 'sex': 'F',\n 'country': None,\n 'mail': None,\n 'registered': None,\n 'birthdate': '1988-01-25',\n 'name_prefix': 'Mrs.',\n 'country_code': None}"
     },
     "execution_count": 3,
     "metadata": {},
     "output_type": "execute_result"
    }
   ],
   "source": [
    "file = \"14_delayed_data/reviewers_full/reviewers_full_0.xml\"\n",
    "ul = xml_to_dict(file)\n",
    "ul[0]"
   ],
   "metadata": {
    "collapsed": false,
    "pycharm": {
     "name": "#%%\n"
    }
   }
  },
  {
   "cell_type": "markdown",
   "metadata": {},
   "source": [
    "2. Измерьте время выполнения функции из задания 1 на всех файлах из каталога `reviewers_full`. Ускорьте время выполнения, используя `dask.delayed`."
   ]
  },
  {
   "cell_type": "code",
   "execution_count": 129,
   "outputs": [
    {
     "name": "stdout",
     "output_type": "stream",
     "text": [
      "Wall time: 2.11 s\n"
     ]
    }
   ],
   "source": [
    "%%time\n",
    "\n",
    "for filename in os.listdir(\"14_delayed_data/reviewers_full/\"):\n",
    "\twith open(\"14_delayed_data/reviewers_full/\" + filename, \"r\") as file:\n",
    "\t\tout = xml_to_dict(file)\n",
    "\t\t# print(out[0])"
   ],
   "metadata": {
    "collapsed": false,
    "pycharm": {
     "name": "#%%\n"
    }
   }
  },
  {
   "cell_type": "code",
   "execution_count": 83,
   "outputs": [
    {
     "name": "stdout",
     "output_type": "stream",
     "text": [
      "Wall time: 1.91 s\n"
     ]
    }
   ],
   "source": [
    "%%time\n",
    "lst = []\n",
    "for i in range(len(os.listdir(\"14_delayed_data/reviewers_full/\"))):\n",
    "\tlst.append(xml_to_dict(\"14_delayed_data/reviewers_full/reviewers_full_\"+str(i)+\".xml\"))\n"
   ],
   "metadata": {
    "collapsed": false,
    "pycharm": {
     "name": "#%%\n"
    }
   }
  },
  {
   "cell_type": "code",
   "execution_count": 84,
   "outputs": [
    {
     "name": "stdout",
     "output_type": "stream",
     "text": [
      "{'id': '556011', 'username': 'gabrielacalhoun', 'name': None, 'sex': 'F', 'country': None, 'mail': None, 'registered': None, 'birthdate': '1988-01-25', 'name_prefix': 'Mrs.', 'country_code': None}\n",
      "{'id': '394270', 'username': 'bridgesdennis', 'name': 'Melissa Vaughn', 'sex': 'F', 'country': None, 'mail': 'carmengonzales@hotmail.com', 'registered': None, 'birthdate': '1992-07-28', 'name_prefix': 'Mrs.', 'country_code': None}\n",
      "{'id': '2951090', 'username': 'jesse68', 'name': None, 'sex': None, 'country': 'Jamaica', 'mail': 'kaitlyn40@yahoo.com', 'registered': '2019-03-31', 'birthdate': '1980-04-30', 'name_prefix': None, 'country_code': 'JM'}\n",
      "{'id': '46542', 'username': 'dawn16', 'name': None, 'sex': None, 'country': 'Serbia', 'mail': 'murrayshannon@gmail.com', 'registered': '2019-11-24', 'birthdate': '2018-06-10', 'name_prefix': None, 'country_code': 'RS'}\n",
      "{'id': '2214951', 'username': 'nancyharrison', 'name': None, 'sex': 'M', 'country': 'Mali', 'mail': None, 'registered': '2017-05-24', 'birthdate': None, 'name_prefix': None, 'country_code': 'ML'}\n"
     ]
    }
   ],
   "source": [
    "for i in lst:\n",
    "\tprint(i[0])"
   ],
   "metadata": {
    "collapsed": false,
    "pycharm": {
     "name": "#%%\n"
    }
   }
  },
  {
   "cell_type": "code",
   "execution_count": 85,
   "outputs": [
    {
     "name": "stdout",
     "output_type": "stream",
     "text": [
      "Wall time: 2.47 s\n"
     ]
    }
   ],
   "source": [
    "%%time\n",
    "tasks = []\n",
    "for i in range(len(os.listdir(\"14_delayed_data/reviewers_full/\"))):\n",
    "\ttasks.append(dask.delayed(xml_to_dict)(\"14_delayed_data/reviewers_full/reviewers_full_\"+str(i)+\".xml\"))\n",
    "\n",
    "res_computed = compute(tasks, scheduler='threading')"
   ],
   "metadata": {
    "collapsed": false,
    "pycharm": {
     "name": "#%%\n"
    }
   }
  },
  {
   "cell_type": "code",
   "execution_count": 69,
   "outputs": [
    {
     "data": {
      "image/png": "[encoded data removed]",
      "text/plain": "<IPython.core.display.Image object>"
     },
     "execution_count": 69,
     "metadata": {},
     "output_type": "execute_result"
    }
   ],
   "source": [
    "tasks[0].visualize()"
   ],
   "metadata": {
    "collapsed": false,
    "pycharm": {
     "name": "#%%\n"
    }
   }
  },
  {
   "cell_type": "code",
   "execution_count": 81,
   "outputs": [
    {
     "name": "stdout",
     "output_type": "stream",
     "text": [
      "{'id': '556011', 'username': 'gabrielacalhoun', 'name': None, 'sex': 'F', 'country': None, 'mail': None, 'registered': None, 'birthdate': '1988-01-25', 'name_prefix': 'Mrs.', 'country_code': None}\n",
      "{'id': '394270', 'username': 'bridgesdennis', 'name': 'Melissa Vaughn', 'sex': 'F', 'country': None, 'mail': 'carmengonzales@hotmail.com', 'registered': None, 'birthdate': '1992-07-28', 'name_prefix': 'Mrs.', 'country_code': None}\n",
      "{'id': '2951090', 'username': 'jesse68', 'name': None, 'sex': None, 'country': 'Jamaica', 'mail': 'kaitlyn40@yahoo.com', 'registered': '2019-03-31', 'birthdate': '1980-04-30', 'name_prefix': None, 'country_code': 'JM'}\n",
      "{'id': '46542', 'username': 'dawn16', 'name': None, 'sex': None, 'country': 'Serbia', 'mail': 'murrayshannon@gmail.com', 'registered': '2019-11-24', 'birthdate': '2018-06-10', 'name_prefix': None, 'country_code': 'RS'}\n",
      "{'id': '2214951', 'username': 'nancyharrison', 'name': None, 'sex': 'M', 'country': 'Mali', 'mail': None, 'registered': '2017-05-24', 'birthdate': None, 'name_prefix': None, 'country_code': 'ML'}\n"
     ]
    }
   ],
   "source": [
    "for i in res_computed[0]:\n",
    "\tprint(i[0])"
   ],
   "metadata": {
    "collapsed": false,
    "pycharm": {
     "name": "#%%\n"
    }
   }
  },
  {
   "cell_type": "markdown",
   "metadata": {},
   "source": [
    "3. Задекорируйте функцию из задания 1 при помощи `dask.delayed` и создайте список `reviewers`, состоящий из 5 объектов `delayed` (по одному объекту на файл). Из списка объектов `delayed`, создайте `dask.bag` при помощи метода `db.from_delayed`. Добавьте ключ `birth_year`, в котором хранится год рождения человека. Оставьте в выборке только тех людей, которые __наверняка__ моложе 1980 года. Преобразуйте поле `id` к целому типу."
   ]
  },
  {
   "cell_type": "code",
   "execution_count": 24,
   "outputs": [
    {
     "data": {
      "text/plain": "Delayed('xml_to_dict-6b3a2f99-4430-4afc-84df-fe28a601ed94')"
     },
     "execution_count": 24,
     "metadata": {},
     "output_type": "execute_result"
    }
   ],
   "source": [
    "delayed(xml_to_dict)"
   ],
   "metadata": {
    "collapsed": false,
    "pycharm": {
     "name": "#%%\n"
    }
   }
  },
  {
   "cell_type": "code",
   "execution_count": 26,
   "outputs": [
    {
     "data": {
      "text/plain": "[Delayed('xml_to_dict-4de554a4-8345-40de-9aed-80bdafadf93f'),\n Delayed('xml_to_dict-3a837fab-dd35-4d19-afc8-fb730f90b767'),\n Delayed('xml_to_dict-4638247d-f3e5-4145-877f-6ad92a808017'),\n Delayed('xml_to_dict-76e75ef0-b0fe-4132-b6f3-b2fccad080b6'),\n Delayed('xml_to_dict-bfe27de6-f942-457d-ac92-1b6ae86e9038')]"
     },
     "execution_count": 26,
     "metadata": {},
     "output_type": "execute_result"
    }
   ],
   "source": [
    "reviewers = []\n",
    "# for filename in os.listdir(\"14_delayed_data/reviewers_full/\"):\n",
    "# \twith open(\"14_delayed_data/reviewers_full/\" + filename, \"r\") as file:\n",
    "# \t\tprint(file)\n",
    "\n",
    "for i in range(len(os.listdir(\"14_delayed_data/reviewers_full/\"))):\n",
    "\treviewers.append(dask.delayed(xml_to_dict)(\"14_delayed_data/reviewers_full/reviewers_full_\"+str(i)+\".xml\"))\n",
    "\n",
    "reviewers"
   ],
   "metadata": {
    "collapsed": false,
    "pycharm": {
     "name": "#%%\n"
    }
   }
  },
  {
   "cell_type": "code",
   "execution_count": 27,
   "outputs": [
    {
     "data": {
      "text/plain": "['14_delayed_data/reviewers_full/reviewers_full_0.xml',\n '14_delayed_data/reviewers_full/reviewers_full_1.xml',\n '14_delayed_data/reviewers_full/reviewers_full_2.xml',\n '14_delayed_data/reviewers_full/reviewers_full_3.xml',\n '14_delayed_data/reviewers_full/reviewers_full_4.xml']"
     },
     "execution_count": 27,
     "metadata": {},
     "output_type": "execute_result"
    }
   ],
   "source": [
    "pa = []\n",
    "for filename in os.listdir(\"14_delayed_data/reviewers_full/\"):\n",
    "\tpa.append(\"14_delayed_data/reviewers_full/\" + filename)\n",
    "\n",
    "pa"
   ],
   "metadata": {
    "collapsed": false,
    "pycharm": {
     "name": "#%%\n"
    }
   }
  },
  {
   "cell_type": "code",
   "execution_count": 33,
   "outputs": [
    {
     "data": {
      "text/plain": "dask.bag<bag-from-delayed, npartitions=5>"
     },
     "execution_count": 33,
     "metadata": {},
     "output_type": "execute_result"
    }
   ],
   "source": [
    "dbag = db.from_delayed(reviewers)\n",
    "dbag"
   ],
   "metadata": {
    "collapsed": false,
    "pycharm": {
     "name": "#%%\n"
    }
   }
  },
  {
   "cell_type": "code",
   "execution_count": 34,
   "outputs": [
    {
     "data": {
      "text/plain": "dask.bag<lambda, npartitions=5>"
     },
     "execution_count": 34,
     "metadata": {},
     "output_type": "execute_result"
    }
   ],
   "source": [
    "def func(x):\n",
    "\tprint(type(x))\n",
    "\treturn 0\n",
    "\n",
    "dbag.map(lambda x: func(x))"
   ],
   "metadata": {
    "collapsed": false,
    "pycharm": {
     "name": "#%%\n"
    }
   }
  },
  {
   "cell_type": "code",
   "execution_count": 35,
   "outputs": [
    {
     "data": {
      "image/png": "[encoded data removed]",
      "text/plain": "<IPython.core.display.Image object>"
     },
     "execution_count": 35,
     "metadata": {},
     "output_type": "execute_result"
    }
   ],
   "source": [
    "dbag.visualize()"
   ],
   "metadata": {
    "collapsed": false,
    "pycharm": {
     "name": "#%%\n"
    }
   }
  },
  {
   "cell_type": "code",
   "execution_count": 100,
   "outputs": [
    {
     "data": {
      "text/plain": "dask.bag<bag-from-delayed, npartitions=5>"
     },
     "execution_count": 100,
     "metadata": {},
     "output_type": "execute_result"
    }
   ],
   "source": [
    "dbag = db.from_delayed(reviewers)\n",
    "dbag"
   ],
   "metadata": {
    "collapsed": false,
    "pycharm": {
     "name": "#%%\n"
    }
   }
  },
  {
   "cell_type": "code",
   "execution_count": 36,
   "outputs": [
    {
     "data": {
      "text/plain": "({'id': '556011',\n  'username': 'gabrielacalhoun',\n  'name': None,\n  'sex': 'F',\n  'country': None,\n  'mail': None,\n  'registered': None,\n  'birthdate': '1988-01-25',\n  'name_prefix': 'Mrs.',\n  'country_code': None},)"
     },
     "execution_count": 36,
     "metadata": {},
     "output_type": "execute_result"
    }
   ],
   "source": [
    "dbag.take(1)"
   ],
   "metadata": {
    "collapsed": false,
    "pycharm": {
     "name": "#%%\n"
    }
   }
  },
  {
   "cell_type": "code",
   "execution_count": 37,
   "outputs": [
    {
     "data": {
      "text/plain": "({'id': 556011,\n  'username': 'gabrielacalhoun',\n  'name': None,\n  'sex': 'F',\n  'country': None,\n  'mail': None,\n  'registered': None,\n  'birthdate': '1988-01-25',\n  'name_prefix': 'Mrs.',\n  'country_code': None,\n  'birth_year': 1988},\n {'id': 1251087,\n  'username': 'qbaxter',\n  'name': None,\n  'sex': None,\n  'country': 'Norway',\n  'mail': 'qware@gmail.com',\n  'registered': None,\n  'birthdate': '1985-01-19',\n  'name_prefix': None,\n  'country_code': 'NO',\n  'birth_year': 1985},\n {'id': 250427,\n  'username': 'karen27',\n  'name': 'Jennifer Horne',\n  'sex': None,\n  'country': 'Cuba',\n  'mail': 'wjarvis@yahoo.com',\n  'registered': '2013-11-20',\n  'birthdate': '2007-04-30',\n  'name_prefix': None,\n  'country_code': 'CU',\n  'birth_year': 2007},\n {'id': 452355,\n  'username': 'smullen',\n  'name': 'Cynthia Johnson',\n  'sex': 'F',\n  'country': None,\n  'mail': None,\n  'registered': None,\n  'birthdate': '2005-03-29',\n  'name_prefix': 'Miss',\n  'country_code': None,\n  'birth_year': 2005},\n {'id': 2056668,\n  'username': 'franklinhancock',\n  'name': 'Michele Richards',\n  'sex': None,\n  'country': 'Namibia',\n  'mail': 'claudiamccoy@gmail.com',\n  'registered': '2009-08-12',\n  'birthdate': '1983-02-20',\n  'name_prefix': None,\n  'country_code': 'nan',\n  'birth_year': 1983})"
     },
     "execution_count": 37,
     "metadata": {},
     "output_type": "execute_result"
    }
   ],
   "source": [
    "def add_birth_year_and_filter(x):\n",
    "\tx[\"id\"] = int(x[\"id\"])\n",
    "\tif x[\"birthdate\"]:\n",
    "\t\tage = int(x[\"birthdate\"].split(\"-\")[0])\n",
    "\t\tx[\"birth_year\"] = age\n",
    "\t\tif age > 1980:\n",
    "\t\t\treturn x\n",
    "\n",
    "process_result = dbag.map(add_birth_year_and_filter).filter(bool)\n",
    "process_result.take(5)"
   ],
   "metadata": {
    "collapsed": false,
    "pycharm": {
     "name": "#%%\n"
    }
   }
  },
  {
   "cell_type": "markdown",
   "metadata": {},
   "source": [
    "4. Из `dask.bag`, полученного в задании 3, создайте `dask.dataframe` при помощи метода `bag.to_dataframe`. Укажите столбец `id` в качестве индекса."
   ]
  },
  {
   "cell_type": "code",
   "execution_count": 38,
   "outputs": [
    {
     "data": {
      "text/plain": "Dask DataFrame Structure:\n                  id username    name     sex country    mail registered birthdate name_prefix country_code birth_year\nnpartitions=5                                                                                                         \n               int64   object  object  object  object  object     object    object      object       object      int64\n                 ...      ...     ...     ...     ...     ...        ...       ...         ...          ...        ...\n...              ...      ...     ...     ...     ...     ...        ...       ...         ...          ...        ...\n                 ...      ...     ...     ...     ...     ...        ...       ...         ...          ...        ...\n                 ...      ...     ...     ...     ...     ...        ...       ...         ...          ...        ...\nDask Name: to_dataframe, 15 tasks",
      "text/html": "<div><strong>Dask DataFrame Structure:</strong></div>\n<div>\n<style scoped>\n    .dataframe tbody tr th:only-of-type {\n        vertical-align: middle;\n    }\n\n    .dataframe tbody tr th {\n        vertical-align: top;\n    }\n\n    .dataframe thead th {\n        text-align: right;\n    }\n</style>\n<table border=\"1\" class=\"dataframe\">\n  <thead>\n    <tr style=\"text-align: right;\">\n      <th></th>\n      <th>id</th>\n      <th>username</th>\n      <th>name</th>\n      <th>sex</th>\n      <th>country</th>\n      <th>mail</th>\n      <th>registered</th>\n      <th>birthdate</th>\n      <th>name_prefix</th>\n      <th>country_code</th>\n      <th>birth_year</th>\n    </tr>\n    <tr>\n      <th>npartitions=5</th>\n      <th></th>\n      <th></th>\n      <th></th>\n      <th></th>\n      <th></th>\n      <th></th>\n      <th></th>\n      <th></th>\n      <th></th>\n      <th></th>\n      <th></th>\n    </tr>\n  </thead>\n  <tbody>\n    <tr>\n      <th></th>\n      <td>int64</td>\n      <td>object</td>\n      <td>object</td>\n      <td>object</td>\n      <td>object</td>\n      <td>object</td>\n      <td>object</td>\n      <td>object</td>\n      <td>object</td>\n      <td>object</td>\n      <td>int64</td>\n    </tr>\n    <tr>\n      <th></th>\n      <td>...</td>\n      <td>...</td>\n      <td>...</td>\n      <td>...</td>\n      <td>...</td>\n      <td>...</td>\n      <td>...</td>\n      <td>...</td>\n      <td>...</td>\n      <td>...</td>\n      <td>...</td>\n    </tr>\n    <tr>\n      <th>...</th>\n      <td>...</td>\n      <td>...</td>\n      <td>...</td>\n      <td>...</td>\n      <td>...</td>\n      <td>...</td>\n      <td>...</td>\n      <td>...</td>\n      <td>...</td>\n      <td>...</td>\n      <td>...</td>\n    </tr>\n    <tr>\n      <th></th>\n      <td>...</td>\n      <td>...</td>\n      <td>...</td>\n      <td>...</td>\n      <td>...</td>\n      <td>...</td>\n      <td>...</td>\n      <td>...</td>\n      <td>...</td>\n      <td>...</td>\n      <td>...</td>\n    </tr>\n    <tr>\n      <th></th>\n      <td>...</td>\n      <td>...</td>\n      <td>...</td>\n      <td>...</td>\n      <td>...</td>\n      <td>...</td>\n      <td>...</td>\n      <td>...</td>\n      <td>...</td>\n      <td>...</td>\n      <td>...</td>\n    </tr>\n  </tbody>\n</table>\n</div>\n<div>Dask Name: to_dataframe, 15 tasks</div>"
     },
     "execution_count": 38,
     "metadata": {},
     "output_type": "execute_result"
    }
   ],
   "source": [
    "process_result.to_dataframe()#.reset_index().set_index(\"id\")"
   ],
   "metadata": {
    "collapsed": false,
    "pycharm": {
     "name": "#%%\n"
    }
   }
  },
  {
   "cell_type": "code",
   "execution_count": 86,
   "outputs": [
    {
     "data": {
      "text/plain": "Dask DataFrame Structure:\n              username    name     sex country    mail registered birthdate name_prefix country_code birth_year\nnpartitions=5                                                                                                  \n1676            object  object  object  object  object     object    object      object       object      int64\n367135             ...     ...     ...     ...     ...        ...       ...         ...          ...        ...\n...                ...     ...     ...     ...     ...        ...       ...         ...          ...        ...\n2000202734         ...     ...     ...     ...     ...        ...       ...         ...          ...        ...\n2002372706         ...     ...     ...     ...     ...        ...       ...         ...          ...        ...\nDask Name: drop_by_shallow_copy, 62 tasks",
      "text/html": "<div><strong>Dask DataFrame Structure:</strong></div>\n<div>\n<style scoped>\n    .dataframe tbody tr th:only-of-type {\n        vertical-align: middle;\n    }\n\n    .dataframe tbody tr th {\n        vertical-align: top;\n    }\n\n    .dataframe thead th {\n        text-align: right;\n    }\n</style>\n<table border=\"1\" class=\"dataframe\">\n  <thead>\n    <tr style=\"text-align: right;\">\n      <th></th>\n      <th>username</th>\n      <th>name</th>\n      <th>sex</th>\n      <th>country</th>\n      <th>mail</th>\n      <th>registered</th>\n      <th>birthdate</th>\n      <th>name_prefix</th>\n      <th>country_code</th>\n      <th>birth_year</th>\n    </tr>\n    <tr>\n      <th>npartitions=5</th>\n      <th></th>\n      <th></th>\n      <th></th>\n      <th></th>\n      <th></th>\n      <th></th>\n      <th></th>\n      <th></th>\n      <th></th>\n      <th></th>\n    </tr>\n  </thead>\n  <tbody>\n    <tr>\n      <th>1676</th>\n      <td>object</td>\n      <td>object</td>\n      <td>object</td>\n      <td>object</td>\n      <td>object</td>\n      <td>object</td>\n      <td>object</td>\n      <td>object</td>\n      <td>object</td>\n      <td>int64</td>\n    </tr>\n    <tr>\n      <th>367135</th>\n      <td>...</td>\n      <td>...</td>\n      <td>...</td>\n      <td>...</td>\n      <td>...</td>\n      <td>...</td>\n      <td>...</td>\n      <td>...</td>\n      <td>...</td>\n      <td>...</td>\n    </tr>\n    <tr>\n      <th>...</th>\n      <td>...</td>\n      <td>...</td>\n      <td>...</td>\n      <td>...</td>\n      <td>...</td>\n      <td>...</td>\n      <td>...</td>\n      <td>...</td>\n      <td>...</td>\n      <td>...</td>\n    </tr>\n    <tr>\n      <th>2000202734</th>\n      <td>...</td>\n      <td>...</td>\n      <td>...</td>\n      <td>...</td>\n      <td>...</td>\n      <td>...</td>\n      <td>...</td>\n      <td>...</td>\n      <td>...</td>\n      <td>...</td>\n    </tr>\n    <tr>\n      <th>2002372706</th>\n      <td>...</td>\n      <td>...</td>\n      <td>...</td>\n      <td>...</td>\n      <td>...</td>\n      <td>...</td>\n      <td>...</td>\n      <td>...</td>\n      <td>...</td>\n      <td>...</td>\n    </tr>\n  </tbody>\n</table>\n</div>\n<div>Dask Name: drop_by_shallow_copy, 62 tasks</div>"
     },
     "execution_count": 86,
     "metadata": {},
     "output_type": "execute_result"
    }
   ],
   "source": [
    "daskdf = process_result.to_dataframe().reset_index().set_index(\"id\").drop(columns='index')\n",
    "daskdf"
   ],
   "metadata": {
    "collapsed": false,
    "pycharm": {
     "name": "#%%\n"
    }
   }
  },
  {
   "cell_type": "markdown",
   "metadata": {},
   "source": [
    "5. Назовем отзыв негативным, если оценка равна 0, 1 или 2. Загрузите данные о негативных отзывах из файлов архива `reviews_full` (__ЛР12__) в виде `dask.DataFrame`. Посчитайте количество отзывов с группировкой по пользователю, оставившему отзыв. Объедините результат с таблицей, полученной в задаче 4."
   ]
  },
  {
   "cell_type": "code",
   "execution_count": 42,
   "outputs": [],
   "source": [
    "path = \"14_delayed_data/5taskdata/reviews_*.json\""
   ],
   "metadata": {
    "collapsed": false,
    "pycharm": {
     "name": "#%%\n"
    }
   }
  },
  {
   "cell_type": "code",
   "execution_count": 43,
   "outputs": [],
   "source": [
    "reviews_df = df.read_json(path)"
   ],
   "metadata": {
    "collapsed": false,
    "pycharm": {
     "name": "#%%\n"
    }
   }
  },
  {
   "cell_type": "code",
   "execution_count": 44,
   "outputs": [
    {
     "data": {
      "text/plain": "         recipe_id       date  \\\nuser_id                         \n452355      292657 2016-05-08   \n329304      433404 2006-06-14   \n227932     2008187 1985-11-19   \n171468      270716 2019-05-21   \n91392      1159916 1972-09-18   \n\n                                                    review  \nuser_id                                                     \n452355   WOW!!! This is the best. I have never been abl...  \n329304   This was good but the dressing needed somethin...  \n227932   Very good,it was a hit for my family. I used 6...  \n171468   Made for ZWT-8 Family Picks after I saw these ...  \n91392    Very nice slaw. I especially like that it does...  ",
      "text/html": "<div>\n<style scoped>\n    .dataframe tbody tr th:only-of-type {\n        vertical-align: middle;\n    }\n\n    .dataframe tbody tr th {\n        vertical-align: top;\n    }\n\n    .dataframe thead th {\n        text-align: right;\n    }\n</style>\n<table border=\"1\" class=\"dataframe\">\n  <thead>\n    <tr style=\"text-align: right;\">\n      <th></th>\n      <th>recipe_id</th>\n      <th>date</th>\n      <th>review</th>\n    </tr>\n    <tr>\n      <th>user_id</th>\n      <th></th>\n      <th></th>\n      <th></th>\n    </tr>\n  </thead>\n  <tbody>\n    <tr>\n      <th>452355</th>\n      <td>292657</td>\n      <td>2016-05-08</td>\n      <td>WOW!!! This is the best. I have never been abl...</td>\n    </tr>\n    <tr>\n      <th>329304</th>\n      <td>433404</td>\n      <td>2006-06-14</td>\n      <td>This was good but the dressing needed somethin...</td>\n    </tr>\n    <tr>\n      <th>227932</th>\n      <td>2008187</td>\n      <td>1985-11-19</td>\n      <td>Very good,it was a hit for my family. I used 6...</td>\n    </tr>\n    <tr>\n      <th>171468</th>\n      <td>270716</td>\n      <td>2019-05-21</td>\n      <td>Made for ZWT-8 Family Picks after I saw these ...</td>\n    </tr>\n    <tr>\n      <th>91392</th>\n      <td>1159916</td>\n      <td>1972-09-18</td>\n      <td>Very nice slaw. I especially like that it does...</td>\n    </tr>\n  </tbody>\n</table>\n</div>"
     },
     "execution_count": 44,
     "metadata": {},
     "output_type": "execute_result"
    }
   ],
   "source": [
    "reviews_df.head().set_index(\"user_id\")"
   ],
   "metadata": {
    "collapsed": false,
    "pycharm": {
     "name": "#%%\n"
    }
   }
  },
  {
   "cell_type": "code",
   "execution_count": 88,
   "outputs": [
    {
     "data": {
      "text/plain": "            review_count\nuser_id                 \n1533                  64\n1535                 441\n1634                  36\n1676                  29\n1755                   4\n...                  ...\n2002366476             1\n2002368940             1\n2002369279             1\n2002369650             1\n2002372706             1\n\n[145069 rows x 1 columns]",
      "text/html": "<div>\n<style scoped>\n    .dataframe tbody tr th:only-of-type {\n        vertical-align: middle;\n    }\n\n    .dataframe tbody tr th {\n        vertical-align: top;\n    }\n\n    .dataframe thead th {\n        text-align: right;\n    }\n</style>\n<table border=\"1\" class=\"dataframe\">\n  <thead>\n    <tr style=\"text-align: right;\">\n      <th></th>\n      <th>review_count</th>\n    </tr>\n    <tr>\n      <th>user_id</th>\n      <th></th>\n    </tr>\n  </thead>\n  <tbody>\n    <tr>\n      <th>1533</th>\n      <td>64</td>\n    </tr>\n    <tr>\n      <th>1535</th>\n      <td>441</td>\n    </tr>\n    <tr>\n      <th>1634</th>\n      <td>36</td>\n    </tr>\n    <tr>\n      <th>1676</th>\n      <td>29</td>\n    </tr>\n    <tr>\n      <th>1755</th>\n      <td>4</td>\n    </tr>\n    <tr>\n      <th>...</th>\n      <td>...</td>\n    </tr>\n    <tr>\n      <th>2002366476</th>\n      <td>1</td>\n    </tr>\n    <tr>\n      <th>2002368940</th>\n      <td>1</td>\n    </tr>\n    <tr>\n      <th>2002369279</th>\n      <td>1</td>\n    </tr>\n    <tr>\n      <th>2002369650</th>\n      <td>1</td>\n    </tr>\n    <tr>\n      <th>2002372706</th>\n      <td>1</td>\n    </tr>\n  </tbody>\n</table>\n<p>145069 rows × 1 columns</p>\n</div>"
     },
     "execution_count": 88,
     "metadata": {},
     "output_type": "execute_result"
    }
   ],
   "source": [
    "grouped_df = reviews_df.groupby(\"user_id\")[\"recipe_id\"].count().to_frame().rename(columns={\"recipe_id\": \"review_count\"})\n",
    "grouped_df.compute()"
   ],
   "metadata": {
    "collapsed": false,
    "pycharm": {
     "name": "#%%\n"
    }
   }
  },
  {
   "cell_type": "code",
   "execution_count": 89,
   "outputs": [
    {
     "data": {
      "text/plain": "       username              name   sex               country  \\\nid                                                              \n1676    lgeorge              None     M                  None   \n1792     qbeard              None     F                Guinea   \n1938  adambrown    William Fisher  None         New Caledonia   \n2046  vthompson     Emily Sanford     F  United Arab Emirates   \n2095   djohnson  Jennifer Hawkins     F               Jamaica   \n\n                      mail  registered   birthdate name_prefix country_code  \\\nid                                                                            \n1676                  None        None  1983-06-24        None         None   \n1792  rachel20@hotmail.com        None  1986-03-12        None           GN   \n1938                  None  2019-05-03  1991-11-11        None           NC   \n2046   omelendez@yahoo.com  2001-10-30  1981-11-27        None           AE   \n2095                  None        None  1984-09-23        Mrs.           JM   \n\n      birth_year  review_count  \nid                              \n1676        1983          29.0  \n1792        1986          14.0  \n1938        1991           3.0  \n2046        1981           3.0  \n2095        1984           NaN  ",
      "text/html": "<div>\n<style scoped>\n    .dataframe tbody tr th:only-of-type {\n        vertical-align: middle;\n    }\n\n    .dataframe tbody tr th {\n        vertical-align: top;\n    }\n\n    .dataframe thead th {\n        text-align: right;\n    }\n</style>\n<table border=\"1\" class=\"dataframe\">\n  <thead>\n    <tr style=\"text-align: right;\">\n      <th></th>\n      <th>username</th>\n      <th>name</th>\n      <th>sex</th>\n      <th>country</th>\n      <th>mail</th>\n      <th>registered</th>\n      <th>birthdate</th>\n      <th>name_prefix</th>\n      <th>country_code</th>\n      <th>birth_year</th>\n      <th>review_count</th>\n    </tr>\n    <tr>\n      <th>id</th>\n      <th></th>\n      <th></th>\n      <th></th>\n      <th></th>\n      <th></th>\n      <th></th>\n      <th></th>\n      <th></th>\n      <th></th>\n      <th></th>\n      <th></th>\n    </tr>\n  </thead>\n  <tbody>\n    <tr>\n      <th>1676</th>\n      <td>lgeorge</td>\n      <td>None</td>\n      <td>M</td>\n      <td>None</td>\n      <td>None</td>\n      <td>None</td>\n      <td>1983-06-24</td>\n      <td>None</td>\n      <td>None</td>\n      <td>1983</td>\n      <td>29.0</td>\n    </tr>\n    <tr>\n      <th>1792</th>\n      <td>qbeard</td>\n      <td>None</td>\n      <td>F</td>\n      <td>Guinea</td>\n      <td>rachel20@hotmail.com</td>\n      <td>None</td>\n      <td>1986-03-12</td>\n      <td>None</td>\n      <td>GN</td>\n      <td>1986</td>\n      <td>14.0</td>\n    </tr>\n    <tr>\n      <th>1938</th>\n      <td>adambrown</td>\n      <td>William Fisher</td>\n      <td>None</td>\n      <td>New Caledonia</td>\n      <td>None</td>\n      <td>2019-05-03</td>\n      <td>1991-11-11</td>\n      <td>None</td>\n      <td>NC</td>\n      <td>1991</td>\n      <td>3.0</td>\n    </tr>\n    <tr>\n      <th>2046</th>\n      <td>vthompson</td>\n      <td>Emily Sanford</td>\n      <td>F</td>\n      <td>United Arab Emirates</td>\n      <td>omelendez@yahoo.com</td>\n      <td>2001-10-30</td>\n      <td>1981-11-27</td>\n      <td>None</td>\n      <td>AE</td>\n      <td>1981</td>\n      <td>3.0</td>\n    </tr>\n    <tr>\n      <th>2095</th>\n      <td>djohnson</td>\n      <td>Jennifer Hawkins</td>\n      <td>F</td>\n      <td>Jamaica</td>\n      <td>None</td>\n      <td>None</td>\n      <td>1984-09-23</td>\n      <td>Mrs.</td>\n      <td>JM</td>\n      <td>1984</td>\n      <td>NaN</td>\n    </tr>\n  </tbody>\n</table>\n</div>"
     },
     "execution_count": 89,
     "metadata": {},
     "output_type": "execute_result"
    }
   ],
   "source": [
    "daskdf.merge(grouped_df, how=\"left\").head()"
   ],
   "metadata": {
    "collapsed": false,
    "pycharm": {
     "name": "#%%\n"
    }
   }
  },
  {
   "cell_type": "markdown",
   "metadata": {},
   "source": [
    "#### [версия 2]\n",
    "* Уточнена формулировка задачи 1"
   ]
  },
  {
   "cell_type": "code",
   "execution_count": null,
   "metadata": {},
   "outputs": [],
   "source": []
  }
 ],
 "metadata": {
  "kernelspec": {
   "display_name": "Python 3 (ipykernel)",
   "language": "python",
   "name": "python3"
  },
  "language_info": {
   "codemirror_mode": {
    "name": "ipython",
    "version": 3
   },
   "file_extension": ".py",
   "mimetype": "text/x-python",
   "name": "python",
   "nbconvert_exporter": "python",
   "pygments_lexer": "ipython3",
   "version": "3.8.3"
  }
 },
 "nbformat": 4,
 "nbformat_minor": 4
}