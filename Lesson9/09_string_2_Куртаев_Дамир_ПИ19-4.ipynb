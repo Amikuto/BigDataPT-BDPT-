{
 "cells": [
  {
   "cell_type": "markdown",
   "metadata": {},
   "source": [
    "# Введение в обработку текста на естественном языке"
   ]
  },
  {
   "cell_type": "markdown",
   "metadata": {},
   "source": [
    "Материалы:\n",
    "* Макрушин С.В. Лекция 9: Введение в обработку текста на естественном языке\\\n",
    "* https://realpython.com/nltk-nlp-python/\n",
    "* https://scikit-learn.org/stable/modules/feature_extraction.html"
   ]
  },
  {
   "cell_type": "markdown",
   "metadata": {},
   "source": [
    "## Задачи для совместного разбора"
   ]
  },
  {
   "cell_type": "code",
   "execution_count": 1,
   "metadata": {},
   "outputs": [],
   "source": [
    "import pandas as pd\n",
    "import numpy as np\n",
    "from sklearn.feature_extraction.text import CountVectorizer\n",
    "import pymorphy2\n",
    "from nltk.metrics.distance import edit_distance"
   ]
  },
  {
   "cell_type": "markdown",
   "metadata": {},
   "source": [
    "1. Считайте слова из файла `litw-win.txt` и запишите их в список `words`. В заданном предложении исправьте все опечатки, заменив слова с опечатками на ближайшие (в смысле расстояния Левенштейна) к ним слова из списка `words`. Считайте, что в слове есть опечатка, если данное слово не содержится в списке `words`. "
   ]
  },
  {
   "cell_type": "code",
   "execution_count": 9,
   "outputs": [
    {
     "data": {
      "text/plain": "1"
     },
     "execution_count": 9,
     "metadata": {},
     "output_type": "execute_result"
    }
   ],
   "source": [
    "s1 = 'ПИ19-4'\n",
    "s2 = 'ПИ19-3'\n",
    "edit_distance(s1, s2)"
   ],
   "metadata": {
    "collapsed": false,
    "pycharm": {
     "name": "#%%\n"
    }
   }
  },
  {
   "cell_type": "code",
   "execution_count": 2,
   "outputs": [
    {
     "data": {
      "text/plain": "['и',\n 'в',\n 'я',\n 'с',\n 'а',\n 'к',\n 'у',\n 'о',\n 'н',\n 'п',\n 'ж',\n 'б',\n 'т',\n 'д',\n 'м',\n 'ч',\n 'з',\n 'г',\n 'е',\n 'р',\n 'э',\n 'л',\n 'х',\n 'ш',\n 'ф',\n 'ц',\n 'щ',\n 'й',\n 'ю',\n 'ы',\n 'ъ',\n 'ь',\n 'не',\n 'на',\n 'он',\n 'то',\n 'но',\n 'же',\n 'вы',\n 'по',\n 'да',\n 'за',\n 'бы',\n 'ты',\n 'от',\n 'из',\n 'ее',\n 'до',\n 'ну',\n 'ни',\n 'ли',\n 'уж',\n 'во',\n 'их',\n 'мы',\n 'со',\n 'ей',\n 'об',\n 'ко',\n 'ах',\n 'им',\n 'ка',\n 'та',\n 'пр',\n 'те',\n 'чт',\n 'ту',\n 'го',\n 'де',\n 'вс',\n 'эт',\n 'мо',\n 'ра',\n 'ст',\n 'ха',\n 'хе',\n 'ум',\n 'се',\n 'эх',\n 'гм',\n 'ме',\n 'св',\n 'ль',\n 'ег',\n 'пе',\n 'ва',\n 'са',\n 'ве',\n 'ох',\n 'бо',\n 'хо',\n 'че',\n 'сл',\n 'од',\n 'бе',\n 'мн',\n 'ай',\n 'ею',\n 'ос',\n 'ск',\n 'ви',\n 'ми',\n 'ма',\n 'сп',\n 'ба',\n 'ес',\n 'бу',\n 'гл',\n 'що',\n 'эй',\n 'ем',\n 'кр',\n 'см',\n 'др',\n 'лю',\n 'па',\n 'ро',\n 'зн',\n 'ле',\n 'як',\n 'тр',\n 'жи',\n 'ел',\n 'ус',\n 'фу',\n 'дв',\n 'ру',\n 'ал',\n 'ой',\n 'си',\n 'ду',\n 'вз',\n 'ещ',\n 'хи',\n 'чи',\n 'вд',\n 'ил',\n 'ух',\n 'ча',\n 'гр',\n 'пи',\n 'бл',\n 'ре',\n 'су',\n 'ге',\n 'ку',\n 'оп',\n 'жа',\n 'ис',\n 'оч',\n 'эк',\n 'дл',\n 'пл',\n 'ин',\n 'пу',\n 'фр',\n 'ан',\n 'бр',\n 'чу',\n 'му',\n 'ув',\n 'вп',\n 'кн',\n 'ив',\n 'ок',\n 'ад',\n 'лу',\n 'уг',\n 'вр',\n 'ло',\n 'це',\n 'гу',\n 'ла',\n 'ше',\n 'ср',\n 'ти',\n 'уд',\n 'фе',\n 'ди',\n 'тв',\n 'гд',\n 'сд',\n 'вн',\n 'ид',\n 'уб',\n 'щи',\n 'зд',\n 'уп',\n 'сч',\n 'уз',\n 'га',\n 'ог',\n 'ул',\n 'ша',\n 'ар',\n 'ут',\n 'фи',\n 'аж',\n 'ед',\n 'кт',\n 'гг',\n 'кл',\n 'сн',\n 'ук',\n 'зе',\n 'иг',\n 'зи',\n 'ки',\n 'ца',\n 'яр',\n 'дн',\n 'мя',\n 'сы',\n 'фа',\n 'вм',\n 'зл',\n 'ож',\n 'сю',\n 'шу',\n 'пя',\n 'тя',\n 'шл',\n 'шт',\n 'вл',\n 'ля',\n 'ор',\n 'хр',\n 'ще',\n 'ак',\n 'дя',\n 'ит',\n 'уч',\n 'ху',\n 'ши',\n 'фо',\n 'яв',\n 'би',\n 'ды',\n 'ры',\n 'уй',\n 'юг',\n 'вв',\n 'иб',\n 'кв',\n 'сб',\n 'сх',\n 'сь',\n 'зв',\n 'ол',\n 'тс',\n 'яд',\n 'аз',\n 'вч',\n 'ет',\n 'зу',\n 'ке',\n 'хл',\n 'аг',\n 'ев',\n 'еж',\n 'жд',\n 'ны',\n 'ов',\n 'пь',\n 'яс',\n 'вт',\n 'зо',\n 'ня',\n 'оз',\n 'оф',\n 'ош',\n 'ся',\n 'тю',\n 'уе',\n 'ун',\n 'уш',\n 'хм',\n 'ав',\n 'жу',\n 'мл',\n 'мм',\n 'ри',\n 'ть',\n 'чр',\n 'шк',\n 'ап',\n 'ас',\n 'нр',\n 'сг',\n 'сс',\n 'чш',\n 'юн',\n 'яй',\n 'ам',\n 'вг',\n 'ву',\n 'вх',\n 'дю',\n 'км',\n 'мг',\n 'ом',\n 'ощ',\n 'пы',\n 'рт',\n 'рю',\n 'ря',\n 'сф',\n 'сц',\n 'ур',\n 'хв',\n 'шп',\n 'шю',\n 'ая',\n 'бя',\n 'ги',\n 'гн',\n 'дж',\n 'ер',\n 'ик',\n 'ищ',\n 'съ',\n 'фл',\n 'чь',\n 'шо',\n 'яз',\n 'аи',\n 'ат',\n 'ау',\n 'вк',\n 'вя',\n 'ие',\n 'ий',\n 'кс',\n 'кх',\n 'тц',\n 'уа',\n 'цв',\n 'ци',\n 'эп',\n 'юх',\n 'ен',\n 'еф',\n 'ех',\n 'зы',\n 'иа',\n 'иж',\n 'ии',\n 'ио',\n 'ип',\n 'ич',\n 'лы',\n 'мс',\n 'мф',\n 'нс',\n 'ое',\n 'оц',\n 'пш',\n 'сж',\n 'сш',\n 'тщ',\n 'уф',\n 'цо',\n 'цу',\n 'чо',\n 'шш',\n 'эс',\n 'юм',\n 'ют',\n 'аб',\n 'аф',\n 'аш',\n 'бь',\n 'бю',\n 'вш',\n 'въ',\n 'гв',\n 'гю',\n 'дз',\n 'дм',\n 'дь',\n 'еш',\n 'жр',\n 'зг',\n 'зз',\n 'зр',\n 'иу',\n 'иф',\n 'кь',\n 'лб',\n 'лг',\n 'лж',\n 'лт',\n 'мр',\n 'мч',\n 'нь',\n 'нэ',\n 'ню',\n 'пт',\n 'сз',\n 'тк',\n 'тл',\n 'тт',\n 'тэ',\n 'уи',\n 'ущ',\n 'ую',\n 'фэ',\n 'цы',\n 'шв',\n 'шм',\n 'шь',\n 'ща',\n 'щу',\n 'ые',\n 'ый',\n 'ыч',\n 'эа',\n 'эл',\n 'эм',\n 'эн',\n 'эф',\n 'ээ',\n 'юб',\n 'юл',\n 'юс',\n 'яб',\n 'ян',\n 'ят',\n 'ях',\n 'ящ',\n 'что',\n 'как',\n 'это',\n 'все',\n 'его',\n 'так',\n 'она',\n 'мне',\n 'еще',\n 'вот',\n 'был',\n 'ему',\n 'нет',\n 'уже',\n 'вас',\n 'вам',\n 'или',\n 'для',\n 'они',\n 'тут',\n 'сам',\n 'чем',\n 'раз',\n 'там',\n 'где',\n 'под',\n 'без',\n 'ней',\n 'кто',\n 'мой',\n 'ним',\n 'тем',\n 'при',\n 'про',\n 'нас',\n 'них',\n 'мог',\n 'нее',\n 'эти',\n 'тот',\n 'два',\n 'том',\n 'всю',\n 'над',\n 'три',\n 'эту',\n 'лет',\n 'нем',\n 'нам',\n 'бог',\n 'вся',\n 'эта',\n 'моя',\n 'мое',\n 'оно',\n 'всг',\n 'пор',\n 'две',\n 'наш',\n 'мои',\n 'дня',\n 'тех',\n 'час',\n 'дом',\n 'ибо',\n 'мою',\n 'сих',\n 'нею',\n 'оба',\n 'вон',\n 'той',\n 'вид',\n 'год',\n 'ваш',\n 'дал',\n 'сел',\n 'кое',\n 'ума',\n 'сто',\n 'рад',\n 'дай',\n 'обо',\n 'чай',\n 'пол',\n 'рук',\n 'шел',\n 'нос',\n 'дам',\n 'обе',\n 'дни',\n 'сей',\n 'сон',\n 'кем',\n 'муж',\n 'сын',\n 'имя',\n 'жил',\n 'рот',\n 'дух',\n 'сил',\n 'мир',\n 'ног',\n 'уме',\n 'пан',\n 'сне',\n 'ста',\n 'шею',\n 'сад',\n 'чаю',\n 'изо',\n 'сво',\n 'миг',\n 'век',\n 'мол',\n 'пот',\n 'шум',\n 'дел',\n 'дед',\n 'иди',\n 'пер',\n 'лиц',\n 'сем',\n 'лес',\n 'тек',\n 'шла',\n 'шаг',\n 'очи',\n 'душ',\n 'суд',\n 'гор',\n 'пре',\n 'тон',\n 'иду',\n 'тол',\n 'лег',\n 'шли',\n 'пил',\n 'зна',\n 'али',\n 'ими',\n 'ком',\n 'мен',\n 'рас',\n 'ухо',\n 'сию',\n 'кой',\n 'уши',\n 'иль',\n 'одн',\n 'бол',\n 'пос',\n 'вне',\n 'буд',\n 'кот',\n 'лбу',\n 'кум',\n 'аль',\n 'жду',\n 'лоб',\n 'ска',\n 'сна',\n 'стр',\n 'вор',\n 'шее',\n 'жив',\n 'меж',\n 'гов',\n 'сие',\n 'ест',\n 'лев',\n 'воз',\n 'фон',\n 'мож',\n 'дру',\n 'кхи',\n 'еду',\n 'себ',\n 'вел',\n 'увы',\n 'жид',\n 'род',\n 'теб',\n 'усы',\n 'шло',\n 'пок',\n 'губ',\n 'ишь',\n 'бал',\n 'ког',\n 'даж',\n 'дар',\n 'зло',\n 'мно',\n 'тог',\n 'быт',\n 'даю',\n 'сло',\n 'теп',\n 'ост',\n 'бес',\n 'нег',\n 'чин',\n 'тою',\n 'хот',\n 'бек',\n 'бок',\n 'гол',\n 'жен',\n 'чей',\n 'вер',\n 'луч',\n 'нес',\n 'поч',\n 'вдр',\n 'жар',\n 'люб',\n 'опя',\n 'нож',\n 'ряд',\n 'вес',\n 'гла',\n 'дым',\n 'ход',\n 'всь',\n 'зла',\n 'неп',\n 'чуб',\n 'рту',\n 'слу',\n 'сны',\n 'чел',\n 'отв',\n 'сме',\n 'ник',\n 'пар',\n 'бил',\n 'есл',\n 'мал',\n 'оче',\n 'рта',\n 'уст',\n 'вед',\n 'кон',\n 'сия',\n 'баб',\n 'пов',\n 'рай',\n 'дум',\n 'дол',\n 'пра',\n 'сим',\n 'дне',\n 'зам',\n 'ива',\n 'име',\n 'нак',\n 'пом',\n 'поп',\n 'чьи',\n 'быв',\n 'дав',\n 'зол',\n 'пью',\n 'шеи',\n 'ниб',\n 'сер',\n 'лжи',\n 'соб',\n 'тип',\n 'шут',\n 'яко',\n 'бла',\n 'вре',\n 'дна',\n 'мил',\n 'нач',\n 'раб',\n 'чер',\n 'чья',\n 'нап',\n 'обр',\n 'сов',\n 'гос',\n 'идя',\n 'пел',\n 'пет',\n 'вос',\n 'ден',\n 'пал',\n 'све',\n 'спи',\n 'цел',\n 'бой',\n 'жиз',\n 'ищу',\n 'каж',\n 'пон',\n 'суп',\n 'хор',\n 'сле',\n 'лад',\n 'пир',\n 'сии',\n 'бед',\n 'зал',\n 'ура',\n 'але',\n 'зас',\n 'кра',\n 'мес',\n 'око',\n 'пус',\n 'ско',\n 'эге',\n 'выс',\n 'дер',\n 'рос',\n 'боя',\n 'зак',\n 'кол',\n 'оди',\n 'ото',\n 'пав',\n 'поз',\n 'смо',\n 'спр',\n 'тих',\n 'тож',\n 'заб',\n 'зав',\n 'лба',\n 'мел',\n 'отк',\n 'дно',\n 'зап',\n 'кня',\n 'люд',\n 'мат',\n 'мая',\n 'нед',\n 'пес',\n 'сос',\n 'уму',\n 'чье',\n 'веч',\n 'пис',\n 'уху',\n 'бар',\n 'вст',\n 'гул',\n 'ища',\n 'мер',\n 'наз',\n 'ром',\n 'сде',\n 'спа',\n 'ага',\n 'бро',\n 'доб',\n 'дов',\n 'зад',\n 'кри',\n 'тре',\n 'вод',\n 'ели',\n 'осо',\n 'пой',\n 'рев',\n 'вин',\n 'вру',\n 'дор',\n 'иск',\n 'лгу',\n 'лик',\n 'нич',\n 'ужа',\n 'щек',\n 'вол',\n 'дос',\n 'еле',\n 'зат',\n 'ино',\n 'лат',\n 'пла',\n 'пош',\n 'сор',\n 'бра',\n 'гру',\n 'заг',\n 'мин',\n 'нар',\n 'пож',\n 'сту',\n 'точ',\n 'хоч',\n 'дев',\n 'зря',\n 'меч',\n 'мыс',\n 'неу',\n 'сте',\n 'улы',\n 'зде',\n 'исп',\n 'кар',\n 'кро',\n 'кур',\n 'лай',\n 'лед',\n 'нав',\n 'нев',\n 'нео',\n 'нов',\n 'ока',\n 'пуф',\n 'реш',\n 'руб',\n 'сак',\n 'сок',\n 'тво',\n 'уха',\n 'вск',\n 'гам',\n 'ген',\n 'мед',\n 'наг',\n 'отд',\n 'рус',\n 'слы',\n 'взг',\n 'вой',\n 'воп',\n 'выш',\n 'дон',\n 'ешь',\n 'жел',\n 'зов',\n 'мук',\n 'неш',\n 'ниц',\n 'обс',\n 'оне',\n 'пря',\n 'сыр',\n 'уви',\n 'узн',\n 'худ',\n 'эка',\n 'взд',\n 'впе',\n 'гля',\n 'дуб',\n 'дур',\n 'ела',\n 'игр',\n 'изб',\n 'лиш',\n 'обл',\n 'ого',\n 'пей',\n 'пух',\n 'пят',\n 'ран',\n 'сла',\n 'тыс',\n 'укр',\n 'фед',\n 'фра',\n 'щоб',\n 'бей',\n 'бык',\n 'взя',\n 'гро',\n 'дво',\n 'жал',\n 'изв',\n 'куд',\n 'мух',\n 'ноч',\n 'пле',\n 'рак',\n 'ред',\n 'чег',\n 'чув',\n 'шея',\n 'бер',\n 'бор',\n 'вал',\n 'вме',\n 'глу',\n 'гоп',\n 'дет',\n 'док',\n 'ищи',\n 'кох',\n 'кре',\n 'нах',\n 'объ',\n 'ожи',\n 'тер',\n 'тро',\n 'тсс',\n 'уби',\n 'чет',\n 'эко',\n 'бел',\n 'быс',\n 'впр',\n 'зах',\n 'кру',\n 'мар',\n 'нек',\n 'нуж',\n 'поб',\n 'пог',\n 'рим',\n 'роз',\n 'соо',\n 'спо',\n 'сыт',\n 'тел',\n 'тра',\n 'уго',\n 'чес',\n 'юге',\n 'яму',\n 'бум',\n 'вез',\n 'воо',\n 'гра',\n 'жан',\n 'изд',\n 'кап',\n 'лех',\n 'отц',\n 'раю',\n 'ров',\n 'рты',\n 'сид',\n 'учи',\n 'вып',\n 'гад',\n 'жди',\n 'каз',\n 'кос',\n 'лез',\n 'мит',\n 'неб',\n 'отр',\n 'рок',\n 'рыб',\n 'сан',\n 'сек',\n 'сну',\n 'уве',\n 'уди',\n 'ухе',\n 'чад',\n 'чая',\n 'чис',\n 'чут',\n 'акт',\n 'вов',\n 'всп',\n 'дню',\n 'дул',\n 'ежа',\n 'жит',\n 'зем',\n 'злы',\n ...]"
     },
     "execution_count": 2,
     "metadata": {},
     "output_type": "execute_result"
    }
   ],
   "source": [
    "with open(\"./data/data/litw-win.txt\") as fp:\n",
    "\twords = [line.strip().split()[-1] for line in fp]\n",
    "words"
   ],
   "metadata": {
    "collapsed": false,
    "pycharm": {
     "name": "#%%\n"
    }
   }
  },
  {
   "cell_type": "code",
   "execution_count": null,
   "metadata": {},
   "outputs": [],
   "source": [
    "# text = '''с велечайшим усилием выбравшись из потока убегающих людей Кутузов со свитой уменьшевшейся вдвое поехал на звуки выстрелов русских орудий'''"
   ]
  },
  {
   "cell_type": "code",
   "execution_count": 11,
   "outputs": [],
   "source": [
    "word = \"велечайшим\""
   ],
   "metadata": {
    "collapsed": false,
    "pycharm": {
     "name": "#%%\n"
    }
   }
  },
  {
   "cell_type": "code",
   "execution_count": 12,
   "outputs": [
    {
     "data": {
      "text/plain": "'величайшим'"
     },
     "execution_count": 12,
     "metadata": {},
     "output_type": "execute_result"
    }
   ],
   "source": [
    "min(words, key=lambda k: edit_distance(k, word))"
   ],
   "metadata": {
    "collapsed": false,
    "pycharm": {
     "name": "#%%\n"
    }
   }
  },
  {
   "cell_type": "markdown",
   "metadata": {},
   "source": [
    "2. Разбейте текст из формулировки задания 1 на слова; проведите стемминг и лемматизацию слов."
   ]
  },
  {
   "cell_type": "code",
   "execution_count": 14,
   "outputs": [
    {
     "data": {
      "text/plain": "'попреблагорассмотрительств'"
     },
     "execution_count": 14,
     "metadata": {},
     "output_type": "execute_result"
    }
   ],
   "source": [
    "from nltk.stem import SnowballStemmer\n",
    "\n",
    "stemmer = SnowballStemmer('russian')\n",
    "word2 = \"попреблагорассмотрительствующемуся\"\n",
    "word1 = \"попреблагорассмотрительствующимся\"\n",
    "stemmer.stem(word1)"
   ],
   "metadata": {
    "collapsed": false,
    "pycharm": {
     "name": "#%%\n"
    }
   }
  },
  {
   "cell_type": "code",
   "execution_count": 18,
   "outputs": [
    {
     "data": {
      "text/plain": "'попреблагорассмотрительствующийся'"
     },
     "execution_count": 18,
     "metadata": {},
     "output_type": "execute_result"
    }
   ],
   "source": [
    "morph = pymorphy2.MorphAnalyzer()\n",
    "\n",
    "morph.parse(word)[0].normalized.word"
   ],
   "metadata": {
    "collapsed": false,
    "pycharm": {
     "name": "#%%\n"
    }
   }
  },
  {
   "cell_type": "markdown",
   "metadata": {},
   "source": [
    "3. Преобразуйте предложения из формулировки задания 1 в векторы при помощи `CountVectorizer`."
   ]
  },
  {
   "cell_type": "code",
   "execution_count": 19,
   "outputs": [
    {
     "data": {
      "text/plain": "['Считайте слова из файла `litw-win.txt` и запишите их в список `words`.',\n 'В заданном предложении исправьте все опечатки, заменив слова с опечатками на ближайшие (в смысле расстояния Левенштейна) к ним слова из списка `words`.',\n 'Считайте, что в слове есть опечатка, если данное слово не содержится в списке `words`']"
     },
     "execution_count": 19,
     "metadata": {},
     "output_type": "execute_result"
    }
   ],
   "source": [
    "from nltk import sent_tokenize\n",
    "\n",
    "# text = \"\"\"Считайте слова из файла `litw-win.txt` и запишите их в список `words`. В заданном предложении исправьте все опечатки, заменив слова с опечатками на ближайшие (в смысле расстояния Левенштейна) к ним слова из списка `words`. Считайте, что в слове есть опечатка, если данное слово не содержится в списке `words`\"\"\"\n",
    "sents = sent_tokenize(text)\n",
    "sents"
   ],
   "metadata": {
    "collapsed": false,
    "pycharm": {
     "name": "#%%\n"
    }
   }
  },
  {
   "cell_type": "code",
   "execution_count": 21,
   "outputs": [
    {
     "data": {
      "text/plain": "array([[1, 1, 1, 1, 0, 0, 0, 0, 0, 0, 0, 1, 1, 0, 1, 0, 0, 0, 0, 0, 0, 0,\n        0, 0, 1, 0, 0, 0, 0, 0, 0, 1, 1, 1, 0],\n       [0, 0, 0, 1, 1, 1, 0, 0, 0, 1, 1, 0, 1, 1, 0, 1, 1, 0, 1, 0, 1, 1,\n        1, 1, 2, 0, 0, 1, 0, 1, 0, 0, 0, 0, 0],\n       [0, 0, 0, 1, 0, 0, 1, 1, 1, 0, 0, 0, 0, 0, 0, 0, 0, 1, 0, 1, 0, 0,\n        0, 0, 0, 1, 1, 0, 1, 0, 1, 0, 1, 0, 1]], dtype=int64)"
     },
     "execution_count": 21,
     "metadata": {},
     "output_type": "execute_result"
    }
   ],
   "source": [
    "cv = CountVectorizer()\n",
    "cv.fit(sents)\n",
    "sents_cv = cv.transform(sents).toarray()\n",
    "sents_cv"
   ],
   "metadata": {
    "collapsed": false,
    "pycharm": {
     "name": "#%%\n"
    }
   }
  },
  {
   "cell_type": "code",
   "execution_count": 22,
   "outputs": [
    {
     "data": {
      "text/plain": "(3, 35)"
     },
     "execution_count": 22,
     "metadata": {},
     "output_type": "execute_result"
    }
   ],
   "source": [
    "sents_cv.shape"
   ],
   "metadata": {
    "collapsed": false,
    "pycharm": {
     "name": "#%%\n"
    }
   }
  },
  {
   "cell_type": "code",
   "execution_count": 24,
   "outputs": [
    {
     "data": {
      "text/plain": "{'считайте': 32,\n 'слова': 24,\n 'из': 12,\n 'файла': 33,\n 'litw': 0,\n 'win': 2,\n 'txt': 1,\n 'запишите': 11,\n 'их': 14,\n 'список': 31,\n 'words': 3,\n 'заданном': 9,\n 'предложении': 22,\n 'исправьте': 13,\n 'все': 5,\n 'опечатки': 21,\n 'заменив': 10,\n 'опечатками': 20,\n 'на': 16,\n 'ближайшие': 4,\n 'смысле': 27,\n 'расстояния': 23,\n 'левенштейна': 15,\n 'ним': 18,\n 'списка': 29,\n 'что': 34,\n 'слове': 25,\n 'есть': 8,\n 'опечатка': 19,\n 'если': 7,\n 'данное': 6,\n 'слово': 26,\n 'не': 17,\n 'содержится': 28,\n 'списке': 30}"
     },
     "execution_count": 24,
     "metadata": {},
     "output_type": "execute_result"
    }
   ],
   "source": [
    "cv.vocabulary_"
   ],
   "metadata": {
    "collapsed": false,
    "pycharm": {
     "name": "#%%\n"
    }
   }
  },
  {
   "cell_type": "markdown",
   "metadata": {},
   "source": [
    "## Лабораторная работа 9"
   ]
  },
  {
   "cell_type": "code",
   "execution_count": 1,
   "outputs": [],
   "source": [
    "import pandas as pd\n",
    "import numpy as np\n",
    "import pymorphy2\n",
    "import nltk\n",
    "\n",
    "from sklearn.feature_extraction.text import CountVectorizer\n",
    "from nltk.metrics.distance import edit_distance\n",
    "from nltk.stem import SnowballStemmer, WordNetLemmatizer"
   ],
   "metadata": {
    "collapsed": false,
    "pycharm": {
     "name": "#%%\n"
    }
   }
  },
  {
   "cell_type": "markdown",
   "metadata": {},
   "source": [
    "### Расстояние редактирования"
   ]
  },
  {
   "cell_type": "markdown",
   "metadata": {},
   "source": [
    "1.1 Загрузите предобработанные описания рецептов из файла `preprocessed_descriptions.csv`. Получите набор уникальных слов `words`, содержащихся в текстах описаний рецептов (воспользуйтесь `word_tokenize` из `nltk`). "
   ]
  },
  {
   "cell_type": "code",
   "execution_count": 3,
   "outputs": [
    {
     "data": {
      "text/plain": "                                               name  \\\n0             george s at the cove  black bean soup   \n1                healthy for them  yogurt popsicles   \n2                      i can t believe it s spinach   \n3                              italian  gut busters   \n4          love is in the air  beef fondue   sauces   \n...                                             ...   \n29995  zurie s holey rustic olive and cheddar bread   \n29996          zwetschgenkuchen  bavarian plum cake   \n29997   zwiebelkuchen   southwest german onion cake   \n29998                                   zydeco soup   \n29999        cookies by design   cookies on a stick   \n\n                                             description  \n0      an original recipe created by chef scott meska...  \n1      my children and their friends ask for my homem...  \n2                  these were so go it surprised even me  \n3      my sisterinlaw made these for us at a family g...  \n4      i think a fondue is a very romantic casual din...  \n...                                                  ...  \n29995  this is based on a french recipe but i changed...  \n29996  this is a traditional fresh plum cake thought ...  \n29997  this is a traditional late summer early fall s...  \n29998  this is a delicious soup that i originally fou...  \n29999  ive heard of the cookies by design company but...  \n\n[30000 rows x 2 columns]",
      "text/html": "<div>\n<style scoped>\n    .dataframe tbody tr th:only-of-type {\n        vertical-align: middle;\n    }\n\n    .dataframe tbody tr th {\n        vertical-align: top;\n    }\n\n    .dataframe thead th {\n        text-align: right;\n    }\n</style>\n<table border=\"1\" class=\"dataframe\">\n  <thead>\n    <tr style=\"text-align: right;\">\n      <th></th>\n      <th>name</th>\n      <th>description</th>\n    </tr>\n  </thead>\n  <tbody>\n    <tr>\n      <th>0</th>\n      <td>george s at the cove  black bean soup</td>\n      <td>an original recipe created by chef scott meska...</td>\n    </tr>\n    <tr>\n      <th>1</th>\n      <td>healthy for them  yogurt popsicles</td>\n      <td>my children and their friends ask for my homem...</td>\n    </tr>\n    <tr>\n      <th>2</th>\n      <td>i can t believe it s spinach</td>\n      <td>these were so go it surprised even me</td>\n    </tr>\n    <tr>\n      <th>3</th>\n      <td>italian  gut busters</td>\n      <td>my sisterinlaw made these for us at a family g...</td>\n    </tr>\n    <tr>\n      <th>4</th>\n      <td>love is in the air  beef fondue   sauces</td>\n      <td>i think a fondue is a very romantic casual din...</td>\n    </tr>\n    <tr>\n      <th>...</th>\n      <td>...</td>\n      <td>...</td>\n    </tr>\n    <tr>\n      <th>29995</th>\n      <td>zurie s holey rustic olive and cheddar bread</td>\n      <td>this is based on a french recipe but i changed...</td>\n    </tr>\n    <tr>\n      <th>29996</th>\n      <td>zwetschgenkuchen  bavarian plum cake</td>\n      <td>this is a traditional fresh plum cake thought ...</td>\n    </tr>\n    <tr>\n      <th>29997</th>\n      <td>zwiebelkuchen   southwest german onion cake</td>\n      <td>this is a traditional late summer early fall s...</td>\n    </tr>\n    <tr>\n      <th>29998</th>\n      <td>zydeco soup</td>\n      <td>this is a delicious soup that i originally fou...</td>\n    </tr>\n    <tr>\n      <th>29999</th>\n      <td>cookies by design   cookies on a stick</td>\n      <td>ive heard of the cookies by design company but...</td>\n    </tr>\n  </tbody>\n</table>\n<p>30000 rows × 2 columns</p>\n</div>"
     },
     "execution_count": 3,
     "metadata": {},
     "output_type": "execute_result"
    }
   ],
   "source": [
    "preprocessed_descriptions = pd.read_csv(\"./data/data/preprocessed_descriptions.csv\")\n",
    "preprocessed_descriptions"
   ],
   "metadata": {
    "collapsed": false,
    "pycharm": {
     "name": "#%%\n"
    }
   }
  },
  {
   "cell_type": "code",
   "execution_count": 4,
   "outputs": [
    {
     "data": {
      "text/plain": "array(['an', 'original', 'recipe', ..., 'consensus', 'planted',\n       'creoleive'], dtype=object)"
     },
     "execution_count": 4,
     "metadata": {},
     "output_type": "execute_result"
    }
   ],
   "source": [
    "words_from_desc = pd.Series(nltk.word_tokenize(preprocessed_descriptions[\"description\"].str.cat()))\n",
    "unique_words = words_from_desc.unique()\n",
    "unique_words"
   ],
   "metadata": {
    "collapsed": false,
    "pycharm": {
     "name": "#%%\n"
    }
   }
  },
  {
   "cell_type": "code",
   "execution_count": 7,
   "outputs": [
    {
     "name": "stderr",
     "output_type": "stream",
     "text": [
      "[nltk_data] Downloading package punkt to\n",
      "[nltk_data]     C:\\Users\\Damir\\AppData\\Roaming\\nltk_data...\n",
      "[nltk_data]   Unzipping tokenizers\\punkt.zip.\n"
     ]
    },
    {
     "data": {
      "text/plain": "True"
     },
     "execution_count": 7,
     "metadata": {},
     "output_type": "execute_result"
    }
   ],
   "source": [
    "# nltk.download('punkt')"
   ],
   "metadata": {
    "collapsed": false,
    "pycharm": {
     "name": "#%%\n"
    }
   }
  },
  {
   "cell_type": "markdown",
   "metadata": {},
   "source": [
    "1.2 Сгенерируйте 5 пар случайно выбранных слов и посчитайте между ними расстояние редактирования."
   ]
  },
  {
   "cell_type": "code",
   "execution_count": 5,
   "outputs": [
    {
     "data": {
      "text/plain": "array(['deliciousasparagus', 'yummythese', 'entirelyi', 'fabulous',\n       'onecan'], dtype=object)"
     },
     "execution_count": 5,
     "metadata": {},
     "output_type": "execute_result"
    }
   ],
   "source": [
    "words_list = np.random.choice(unique_words, 5)\n",
    "words_list"
   ],
   "metadata": {
    "collapsed": false,
    "pycharm": {
     "name": "#%%\n"
    }
   }
  },
  {
   "cell_type": "code",
   "execution_count": 274,
   "outputs": [
    {
     "data": {
      "text/plain": "                    deliciousasparagus  yummythese  entirelyi  fabulous  \\\ndeliciousasparagus                 0.0        17.0       15.0      15.0   \nyummythese                        17.0         0.0       10.0       9.0   \nentirelyi                         15.0        10.0        0.0       9.0   \nfabulous                          15.0         9.0        9.0       0.0   \nonecan                            16.0        10.0        7.0       8.0   \n\n                    onecan  \ndeliciousasparagus    16.0  \nyummythese            10.0  \nentirelyi              7.0  \nfabulous               8.0  \nonecan                 0.0  ",
      "text/html": "<div>\n<style scoped>\n    .dataframe tbody tr th:only-of-type {\n        vertical-align: middle;\n    }\n\n    .dataframe tbody tr th {\n        vertical-align: top;\n    }\n\n    .dataframe thead th {\n        text-align: right;\n    }\n</style>\n<table border=\"1\" class=\"dataframe\">\n  <thead>\n    <tr style=\"text-align: right;\">\n      <th></th>\n      <th>deliciousasparagus</th>\n      <th>yummythese</th>\n      <th>entirelyi</th>\n      <th>fabulous</th>\n      <th>onecan</th>\n    </tr>\n  </thead>\n  <tbody>\n    <tr>\n      <th>deliciousasparagus</th>\n      <td>0.0</td>\n      <td>17.0</td>\n      <td>15.0</td>\n      <td>15.0</td>\n      <td>16.0</td>\n    </tr>\n    <tr>\n      <th>yummythese</th>\n      <td>17.0</td>\n      <td>0.0</td>\n      <td>10.0</td>\n      <td>9.0</td>\n      <td>10.0</td>\n    </tr>\n    <tr>\n      <th>entirelyi</th>\n      <td>15.0</td>\n      <td>10.0</td>\n      <td>0.0</td>\n      <td>9.0</td>\n      <td>7.0</td>\n    </tr>\n    <tr>\n      <th>fabulous</th>\n      <td>15.0</td>\n      <td>9.0</td>\n      <td>9.0</td>\n      <td>0.0</td>\n      <td>8.0</td>\n    </tr>\n    <tr>\n      <th>onecan</th>\n      <td>16.0</td>\n      <td>10.0</td>\n      <td>7.0</td>\n      <td>8.0</td>\n      <td>0.0</td>\n    </tr>\n  </tbody>\n</table>\n</div>"
     },
     "execution_count": 274,
     "metadata": {},
     "output_type": "execute_result"
    }
   ],
   "source": [
    "matrix = np.ones((5, 5))\n",
    "for i in range(len(words_list)):\n",
    "    for j in range(len(words_list)):\n",
    "\t    matrix[i][j] = edit_distance(words_list[i], words_list[j])\n",
    "\n",
    "matrix = pd.DataFrame(matrix, columns=words_list, index=words_list)\n",
    "matrix"
   ],
   "metadata": {
    "collapsed": false,
    "pycharm": {
     "name": "#%%\n"
    }
   }
  },
  {
   "cell_type": "markdown",
   "metadata": {},
   "source": [
    "1.3 Напишите функцию, которая для заданного слова `word` возвращает `k` ближайших к нему слов из списка `words` (близость слов измеряется с помощью расстояния Левенштейна)\n"
   ]
  },
  {
   "cell_type": "code",
   "execution_count": 15,
   "outputs": [],
   "source": [
    "def func(word, k):\n",
    "\tlevenshtein_distance = pd.DataFrame(unique_words, columns=[\"word\"])\n",
    "\tlevenshtein_distance[\"length\"] = levenshtein_distance[\"word\"].map(lambda x: edit_distance(word, x))\n",
    "\tprint(levenshtein_distance.sort_values(\"length\")[:k][\"word\"].values)"
   ],
   "metadata": {
    "collapsed": false,
    "pycharm": {
     "name": "#%%\n"
    }
   }
  },
  {
   "cell_type": "code",
   "execution_count": 16,
   "outputs": [
    {
     "name": "stdout",
     "output_type": "stream",
     "text": [
      "['itor' 'itoh' 'itfor' 'tor' 'itd']\n"
     ]
    }
   ],
   "source": [
    "func(\"itor\", 5)"
   ],
   "metadata": {
    "collapsed": false,
    "pycharm": {
     "name": "#%%\n"
    }
   }
  },
  {
   "cell_type": "markdown",
   "metadata": {},
   "source": [
    "### Стемминг, лемматизация"
   ]
  },
  {
   "cell_type": "markdown",
   "metadata": {},
   "source": [
    "2.1 На основе результатов 1.1 создайте `pd.DataFrame` со столбцами: \n",
    "    * word\n",
    "    * stemmed_word \n",
    "    * normalized_word \n",
    "\n",
    "Столбец `word` укажите в качестве индекса. \n",
    "\n",
    "Для стемминга воспользуйтесь `SnowballStemmer`, для лемматизации слов - `WordNetLemmatizer`. Сравните результаты стемминга и лемматизации."
   ]
  },
  {
   "cell_type": "code",
   "execution_count": 25,
   "outputs": [
    {
     "name": "stderr",
     "output_type": "stream",
     "text": [
      "[nltk_data] Downloading package wordnet to\n",
      "[nltk_data]     C:\\Users\\Damir\\AppData\\Roaming\\nltk_data...\n",
      "[nltk_data]   Unzipping corpora\\wordnet.zip.\n"
     ]
    },
    {
     "data": {
      "text/plain": "True"
     },
     "execution_count": 25,
     "metadata": {},
     "output_type": "execute_result"
    }
   ],
   "source": [
    "# nltk.download('wordnet')"
   ],
   "metadata": {
    "collapsed": false,
    "pycharm": {
     "name": "#%%\n"
    }
   }
  },
  {
   "cell_type": "code",
   "execution_count": 28,
   "outputs": [
    {
     "data": {
      "text/plain": "               word stemmed_word normalized_word\n0                an           an              an\n1          original       origin        original\n2            recipe        recip          recipe\n3           created        creat         created\n4                by           by              by\n...             ...          ...             ...\n47574  measuresthis  measuresthi    measuresthis\n47575      augsburg     augsburg        augsburg\n47576     consensus    consensus       consensus\n47577       planted        plant         planted\n47578     creoleive     creoleiv       creoleive\n\n[47579 rows x 3 columns]",
      "text/html": "<div>\n<style scoped>\n    .dataframe tbody tr th:only-of-type {\n        vertical-align: middle;\n    }\n\n    .dataframe tbody tr th {\n        vertical-align: top;\n    }\n\n    .dataframe thead th {\n        text-align: right;\n    }\n</style>\n<table border=\"1\" class=\"dataframe\">\n  <thead>\n    <tr style=\"text-align: right;\">\n      <th></th>\n      <th>word</th>\n      <th>stemmed_word</th>\n      <th>normalized_word</th>\n    </tr>\n  </thead>\n  <tbody>\n    <tr>\n      <th>0</th>\n      <td>an</td>\n      <td>an</td>\n      <td>an</td>\n    </tr>\n    <tr>\n      <th>1</th>\n      <td>original</td>\n      <td>origin</td>\n      <td>original</td>\n    </tr>\n    <tr>\n      <th>2</th>\n      <td>recipe</td>\n      <td>recip</td>\n      <td>recipe</td>\n    </tr>\n    <tr>\n      <th>3</th>\n      <td>created</td>\n      <td>creat</td>\n      <td>created</td>\n    </tr>\n    <tr>\n      <th>4</th>\n      <td>by</td>\n      <td>by</td>\n      <td>by</td>\n    </tr>\n    <tr>\n      <th>...</th>\n      <td>...</td>\n      <td>...</td>\n      <td>...</td>\n    </tr>\n    <tr>\n      <th>47574</th>\n      <td>measuresthis</td>\n      <td>measuresthi</td>\n      <td>measuresthis</td>\n    </tr>\n    <tr>\n      <th>47575</th>\n      <td>augsburg</td>\n      <td>augsburg</td>\n      <td>augsburg</td>\n    </tr>\n    <tr>\n      <th>47576</th>\n      <td>consensus</td>\n      <td>consensus</td>\n      <td>consensus</td>\n    </tr>\n    <tr>\n      <th>47577</th>\n      <td>planted</td>\n      <td>plant</td>\n      <td>planted</td>\n    </tr>\n    <tr>\n      <th>47578</th>\n      <td>creoleive</td>\n      <td>creoleiv</td>\n      <td>creoleive</td>\n    </tr>\n  </tbody>\n</table>\n<p>47579 rows × 3 columns</p>\n</div>"
     },
     "execution_count": 28,
     "metadata": {},
     "output_type": "execute_result"
    }
   ],
   "source": [
    "lemmatizer = WordNetLemmatizer()\n",
    "stemmer = SnowballStemmer('english')\n",
    "stem_lemm = pd.DataFrame(unique_words, columns=[\"word\"])\n",
    "stem_lemm[\"stemmed_word\"] = stem_lemm[\"word\"].map(lambda name: stemmer.stem(name))\n",
    "stem_lemm[\"normalized_word\"] = stem_lemm[\"word\"].map(lambda name: lemmatizer.lemmatize(name))\n",
    "stem_lemm.index = stem_lemm[\"word\"]"
   ],
   "metadata": {
    "collapsed": false,
    "pycharm": {
     "name": "#%%\n"
    }
   }
  },
  {
   "cell_type": "markdown",
   "metadata": {},
   "source": [
    "2.2. Удалите стоп-слова из описаний рецептов. Какую долю об общего количества слов составляли стоп-слова? Сравните топ-10 самых часто употребляемых слов до и после удаления стоп-слов."
   ]
  },
  {
   "cell_type": "code",
   "execution_count": 5,
   "outputs": [],
   "source": [
    "from nltk.corpus import stopwords\n",
    "\n",
    "stops = set(stopwords.words('english'))"
   ],
   "metadata": {
    "collapsed": false,
    "pycharm": {
     "name": "#%%\n"
    }
   }
  },
  {
   "cell_type": "code",
   "execution_count": 21,
   "outputs": [
    {
     "data": {
      "text/plain": "the           39495\na             32404\nand           30238\nto            23421\ni             21419\n              ...  \nwining            1\nmadigascar        1\nbenner            1\nsensea            1\ncreoleive         1\nLength: 47579, dtype: int64"
     },
     "execution_count": 21,
     "metadata": {},
     "output_type": "execute_result"
    }
   ],
   "source": [
    "from collections import Counter\n",
    "\n",
    "words_count = pd.Series(Counter(words_from_desc))\n",
    "words_count = words_count.sort_values(ascending=False)\n",
    "words_count"
   ],
   "metadata": {
    "collapsed": false,
    "pycharm": {
     "name": "#%%\n"
    }
   }
  },
  {
   "cell_type": "code",
   "execution_count": 7,
   "outputs": [
    {
     "data": {
      "text/plain": "recipe        14158\nmake           6124\nuse            4537\ntime           4362\ngreat          4061\n              ...  \nwining            1\nmadigascar        1\nbenner            1\nsensea            1\ncreoleive         1\nLength: 47443, dtype: int64"
     },
     "execution_count": 7,
     "metadata": {},
     "output_type": "execute_result"
    }
   ],
   "source": [
    "mask = words_count.index.map(lambda x: True if x not in stops else False)\n",
    "cleared_words = words_count[mask]\n",
    "cleared_words"
   ],
   "metadata": {
    "collapsed": false,
    "pycharm": {
     "name": "#%%\n"
    }
   }
  },
  {
   "cell_type": "code",
   "execution_count": 29,
   "outputs": [
    {
     "data": {
      "text/plain": "47443"
     },
     "execution_count": 29,
     "metadata": {},
     "output_type": "execute_result"
    }
   ],
   "source": [
    "mask.values.sum()"
   ],
   "metadata": {
    "collapsed": false,
    "pycharm": {
     "name": "#%%\n"
    }
   }
  },
  {
   "cell_type": "code",
   "execution_count": 30,
   "outputs": [
    {
     "data": {
      "text/plain": "'Доля стоп слов: 0.447'"
     },
     "execution_count": 30,
     "metadata": {},
     "output_type": "execute_result"
    }
   ],
   "source": [
    "f\"Доля стоп слов: {(words_count.sum() - cleared_words.sum()) / words_count.sum():.3}\""
   ],
   "metadata": {
    "collapsed": false,
    "pycharm": {
     "name": "#%%\n"
    }
   }
  },
  {
   "cell_type": "code",
   "execution_count": 35,
   "outputs": [
    {
     "data": {
      "text/plain": "['the', 'a', 'and', 'to', 'i', 'is', 'this', 'it', 'of', 'for']"
     },
     "execution_count": 35,
     "metadata": {},
     "output_type": "execute_result"
    }
   ],
   "source": [
    "words_count[:10].index.tolist()"
   ],
   "metadata": {
    "collapsed": false,
    "pycharm": {
     "name": "#%%\n"
    }
   }
  },
  {
   "cell_type": "code",
   "execution_count": 36,
   "outputs": [
    {
     "data": {
      "text/plain": "['recipe',\n 'make',\n 'use',\n 'time',\n 'great',\n 'like',\n 'easy',\n 'made',\n 'one',\n 'good']"
     },
     "execution_count": 36,
     "metadata": {},
     "output_type": "execute_result"
    }
   ],
   "source": [
    "cleared_words[:10].index.tolist()"
   ],
   "metadata": {
    "collapsed": false,
    "pycharm": {
     "name": "#%%\n"
    }
   }
  },
  {
   "cell_type": "markdown",
   "metadata": {},
   "source": [
    "### Векторное представление текста"
   ]
  },
  {
   "cell_type": "markdown",
   "metadata": {},
   "source": [
    "3.1 Выберите случайным образом 5 рецептов из набора данных. Представьте описание каждого рецепта в виде числового вектора при помощи `TfidfVectorizer`"
   ]
  },
  {
   "cell_type": "code",
   "execution_count": 18,
   "outputs": [
    {
     "data": {
      "text/plain": "                                name  \\\n9379              deviled egg spread   \n3548   bourbon buttered apple slices   \n24810       souper dooper bird bowls   \n27011         taramasalata  homemade   \n21985                quick spaghetti   \n\n                                             description  \n9379   i love deviled eggs but i dont like the tediou...  \n3548                 a savory side dish for thanksgiving  \n24810  these are tasty they are the perfect size for ...  \n27011  you can buy this anywhere but somehow there is...  \n21985                fast and easy for those hectic days  ",
      "text/html": "<div>\n<style scoped>\n    .dataframe tbody tr th:only-of-type {\n        vertical-align: middle;\n    }\n\n    .dataframe tbody tr th {\n        vertical-align: top;\n    }\n\n    .dataframe thead th {\n        text-align: right;\n    }\n</style>\n<table border=\"1\" class=\"dataframe\">\n  <thead>\n    <tr style=\"text-align: right;\">\n      <th></th>\n      <th>name</th>\n      <th>description</th>\n    </tr>\n  </thead>\n  <tbody>\n    <tr>\n      <th>9379</th>\n      <td>deviled egg spread</td>\n      <td>i love deviled eggs but i dont like the tediou...</td>\n    </tr>\n    <tr>\n      <th>3548</th>\n      <td>bourbon buttered apple slices</td>\n      <td>a savory side dish for thanksgiving</td>\n    </tr>\n    <tr>\n      <th>24810</th>\n      <td>souper dooper bird bowls</td>\n      <td>these are tasty they are the perfect size for ...</td>\n    </tr>\n    <tr>\n      <th>27011</th>\n      <td>taramasalata  homemade</td>\n      <td>you can buy this anywhere but somehow there is...</td>\n    </tr>\n    <tr>\n      <th>21985</th>\n      <td>quick spaghetti</td>\n      <td>fast and easy for those hectic days</td>\n    </tr>\n  </tbody>\n</table>\n</div>"
     },
     "execution_count": 18,
     "metadata": {},
     "output_type": "execute_result"
    }
   ],
   "source": [
    "sample = preprocessed_descriptions.sample(5)\n",
    "sample"
   ],
   "metadata": {
    "collapsed": false,
    "pycharm": {
     "name": "#%%\n"
    }
   }
  },
  {
   "cell_type": "code",
   "execution_count": 19,
   "outputs": [
    {
     "name": "stderr",
     "output_type": "stream",
     "text": [
      "f:\\programming\\python\\bigdatapt-bdpt-\\venv39\\lib\\site-packages\\sklearn\\utils\\deprecation.py:87: FutureWarning: Function get_feature_names is deprecated; get_feature_names is deprecated in 1.0 and will be removed in 1.2. Please use get_feature_names_out instead.\n",
      "  warnings.warn(msg, category=FutureWarning)\n"
     ]
    },
    {
     "data": {
      "text/plain": "          deviled egg spread  bourbon buttered apple slices  \\\nack                 0.171888                            0.0   \nactually            0.000000                            0.0   \nadd                 0.000000                            0.0   \nadjust              0.000000                            0.0   \nadjusted            0.000000                            0.0   \n...                      ...                            ...   \nwine                0.171888                            0.0   \nwith                0.138678                            0.0   \nyolks               0.171888                            0.0   \nyou                 0.000000                            0.0   \nzaars               0.000000                            0.0   \n\n          souper dooper bird bowls  taramasalata  homemade  quick spaghetti  \nack                        0.00000                0.000000              0.0  \nactually                   0.00000                0.070552              0.0  \nadd                        0.00000                0.070552              0.0  \nadjust                     0.00000                0.070552              0.0  \nadjusted                   0.00000                0.070552              0.0  \n...                            ...                     ...              ...  \nwine                       0.00000                0.000000              0.0  \nwith                       0.17652                0.000000              0.0  \nyolks                      0.00000                0.000000              0.0  \nyou                        0.00000                0.070552              0.0  \nzaars                      0.00000                0.141105              0.0  \n\n[123 rows x 5 columns]",
      "text/html": "<div>\n<style scoped>\n    .dataframe tbody tr th:only-of-type {\n        vertical-align: middle;\n    }\n\n    .dataframe tbody tr th {\n        vertical-align: top;\n    }\n\n    .dataframe thead th {\n        text-align: right;\n    }\n</style>\n<table border=\"1\" class=\"dataframe\">\n  <thead>\n    <tr style=\"text-align: right;\">\n      <th></th>\n      <th>deviled egg spread</th>\n      <th>bourbon buttered apple slices</th>\n      <th>souper dooper bird bowls</th>\n      <th>taramasalata  homemade</th>\n      <th>quick spaghetti</th>\n    </tr>\n  </thead>\n  <tbody>\n    <tr>\n      <th>ack</th>\n      <td>0.171888</td>\n      <td>0.0</td>\n      <td>0.00000</td>\n      <td>0.000000</td>\n      <td>0.0</td>\n    </tr>\n    <tr>\n      <th>actually</th>\n      <td>0.000000</td>\n      <td>0.0</td>\n      <td>0.00000</td>\n      <td>0.070552</td>\n      <td>0.0</td>\n    </tr>\n    <tr>\n      <th>add</th>\n      <td>0.000000</td>\n      <td>0.0</td>\n      <td>0.00000</td>\n      <td>0.070552</td>\n      <td>0.0</td>\n    </tr>\n    <tr>\n      <th>adjust</th>\n      <td>0.000000</td>\n      <td>0.0</td>\n      <td>0.00000</td>\n      <td>0.070552</td>\n      <td>0.0</td>\n    </tr>\n    <tr>\n      <th>adjusted</th>\n      <td>0.000000</td>\n      <td>0.0</td>\n      <td>0.00000</td>\n      <td>0.070552</td>\n      <td>0.0</td>\n    </tr>\n    <tr>\n      <th>...</th>\n      <td>...</td>\n      <td>...</td>\n      <td>...</td>\n      <td>...</td>\n      <td>...</td>\n    </tr>\n    <tr>\n      <th>wine</th>\n      <td>0.171888</td>\n      <td>0.0</td>\n      <td>0.00000</td>\n      <td>0.000000</td>\n      <td>0.0</td>\n    </tr>\n    <tr>\n      <th>with</th>\n      <td>0.138678</td>\n      <td>0.0</td>\n      <td>0.17652</td>\n      <td>0.000000</td>\n      <td>0.0</td>\n    </tr>\n    <tr>\n      <th>yolks</th>\n      <td>0.171888</td>\n      <td>0.0</td>\n      <td>0.00000</td>\n      <td>0.000000</td>\n      <td>0.0</td>\n    </tr>\n    <tr>\n      <th>you</th>\n      <td>0.000000</td>\n      <td>0.0</td>\n      <td>0.00000</td>\n      <td>0.070552</td>\n      <td>0.0</td>\n    </tr>\n    <tr>\n      <th>zaars</th>\n      <td>0.000000</td>\n      <td>0.0</td>\n      <td>0.00000</td>\n      <td>0.141105</td>\n      <td>0.0</td>\n    </tr>\n  </tbody>\n</table>\n<p>123 rows × 5 columns</p>\n</div>"
     },
     "execution_count": 19,
     "metadata": {},
     "output_type": "execute_result"
    }
   ],
   "source": [
    "from sklearn.feature_extraction.text import TfidfVectorizer\n",
    "\n",
    "tfidf_vectorizer = TfidfVectorizer(use_idf=True)\n",
    "\n",
    "list_with_descriptions = []\n",
    "for index, columns in sample.iterrows():\n",
    "\tdescription = columns[1]\n",
    "\tlist_with_descriptions.append(description)\n",
    "\n",
    "tfidf_vectorizer_vectors = tfidf_vectorizer.fit_transform(list_with_descriptions)\n",
    "\n",
    "tfidf_vectorizer_recipes_compare_dataframe = pd.DataFrame(index=tfidf_vectorizer.get_feature_names(),\n",
    "                                                          columns=sample[\"name\"].values)\n",
    "for i in range (tfidf_vectorizer_vectors.shape[0]):\n",
    "\ttfidf_vectorizer_recipes_compare_dataframe.iloc[:, i] = tfidf_vectorizer_vectors[i].T.toarray()\n",
    "tfidf_vectorizer_recipes_compare_dataframe"
   ],
   "metadata": {
    "collapsed": false,
    "pycharm": {
     "name": "#%%\n"
    }
   }
  },
  {
   "cell_type": "markdown",
   "metadata": {},
   "source": [
    "3.2 Вычислите близость между каждой парой рецептов, выбранных в задании 3.1, используя косинусное расстояние (`scipy.spatial.distance.cosine`) Результаты оформите в виде таблицы `pd.DataFrame`. В качестве названий строк и столбцов используйте названия рецептов."
   ]
  },
  {
   "cell_type": "code",
   "execution_count": 20,
   "outputs": [
    {
     "data": {
      "text/plain": "name                           deviled egg spread  \\\ndeviled egg spread                            1.0   \nbourbon buttered apple slices                 1.0   \nsouper dooper bird bowls                      1.0   \ntaramasalata  homemade                        1.0   \nquick spaghetti                               1.0   \n\nname                           bourbon buttered apple slices  \\\ndeviled egg spread                                       1.0   \nbourbon buttered apple slices                            1.0   \nsouper dooper bird bowls                                 1.0   \ntaramasalata  homemade                                   1.0   \nquick spaghetti                                          1.0   \n\nname                           souper dooper bird bowls  \\\ndeviled egg spread                                  1.0   \nbourbon buttered apple slices                       1.0   \nsouper dooper bird bowls                            1.0   \ntaramasalata  homemade                              1.0   \nquick spaghetti                                     1.0   \n\nname                           taramasalata  homemade  quick spaghetti  \ndeviled egg spread                                1.0              1.0  \nbourbon buttered apple slices                     1.0              1.0  \nsouper dooper bird bowls                          1.0              1.0  \ntaramasalata  homemade                            1.0              1.0  \nquick spaghetti                                   1.0              1.0  ",
      "text/html": "<div>\n<style scoped>\n    .dataframe tbody tr th:only-of-type {\n        vertical-align: middle;\n    }\n\n    .dataframe tbody tr th {\n        vertical-align: top;\n    }\n\n    .dataframe thead th {\n        text-align: right;\n    }\n</style>\n<table border=\"1\" class=\"dataframe\">\n  <thead>\n    <tr style=\"text-align: right;\">\n      <th>name</th>\n      <th>deviled egg spread</th>\n      <th>bourbon buttered apple slices</th>\n      <th>souper dooper bird bowls</th>\n      <th>taramasalata  homemade</th>\n      <th>quick spaghetti</th>\n    </tr>\n  </thead>\n  <tbody>\n    <tr>\n      <th>deviled egg spread</th>\n      <td>1.0</td>\n      <td>1.0</td>\n      <td>1.0</td>\n      <td>1.0</td>\n      <td>1.0</td>\n    </tr>\n    <tr>\n      <th>bourbon buttered apple slices</th>\n      <td>1.0</td>\n      <td>1.0</td>\n      <td>1.0</td>\n      <td>1.0</td>\n      <td>1.0</td>\n    </tr>\n    <tr>\n      <th>souper dooper bird bowls</th>\n      <td>1.0</td>\n      <td>1.0</td>\n      <td>1.0</td>\n      <td>1.0</td>\n      <td>1.0</td>\n    </tr>\n    <tr>\n      <th>taramasalata  homemade</th>\n      <td>1.0</td>\n      <td>1.0</td>\n      <td>1.0</td>\n      <td>1.0</td>\n      <td>1.0</td>\n    </tr>\n    <tr>\n      <th>quick spaghetti</th>\n      <td>1.0</td>\n      <td>1.0</td>\n      <td>1.0</td>\n      <td>1.0</td>\n      <td>1.0</td>\n    </tr>\n  </tbody>\n</table>\n</div>"
     },
     "execution_count": 20,
     "metadata": {},
     "output_type": "execute_result"
    }
   ],
   "source": [
    "proximity_distance = np.ones((5, 5))\n",
    "proximity_distance = pd.DataFrame(proximity_distance, index=sample[\"name\"].values, columns=sample[\"name\"])\n",
    "proximity_distance"
   ],
   "metadata": {
    "collapsed": false,
    "pycharm": {
     "name": "#%%\n"
    }
   }
  },
  {
   "cell_type": "code",
   "execution_count": 21,
   "outputs": [
    {
     "data": {
      "text/plain": "name                           deviled egg spread  \\\ndeviled egg spread                       0.000000   \nbourbon buttered apple slices            1.000000   \nsouper dooper bird bowls                 0.908050   \ntaramasalata  homemade                   0.892277   \nquick spaghetti                          0.919768   \n\nname                           bourbon buttered apple slices  \\\ndeviled egg spread                                  1.000000   \nbourbon buttered apple slices                       0.000000   \nsouper dooper bird bowls                            0.832727   \ntaramasalata  homemade                              1.000000   \nquick spaghetti                                     0.905952   \n\nname                           souper dooper bird bowls  \\\ndeviled egg spread                             0.908050   \nbourbon buttered apple slices                  0.832727   \nsouper dooper bird bowls                       0.000000   \ntaramasalata  homemade                         0.930766   \nquick spaghetti                                0.916676   \n\nname                           taramasalata  homemade  quick spaghetti  \ndeviled egg spread                           0.892277         0.919768  \nbourbon buttered apple slices                1.000000         0.905952  \nsouper dooper bird bowls                     0.930766         0.916676  \ntaramasalata  homemade                       0.000000         0.946262  \nquick spaghetti                              0.946262         0.000000  ",
      "text/html": "<div>\n<style scoped>\n    .dataframe tbody tr th:only-of-type {\n        vertical-align: middle;\n    }\n\n    .dataframe tbody tr th {\n        vertical-align: top;\n    }\n\n    .dataframe thead th {\n        text-align: right;\n    }\n</style>\n<table border=\"1\" class=\"dataframe\">\n  <thead>\n    <tr style=\"text-align: right;\">\n      <th>name</th>\n      <th>deviled egg spread</th>\n      <th>bourbon buttered apple slices</th>\n      <th>souper dooper bird bowls</th>\n      <th>taramasalata  homemade</th>\n      <th>quick spaghetti</th>\n    </tr>\n  </thead>\n  <tbody>\n    <tr>\n      <th>deviled egg spread</th>\n      <td>0.000000</td>\n      <td>1.000000</td>\n      <td>0.908050</td>\n      <td>0.892277</td>\n      <td>0.919768</td>\n    </tr>\n    <tr>\n      <th>bourbon buttered apple slices</th>\n      <td>1.000000</td>\n      <td>0.000000</td>\n      <td>0.832727</td>\n      <td>1.000000</td>\n      <td>0.905952</td>\n    </tr>\n    <tr>\n      <th>souper dooper bird bowls</th>\n      <td>0.908050</td>\n      <td>0.832727</td>\n      <td>0.000000</td>\n      <td>0.930766</td>\n      <td>0.916676</td>\n    </tr>\n    <tr>\n      <th>taramasalata  homemade</th>\n      <td>0.892277</td>\n      <td>1.000000</td>\n      <td>0.930766</td>\n      <td>0.000000</td>\n      <td>0.946262</td>\n    </tr>\n    <tr>\n      <th>quick spaghetti</th>\n      <td>0.919768</td>\n      <td>0.905952</td>\n      <td>0.916676</td>\n      <td>0.946262</td>\n      <td>0.000000</td>\n    </tr>\n  </tbody>\n</table>\n</div>"
     },
     "execution_count": 21,
     "metadata": {},
     "output_type": "execute_result"
    }
   ],
   "source": [
    "from scipy.spatial.distance import cosine\n",
    "\n",
    "for i in proximity_distance:\n",
    "\tfor j in proximity_distance.index:\n",
    "\t\tproximity_distance[i][j] = \\\n",
    "\t\t\tcosine(tfidf_vectorizer_recipes_compare_dataframe[i], tfidf_vectorizer_recipes_compare_dataframe[j])\n",
    "\n",
    "proximity_distance"
   ],
   "metadata": {
    "collapsed": false,
    "pycharm": {
     "name": "#%%\n"
    }
   }
  },
  {
   "cell_type": "markdown",
   "metadata": {},
   "source": [
    "3.3 Какие рецепты являются наиболее похожими? Прокомментируйте результат (словами)."
   ]
  },
  {
   "cell_type": "markdown",
   "source": [
    "Наиболее похожие рецепты, у которых значение в датафрейме стремится ближе к нулю"
   ],
   "metadata": {
    "collapsed": false,
    "pycharm": {
     "name": "#%% md\n"
    }
   }
  },
  {
   "cell_type": "code",
   "execution_count": null,
   "outputs": [],
   "source": [],
   "metadata": {
    "collapsed": false,
    "pycharm": {
     "name": "#%%\n"
    }
   }
  }
 ],
 "metadata": {
  "kernelspec": {
   "display_name": "Python 3 (ipykernel)",
   "language": "python",
   "name": "python3"
  },
  "language_info": {
   "codemirror_mode": {
    "name": "ipython",
    "version": 3
   },
   "file_extension": ".py",
   "mimetype": "text/x-python",
   "name": "python",
   "nbconvert_exporter": "python",
   "pygments_lexer": "ipython3",
   "version": "3.8.3"
  }
 },
 "nbformat": 4,
 "nbformat_minor": 4
}