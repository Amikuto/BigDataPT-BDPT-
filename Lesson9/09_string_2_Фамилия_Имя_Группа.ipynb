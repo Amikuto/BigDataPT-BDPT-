{
 "cells": [
  {
   "cell_type": "markdown",
   "metadata": {},
   "source": [
    "# Введение в обработку текста на естественном языке"
   ]
  },
  {
   "cell_type": "markdown",
   "metadata": {},
   "source": [
    "Материалы:\n",
    "* Макрушин С.В. Лекция 9: Введение в обработку текста на естественном языке\\\n",
    "* https://realpython.com/nltk-nlp-python/\n",
    "* https://scikit-learn.org/stable/modules/feature_extraction.html"
   ]
  },
  {
   "cell_type": "markdown",
   "metadata": {},
   "source": [
    "## Задачи для совместного разбора"
   ]
  },
  {
   "cell_type": "code",
   "execution_count": 8,
   "metadata": {},
   "outputs": [],
   "source": [
    "import pandas as pd\n",
    "import numpy as np\n",
    "from sklearn.feature_extraction.text import CountVectorizer\n",
    "import pymorphy2\n",
    "from nltk.metrics.distance import edit_distance"
   ]
  },
  {
   "cell_type": "markdown",
   "metadata": {},
   "source": [
    "1. Считайте слова из файла `litw-win.txt` и запишите их в список `words`. В заданном предложении исправьте все опечатки, заменив слова с опечатками на ближайшие (в смысле расстояния Левенштейна) к ним слова из списка `words`. Считайте, что в слове есть опечатка, если данное слово не содержится в списке `words`. "
   ]
  },
  {
   "cell_type": "code",
   "execution_count": 9,
   "outputs": [
    {
     "data": {
      "text/plain": "1"
     },
     "execution_count": 9,
     "metadata": {},
     "output_type": "execute_result"
    }
   ],
   "source": [
    "s1 = 'ПИ19-4'\n",
    "s2 = 'ПИ19-3'\n",
    "edit_distance(s1, s2)"
   ],
   "metadata": {
    "collapsed": false,
    "pycharm": {
     "name": "#%%\n"
    }
   }
  },
  {
   "cell_type": "code",
   "execution_count": 25,
   "outputs": [
    {
     "data": {
      "text/plain": "['и',\n 'в',\n 'я',\n 'с',\n 'а',\n 'к',\n 'у',\n 'о',\n 'н',\n 'п',\n 'ж',\n 'б',\n 'т',\n 'д',\n 'м',\n 'ч',\n 'з',\n 'г',\n 'е',\n 'р',\n 'э',\n 'л',\n 'х',\n 'ш',\n 'ф',\n 'ц',\n 'щ',\n 'й',\n 'ю',\n 'ы',\n 'ъ',\n 'ь',\n 'не',\n 'на',\n 'он',\n 'то',\n 'но',\n 'же',\n 'вы',\n 'по',\n 'да',\n 'за',\n 'бы',\n 'ты',\n 'от',\n 'из',\n 'ее',\n 'до',\n 'ну',\n 'ни',\n 'ли',\n 'уж',\n 'во',\n 'их',\n 'мы',\n 'со',\n 'ей',\n 'об',\n 'ко',\n 'ах',\n 'им',\n 'ка',\n 'та',\n 'пр',\n 'те',\n 'чт',\n 'ту',\n 'го',\n 'де',\n 'вс',\n 'эт',\n 'мо',\n 'ра',\n 'ст',\n 'ха',\n 'хе',\n 'ум',\n 'се',\n 'эх',\n 'гм',\n 'ме',\n 'св',\n 'ль',\n 'ег',\n 'пе',\n 'ва',\n 'са',\n 'ве',\n 'ох',\n 'бо',\n 'хо',\n 'че',\n 'сл',\n 'од',\n 'бе',\n 'мн',\n 'ай',\n 'ею',\n 'ос',\n 'ск',\n 'ви',\n 'ми',\n 'ма',\n 'сп',\n 'ба',\n 'ес',\n 'бу',\n 'гл',\n 'що',\n 'эй',\n 'ем',\n 'кр',\n 'см',\n 'др',\n 'лю',\n 'па',\n 'ро',\n 'зн',\n 'ле',\n 'як',\n 'тр',\n 'жи',\n 'ел',\n 'ус',\n 'фу',\n 'дв',\n 'ру',\n 'ал',\n 'ой',\n 'си',\n 'ду',\n 'вз',\n 'ещ',\n 'хи',\n 'чи',\n 'вд',\n 'ил',\n 'ух',\n 'ча',\n 'гр',\n 'пи',\n 'бл',\n 'ре',\n 'су',\n 'ге',\n 'ку',\n 'оп',\n 'жа',\n 'ис',\n 'оч',\n 'эк',\n 'дл',\n 'пл',\n 'ин',\n 'пу',\n 'фр',\n 'ан',\n 'бр',\n 'чу',\n 'му',\n 'ув',\n 'вп',\n 'кн',\n 'ив',\n 'ок',\n 'ад',\n 'лу',\n 'уг',\n 'вр',\n 'ло',\n 'це',\n 'гу',\n 'ла',\n 'ше',\n 'ср',\n 'ти',\n 'уд',\n 'фе',\n 'ди',\n 'тв',\n 'гд',\n 'сд',\n 'вн',\n 'ид',\n 'уб',\n 'щи',\n 'зд',\n 'уп',\n 'сч',\n 'уз',\n 'га',\n 'ог',\n 'ул',\n 'ша',\n 'ар',\n 'ут',\n 'фи',\n 'аж',\n 'ед',\n 'кт',\n 'гг',\n 'кл',\n 'сн',\n 'ук',\n 'зе',\n 'иг',\n 'зи',\n 'ки',\n 'ца',\n 'яр',\n 'дн',\n 'мя',\n 'сы',\n 'фа',\n 'вм',\n 'зл',\n 'ож',\n 'сю',\n 'шу',\n 'пя',\n 'тя',\n 'шл',\n 'шт',\n 'вл',\n 'ля',\n 'ор',\n 'хр',\n 'ще',\n 'ак',\n 'дя',\n 'ит',\n 'уч',\n 'ху',\n 'ши',\n 'фо',\n 'яв',\n 'би',\n 'ды',\n 'ры',\n 'уй',\n 'юг',\n 'вв',\n 'иб',\n 'кв',\n 'сб',\n 'сх',\n 'сь',\n 'зв',\n 'ол',\n 'тс',\n 'яд',\n 'аз',\n 'вч',\n 'ет',\n 'зу',\n 'ке',\n 'хл',\n 'аг',\n 'ев',\n 'еж',\n 'жд',\n 'ны',\n 'ов',\n 'пь',\n 'яс',\n 'вт',\n 'зо',\n 'ня',\n 'оз',\n 'оф',\n 'ош',\n 'ся',\n 'тю',\n 'уе',\n 'ун',\n 'уш',\n 'хм',\n 'ав',\n 'жу',\n 'мл',\n 'мм',\n 'ри',\n 'ть',\n 'чр',\n 'шк',\n 'ап',\n 'ас',\n 'нр',\n 'сг',\n 'сс',\n 'чш',\n 'юн',\n 'яй',\n 'ам',\n 'вг',\n 'ву',\n 'вх',\n 'дю',\n 'км',\n 'мг',\n 'ом',\n 'ощ',\n 'пы',\n 'рт',\n 'рю',\n 'ря',\n 'сф',\n 'сц',\n 'ур',\n 'хв',\n 'шп',\n 'шю',\n 'ая',\n 'бя',\n 'ги',\n 'гн',\n 'дж',\n 'ер',\n 'ик',\n 'ищ',\n 'съ',\n 'фл',\n 'чь',\n 'шо',\n 'яз',\n 'аи',\n 'ат',\n 'ау',\n 'вк',\n 'вя',\n 'ие',\n 'ий',\n 'кс',\n 'кх',\n 'тц',\n 'уа',\n 'цв',\n 'ци',\n 'эп',\n 'юх',\n 'ен',\n 'еф',\n 'ех',\n 'зы',\n 'иа',\n 'иж',\n 'ии',\n 'ио',\n 'ип',\n 'ич',\n 'лы',\n 'мс',\n 'мф',\n 'нс',\n 'ое',\n 'оц',\n 'пш',\n 'сж',\n 'сш',\n 'тщ',\n 'уф',\n 'цо',\n 'цу',\n 'чо',\n 'шш',\n 'эс',\n 'юм',\n 'ют',\n 'аб',\n 'аф',\n 'аш',\n 'бь',\n 'бю',\n 'вш',\n 'въ',\n 'гв',\n 'гю',\n 'дз',\n 'дм',\n 'дь',\n 'еш',\n 'жр',\n 'зг',\n 'зз',\n 'зр',\n 'иу',\n 'иф',\n 'кь',\n 'лб',\n 'лг',\n 'лж',\n 'лт',\n 'мр',\n 'мч',\n 'нь',\n 'нэ',\n 'ню',\n 'пт',\n 'сз',\n 'тк',\n 'тл',\n 'тт',\n 'тэ',\n 'уи',\n 'ущ',\n 'ую',\n 'фэ',\n 'цы',\n 'шв',\n 'шм',\n 'шь',\n 'ща',\n 'щу',\n 'ые',\n 'ый',\n 'ыч',\n 'эа',\n 'эл',\n 'эм',\n 'эн',\n 'эф',\n 'ээ',\n 'юб',\n 'юл',\n 'юс',\n 'яб',\n 'ян',\n 'ят',\n 'ях',\n 'ящ',\n 'что',\n 'как',\n 'это',\n 'все',\n 'его',\n 'так',\n 'она',\n 'мне',\n 'еще',\n 'вот',\n 'был',\n 'ему',\n 'нет',\n 'уже',\n 'вас',\n 'вам',\n 'или',\n 'для',\n 'они',\n 'тут',\n 'сам',\n 'чем',\n 'раз',\n 'там',\n 'где',\n 'под',\n 'без',\n 'ней',\n 'кто',\n 'мой',\n 'ним',\n 'тем',\n 'при',\n 'про',\n 'нас',\n 'них',\n 'мог',\n 'нее',\n 'эти',\n 'тот',\n 'два',\n 'том',\n 'всю',\n 'над',\n 'три',\n 'эту',\n 'лет',\n 'нем',\n 'нам',\n 'бог',\n 'вся',\n 'эта',\n 'моя',\n 'мое',\n 'оно',\n 'всг',\n 'пор',\n 'две',\n 'наш',\n 'мои',\n 'дня',\n 'тех',\n 'час',\n 'дом',\n 'ибо',\n 'мою',\n 'сих',\n 'нею',\n 'оба',\n 'вон',\n 'той',\n 'вид',\n 'год',\n 'ваш',\n 'дал',\n 'сел',\n 'кое',\n 'ума',\n 'сто',\n 'рад',\n 'дай',\n 'обо',\n 'чай',\n 'пол',\n 'рук',\n 'шел',\n 'нос',\n 'дам',\n 'обе',\n 'дни',\n 'сей',\n 'сон',\n 'кем',\n 'муж',\n 'сын',\n 'имя',\n 'жил',\n 'рот',\n 'дух',\n 'сил',\n 'мир',\n 'ног',\n 'уме',\n 'пан',\n 'сне',\n 'ста',\n 'шею',\n 'сад',\n 'чаю',\n 'изо',\n 'сво',\n 'миг',\n 'век',\n 'мол',\n 'пот',\n 'шум',\n 'дел',\n 'дед',\n 'иди',\n 'пер',\n 'лиц',\n 'сем',\n 'лес',\n 'тек',\n 'шла',\n 'шаг',\n 'очи',\n 'душ',\n 'суд',\n 'гор',\n 'пре',\n 'тон',\n 'иду',\n 'тол',\n 'лег',\n 'шли',\n 'пил',\n 'зна',\n 'али',\n 'ими',\n 'ком',\n 'мен',\n 'рас',\n 'ухо',\n 'сию',\n 'кой',\n 'уши',\n 'иль',\n 'одн',\n 'бол',\n 'пос',\n 'вне',\n 'буд',\n 'кот',\n 'лбу',\n 'кум',\n 'аль',\n 'жду',\n 'лоб',\n 'ска',\n 'сна',\n 'стр',\n 'вор',\n 'шее',\n 'жив',\n 'меж',\n 'гов',\n 'сие',\n 'ест',\n 'лев',\n 'воз',\n 'фон',\n 'мож',\n 'дру',\n 'кхи',\n 'еду',\n 'себ',\n 'вел',\n 'увы',\n 'жид',\n 'род',\n 'теб',\n 'усы',\n 'шло',\n 'пок',\n 'губ',\n 'ишь',\n 'бал',\n 'ког',\n 'даж',\n 'дар',\n 'зло',\n 'мно',\n 'тог',\n 'быт',\n 'даю',\n 'сло',\n 'теп',\n 'ост',\n 'бес',\n 'нег',\n 'чин',\n 'тою',\n 'хот',\n 'бек',\n 'бок',\n 'гол',\n 'жен',\n 'чей',\n 'вер',\n 'луч',\n 'нес',\n 'поч',\n 'вдр',\n 'жар',\n 'люб',\n 'опя',\n 'нож',\n 'ряд',\n 'вес',\n 'гла',\n 'дым',\n 'ход',\n 'всь',\n 'зла',\n 'неп',\n 'чуб',\n 'рту',\n 'слу',\n 'сны',\n 'чел',\n 'отв',\n 'сме',\n 'ник',\n 'пар',\n 'бил',\n 'есл',\n 'мал',\n 'оче',\n 'рта',\n 'уст',\n 'вед',\n 'кон',\n 'сия',\n 'баб',\n 'пов',\n 'рай',\n 'дум',\n 'дол',\n 'пра',\n 'сим',\n 'дне',\n 'зам',\n 'ива',\n 'име',\n 'нак',\n 'пом',\n 'поп',\n 'чьи',\n 'быв',\n 'дав',\n 'зол',\n 'пью',\n 'шеи',\n 'ниб',\n 'сер',\n 'лжи',\n 'соб',\n 'тип',\n 'шут',\n 'яко',\n 'бла',\n 'вре',\n 'дна',\n 'мил',\n 'нач',\n 'раб',\n 'чер',\n 'чья',\n 'нап',\n 'обр',\n 'сов',\n 'гос',\n 'идя',\n 'пел',\n 'пет',\n 'вос',\n 'ден',\n 'пал',\n 'све',\n 'спи',\n 'цел',\n 'бой',\n 'жиз',\n 'ищу',\n 'каж',\n 'пон',\n 'суп',\n 'хор',\n 'сле',\n 'лад',\n 'пир',\n 'сии',\n 'бед',\n 'зал',\n 'ура',\n 'але',\n 'зас',\n 'кра',\n 'мес',\n 'око',\n 'пус',\n 'ско',\n 'эге',\n 'выс',\n 'дер',\n 'рос',\n 'боя',\n 'зак',\n 'кол',\n 'оди',\n 'ото',\n 'пав',\n 'поз',\n 'смо',\n 'спр',\n 'тих',\n 'тож',\n 'заб',\n 'зав',\n 'лба',\n 'мел',\n 'отк',\n 'дно',\n 'зап',\n 'кня',\n 'люд',\n 'мат',\n 'мая',\n 'нед',\n 'пес',\n 'сос',\n 'уму',\n 'чье',\n 'веч',\n 'пис',\n 'уху',\n 'бар',\n 'вст',\n 'гул',\n 'ища',\n 'мер',\n 'наз',\n 'ром',\n 'сде',\n 'спа',\n 'ага',\n 'бро',\n 'доб',\n 'дов',\n 'зад',\n 'кри',\n 'тре',\n 'вод',\n 'ели',\n 'осо',\n 'пой',\n 'рев',\n 'вин',\n 'вру',\n 'дор',\n 'иск',\n 'лгу',\n 'лик',\n 'нич',\n 'ужа',\n 'щек',\n 'вол',\n 'дос',\n 'еле',\n 'зат',\n 'ино',\n 'лат',\n 'пла',\n 'пош',\n 'сор',\n 'бра',\n 'гру',\n 'заг',\n 'мин',\n 'нар',\n 'пож',\n 'сту',\n 'точ',\n 'хоч',\n 'дев',\n 'зря',\n 'меч',\n 'мыс',\n 'неу',\n 'сте',\n 'улы',\n 'зде',\n 'исп',\n 'кар',\n 'кро',\n 'кур',\n 'лай',\n 'лед',\n 'нав',\n 'нев',\n 'нео',\n 'нов',\n 'ока',\n 'пуф',\n 'реш',\n 'руб',\n 'сак',\n 'сок',\n 'тво',\n 'уха',\n 'вск',\n 'гам',\n 'ген',\n 'мед',\n 'наг',\n 'отд',\n 'рус',\n 'слы',\n 'взг',\n 'вой',\n 'воп',\n 'выш',\n 'дон',\n 'ешь',\n 'жел',\n 'зов',\n 'мук',\n 'неш',\n 'ниц',\n 'обс',\n 'оне',\n 'пря',\n 'сыр',\n 'уви',\n 'узн',\n 'худ',\n 'эка',\n 'взд',\n 'впе',\n 'гля',\n 'дуб',\n 'дур',\n 'ела',\n 'игр',\n 'изб',\n 'лиш',\n 'обл',\n 'ого',\n 'пей',\n 'пух',\n 'пят',\n 'ран',\n 'сла',\n 'тыс',\n 'укр',\n 'фед',\n 'фра',\n 'щоб',\n 'бей',\n 'бык',\n 'взя',\n 'гро',\n 'дво',\n 'жал',\n 'изв',\n 'куд',\n 'мух',\n 'ноч',\n 'пле',\n 'рак',\n 'ред',\n 'чег',\n 'чув',\n 'шея',\n 'бер',\n 'бор',\n 'вал',\n 'вме',\n 'глу',\n 'гоп',\n 'дет',\n 'док',\n 'ищи',\n 'кох',\n 'кре',\n 'нах',\n 'объ',\n 'ожи',\n 'тер',\n 'тро',\n 'тсс',\n 'уби',\n 'чет',\n 'эко',\n 'бел',\n 'быс',\n 'впр',\n 'зах',\n 'кру',\n 'мар',\n 'нек',\n 'нуж',\n 'поб',\n 'пог',\n 'рим',\n 'роз',\n 'соо',\n 'спо',\n 'сыт',\n 'тел',\n 'тра',\n 'уго',\n 'чес',\n 'юге',\n 'яму',\n 'бум',\n 'вез',\n 'воо',\n 'гра',\n 'жан',\n 'изд',\n 'кап',\n 'лех',\n 'отц',\n 'раю',\n 'ров',\n 'рты',\n 'сид',\n 'учи',\n 'вып',\n 'гад',\n 'жди',\n 'каз',\n 'кос',\n 'лез',\n 'мит',\n 'неб',\n 'отр',\n 'рок',\n 'рыб',\n 'сан',\n 'сек',\n 'сну',\n 'уве',\n 'уди',\n 'ухе',\n 'чад',\n 'чая',\n 'чис',\n 'чут',\n 'акт',\n 'вов',\n 'всп',\n 'дню',\n 'дул',\n 'ежа',\n 'жит',\n 'зем',\n 'злы',\n ...]"
     },
     "execution_count": 25,
     "metadata": {},
     "output_type": "execute_result"
    }
   ],
   "source": [
    "with open(\"./data/data/litw-win.txt\") as fp:\n",
    "\twords = [line.strip().split()[-1] for line in fp]\n",
    "words"
   ],
   "metadata": {
    "collapsed": false,
    "pycharm": {
     "name": "#%%\n"
    }
   }
  },
  {
   "cell_type": "code",
   "execution_count": null,
   "metadata": {},
   "outputs": [],
   "source": [
    "text = '''с велечайшим усилием выбравшись из потока убегающих людей Кутузов со свитой уменьшевшейся вдвое поехал на звуки выстрелов русских орудий'''"
   ]
  },
  {
   "cell_type": "code",
   "execution_count": 11,
   "outputs": [],
   "source": [
    "word = \"велечайшим\""
   ],
   "metadata": {
    "collapsed": false,
    "pycharm": {
     "name": "#%%\n"
    }
   }
  },
  {
   "cell_type": "code",
   "execution_count": 12,
   "outputs": [
    {
     "data": {
      "text/plain": "'величайшим'"
     },
     "execution_count": 12,
     "metadata": {},
     "output_type": "execute_result"
    }
   ],
   "source": [
    "min(words, key=lambda k: edit_distance(k, word))"
   ],
   "metadata": {
    "collapsed": false,
    "pycharm": {
     "name": "#%%\n"
    }
   }
  },
  {
   "cell_type": "markdown",
   "metadata": {},
   "source": [
    "2. Разбейте текст из формулировки задания 1 на слова; проведите стемминг и лемматизацию слов."
   ]
  },
  {
   "cell_type": "code",
   "execution_count": 14,
   "outputs": [
    {
     "data": {
      "text/plain": "'попреблагорассмотрительств'"
     },
     "execution_count": 14,
     "metadata": {},
     "output_type": "execute_result"
    }
   ],
   "source": [
    "from nltk.stem import SnowballStemmer\n",
    "\n",
    "stemmer = SnowballStemmer('russian')\n",
    "word2 = \"попреблагорассмотрительствующемуся\"\n",
    "word1 = \"попреблагорассмотрительствующимся\"\n",
    "stemmer.stem(word1)"
   ],
   "metadata": {
    "collapsed": false,
    "pycharm": {
     "name": "#%%\n"
    }
   }
  },
  {
   "cell_type": "code",
   "execution_count": 18,
   "outputs": [
    {
     "data": {
      "text/plain": "'попреблагорассмотрительствующийся'"
     },
     "execution_count": 18,
     "metadata": {},
     "output_type": "execute_result"
    }
   ],
   "source": [
    "morph = pymorphy2.MorphAnalyzer()\n",
    "\n",
    "morph.parse(word)[0].normalized.word"
   ],
   "metadata": {
    "collapsed": false,
    "pycharm": {
     "name": "#%%\n"
    }
   }
  },
  {
   "cell_type": "markdown",
   "metadata": {},
   "source": [
    "3. Преобразуйте предложения из формулировки задания 1 в векторы при помощи `CountVectorizer`."
   ]
  },
  {
   "cell_type": "code",
   "execution_count": 19,
   "outputs": [
    {
     "data": {
      "text/plain": "['Считайте слова из файла `litw-win.txt` и запишите их в список `words`.',\n 'В заданном предложении исправьте все опечатки, заменив слова с опечатками на ближайшие (в смысле расстояния Левенштейна) к ним слова из списка `words`.',\n 'Считайте, что в слове есть опечатка, если данное слово не содержится в списке `words`']"
     },
     "execution_count": 19,
     "metadata": {},
     "output_type": "execute_result"
    }
   ],
   "source": [
    "from nltk import sent_tokenize\n",
    "\n",
    "text = \"\"\"Считайте слова из файла `litw-win.txt` и запишите их в список `words`. В заданном предложении исправьте все опечатки, заменив слова с опечатками на ближайшие (в смысле расстояния Левенштейна) к ним слова из списка `words`. Считайте, что в слове есть опечатка, если данное слово не содержится в списке `words`\"\"\"\n",
    "sents = sent_tokenize(text)\n",
    "sents"
   ],
   "metadata": {
    "collapsed": false,
    "pycharm": {
     "name": "#%%\n"
    }
   }
  },
  {
   "cell_type": "code",
   "execution_count": 21,
   "outputs": [
    {
     "data": {
      "text/plain": "array([[1, 1, 1, 1, 0, 0, 0, 0, 0, 0, 0, 1, 1, 0, 1, 0, 0, 0, 0, 0, 0, 0,\n        0, 0, 1, 0, 0, 0, 0, 0, 0, 1, 1, 1, 0],\n       [0, 0, 0, 1, 1, 1, 0, 0, 0, 1, 1, 0, 1, 1, 0, 1, 1, 0, 1, 0, 1, 1,\n        1, 1, 2, 0, 0, 1, 0, 1, 0, 0, 0, 0, 0],\n       [0, 0, 0, 1, 0, 0, 1, 1, 1, 0, 0, 0, 0, 0, 0, 0, 0, 1, 0, 1, 0, 0,\n        0, 0, 0, 1, 1, 0, 1, 0, 1, 0, 1, 0, 1]], dtype=int64)"
     },
     "execution_count": 21,
     "metadata": {},
     "output_type": "execute_result"
    }
   ],
   "source": [
    "cv = CountVectorizer()\n",
    "cv.fit(sents)\n",
    "sents_cv = cv.transform(sents).toarray()\n",
    "sents_cv"
   ],
   "metadata": {
    "collapsed": false,
    "pycharm": {
     "name": "#%%\n"
    }
   }
  },
  {
   "cell_type": "code",
   "execution_count": 22,
   "outputs": [
    {
     "data": {
      "text/plain": "(3, 35)"
     },
     "execution_count": 22,
     "metadata": {},
     "output_type": "execute_result"
    }
   ],
   "source": [
    "sents_cv.shape"
   ],
   "metadata": {
    "collapsed": false,
    "pycharm": {
     "name": "#%%\n"
    }
   }
  },
  {
   "cell_type": "code",
   "execution_count": 24,
   "outputs": [
    {
     "data": {
      "text/plain": "{'считайте': 32,\n 'слова': 24,\n 'из': 12,\n 'файла': 33,\n 'litw': 0,\n 'win': 2,\n 'txt': 1,\n 'запишите': 11,\n 'их': 14,\n 'список': 31,\n 'words': 3,\n 'заданном': 9,\n 'предложении': 22,\n 'исправьте': 13,\n 'все': 5,\n 'опечатки': 21,\n 'заменив': 10,\n 'опечатками': 20,\n 'на': 16,\n 'ближайшие': 4,\n 'смысле': 27,\n 'расстояния': 23,\n 'левенштейна': 15,\n 'ним': 18,\n 'списка': 29,\n 'что': 34,\n 'слове': 25,\n 'есть': 8,\n 'опечатка': 19,\n 'если': 7,\n 'данное': 6,\n 'слово': 26,\n 'не': 17,\n 'содержится': 28,\n 'списке': 30}"
     },
     "execution_count": 24,
     "metadata": {},
     "output_type": "execute_result"
    }
   ],
   "source": [
    "cv.vocabulary_"
   ],
   "metadata": {
    "collapsed": false,
    "pycharm": {
     "name": "#%%\n"
    }
   }
  },
  {
   "cell_type": "markdown",
   "metadata": {},
   "source": [
    "## Лабораторная работа 9"
   ]
  },
  {
   "cell_type": "code",
   "execution_count": 4,
   "outputs": [],
   "source": [
    "import pandas as pd\n",
    "import numpy as np\n",
    "import pymorphy2\n",
    "import nltk\n",
    "\n",
    "from sklearn.feature_extraction.text import CountVectorizer\n",
    "from nltk.metrics.distance import edit_distance"
   ],
   "metadata": {
    "collapsed": false,
    "pycharm": {
     "name": "#%%\n"
    }
   }
  },
  {
   "cell_type": "markdown",
   "metadata": {},
   "source": [
    "### Расстояние редактирования"
   ]
  },
  {
   "cell_type": "markdown",
   "metadata": {},
   "source": [
    "1.1 Загрузите предобработанные описания рецептов из файла `preprocessed_descriptions.csv`. Получите набор уникальных слов `words`, содержащихся в текстах описаний рецептов (воспользуйтесь `word_tokenize` из `nltk`). "
   ]
  },
  {
   "cell_type": "code",
   "execution_count": 3,
   "outputs": [
    {
     "data": {
      "text/plain": "                                               name  \\\n0             george s at the cove  black bean soup   \n1                healthy for them  yogurt popsicles   \n2                      i can t believe it s spinach   \n3                              italian  gut busters   \n4          love is in the air  beef fondue   sauces   \n...                                             ...   \n29995  zurie s holey rustic olive and cheddar bread   \n29996          zwetschgenkuchen  bavarian plum cake   \n29997   zwiebelkuchen   southwest german onion cake   \n29998                                   zydeco soup   \n29999        cookies by design   cookies on a stick   \n\n                                             description  \n0      an original recipe created by chef scott meska...  \n1      my children and their friends ask for my homem...  \n2                  these were so go it surprised even me  \n3      my sisterinlaw made these for us at a family g...  \n4      i think a fondue is a very romantic casual din...  \n...                                                  ...  \n29995  this is based on a french recipe but i changed...  \n29996  this is a traditional fresh plum cake thought ...  \n29997  this is a traditional late summer early fall s...  \n29998  this is a delicious soup that i originally fou...  \n29999  ive heard of the cookies by design company but...  \n\n[30000 rows x 2 columns]",
      "text/html": "<div>\n<style scoped>\n    .dataframe tbody tr th:only-of-type {\n        vertical-align: middle;\n    }\n\n    .dataframe tbody tr th {\n        vertical-align: top;\n    }\n\n    .dataframe thead th {\n        text-align: right;\n    }\n</style>\n<table border=\"1\" class=\"dataframe\">\n  <thead>\n    <tr style=\"text-align: right;\">\n      <th></th>\n      <th>name</th>\n      <th>description</th>\n    </tr>\n  </thead>\n  <tbody>\n    <tr>\n      <th>0</th>\n      <td>george s at the cove  black bean soup</td>\n      <td>an original recipe created by chef scott meska...</td>\n    </tr>\n    <tr>\n      <th>1</th>\n      <td>healthy for them  yogurt popsicles</td>\n      <td>my children and their friends ask for my homem...</td>\n    </tr>\n    <tr>\n      <th>2</th>\n      <td>i can t believe it s spinach</td>\n      <td>these were so go it surprised even me</td>\n    </tr>\n    <tr>\n      <th>3</th>\n      <td>italian  gut busters</td>\n      <td>my sisterinlaw made these for us at a family g...</td>\n    </tr>\n    <tr>\n      <th>4</th>\n      <td>love is in the air  beef fondue   sauces</td>\n      <td>i think a fondue is a very romantic casual din...</td>\n    </tr>\n    <tr>\n      <th>...</th>\n      <td>...</td>\n      <td>...</td>\n    </tr>\n    <tr>\n      <th>29995</th>\n      <td>zurie s holey rustic olive and cheddar bread</td>\n      <td>this is based on a french recipe but i changed...</td>\n    </tr>\n    <tr>\n      <th>29996</th>\n      <td>zwetschgenkuchen  bavarian plum cake</td>\n      <td>this is a traditional fresh plum cake thought ...</td>\n    </tr>\n    <tr>\n      <th>29997</th>\n      <td>zwiebelkuchen   southwest german onion cake</td>\n      <td>this is a traditional late summer early fall s...</td>\n    </tr>\n    <tr>\n      <th>29998</th>\n      <td>zydeco soup</td>\n      <td>this is a delicious soup that i originally fou...</td>\n    </tr>\n    <tr>\n      <th>29999</th>\n      <td>cookies by design   cookies on a stick</td>\n      <td>ive heard of the cookies by design company but...</td>\n    </tr>\n  </tbody>\n</table>\n<p>30000 rows × 2 columns</p>\n</div>"
     },
     "execution_count": 3,
     "metadata": {},
     "output_type": "execute_result"
    }
   ],
   "source": [
    "preprocessed_descriptions = pd.read_csv(\"./data/data/preprocessed_descriptions.csv\")\n",
    "preprocessed_descriptions"
   ],
   "metadata": {
    "collapsed": false,
    "pycharm": {
     "name": "#%%\n"
    }
   }
  },
  {
   "cell_type": "code",
   "execution_count": 7,
   "outputs": [
    {
     "data": {
      "text/plain": "'my children and their friends ask for my homemade popsicles morning noon and night i never turn them down who am i to tell them that they are good for them for variety i substitute different flavours of frozen juice  grape fruit punch tropical etc'"
     },
     "execution_count": 7,
     "metadata": {},
     "output_type": "execute_result"
    }
   ],
   "source": [
    "preprocessed_descriptions[\"description\"].iloc[1]"
   ],
   "metadata": {
    "collapsed": false,
    "pycharm": {
     "name": "#%%\n"
    }
   }
  },
  {
   "cell_type": "code",
   "execution_count": 28,
   "outputs": [
    {
     "data": {
      "text/plain": "{'wzt',\n 'cheetos',\n 'gourmets',\n 'timeherb',\n 'favoriteseasy',\n 'gettogethers',\n 'guadalajara',\n 'cyman',\n 'sept',\n 'byerlys',\n 'stylish',\n 'httpwwwfoodnetworkcarecipesmainbeefrecipehtmldishid10409',\n 'hungarianaustrian',\n 'softens',\n 'situations',\n 'chad',\n 'catcher',\n 'huge',\n 'monteray',\n 'receipt',\n 'moruga',\n '142',\n '67',\n 'johnston',\n 'good071908',\n 'stewand',\n 'awayand',\n 'frugalmomscom',\n 'pecans',\n 'lapine',\n 'delicioussome',\n 'sweede',\n 'recommend',\n 'cattlemens',\n 'driedout',\n 'tucked',\n 'httpallrecipescomau',\n 'ouso',\n 'desertthis',\n 'sore',\n 'extrafirm',\n 'karpenko',\n '94437',\n 'cerole',\n 'barbq',\n 'vet',\n 'mainline',\n 'brar',\n 'kusal',\n 'selfcontained',\n 'slow',\n 'verify',\n 'centuryold',\n 'searved',\n 'tummywarmer',\n 'gl',\n 'lather',\n 'hansen',\n '68981',\n 'recipes4uscouk',\n 'timehonored',\n 'shaved',\n 'spotprep',\n 'organs',\n 'mexi',\n 'hallacas',\n 'constructive',\n 'tomatoe',\n 'silly',\n 'vatiety',\n 'recipescom',\n 'onew',\n 'quirk',\n 'reeses',\n 'emailing',\n 'popularity',\n 'advertisement',\n 'jamon',\n 'cookoffofheat',\n 'creating',\n 'coins',\n 'patented',\n 'lunchroomsweet',\n 'southwesternmexican',\n 'rinsed',\n 'governor',\n 'afraid',\n 'young',\n '2004havent',\n 'kongstyle',\n 'devised',\n 'snoopy',\n 'rebar',\n 'stumbled',\n 'greatlooking',\n 'broaden',\n 'kathleen',\n 'neverbeforetriedfritters',\n 'thisive',\n 'seperately',\n 'kicks',\n 'sel',\n 'foo',\n 'bogot',\n '220417',\n 'zwt6chill',\n 'chickenuse',\n 'baaaaaak',\n 'crunchysavory',\n 'tangysweet',\n 'reminiscence',\n 'listit',\n 'thermos',\n 'amino',\n 'caramelizes',\n 'quesadillamy',\n 'portmanteau',\n 'nicks',\n 'kernels',\n 'bonellos',\n 'fudgythey',\n 'laughingshe',\n 'flavorthis',\n 'exec',\n 'chances',\n '3x',\n '114732',\n 'enjoyplease',\n 'coat',\n 'diane',\n '808',\n 'sterns',\n 'resortaffliated',\n 'plainest',\n 'neighbour',\n 'carmody',\n 'devil',\n 'yummmy',\n 'genovese',\n 'migrants',\n 'palate',\n 'smiththis',\n 'flavorable',\n 'prisoners',\n 'moongchole',\n 'candymaking',\n 'frappe',\n 'greet',\n 'eureka',\n 'maytags',\n 'papery',\n 'mominlaw',\n 'advocate',\n '102508',\n 'cubans',\n '5grams',\n 'attractively',\n 'caprese',\n 'slimlines',\n 'mart',\n 'foldinghttpwwwthebackhomebakerycomtutorialsciabattahtmlthis',\n 'congocookbookcom',\n 'similari',\n 'lindt',\n 'thecooyon',\n 'soymilk',\n 'race',\n 'mel',\n 'blustery',\n 'cheesedip',\n 'like',\n 'outlets',\n 'highersodium',\n 'makethank',\n 'themfairly',\n 'extreme',\n 'morningafternoon',\n 'selfcontrol',\n '399',\n 'muffinsso',\n 'quintessential',\n 'nonchocolate',\n 'cove',\n 'yup',\n 'pancreas',\n 'mallos',\n 'israelfoods',\n 'bulgar',\n 'guestsit',\n 'doubts',\n 'tenderize',\n 'tastenote',\n 'parkinson',\n 'bowtie',\n 'orangegold',\n 'nc',\n 'radarrange',\n 'tastebud',\n 'decades',\n 'nacho',\n 'flavoured',\n 'selfprofessed',\n 'websitedont',\n 'waldorf',\n '14inch',\n 'dashes',\n 'elect',\n 'representative',\n 'breaded',\n 'newyearsresolutionfriendly',\n 'rr',\n 'ratatouille',\n 'braises',\n 'edinburgh',\n 'leary',\n 'sucks',\n 'pudin',\n 'honorable',\n 'unwind',\n 'peeps',\n 'prego',\n 'yet',\n 'wonderfulthe',\n '82006',\n 'toni',\n 'b3',\n 'potatolike',\n 'rotis',\n 'matchsticks',\n 'famlies',\n 'dinerthe',\n 'dilemmas',\n 'wellrecipe',\n 'lengthways',\n 'lurking',\n 'rancho',\n 'solo',\n 'older',\n 'condiment',\n 'fruits',\n 'untried',\n 'germanfoodsorg',\n 'marchapril',\n 'makeenjoy',\n 'creama',\n 'bw',\n 'ohhi',\n 'limes',\n 'brussels',\n 'tonic',\n 'amerindians',\n 'alden',\n 'germanbenelux',\n 'prizewinning',\n 'california',\n 'micromanagement',\n 'crumbed',\n 'chocolatepeanut',\n 'stepbrother',\n 'etcor',\n '4oz',\n 'montreal',\n 'followthecookblogspotcom',\n 'arizonas',\n 'stills',\n 'meatandpotatoes',\n 'jeanne',\n 'perico',\n 'percent',\n 'servings',\n 'perfectsome',\n 'lindsay',\n 'grande',\n 'neice',\n 'simplest',\n 'tastless',\n 'wolf',\n 'duruz',\n 'michele',\n 'richnessfor',\n 'collectionshe',\n 'disgusting',\n 'sewards',\n 'chlorine',\n 'terribly',\n 'giftjust',\n 'tomatobased',\n 'aarti',\n 'prevail',\n 'ricewine',\n 'davinci',\n 'deepest',\n 'automatic',\n 'mediumrare',\n 'accuses',\n 'colada',\n '750',\n 'iroquois',\n 'newsletters',\n '102011',\n 'glgg',\n 'italianseasoned',\n 'localstate',\n 'httpwwwoxmoorhousecomproductcookingtraditionalcookingapassionforbakingdoi',\n 'protein',\n 'creations',\n 'vegetarianfriendly',\n 'timecooling',\n 'hang',\n 'yearround',\n 'gatlinburg',\n 'greattip',\n 'trailer',\n 'rocknroll',\n 'garnishesthis',\n 'elana',\n 'jewishstyle',\n 'longitudinally',\n 'carniceria',\n 'reputable',\n 'recipe266812',\n 'foodfriendsandfun',\n 'thrilling',\n 'economist',\n 'doro',\n 'accumulation',\n 'recipethey',\n 'unmeatloaf',\n '711',\n 'crabdidnt',\n 'chickeneasy',\n 'margaritaville',\n 'crimini',\n 'solomon',\n 'httpwwwcookingwithtraderjoescomsamplerecipe1html',\n '43',\n '1946',\n 'contrast',\n 'bhg',\n 'plesant',\n 'effortless',\n 'daves',\n 'appitizers',\n 'covered',\n 'wilhelmsen',\n 'clunky',\n 'enjoynote',\n 'specifies',\n 'burger',\n 'nuttiertasting',\n 'snacky',\n 'pilsbury',\n '60314',\n 'perfumes',\n 'habit',\n 'dine',\n 'malays',\n 'clogged',\n 'clarifying',\n 'spend',\n 'section',\n 'tomatoeshave',\n 'pereznitza',\n 'lightposting',\n 'provenal',\n 'pack',\n 'enjoyed',\n 'nuoc',\n 'tastyserve',\n 'toplooks',\n 'death',\n 'iu',\n 'semidry',\n '623',\n 'saladtry',\n 'err',\n 'eith',\n 'embarrassed',\n 'bakingcookie',\n 'wwwgretchencookscomthe',\n 'sepember',\n 'joie',\n 'allout',\n 'hook',\n 'emptyyou',\n 'foriegn',\n 'searbrown',\n 'prepareahead',\n 'value',\n 'casserolevery',\n 'breakfasts',\n 'spur',\n 'first',\n 'nonitalian',\n 'eula',\n 'silverbeet',\n 'pollock',\n 'keyi',\n '525',\n 'whirlwind',\n 'villagers',\n 'bonnie',\n 'maakunnista',\n 'dearborn',\n 'elevates',\n 'belive',\n 'pauline',\n 'purrrrfectly',\n '423557',\n 'keepingwe',\n 'brothy',\n 'shipped',\n 'bud',\n 'school',\n 'irresistible',\n 'flavorexchanges',\n 'clafoutis',\n 'cathyshambleyblogspotcom',\n 'hummingbird',\n 'quickthis',\n '10th',\n 'silicon',\n 'ugh',\n 'fatherinlaws',\n 'tengrain',\n 'cutthe',\n 'strategically',\n 'neal',\n 'prescribed',\n 'borderas',\n 'banditos',\n 'rob',\n 'wwwireland',\n 'pastaworks',\n 'riddled',\n '27361',\n 'transportable',\n 'usual',\n 'feu',\n 'wiz',\n 'lune',\n 'cucumberwhatever',\n 'tostada',\n 'eastermothers',\n 'usally',\n 'simplicitys',\n '1970s',\n 'mutigrain',\n 'potsticker',\n 'jam',\n 'vinagrette',\n 'guavas',\n 'citrusonly',\n 'spanakopita',\n 'sensual',\n 'resultadd',\n 'breadcrumb',\n 'bueno',\n 'pencilthin',\n 'booksounds',\n '91605',\n 'wine',\n 'marshall',\n 'hanna',\n 'kimiko',\n 'subscriber',\n '23840',\n 'lounge',\n 'conrad',\n 'cutter',\n 'recipesas',\n 'dehydrator',\n 'determine',\n 'luxurious',\n 'aaas',\n 'enveloped',\n 'mmmmlemon',\n 'colicky',\n 'caribbean',\n 'wheatgrass',\n 'kuku',\n 'ukrainian',\n 'kareem',\n 'juiced',\n 'yawl',\n 'beckett',\n 'cheeseburgers',\n 'weighs',\n 'kashmiri',\n 'any',\n 'misprint',\n '700g',\n 'butteryrich',\n 'fresh',\n 'sortun',\n 'strohecker',\n 'dis',\n 'sugar',\n 'sweetspicy',\n 'regulate',\n 'nondieters',\n 'timeless',\n 'hawthorne',\n 'tandori',\n 'unfriendly',\n 'guinea',\n 'kern',\n 'emphasis',\n 'sugaring',\n 'coils',\n 'kellogs',\n 'magazinewine',\n 'swahili',\n 'leanest',\n 'walleye',\n 'incompleteas',\n 'base',\n 'flavorscalifornia',\n 'potatopancakes',\n 'phases',\n 'abjure',\n 'balled',\n 'substancial',\n 'dee514',\n 'august2008',\n 'aboutand',\n 'mmmmmmm',\n 'dishnote',\n 'pudding',\n 'ds',\n 'latex',\n 'famie',\n '116',\n '1062001',\n 'thicktextured',\n 'stonger',\n 'gnc',\n 'nods',\n 'assist',\n 'illustrating',\n 'overcome',\n 'zack',\n 'skinon',\n 'liverhaters',\n '16thcentury',\n 'niagara',\n 'concentrates',\n 'dayhas',\n 'desssert',\n 'wholegrains',\n 'homemakers',\n 'argentine',\n 'highfat',\n 'morethis',\n 'nutritive',\n 'pumpernickel',\n '296809',\n 'copyright',\n 'bengal',\n 'compromising',\n 'f',\n '40c',\n 'thuy',\n 'parent',\n 'receta',\n 'astringent',\n 'bakeoff',\n 'samei',\n 'casseroleif',\n 'httpkasbahousecom1pizelle1htm',\n 'maclarens',\n '123s',\n 'picky',\n 'james',\n 'immitate',\n 'milkmaid',\n 'yummywhat',\n 'girlsnberries',\n 'tablealso',\n 'poured',\n 'kroger',\n 'mamaliga',\n 'tastingno',\n 'butermilktype',\n 'chasen',\n '80960',\n 'cakeathon',\n 'butterfor',\n 'fasttofix',\n '51721',\n 'waffles',\n 'hansel',\n 'colorful',\n 'air',\n 'occasionholiday',\n 'cookingthe',\n 'nonwaxy',\n 'milliongreat',\n 'sancerre',\n 'mmmmhavent',\n 'morewithless',\n 'httpbakingsheetblogspotcom',\n 'closeknit',\n 'graybert',\n 'rotisserie',\n 'cavities',\n 'chiliseasoned',\n 'tot',\n 'grainsweetened',\n 'repeating',\n 'brunstetter',\n 'babes',\n '289014',\n 'ninja',\n 'complimented',\n 'cubesfor',\n 'downloaded',\n 'marguerite',\n 'ship',\n 'midwesterner',\n 'accounted',\n 'unfried',\n 'partly',\n 'cleangourmet',\n 'balti',\n '524',\n 'that',\n 'carrabbas',\n 'elmore',\n 'memphis',\n 'dearest',\n 'highlight',\n 'creamdoesnt',\n 'watson',\n 'wwwbhgcom',\n '87',\n 'avital',\n 'torito',\n 'immigration',\n 'tg',\n 'recipescoms',\n 'denteand',\n 'cal14g',\n 'thebault',\n '2lb',\n 'slicing',\n 'vainly',\n 'tina',\n 'sprinking',\n 'tasmania',\n 'reuben',\n 'orjust',\n 'dining',\n 'clams',\n 'outhere',\n 'midafternoon',\n 'dulce',\n 'heard',\n 'uks',\n 'binder',\n 'scrollshaped',\n 'jane',\n 'cocounut',\n 'ingredientsmake',\n 'restingi',\n 'listed',\n 'news',\n 'slavonia',\n 'rare',\n 'progressive',\n 'baccal',\n 'instant',\n 'crabbing',\n 'extramoist',\n '237064',\n 'taiwan',\n 'vellodys',\n 'necessity',\n 'lasagnathis',\n 'triplets',\n 'steam',\n 'breaking',\n 'culinaria',\n 'susie',\n 'youwe',\n 'duran',\n 'gingersnaps',\n '61662',\n 'lofat',\n 'walla',\n 'corners',\n '2008these',\n 'usthus',\n 'mealif',\n 'handcrank',\n 'element',\n '112007',\n 'heavy',\n 'halfive',\n 'relating',\n 'stroganoff',\n 'chaya',\n 'mingled',\n 'jammu',\n 'nibbles',\n 'gockeler',\n '207024',\n 'shelled',\n 'favorit',\n 'baton',\n 'mincemeat',\n 'francois',\n 'pattys',\n 'standing',\n 'crowberriesnote',\n 'introduced',\n 'invigorate',\n 'incuded',\n 'jacket',\n 'capicola',\n 'middletown',\n 'funky',\n 'shotthis',\n 'security',\n 'due',\n 'reciprocate',\n 'component',\n 'boast',\n 'tint',\n 'elk',\n 'depitted',\n 'upit',\n 'partythis',\n 'knighted',\n 'tartar',\n 'tablespoons',\n 'korma',\n 'bourguignonne',\n 'vittorio',\n 'truebut',\n 'haughton',\n 'ridged',\n 'blackcherries',\n 'christines',\n 'maker',\n '1tbsp',\n 'kewra',\n 'deliciousmy',\n 'theyd',\n 'forms',\n 'bottled',\n 'effective',\n 'responsibly',\n 'icethis',\n '18t',\n 'pizzayou',\n 'deeeeliciousnorollcrustedhumdinger',\n 'appeared',\n 'peai',\n 'drains',\n 'opporuntity',\n 'franey',\n 'nemesis',\n 'hersheyskitchenscom',\n 'emmantaler',\n 'americanwonder',\n 'justcallmetoni',\n 'tweaks',\n '1878',\n 'noyeast',\n 'invitation',\n 'dishalso',\n 'adventure',\n 'deboned',\n 'countless',\n 'darlings',\n 'preferrence',\n 'gadekkken',\n 'acadian',\n 'snicks',\n 'radichio',\n 'bored',\n 'hata',\n 'hpnotiq',\n 'httpfrenchcookingfordummiescom2009spinachandcoconutsoup',\n 'misonutritional',\n 'wonderfully',\n 'sizes',\n 'elsalvidor',\n 'ebay',\n 'anchor',\n 'society',\n 'transfat',\n 'mai',\n 'eggsbut',\n 'balls',\n 'charring',\n 'guiliano',\n 'assembled',\n 'operated',\n 'extraordinarily',\n 'patient',\n 'mmmmmmmm',\n 'moodtip',\n 'spiced',\n 'mcwells',\n 'upwith',\n 'tinkered',\n 'dang',\n 'ranchs',\n 'takeone',\n 'chocolatesnot',\n 'leaway',\n 'mexicos',\n 'bakerscomes',\n 'heres',\n 'neapolitanstyle',\n 'pickme',\n 'baptisms',\n 'ijust',\n 'passing',\n 'cornwall',\n 'flesh',\n '1967',\n 'slowpoke',\n 'gab',\n 'scandanavia',\n 'agreeplease',\n 'cupsyou',\n 'tenderloinsi',\n 'wranglers',\n 'hugelypopular',\n 'desiredwe',\n 'floured',\n 'experimentation',\n 'dearth',\n 'hilaire',\n 'yechhhbut',\n 'handhope',\n '94857',\n 'easygood',\n 'moisest',\n 'look',\n 'speed',\n 'easytoprepare',\n 'alters',\n 'housei',\n 'kerry',\n 'recipe120711',\n 'gangsta',\n 'paper',\n '137575',\n 'germany',\n 'guesses',\n 'loved',\n 'resaturant',\n 'bacos',\n 'dawnabs',\n 'parks',\n 'adn',\n '197',\n 'midweek',\n 'apple',\n 'courtey',\n 'addomit',\n 'shira',\n 'marshmellows',\n 'yemeni',\n '145',\n 'anchorage',\n 'recipea',\n 'sodiummy',\n 'asked',\n 'marvel',\n 'pintowhite',\n 'poker',\n 'reeson',\n 'httpwwwrecipezaarcomcookbookburgers132460',\n 'aye',\n 'gormet',\n 'multitasking',\n 'mouthi',\n 'wetting',\n 'strainerpictures',\n 'matsuhisa',\n 'butterball',\n 'principles',\n 'custom',\n 'teifi',\n 'slurping',\n 'separtely',\n 'capricious',\n 'seller',\n 'theis',\n 'garnished',\n 'leicester',\n 'lowcountry',\n 'pinching',\n 'khoudrdaji',\n 'maritimes',\n 'alligator',\n 'dire',\n 'smidgen',\n 'addor',\n 'loss',\n 'old',\n 'riad',\n 'cornbreadthe',\n 'favourite',\n 'saucebased',\n '6chilling',\n 'greenbeansnmorecom',\n 'haughy',\n 'mommy',\n 'halls',\n 'muscle',\n 'venezuela',\n 'hatfield',\n 'elliots',\n 'chrstmas',\n 'secord',\n 'crackersthe',\n 'bulls',\n 'timeplan',\n 'torta',\n 'chiken',\n 'cajun',\n 'harshness',\n 'placed',\n 'kickedup',\n 'soothingly',\n 'functions',\n 'specialise',\n 'downtown',\n 'dhansak',\n 'oxymoron',\n 'tolland',\n 'state',\n 'swallow',\n '2290227833',\n 'pommeau',\n 'coolmakes',\n 'garlicand',\n 'puddingpie',\n 'dosnt',\n 'dock',\n 'belgiangerman',\n '147',\n 'gaylaj',\n 'lan',\n 'shindig',\n 'marinera',\n 'sundried',\n 'noticing',\n 'writes',\n 'variationsadditions',\n 'doubling',\n 'maytag',\n 'savannah',\n 'celebrated',\n 'beverly',\n 'softedited',\n 'korokke',\n 'stellino',\n 'bargain',\n 'topil',\n 'faint',\n 'cushion',\n 'inni',\n 'furtherheres',\n 'boulvar',\n 'handling',\n 'becuase',\n 'socializing',\n 'socialise',\n 'licking',\n 'purpleturtle',\n 'windfalls',\n 'atkins',\n 'breakfastlunch',\n 'showing',\n 'pleasurei',\n 'online',\n 'moong',\n '5spain',\n 'spains',\n 'andrea',\n 'govind',\n 'hicks',\n '2yearold',\n 'enjoyedited',\n 'mmmmmmoes',\n 'loathed',\n 'scalloped',\n 'makeplus',\n 'goodbye',\n 'erishte',\n 'wellnote',\n 'entendres',\n 'newcenturynutritioncombased',\n ...}"
     },
     "execution_count": 28,
     "metadata": {},
     "output_type": "execute_result"
    }
   ],
   "source": [
    "words = set()\n",
    "preprocessed_descriptions[\"description\"].map(lambda x: [words.add(i) for i in nltk.word_tokenize(str(x))])\n",
    "words"
   ],
   "metadata": {
    "collapsed": false,
    "pycharm": {
     "name": "#%%\n"
    }
   }
  },
  {
   "cell_type": "markdown",
   "metadata": {},
   "source": [
    "1.2 Сгенерируйте 5 пар случайно выбранных слов и посчитайте между ними расстояние редактирования."
   ]
  },
  {
   "cell_type": "code",
   "execution_count": 34,
   "outputs": [
    {
     "name": "stderr",
     "output_type": "stream",
     "text": [
      "C:\\Users\\damir\\AppData\\Local\\Temp/ipykernel_15864/3550889410.py:2: DeprecationWarning: Sampling from a set deprecated\n",
      "since Python 3.9 and will be removed in a subsequent version.\n",
      "  words_list = random.sample(words, 5)\n"
     ]
    }
   ],
   "source": [
    "import random\n",
    "words_list = random.sample(words, 5)"
   ],
   "metadata": {
    "collapsed": false,
    "pycharm": {
     "name": "#%%\n"
    }
   }
  },
  {
   "cell_type": "code",
   "execution_count": 37,
   "outputs": [
    {
     "data": {
      "text/plain": "['grouper', 'corresponding', 'ferment', 'zurie', 'peacefulnightdove']"
     },
     "execution_count": 37,
     "metadata": {},
     "output_type": "execute_result"
    }
   ],
   "source": [
    "words_list"
   ],
   "metadata": {
    "collapsed": false,
    "pycharm": {
     "name": "#%%\n"
    }
   }
  },
  {
   "cell_type": "code",
   "execution_count": 61,
   "outputs": [
    {
     "data": {
      "text/plain": "                   grouper  corresponding  ferment  zurie  peacefulnightdove\ngrouper                0.0           11.0      7.0    6.0               16.0\ncorresponding         11.0            0.0     10.0   11.0               14.0\nferment                7.0           10.0      0.0    5.0               13.0\nzurie                  6.0           11.0      5.0    0.0               14.0\npeacefulnightdove     16.0           14.0     13.0   14.0                0.0",
      "text/html": "<div>\n<style scoped>\n    .dataframe tbody tr th:only-of-type {\n        vertical-align: middle;\n    }\n\n    .dataframe tbody tr th {\n        vertical-align: top;\n    }\n\n    .dataframe thead th {\n        text-align: right;\n    }\n</style>\n<table border=\"1\" class=\"dataframe\">\n  <thead>\n    <tr style=\"text-align: right;\">\n      <th></th>\n      <th>grouper</th>\n      <th>corresponding</th>\n      <th>ferment</th>\n      <th>zurie</th>\n      <th>peacefulnightdove</th>\n    </tr>\n  </thead>\n  <tbody>\n    <tr>\n      <th>grouper</th>\n      <td>0.0</td>\n      <td>11.0</td>\n      <td>7.0</td>\n      <td>6.0</td>\n      <td>16.0</td>\n    </tr>\n    <tr>\n      <th>corresponding</th>\n      <td>11.0</td>\n      <td>0.0</td>\n      <td>10.0</td>\n      <td>11.0</td>\n      <td>14.0</td>\n    </tr>\n    <tr>\n      <th>ferment</th>\n      <td>7.0</td>\n      <td>10.0</td>\n      <td>0.0</td>\n      <td>5.0</td>\n      <td>13.0</td>\n    </tr>\n    <tr>\n      <th>zurie</th>\n      <td>6.0</td>\n      <td>11.0</td>\n      <td>5.0</td>\n      <td>0.0</td>\n      <td>14.0</td>\n    </tr>\n    <tr>\n      <th>peacefulnightdove</th>\n      <td>16.0</td>\n      <td>14.0</td>\n      <td>13.0</td>\n      <td>14.0</td>\n      <td>0.0</td>\n    </tr>\n  </tbody>\n</table>\n</div>"
     },
     "execution_count": 61,
     "metadata": {},
     "output_type": "execute_result"
    }
   ],
   "source": [
    "matrix = np.ones((5, 5))\n",
    "for i in range(len(words_list)):\n",
    "    for j in range(len(words_list)):\n",
    "\t    matrix[i][j] = edit_distance(words_list[i], words_list[j])\n",
    "\n",
    "matrix = pd.DataFrame(matrix)\n",
    "matrix.columns = words_list\n",
    "matrix.index = words_list\n",
    "matrix"
   ],
   "metadata": {
    "collapsed": false,
    "pycharm": {
     "name": "#%%\n"
    }
   }
  },
  {
   "cell_type": "markdown",
   "metadata": {},
   "source": [
    "1.3 Напишите функцию, которая для заданного слова `word` возвращает `k` ближайших к нему слов из списка `words` (близость слов измеряется с помощью расстояния Левенштейна)"
   ]
  },
  {
   "cell_type": "code",
   "execution_count": 64,
   "outputs": [],
   "source": [
    "\n",
    "# k = 1"
   ],
   "metadata": {
    "collapsed": false,
    "pycharm": {
     "name": "#%%\n"
    }
   }
  },
  {
   "cell_type": "code",
   "execution_count": 66,
   "outputs": [
    {
     "data": {
      "text/plain": "'vino'"
     },
     "execution_count": 66,
     "metadata": {},
     "output_type": "execute_result"
    }
   ],
   "source": [
    "word = \"visor\"\n",
    "min(words, key=lambda k: edit_distance(k, word))"
   ],
   "metadata": {
    "collapsed": false,
    "pycharm": {
     "name": "#%%\n"
    }
   }
  },
  {
   "cell_type": "code",
   "execution_count": 67,
   "outputs": [
    {
     "data": {
      "text/plain": "5"
     },
     "execution_count": 67,
     "metadata": {},
     "output_type": "execute_result"
    }
   ],
   "source": [
    "edit_distance(word, words_list)"
   ],
   "metadata": {
    "collapsed": false,
    "pycharm": {
     "name": "#%%\n"
    }
   }
  },
  {
   "cell_type": "markdown",
   "metadata": {},
   "source": [
    "### Стемминг, лемматизация"
   ]
  },
  {
   "cell_type": "markdown",
   "metadata": {},
   "source": [
    "2.1 На основе результатов 1.1 создайте `pd.DataFrame` со столбцами: \n",
    "    * word\n",
    "    * stemmed_word \n",
    "    * normalized_word \n",
    "\n",
    "Столбец `word` укажите в качестве индекса. \n",
    "\n",
    "Для стемминга воспользуйтесь `SnowballStemmer`, для лемматизации слов - `WordNetLemmatizer`. Сравните результаты стемминга и лемматизации."
   ]
  },
  {
   "cell_type": "markdown",
   "metadata": {},
   "source": [
    "2.2. Удалите стоп-слова из описаний рецептов. Какую долю об общего количества слов составляли стоп-слова? Сравните топ-10 самых часто употребляемых слов до и после удаления стоп-слов."
   ]
  },
  {
   "cell_type": "markdown",
   "metadata": {},
   "source": [
    "### Векторное представление текста"
   ]
  },
  {
   "cell_type": "markdown",
   "metadata": {},
   "source": [
    "3.1 Выберите случайным образом 5 рецептов из набора данных. Представьте описание каждого рецепта в виде числового вектора при помощи `TfidfVectorizer`"
   ]
  },
  {
   "cell_type": "markdown",
   "metadata": {},
   "source": [
    "3.2 Вычислите близость между каждой парой рецептов, выбранных в задании 3.1, используя косинусное расстояние (`scipy.spatial.distance.cosine`) Результаты оформите в виде таблицы `pd.DataFrame`. В качестве названий строк и столбцов используйте названия рецептов."
   ]
  },
  {
   "cell_type": "markdown",
   "metadata": {},
   "source": [
    "3.3 Какие рецепты являются наиболее похожими? Прокомментируйте результат (словами)."
   ]
  },
  {
   "cell_type": "code",
   "execution_count": null,
   "outputs": [],
   "source": [],
   "metadata": {
    "collapsed": false,
    "pycharm": {
     "name": "#%%\n"
    }
   }
  },
  {
   "cell_type": "code",
   "execution_count": null,
   "outputs": [],
   "source": [],
   "metadata": {
    "collapsed": false,
    "pycharm": {
     "name": "#%%\n"
    }
   }
  }
 ],
 "metadata": {
  "kernelspec": {
   "display_name": "Python 3 (ipykernel)",
   "language": "python",
   "name": "python3"
  },
  "language_info": {
   "codemirror_mode": {
    "name": "ipython",
    "version": 3
   },
   "file_extension": ".py",
   "mimetype": "text/x-python",
   "name": "python",
   "nbconvert_exporter": "python",
   "pygments_lexer": "ipython3",
   "version": "3.8.3"
  }
 },
 "nbformat": 4,
 "nbformat_minor": 4
}