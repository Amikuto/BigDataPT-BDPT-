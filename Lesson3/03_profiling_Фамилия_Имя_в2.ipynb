{
 "cells": [
  {
   "cell_type": "markdown",
   "metadata": {},
   "source": [
    "## Оптимизация выполнения кода, векторизация, Numba"
   ]
  },
  {
   "cell_type": "markdown",
   "metadata": {},
   "source": [
    "Материалы:\n",
    "* Макрушин С.В. Лекция 3: Оптимизация выполнения кода, векторизация, Numba\n",
    "* IPython Cookbook, Second Edition (2018), глава 4\n",
    "* https://numba.pydata.org/numba-doc/latest/user/5minguide.html"
   ]
  },
  {
   "cell_type": "markdown",
   "metadata": {},
   "source": [
    "## Задачи для совместного разбора"
   ]
  },
  {
   "cell_type": "markdown",
   "metadata": {},
   "source": [
    "1. Сгенерируйте массив `A` из `N=1млн` случайных целых чисел на отрезке от 0 до 1000. Пусть `B[i] = A[i] + 100`. Посчитайте среднее значение массива `B`."
   ]
  },
  {
   "cell_type": "markdown",
   "metadata": {},
   "source": [
    "2. Создайте таблицу 2млн строк и с 4 столбцами, заполненными случайными числами. Добавьте столбец `key`, которые содержит элементы из множества английских букв. Выберите из таблицы подмножество строк, для которых в столбце `key` указаны первые 5 английских букв."
   ]
  },
  {
   "cell_type": "markdown",
   "metadata": {},
   "source": [
    "## Лабораторная работа 3"
   ]
  },
  {
   "cell_type": "code",
   "execution_count": 1,
   "metadata": {},
   "outputs": [],
   "source": [
    "# !pip install line_profiler"
   ]
  },
  {
   "cell_type": "markdown",
   "metadata": {},
   "source": [
    "1. В файлах `recipes_sample.csv` и `reviews_sample.csv` (__ЛР 2__) находится информация об рецептах блюд и отзывах на эти рецепты соответственно. Загрузите данные из файлов в виде `pd.DataFrame` с названиями `recipes` и `reviews`. Обратите внимание на корректное считывание столбца(ов) с индексами. Приведите столбцы к нужным типам.\n",
    "\n",
    "Реализуйте несколько вариантов функции подсчета среднего значения столбца `rating` из таблицы `reviews` для отзывов, оставленных в 2010 году.\n",
    "\n",
    "A. С использованием метода `DataFrame.iterrows` исходной таблицы;\n",
    "\n",
    "Б. С использованием метода `DataFrame.iterrows` таблицы, в которой сохранены только отзывы за 2010 год;\n",
    "\n",
    "В. С использованием метода `Series.mean`.\n",
    "\n",
    "Проверьте, что результаты работы всех написанных функций корректны и совпадают. Измерьте выполнения всех написанных функций.\n"
   ]
  },
  {
   "cell_type": "code",
   "execution_count": 2,
   "outputs": [],
   "source": [
    "import pandas as pd\n",
    "import numpy as np\n",
    "import numba\n",
    "import cProfile\n",
    "\n",
    "recipes = pd.read_csv(\"D:\\Programming\\Python\\BigDataPT-BDPT-\\Lesson3\\data\\data\\\\recipes_sample.csv\", parse_dates=[\"submitted\"])\n",
    "reviews = pd.read_csv(\"D:\\Programming\\Python\\BigDataPT-BDPT-\\Lesson3\\data\\data\\\\reviews_sample.csv\", parse_dates=[\"date\"], index_col=0)"
   ],
   "metadata": {
    "collapsed": false,
    "pycharm": {
     "name": "#%%\n"
    }
   }
  },
  {
   "cell_type": "code",
   "execution_count": 3,
   "outputs": [
    {
     "data": {
      "text/plain": "4.410802235271832"
     },
     "execution_count": 3,
     "metadata": {},
     "output_type": "execute_result"
    }
   ],
   "source": [
    "count = 0\n",
    "for _, row in reviews.iterrows():\n",
    "    count += row[3]\n",
    "    # print(_, row[3])\n",
    "count/reviews.shape[0]"
   ],
   "metadata": {
    "collapsed": false,
    "pycharm": {
     "name": "#%%\n"
    }
   }
  },
  {
   "cell_type": "code",
   "execution_count": 4,
   "outputs": [
    {
     "data": {
      "text/plain": "4.4544402182900615"
     },
     "execution_count": 4,
     "metadata": {},
     "output_type": "execute_result"
    }
   ],
   "source": [
    "tenYear_reviews = reviews[reviews[\"date\"].dt.year == 2010]\n",
    "count = 0\n",
    "for _, row in tenYear_reviews.iterrows():\n",
    "    count += row[3]\n",
    "    # print(_, row[3])\n",
    "count/tenYear_reviews.shape[0]"
   ],
   "metadata": {
    "collapsed": false,
    "pycharm": {
     "name": "#%%\n"
    }
   }
  },
  {
   "cell_type": "code",
   "execution_count": 5,
   "outputs": [
    {
     "data": {
      "text/plain": "4.410802235271832"
     },
     "execution_count": 5,
     "metadata": {},
     "output_type": "execute_result"
    }
   ],
   "source": [
    "reviews[\"rating\"].mean()"
   ],
   "metadata": {
    "collapsed": false,
    "pycharm": {
     "name": "#%%\n"
    }
   }
  },
  {
   "cell_type": "markdown",
   "metadata": {},
   "source": [
    "2. Какая из созданных функций выполняется медленнее? Что наиболее сильно влияет на скорость выполнения? Для ответа использовать профайлер `line_profiler`. Сохраните результаты работы профайлера в отдельную текстовую ячейку и прокомментируйте результаты его работы.\n",
    "\n",
    "(*). Сможете ли вы ускорить работу функции 1Б, отказавшись от использования метода `iterrows`, но не используя метод `mean`?"
   ]
  },
  {
   "cell_type": "code",
   "execution_count": 6,
   "outputs": [],
   "source": [
    "def taskA(reviews):\n",
    "    count = 0\n",
    "    for _, row in reviews.iterrows():\n",
    "        count += row[3]\n",
    "    return count/reviews.shape[0]\n",
    "\n",
    "def taskB(reviews):\n",
    "    tenYear_reviews = reviews[reviews[\"date\"].dt.year == 2010]\n",
    "    count = 0\n",
    "    for _, row in tenYear_reviews.iterrows():\n",
    "        count += row[3]\n",
    "    return count/tenYear_reviews.shape[0]\n",
    "\n",
    "def taskC(reviews):\n",
    "    reviews[\"rating\"].mean()"
   ],
   "metadata": {
    "collapsed": false,
    "pycharm": {
     "name": "#%%\n"
    }
   }
  },
  {
   "cell_type": "code",
   "execution_count": 7,
   "outputs": [],
   "source": [
    "%load_ext line_profiler"
   ],
   "metadata": {
    "collapsed": false,
    "pycharm": {
     "name": "#%%\n"
    }
   }
  },
  {
   "cell_type": "code",
   "execution_count": 8,
   "outputs": [],
   "source": [
    "%lprun -f taskA taskA(reviews)"
   ],
   "metadata": {
    "collapsed": false,
    "pycharm": {
     "name": "#%%\n"
    }
   }
  },
  {
   "cell_type": "markdown",
   "source": [
    "Timer unit: 1e-07 s\n",
    "\n",
    "Total time: 14.0695 s\n",
    "\n",
    "Could not find file C:\\Users\\damir\\AppData\\Local\\Temp/ipykernel_11884/2338034132.py\n",
    "Are you sure you are running this program from the same directory\n",
    "that you ran the profiler from?\n",
    "Continuing without the function's contents.\n",
    "\n",
    "Line #      Hits         Time  Per Hit   % Time  Line Contents\n",
    "==============================================================\n",
    "     1\n",
    "     2         1         18.0     18.0      0.0\n",
    "     3    126697  130774453.0   1032.2     92.9\n",
    "     4    126696    9920584.0     78.3      7.1\n",
    "     5         1         96.0     96.0      0.0"
   ],
   "metadata": {
    "collapsed": false,
    "pycharm": {
     "name": "#%% md\n"
    }
   }
  },
  {
   "cell_type": "code",
   "execution_count": 9,
   "outputs": [],
   "source": [
    "%lprun -f taskB taskB(reviews)"
   ],
   "metadata": {
    "collapsed": false,
    "pycharm": {
     "name": "#%%\n"
    }
   }
  },
  {
   "cell_type": "markdown",
   "source": [
    "Timer unit: 1e-07 s\n",
    "\n",
    "Total time: 1.39642 s\n",
    "\n",
    "Could not find file C:\\Users\\damir\\AppData\\Local\\Temp/ipykernel_11884/2338034132.py\n",
    "Are you sure you are running this program from the same directory\n",
    "that you ran the profiler from?\n",
    "Continuing without the function's contents.\n",
    "\n",
    "Line #      Hits         Time  Per Hit   % Time  Line Contents\n",
    "==============================================================\n",
    "     7\n",
    "     8         1     178661.0 178661.0      1.3\n",
    "     9         1         16.0     16.0      0.0\n",
    "    10     12095   12809670.0   1059.1     91.7\n",
    "    11     12094     975746.0     80.7      7.0\n",
    "    12         1         71.0     71.0      0.0"
   ],
   "metadata": {
    "collapsed": false,
    "pycharm": {
     "name": "#%% md\n"
    }
   }
  },
  {
   "cell_type": "code",
   "execution_count": 10,
   "outputs": [],
   "source": [
    "%lprun -f taskC taskC(reviews)"
   ],
   "metadata": {
    "collapsed": false,
    "pycharm": {
     "name": "#%%\n"
    }
   }
  },
  {
   "cell_type": "markdown",
   "source": [
    "Timer unit: 1e-07 s\n",
    "\n",
    "Total time: 0.0009295 s\n",
    "\n",
    "Could not find file C:\\Users\\damir\\AppData\\Local\\Temp/ipykernel_11884/2338034132.py\n",
    "Are you sure you are running this program from the same directory\n",
    "that you ran the profiler from?\n",
    "Continuing without the function's contents.\n",
    "\n",
    "Line #      Hits         Time  Per Hit   % Time  Line Contents\n",
    "==============================================================\n",
    "    14\n",
    "    15         1       9295.0   9295.0    100.0"
   ],
   "metadata": {
    "collapsed": false,
    "pycharm": {
     "name": "#%% md\n"
    }
   }
  },
  {
   "cell_type": "markdown",
   "metadata": {},
   "source": [
    "3. Вам предлагается воспользоваться функцией, которая собирает статистику о том, сколько отзывов содержат то или иное слово. Измерьте время выполнения этой функции. Сможете ли вы найти узкие места в коде, используя профайлер? Выпишите (словами), что в имеющемся коде реализовано неоптимально. Оптимизируйте функцию и добейтесь значительного (как минимум, на один порядок) прироста в скорости выполнения."
   ]
  },
  {
   "cell_type": "code",
   "execution_count": 11,
   "metadata": {},
   "outputs": [],
   "source": [
    "@numba.njit\n",
    "def get_word_reviews_count(df):\n",
    "    word_reviews = {}\n",
    "    for _, row in df.dropna(subset=['review']).iterrows():\n",
    "        recipe_id, review = row['recipe_id'], row['review']\n",
    "        words = review.split(' ')\n",
    "        for word in words:\n",
    "            if word not in word_reviews:\n",
    "                word_reviews[word] = []\n",
    "            word_reviews[word].append(recipe_id)\n",
    "    \n",
    "    word_reviews_count = {}\n",
    "    for _, row in df.dropna(subset=['review']).iterrows():\n",
    "        review = row['review']\n",
    "        words = review.split(' ')\n",
    "        for word in words:\n",
    "            word_reviews_count[word] = len(word_reviews[word])\n",
    "    return word_reviews_count"
   ]
  },
  {
   "cell_type": "code",
   "execution_count": 12,
   "outputs": [],
   "source": [
    "%lprun -f get_word_reviews_count get_word_reviews_count(reviews)"
   ],
   "metadata": {
    "collapsed": false,
    "pycharm": {
     "name": "#%%\n"
    }
   }
  },
  {
   "cell_type": "markdown",
   "source": [
    "Timer unit: 1e-07 s\n",
    "\n",
    "Total time: 48.8676 s\n",
    "\n",
    "Could not find file C:\\Users\\damir\\AppData\\Local\\Temp/ipykernel_11884/470240673.py\n",
    "Are you sure you are running this program from the same directory\n",
    "that you ran the profiler from?\n",
    "Continuing without the function's contents.\n",
    "\n",
    "Line #      Hits         Time  Per Hit   % Time  Line Contents\n",
    "==============================================================\n",
    "     1                                           \n",
    "     2         1         16.0     16.0      0.0  \n",
    "     3    126680  134869377.0   1064.6     27.6  \n",
    "     4    126679   28074503.0    221.6      5.7  \n",
    "     5    126679    5563176.0     43.9      1.1  \n",
    "     6   6918689   22680689.0      3.3      4.6  \n",
    "     7   6792010   31889186.0      4.7      6.5  \n",
    "     8    174944     942863.0      5.4      0.2  \n",
    "     9   6792010   36237151.0      5.3      7.4  \n",
    "    10                                           \n",
    "    11         1         11.0     11.0      0.0  \n",
    "    12    126680  132043648.0   1042.3     27.0  \n",
    "    13    126679   17024392.0    134.4      3.5  \n",
    "    14    126679    5612034.0     44.3      1.1  \n",
    "    15   6918689   23899525.0      3.5      4.9  \n",
    "    16   6792010   49839625.0      7.3     10.2  \n",
    "    17         1        141.0    141.0      0.0"
   ],
   "metadata": {
    "collapsed": false,
    "pycharm": {
     "name": "#%% md\n"
    }
   }
  },
  {
   "cell_type": "markdown",
   "metadata": {},
   "source": [
    "4. Напишите несколько версий функции `MAPE` (см. [MAPE](https://en.wikipedia.org/wiki/Mean_absolute_percentage_error)) для расчета среднего абсолютного процентного отклонения значения рейтинга отзыва на рецепт от среднего значения рейтинга по всем отзывам для этого рецепта. \n",
    "    1. Без использования векторизованных операций и методов массивов `numpy` и без использования `numba`\n",
    "    2. Без использования векторизованных операций и методов массивов `numpy`, но с использованием `numba`\n",
    "    3. С использованием векторизованных операций и методов массивов `numpy`, но без использования `numba`\n",
    "    4. C использованием векторизованных операций и методов массивов `numpy` и `numba`\n",
    "    \n",
    "Измерьте время выполнения каждой из реализаций.\n",
    "\n",
    "Замечание: удалите из выборки отзывы с нулевым рейтингом.\n"
   ]
  },
  {
   "cell_type": "code",
   "execution_count": 12,
   "metadata": {},
   "outputs": [],
   "source": []
  },
  {
   "cell_type": "code",
   "execution_count": 12,
   "metadata": {},
   "outputs": [],
   "source": []
  },
  {
   "cell_type": "markdown",
   "metadata": {},
   "source": [
    "#### [версия 2]\n",
    "* Уточнены формулировки задач 1, 3, 4"
   ]
  },
  {
   "cell_type": "code",
   "execution_count": 12,
   "metadata": {},
   "outputs": [],
   "source": []
  }
 ],
 "metadata": {
  "kernelspec": {
   "name": "pycharm-bb2b666d",
   "language": "python",
   "display_name": "PyCharm (BigDataPT-BDPT-)"
  },
  "language_info": {
   "codemirror_mode": {
    "name": "ipython",
    "version": 3
   },
   "file_extension": ".py",
   "mimetype": "text/x-python",
   "name": "python",
   "nbconvert_exporter": "python",
   "pygments_lexer": "ipython3",
   "version": "3.8.3"
  }
 },
 "nbformat": 4,
 "nbformat_minor": 4
}