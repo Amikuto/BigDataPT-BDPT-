{
 "cells": [
  {
   "cell_type": "markdown",
   "metadata": {},
   "source": [
    "# Numpy"
   ]
  },
  {
   "cell_type": "markdown",
   "metadata": {},
   "source": [
    "Материалы:\n",
    "* Макрушин С.В. \"Лекция 1: Библиотека Numpy\"\n",
    "* https://numpy.org/doc/stable/user/index.html\n",
    "* https://numpy.org/doc/stable/reference/index.html"
   ]
  },
  {
   "cell_type": "code",
   "execution_count": 381,
   "metadata": {},
   "outputs": [],
   "source": [
    "import numpy as np"
   ]
  },
  {
   "cell_type": "markdown",
   "metadata": {},
   "source": [
    "## Задачи для совместного разбора"
   ]
  },
  {
   "cell_type": "markdown",
   "metadata": {},
   "source": [
    "1. Сгенерировать двухмерный массив `arr` размерности (4, 7), состоящий из случайных действительных чисел, равномерно распределенных в диапазоне от 0 до 20. Нормализовать значения массива с помощью преобразования вида  $𝑎𝑥+𝑏$  так, что после нормализации максимальный элемент масcива будет равен 1.0, минимальный 0.0"
   ]
  },
  {
   "cell_type": "code",
   "execution_count": 382,
   "metadata": {},
   "outputs": [
    {
     "data": {
      "text/plain": "array([[0.04556875, 0.74224571, 0.01526012, 0.4677771 , 0.3063491 ,\n        0.91807075, 0.32500187],\n       [0.42954932, 0.87637832, 0.527023  , 0.40209626, 0.969606  ,\n        0.08830515, 0.57313876],\n       [1.        , 0.48624227, 0.        , 0.78046852, 0.61435481,\n        0.43533039, 0.80149652],\n       [0.76224843, 0.74219412, 0.37510545, 0.212405  , 0.23090496,\n        0.74554664, 0.08385802]])"
     },
     "execution_count": 382,
     "metadata": {},
     "output_type": "execute_result"
    }
   ],
   "source": [
    "arr = np.random.uniform(0, 20, size=(4, 7))\n",
    "(arr - arr.min())/ (arr.max() - arr.min())"
   ]
  },
  {
   "cell_type": "markdown",
   "metadata": {},
   "source": [
    "2. Создать матрицу 8 на 10 из случайных целых (используя модуль `numpy.random`) чисел из диапозона от 0 до 10 и найти в ней строку (ее индекс и вывести саму строку), в которой сумма значений минимальна."
   ]
  },
  {
   "cell_type": "code",
   "execution_count": 383,
   "metadata": {},
   "outputs": [
    {
     "name": "stderr",
     "output_type": "stream",
     "text": [
      "C:\\Users\\damir\\AppData\\Local\\Temp/ipykernel_2652/3486773722.py:1: DeprecationWarning: This function is deprecated. Please call randint(0, 10 + 1) instead\n",
      "  matrix = np.random.random_integers(0, high=10, size=(8, 10))\n"
     ]
    },
    {
     "data": {
      "text/plain": "array([[ 7,  5,  7,  2,  0, 10,  4,  4,  1,  6],\n       [ 6,  8,  5,  2,  6,  5,  5,  0, 10,  1],\n       [ 5,  0,  0,  8,  1,  0,  2,  2,  5,  5],\n       [ 4,  3,  1,  6,  3,  1,  9,  5,  0,  7],\n       [ 8,  3,  0, 10,  1,  8,  0,  3,  7,  8],\n       [ 7,  5,  9,  4,  9,  2,  1,  6,  9, 10],\n       [ 3,  9,  0,  0,  4,  6,  7,  1,  0,  1],\n       [ 6,  7,  8,  8,  5,  3,  2,  1,  4,  6]])"
     },
     "execution_count": 383,
     "metadata": {},
     "output_type": "execute_result"
    }
   ],
   "source": [
    "matrix = np.random.random_integers(0, high=10, size=(8, 10))\n",
    "matrix"
   ]
  },
  {
   "cell_type": "code",
   "execution_count": 384,
   "metadata": {},
   "outputs": [
    {
     "name": "stdout",
     "output_type": "stream",
     "text": [
      "2\n"
     ]
    },
    {
     "data": {
      "text/plain": "array([5, 0, 0, 8, 1, 0, 2, 2, 5, 5])"
     },
     "execution_count": 384,
     "metadata": {},
     "output_type": "execute_result"
    }
   ],
   "source": [
    "sum_of_rows = matrix.sum(axis=1)\n",
    "\n",
    "print(np.argmin(sum_of_rows))\n",
    "matrix[np.argmin(sum_of_rows)]"
   ]
  },
  {
   "cell_type": "markdown",
   "metadata": {},
   "source": [
    "3. Найти евклидово расстояние между двумя одномерными векторами одинаковой размерности."
   ]
  },
  {
   "cell_type": "code",
   "execution_count": 385,
   "metadata": {},
   "outputs": [
    {
     "data": {
      "text/plain": "array([[0.09143115],\n       [0.79869825],\n       [0.70775317]])"
     },
     "execution_count": 385,
     "metadata": {},
     "output_type": "execute_result"
    }
   ],
   "source": [
    "vector1 = np.random.rand(3,1)\n",
    "vector1"
   ]
  },
  {
   "cell_type": "markdown",
   "metadata": {},
   "source": [
    "4. Решить матричное уравнение `A*X*B=-C` - найти матрицу `X`. Где `A = [[-1, 2, 4], [-3, 1, 2], [-3, 0, 1]]`, `B=[[3, -1], [2, 1]]`, `C=[[7, 21], [11, 8], [8, 4]]`."
   ]
  },
  {
   "cell_type": "code",
   "execution_count": 386,
   "metadata": {},
   "outputs": [
    {
     "data": {
      "text/plain": "array([[ 135,  185],\n       [ -25, -100],\n       [ -70, -220]])"
     },
     "execution_count": 386,
     "metadata": {},
     "output_type": "execute_result"
    }
   ],
   "source": [
    "A = np.array([[-1, 2, 4], [-3, 1, 2], [-3, 0, 1]])\n",
    "B = np.array([[3, -1], [2, 1]])\n",
    "C = np.array([[7, 21], [11, 8], [8, 4]])\n",
    "minus_C = C * -1\n",
    "transpose_A = np.transpose(A)\n",
    "transpose_B = np.transpose(B)\n",
    "out = transpose_A @ minus_C @ transpose_B\n",
    "out"
   ]
  },
  {
   "cell_type": "markdown",
   "metadata": {},
   "source": [
    "## Лабораторная работа №1"
   ]
  },
  {
   "cell_type": "markdown",
   "metadata": {},
   "source": [
    "Замечание: при решении данных задач не подразумевается использования циклов или генераторов Python, если в задании не сказано обратного. Решение должно опираться на использования функционала библиотеки `numpy`."
   ]
  },
  {
   "cell_type": "markdown",
   "metadata": {},
   "source": [
    "1. Файл `minutes_n_ingredients.csv` содержит информацию об идентификаторе рецепта, времени его выполнения в минутах и количестве необходимых ингредиентов. Считайте данные из этого файла в виде массива `numpy` типа `int32`, используя `np.load_txt`. Выведите на экран первые 5 строк массива."
   ]
  },
  {
   "cell_type": "code",
   "execution_count": 387,
   "outputs": [
    {
     "name": "stdout",
     "output_type": "stream",
     "text": [
      "[[127244     60     16]\n",
      " [ 23891     25      7]\n",
      " [ 94746     10      6]\n",
      " [ 67660      5      6]\n",
      " [157911     60     14]]\n"
     ]
    }
   ],
   "source": [
    "arr = np.loadtxt(\"data/minutes_n_ingredients.csv\", dtype='int32', skiprows=1, delimiter=\",\")\n",
    "print(arr[:5])"
   ],
   "metadata": {
    "collapsed": false,
    "pycharm": {
     "name": "#%%\n"
    }
   }
  },
  {
   "cell_type": "markdown",
   "metadata": {},
   "source": [
    "2. Вычислите среднее значение, минимум, максимум и медиану по каждому из столбцов, кроме первого."
   ]
  },
  {
   "cell_type": "code",
   "execution_count": 388,
   "outputs": [
    {
     "name": "stdout",
     "output_type": "stream",
     "text": [
      "[2.22064324e+05 2.16010017e+04 9.05528000e+00]\n",
      "[38  0  1]\n",
      "[    537671 2147483647         39]\n",
      "[2.071935e+05 4.000000e+01 9.000000e+00]\n"
     ]
    }
   ],
   "source": [
    "mean = np.mean(arr, axis=0)\n",
    "print(mean)\n",
    "\n",
    "minimum = arr.min(axis=0)\n",
    "print(minimum)\n",
    "\n",
    "maximum = arr.max(axis=0)\n",
    "print(maximum)\n",
    "\n",
    "median = np.median(arr, axis=0)\n",
    "print(median)"
   ],
   "metadata": {
    "collapsed": false,
    "pycharm": {
     "name": "#%%\n"
    }
   }
  },
  {
   "cell_type": "markdown",
   "metadata": {},
   "source": [
    " 3. Ограничьте сверху значения продолжительности выполнения рецепта значением квантиля $q_{0.75}$."
   ]
  },
  {
   "cell_type": "code",
   "execution_count": 389,
   "outputs": [
    {
     "data": {
      "text/plain": "array([[127244,     60,     16],\n       [ 23891,     25,      7],\n       [ 94746,     10,      6],\n       ...,\n       [498432,     65,     15],\n       [370915,      5,      4],\n       [ 81993,     65,     14]])"
     },
     "execution_count": 389,
     "metadata": {},
     "output_type": "execute_result"
    }
   ],
   "source": [
    "quantile = np.quantile(arr[:, 1], .75)\n",
    "arr[:, 1] = np.where(arr[:, 1] > quantile, quantile, arr[:, 1])\n",
    "arr"
   ],
   "metadata": {
    "collapsed": false,
    "pycharm": {
     "name": "#%%\n"
    }
   }
  },
  {
   "cell_type": "markdown",
   "metadata": {},
   "source": [
    "4. Посчитайте, для скольких рецептов указана продолжительность, равная нулю. Замените для таких строк значение в данном столбце на 1."
   ]
  },
  {
   "cell_type": "code",
   "execution_count": 390,
   "outputs": [
    {
     "name": "stdout",
     "output_type": "stream",
     "text": [
      "479\n"
     ]
    },
    {
     "data": {
      "text/plain": "array([[127244,     60,     16],\n       [ 23891,     25,      7],\n       [ 94746,     10,      6],\n       ...,\n       [498432,     65,     15],\n       [370915,      5,      4],\n       [ 81993,     65,     14]])"
     },
     "execution_count": 390,
     "metadata": {},
     "output_type": "execute_result"
    }
   ],
   "source": [
    "print(np.sum(arr[:, 1:2] == 0))\n",
    "\n",
    "arr[:, 1:2][arr[:, 1:2] == 0] = 1\n",
    "arr"
   ],
   "metadata": {
    "collapsed": false,
    "pycharm": {
     "name": "#%%\n"
    }
   }
  },
  {
   "cell_type": "markdown",
   "metadata": {},
   "source": [
    "5. Посчитайте, сколько уникальных рецептов находится в датасете."
   ]
  },
  {
   "cell_type": "code",
   "execution_count": 391,
   "outputs": [
    {
     "data": {
      "text/plain": "100000"
     },
     "execution_count": 391,
     "metadata": {},
     "output_type": "execute_result"
    }
   ],
   "source": [
    "# np.count_nonzero(arr[:, :1])\n",
    "np.shape(arr)[0]"
   ],
   "metadata": {
    "collapsed": false,
    "pycharm": {
     "name": "#%%\n"
    }
   }
  },
  {
   "cell_type": "markdown",
   "metadata": {},
   "source": [
    "6. Сколько и каких различных значений кол-ва ингредиентов присутвует в рецептах из датасета?"
   ]
  },
  {
   "cell_type": "code",
   "execution_count": 392,
   "outputs": [
    {
     "name": "stdout",
     "output_type": "stream",
     "text": [
      "[     1      2      3 ... 537458 537485 537671] [ 729 1738 3358 ...    1    1    1]\n"
     ]
    }
   ],
   "source": [
    "values, counts = np.unique(arr, return_counts=True)\n",
    "print(values, counts)"
   ],
   "metadata": {
    "collapsed": false,
    "pycharm": {
     "name": "#%%\n"
    }
   }
  },
  {
   "cell_type": "markdown",
   "metadata": {},
   "source": [
    " 7. Создайте версию массива, содержащую информацию только о рецептах, состоящих не более чем из 5 ингредиентов."
   ]
  },
  {
   "cell_type": "code",
   "execution_count": 393,
   "outputs": [
    {
     "data": {
      "text/plain": "array([[446597,     15,      5],\n       [204134,      5,      3],\n       [ 25623,      6,      4],\n       ...,\n       [ 52088,     60,      5],\n       [128811,     15,      4],\n       [370915,      5,      4]])"
     },
     "execution_count": 393,
     "metadata": {},
     "output_type": "execute_result"
    }
   ],
   "source": [
    "arr_copy_lower_then5 = arr.copy()\n",
    "mask = arr_copy_lower_then5[:, 2] <= 5\n",
    "arr_copy_lower_then5[mask]"
   ],
   "metadata": {
    "collapsed": false,
    "pycharm": {
     "name": "#%%\n"
    }
   }
  },
  {
   "cell_type": "markdown",
   "metadata": {},
   "source": [
    "8. Для каждого рецепта посчитайте, сколько в среднем ингредиентов приходится на одну минуту рецепта. Найдите максимальное значение этой величины для всего датасета"
   ]
  },
  {
   "cell_type": "code",
   "execution_count": 394,
   "outputs": [
    {
     "data": {
      "text/plain": "array([[1.2724400e+05, 6.0000000e+01, 1.6000000e+01, 2.6666668e-01],\n       [2.3891000e+04, 2.5000000e+01, 7.0000000e+00, 2.8000000e-01],\n       [9.4746000e+04, 1.0000000e+01, 6.0000000e+00, 6.0000002e-01],\n       ...,\n       [4.9843200e+05, 6.5000000e+01, 1.5000000e+01, 2.3076923e-01],\n       [3.7091500e+05, 5.0000000e+00, 4.0000000e+00, 8.0000001e-01],\n       [8.1993000e+04, 6.5000000e+01, 1.4000000e+01, 2.1538462e-01]],\n      dtype=float32)"
     },
     "execution_count": 394,
     "metadata": {},
     "output_type": "execute_result"
    }
   ],
   "source": [
    "arr_copy = arr.copy().astype(np.float32)\n",
    "values = arr_copy[:, 2] / arr_copy[:, 1]\n",
    "arr_copy = np.insert(arr_copy, 3, values, axis = 1)\n",
    "arr_copy"
   ],
   "metadata": {
    "collapsed": false,
    "pycharm": {
     "name": "#%%\n"
    }
   }
  },
  {
   "cell_type": "markdown",
   "metadata": {},
   "source": [
    "9. Вычислите среднее количество ингредиентов для топ-100 рецептов с наибольшей продолжительностью"
   ]
  },
  {
   "cell_type": "code",
   "execution_count": 395,
   "outputs": [
    {
     "data": {
      "text/plain": "9.96"
     },
     "execution_count": 395,
     "metadata": {},
     "output_type": "execute_result"
    }
   ],
   "source": [
    "np.mean(arr[arr[:, 1].argsort()][-100:, :], axis=0)[2]"
   ],
   "metadata": {
    "collapsed": false,
    "pycharm": {
     "name": "#%%\n"
    }
   }
  },
  {
   "cell_type": "markdown",
   "metadata": {},
   "source": [
    "10. Выберите случайным образом и выведите информацию о 10 различных рецептах"
   ]
  },
  {
   "cell_type": "code",
   "execution_count": 396,
   "outputs": [
    {
     "data": {
      "text/plain": "array([[330246,     65,     10],\n       [102544,     35,     10],\n       [ 12846,     15,      8],\n       [514340,     60,     11],\n       [145560,     10,     11],\n       [516517,     65,      5],\n       [439472,     10,      9],\n       [332710,     50,     10],\n       [213987,     35,     10],\n       [293770,     13,      9]])"
     },
     "execution_count": 396,
     "metadata": {},
     "output_type": "execute_result"
    }
   ],
   "source": [
    "arr[np.random.randint(len(arr), size=10)]"
   ],
   "metadata": {
    "collapsed": false,
    "pycharm": {
     "name": "#%%\n"
    }
   }
  },
  {
   "cell_type": "markdown",
   "metadata": {},
   "source": [
    "11. Выведите процент рецептов, кол-во ингредиентов в которых меньше среднего."
   ]
  },
  {
   "cell_type": "code",
   "execution_count": 397,
   "outputs": [
    {
     "data": {
      "text/plain": "58.802"
     },
     "execution_count": 397,
     "metadata": {},
     "output_type": "execute_result"
    }
   ],
   "source": [
    "(np.count_nonzero(arr[:, 2:3] < np.mean(arr, axis=0)[2]) / len(arr)) * 100"
   ],
   "metadata": {
    "collapsed": false,
    "pycharm": {
     "name": "#%%\n"
    }
   }
  },
  {
   "cell_type": "markdown",
   "metadata": {},
   "source": [
    "12. Назовем \"простым\" такой рецепт, длительность выполнения которого не больше 20 минут и кол-во ингредиентов в котором не больше 5. Создайте версию датасета с дополнительным столбцом, значениями которого являются 1, если рецепт простой, и 0 в противном случае."
   ]
  },
  {
   "cell_type": "code",
   "execution_count": 398,
   "outputs": [
    {
     "data": {
      "text/plain": "array([[127244,     60,     16,      0],\n       [ 23891,     25,      7,      0],\n       [ 94746,     10,      6,      0],\n       ...,\n       [498432,     65,     15,      0],\n       [370915,      5,      4,      1],\n       [ 81993,     65,     14,      0]])"
     },
     "execution_count": 398,
     "metadata": {},
     "output_type": "execute_result"
    }
   ],
   "source": [
    "arr_copy = arr.copy()\n",
    "arr_copy = np.c_[ arr_copy, np.zeros(len(arr_copy), dtype=int)]\n",
    "condition = (arr_copy[:, 1:2] <= 20) & (arr_copy[:, 2:3] <= 5)\n",
    "arr_copy[:, 3:4] = np.where(condition, 1, arr_copy[:, 3:4])\n",
    "arr_copy"
   ],
   "metadata": {
    "collapsed": false,
    "pycharm": {
     "name": "#%%\n"
    }
   }
  },
  {
   "cell_type": "markdown",
   "metadata": {},
   "source": [
    "13. Выведите процент \"простых\" рецептов в датасете"
   ]
  },
  {
   "cell_type": "code",
   "execution_count": 399,
   "outputs": [
    {
     "data": {
      "text/plain": "'9.6%'"
     },
     "execution_count": 399,
     "metadata": {},
     "output_type": "execute_result"
    }
   ],
   "source": [
    "f\"{round(np.sum(arr_copy[:, 3:4])/len(arr_copy), 3) * 100}%\""
   ],
   "metadata": {
    "collapsed": false,
    "pycharm": {
     "name": "#%%\n"
    }
   }
  },
  {
   "cell_type": "markdown",
   "metadata": {},
   "source": [
    "14. Разделим рецепты на группы по следующему правилу. Назовем рецепты короткими, если их продолжительность составляет менее 10 минут; стандартными, если их продолжительность составляет более 10, но менее 20 минут; и длинными, если их продолжительность составляет не менее 20 минут. Создайте трехмерный массив, где нулевая ось отвечает за номер группы (короткий, стандартный или длинный рецепт), первая ось - за сам рецепт и вторая ось - за характеристики рецепта. Выберите максимальное количество рецептов из каждой группы таким образом, чтобы было возможно сформировать трехмерный массив. Выведите форму полученного массива."
   ]
  },
  {
   "cell_type": "code",
   "execution_count": 400,
   "outputs": [
    {
     "data": {
      "text/plain": "array([[[3.70915e+05, 5.00000e+00, 4.00000e+00],\n        [1.28811e+05, 1.50000e+01, 4.00000e+00],\n        [8.19930e+04, 6.50000e+01, 1.40000e+01]],\n\n       [[3.70915e+05, 5.00000e+00, 4.00000e+00],\n        [1.28811e+05, 1.50000e+01, 4.00000e+00],\n        [8.19930e+04, 6.50000e+01, 1.40000e+01]],\n\n       [[3.70915e+05, 5.00000e+00, 4.00000e+00],\n        [1.28811e+05, 1.50000e+01, 4.00000e+00],\n        [8.19930e+04, 6.50000e+01, 1.40000e+01]],\n\n       ...,\n\n       [[3.70915e+05, 5.00000e+00, 4.00000e+00],\n        [1.28811e+05, 1.50000e+01, 4.00000e+00],\n        [8.19930e+04, 6.50000e+01, 1.40000e+01]],\n\n       [[3.70915e+05, 5.00000e+00, 4.00000e+00],\n        [1.28811e+05, 1.50000e+01, 4.00000e+00],\n        [8.19930e+04, 6.50000e+01, 1.40000e+01]],\n\n       [[3.70915e+05, 5.00000e+00, 4.00000e+00],\n        [1.28811e+05, 1.50000e+01, 4.00000e+00],\n        [8.19930e+04, 6.50000e+01, 1.40000e+01]]])"
     },
     "execution_count": 400,
     "metadata": {},
     "output_type": "execute_result"
    }
   ],
   "source": [
    "\n",
    "arr_copy = arr.copy()\n",
    "arr_copy = np.insert(arr_copy, 3, 0, axis = 1)\n",
    "arr_copy[:, 3][arr_copy[:, 1] < 10] = 0\n",
    "condition = (10 <= arr_copy[:, 1]) & (arr_copy[:, 1] < 20)\n",
    "arr_copy[:, 3][condition] = 1\n",
    "arr_copy[:, 3][arr_copy[:, 1] > 20] = 2\n",
    "arr_copy\n",
    "\n",
    "\n",
    "test_arr = np.zeros(100008)\n",
    "C = test_arr.reshape(11112, 3, 3)\n",
    "C[0:100008, arr_copy[:, 3], :] = arr_copy[:, 0:3]\n",
    "C\n",
    "\n",
    "\n",
    "# new_array = np.array()\n",
    "# arr[:, 1:2][arr[:, 1:2] == 0] = 1"
   ],
   "metadata": {
    "collapsed": false,
    "pycharm": {
     "name": "#%%\n"
    }
   }
  },
  {
   "cell_type": "code",
   "execution_count": 424,
   "metadata": {},
   "outputs": [
    {
     "name": "stdout",
     "output_type": "stream",
     "text": [
      "[[[0. 0. 0.]\n",
      "  [1. 1. 1.]\n",
      "  [0. 0. 0.]]\n",
      "\n",
      " [[0. 0. 0.]\n",
      "  [1. 1. 1.]\n",
      "  [0. 0. 0.]]\n",
      "\n",
      " [[0. 0. 0.]\n",
      "  [0. 0. 0.]\n",
      "  [0. 0. 0.]]\n",
      "\n",
      " ...\n",
      "\n",
      " [[0. 0. 0.]\n",
      "  [0. 0. 0.]\n",
      "  [0. 0. 0.]]\n",
      "\n",
      " [[0. 0. 0.]\n",
      "  [0. 0. 0.]\n",
      "  [0. 0. 0.]]\n",
      "\n",
      " [[0. 0. 0.]\n",
      "  [0. 0. 0.]\n",
      "  [0. 0. 0.]]]\n"
     ]
    }
   ],
   "source": [
    "# arr_copy = arr.copy()\n",
    "# new_array = np.zeros((3, 100000, 4))\n",
    "# new_array[0][0][0] = 1\n",
    "# new_array[0][1][0] = 2\n",
    "# new_array[0][2][0] = 3\n",
    "# new_array[0][3][0] = 4\n",
    "\n",
    "# new_array\n",
    "# # (8334, 4, 3)\n",
    "\n",
    "test_arr = np.zeros(100008)\n",
    "C = test_arr.reshape(11112, 3, 3)\n",
    "# C[0:50, arr_copy[:, 3]] = arr_copy[:, 0:3]\n",
    "C[0:2, 1] = 1\n",
    "print(C)\n",
    "# C\n",
    "\n",
    "\n",
    "# arr_copy[:, 0:3]\n",
    "# arr_copy[:, :]\n",
    "# lst = [0, 1, 2, 5, 10, 47, 92]\n",
    "# lst\n",
    "#"
   ]
  },
  {
   "cell_type": "code",
   "execution_count": 402,
   "metadata": {},
   "outputs": [],
   "source": [
    "# arr = np.array(lst)\n",
    "#"
   ]
  },
  {
   "cell_type": "code",
   "execution_count": 403,
   "outputs": [],
   "source": [
    "# # np.where(arr[])\n",
    "#"
   ],
   "metadata": {
    "collapsed": false,
    "pycharm": {
     "name": "#%%\n"
    }
   }
  },
  {
   "cell_type": "code",
   "execution_count": 404,
   "metadata": {},
   "outputs": [],
   "source": [
    "# arr\n",
    "#"
   ]
  },
  {
   "cell_type": "code",
   "execution_count": 405,
   "metadata": {},
   "outputs": [],
   "source": [
    "# mask = arr % 5 == 0\n",
    "# arr[mask]\n",
    "#"
   ]
  },
  {
   "cell_type": "code",
   "execution_count": 406,
   "metadata": {},
   "outputs": [],
   "source": [
    "# b = np.array([0,1,2,2,0,1]) # берет элементы с индексом 0, 1, 2, 2, 0, 1 из списка arr\n",
    "# arr[b]\n",
    "#"
   ]
  },
  {
   "cell_type": "code",
   "execution_count": 407,
   "metadata": {},
   "outputs": [],
   "source": [
    "# test_arr = np.arange(20).reshape(5, 4)\n",
    "# np.transpose(test_arr)\n",
    "#"
   ]
  },
  {
   "cell_type": "code",
   "metadata": {
    "pycharm": {
     "name": "#%%\n"
    }
   },
   "source": [
    "# test_arr[:, :1]\n",
    "#"
   ],
   "execution_count": 408,
   "outputs": []
  },
  {
   "cell_type": "code",
   "execution_count": 409,
   "metadata": {},
   "outputs": [],
   "source": [
    "# test_arr = np.array(lst)\n",
    "# test_arr%5\n",
    "#"
   ]
  },
  {
   "cell_type": "code",
   "execution_count": 410,
   "outputs": [],
   "source": [
    "# mask = arr[:, 2:3] <= 5\n",
    "# # mask.shape\n",
    "# # arr[:, :, mask]\n",
    "# # print(mask)\n",
    "# masked = arr.copy()\n",
    "# # masked[:, mask]\n",
    "# # masked[mask]\n",
    "# # mask = np.c_[np.ones(100000), np.ones(100000), mask]\n",
    "# print(mask)\n",
    "# # masked[np.array(mask)]\n",
    "# masked\n"
   ],
   "metadata": {
    "collapsed": false,
    "pycharm": {
     "name": "#%%\n"
    }
   }
  }
 ],
 "metadata": {
  "kernelspec": {
   "display_name": "Python 3",
   "language": "python",
   "name": "python3"
  },
  "language_info": {
   "codemirror_mode": {
    "name": "ipython",
    "version": 3
   },
   "file_extension": ".py",
   "mimetype": "text/x-python",
   "name": "python",
   "nbconvert_exporter": "python",
   "pygments_lexer": "ipython3",
   "version": "3.8.5"
  }
 },
 "nbformat": 4,
 "nbformat_minor": 4
}