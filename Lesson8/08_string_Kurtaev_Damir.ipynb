{
 "cells": [
  {
   "cell_type": "markdown",
   "source": [
    "# Работа со строковыми значениями"
   ],
   "metadata": {
    "collapsed": false
   }
  },
  {
   "cell_type": "markdown",
   "source": [
    "Материалы:\n",
    "* Макрушин С.В. Лекция 8: Работа со строковыми значениям\n",
    "* https://pyformat.info/\n",
    "* https://docs.python.org/3/library/re.html\n",
    "* https://tproger.ru/translations/regular-expression-python/\n",
    "* https://realpython.com/nltk-nlp-python/"
   ],
   "metadata": {
    "collapsed": false
   }
  },
  {
   "cell_type": "markdown",
   "source": [
    "## Задачи для совместного разбора"
   ],
   "metadata": {
    "collapsed": false
   }
  },
  {
   "cell_type": "markdown",
   "source": [
    "1. Вывести на экран данные из словаря `obj` построчно в виде `k = v`, задав формат таким образом, чтобы знак равенства оказался на одной и той же позиции во всех строках. Строковые литералы обернуть в кавычки."
   ],
   "metadata": {
    "collapsed": false
   }
  },
  {
   "cell_type": "code",
   "execution_count": 1,
   "outputs": [],
   "source": [
    "obj = {\n",
    "         'home_page': 'https://github.com/pypa/sampleproject',\n",
    "         'keywords': 'sample setuptools development',\n",
    "         'license': 'MIT'\n",
    "      }"
   ],
   "metadata": {
    "collapsed": false,
    "pycharm": {
     "name": "#%%\n"
    }
   }
  },
  {
   "cell_type": "code",
   "execution_count": 2,
   "outputs": [
    {
     "name": "stdout",
     "output_type": "stream",
     "text": [
      "home_page  = \"https://github.com/pypa/sampleproject\"\n",
      "keywords   = \"sample setuptools development\"\n",
      "license    = \"MIT\"\n"
     ]
    }
   ],
   "source": [
    "for k,v in obj.items():\n",
    "    print(f'{k:10} = \"{v}\"')"
   ],
   "metadata": {
    "collapsed": false,
    "pycharm": {
     "name": "#%%\n"
    }
   }
  },
  {
   "cell_type": "markdown",
   "source": [
    "2. Дана строка 'aaa--bbb==ccc__ddd'. Написать регулярное выражение для разбивки строки на список ['aaa','bbb','ccc','ddd']."
   ],
   "metadata": {
    "collapsed": false
   }
  },
  {
   "cell_type": "code",
   "execution_count": 3,
   "outputs": [],
   "source": [
    "s = 'aaa--bbb==ccc__ddd'"
   ],
   "metadata": {
    "collapsed": false,
    "pycharm": {
     "name": "#%%\n"
    }
   }
  },
  {
   "cell_type": "code",
   "execution_count": 4,
   "outputs": [],
   "source": [
    "import re"
   ],
   "metadata": {
    "collapsed": false,
    "pycharm": {
     "name": "#%%\n"
    }
   }
  },
  {
   "cell_type": "code",
   "execution_count": 14,
   "outputs": [
    {
     "data": {
      "text/plain": "['aaa', 'bbb', 'ccc', 'ddd']"
     },
     "execution_count": 14,
     "metadata": {},
     "output_type": "execute_result"
    }
   ],
   "source": [
    "# pattern = re.compile('[a-z]{1,}')\n",
    "pattern = re.compile('[a-z]+')\n",
    "pattern.findall(s)"
   ],
   "metadata": {
    "collapsed": false,
    "pycharm": {
     "name": "#%%\n"
    }
   }
  },
  {
   "cell_type": "markdown",
   "source": [
    "3. Проверить корректность введенного E-mail"
   ],
   "metadata": {
    "collapsed": false
   }
  },
  {
   "cell_type": "code",
   "execution_count": 18,
   "outputs": [
    {
     "data": {
      "text/plain": "<re.Match object; span=(0, 20), match='NVBlokhin_2021@fa.ru'>"
     },
     "execution_count": 18,
     "metadata": {},
     "output_type": "execute_result"
    }
   ],
   "source": [
    "email = 'NVBlokhin_2021@fa.ru'\n",
    "email_wrong = 'NVB!lokhin_2021@fa.ru'\n",
    "email_wrong2 = 'NVBlokhin_2021@fa.ru123123'\n",
    "pattern = re.compile(r'\\w+@[a-z]+\\.[a-z]{2,3}$')\n",
    "pattern.match(email)"
   ],
   "metadata": {
    "collapsed": false,
    "pycharm": {
     "name": "#%%\n"
    }
   }
  },
  {
   "cell_type": "markdown",
   "source": [
    "4. Разбейте текст формулировки задачи 1 на слова."
   ],
   "metadata": {
    "collapsed": false
   }
  },
  {
   "cell_type": "code",
   "execution_count": 19,
   "outputs": [],
   "source": [
    "import nltk"
   ],
   "metadata": {
    "collapsed": false,
    "pycharm": {
     "name": "#%%\n"
    }
   }
  },
  {
   "cell_type": "code",
   "execution_count": 26,
   "outputs": [],
   "source": [
    "text = '''Вывести на экран данные из словаря `obj` построчно в виде `k = v`, задав формат таким образом, чтобы знак равенства оказался на одной и той же позиции во всех строках. Строковые литералы обернуть в кавычки.'''"
   ],
   "metadata": {
    "collapsed": false,
    "pycharm": {
     "name": "#%%\n"
    }
   }
  },
  {
   "cell_type": "code",
   "execution_count": 27,
   "outputs": [
    {
     "data": {
      "text/plain": "['Вывести',\n 'на',\n 'экран',\n 'данные',\n 'из',\n 'словаря',\n '`',\n 'obj',\n '`',\n 'построчно',\n 'в',\n 'виде',\n '`',\n 'k',\n '=',\n 'v',\n '`,',\n 'задав',\n 'формат',\n 'таким',\n 'образом',\n ',',\n 'чтобы',\n 'знак',\n 'равенства',\n 'оказался',\n 'на',\n 'одной',\n 'и',\n 'той',\n 'же',\n 'позиции',\n 'во',\n 'всех',\n 'строках',\n '.',\n 'Строковые',\n 'литералы',\n 'обернуть',\n 'в',\n 'кавычки',\n '.']"
     },
     "execution_count": 27,
     "metadata": {},
     "output_type": "execute_result"
    }
   ],
   "source": [
    "nltk.wordpunct_tokenize(text)"
   ],
   "metadata": {
    "collapsed": false,
    "pycharm": {
     "name": "#%%\n"
    }
   }
  },
  {
   "cell_type": "code",
   "execution_count": 28,
   "outputs": [
    {
     "data": {
      "text/plain": "['Вывести на экран данные из словаря `obj` построчно в виде `k = v`, задав формат таким образом, чтобы знак равенства оказался на одной и той же позиции во всех строках.',\n 'Строковые литералы обернуть в кавычки.']"
     },
     "execution_count": 28,
     "metadata": {},
     "output_type": "execute_result"
    }
   ],
   "source": [
    "nltk.sent_tokenize(text)"
   ],
   "metadata": {
    "collapsed": false,
    "pycharm": {
     "name": "#%%\n"
    }
   }
  },
  {
   "cell_type": "markdown",
   "source": [
    "## Лабораторная работа 8"
   ],
   "metadata": {
    "collapsed": false
   }
  },
  {
   "cell_type": "code",
   "execution_count": 3,
   "outputs": [],
   "source": [
    "import nltk\n",
    "import re\n",
    "import pandas as pd\n",
    "import numpy as np\n",
    "import json\n",
    "import re\n",
    "\n",
    "from bs4 import BeautifulSoup as bs\n",
    "from pprint import pprint as pp"
   ],
   "metadata": {
    "collapsed": false,
    "pycharm": {
     "name": "#%%\n"
    }
   }
  },
  {
   "cell_type": "markdown",
   "source": [
    "### Форматирование строк"
   ],
   "metadata": {
    "collapsed": false
   }
  },
  {
   "cell_type": "markdown",
   "source": [
    "1.1 Загрузите данные из файла `recipes_sample_with_tags_ingredients.csv` (__ЛР5__) в таблицу `recipes` При помощи форматирования строк выведите информацию об id рецепта и кол-ве игредиентов 5 случайных рецептов в виде таблицы следующего вида:\n",
    "\n",
    "\n",
    "    |    id     | n_in  |\n",
    "    |-------------------|\n",
    "    |  400894   |  13   |\n",
    "    |   68588   |   8   |\n",
    "    |  362081   |   6   |\n",
    "    |   53408   |  12   |\n",
    "    |  221203   |   4   |"
   ],
   "metadata": {
    "collapsed": false
   }
  },
  {
   "cell_type": "code",
   "execution_count": 2,
   "outputs": [],
   "source": [
    "df = pd.read_csv('./data/data/recipes_sample_with_tags_ingredients.csv')"
   ],
   "metadata": {
    "collapsed": false,
    "pycharm": {
     "name": "#%%\n"
    }
   }
  },
  {
   "cell_type": "code",
   "execution_count": 7,
   "outputs": [
    {
     "name": "stdout",
     "output_type": "stream",
     "text": [
      "|    id     |  n_in  |\n",
      "|--------------------|\n",
      "|  467289   |   17   |\n",
      "|  87755    |    9   |\n",
      "|  362099   |   17   |\n",
      "|  379207   |   13   |\n",
      "|   2974    |   15   |\n"
     ]
    }
   ],
   "source": [
    "df = df.sample(5)\n",
    "\n",
    "id = 'id'\n",
    "n_in = 'n_in'\n",
    "print(f\"|{df.columns[1]:^10} | {n_in:^7}|\")\n",
    "print(\"|\"+\"-\"*20+\"|\")\n",
    "for i in df.iterrows():\n",
    "    print(f\"|{i[1]['id']:^10} | {i[1]['n_ingredients']:^7}|\")\n"
   ],
   "metadata": {
    "collapsed": false,
    "pycharm": {
     "name": "#%%\n"
    }
   }
  },
  {
   "cell_type": "markdown",
   "source": [
    "1.2 Напишите функцию `show_info`, которая для рецепта по его `id` создает строку (в смысле объекта python) с описанием следующего вида:\n",
    "\n",
    "```\n",
    "\"Название\"\n",
    "\n",
    "1. Шаг 1.\n",
    "2. Шаг 2.\n",
    "----------\n",
    "#тэг1 #тэг2\n",
    "```\n",
    "\n",
    "\n",
    "Данные для создания строки получите из файлов `recipes_sample_with_tags_ingredients.csv`, `steps_sample.xml` (__ЛР4__) и `tags_sample.csv` (__ЛР5__).\n",
    "Выведите созданную строку на экран."
   ],
   "metadata": {
    "collapsed": false
   }
  },
  {
   "cell_type": "code",
   "execution_count": 30,
   "outputs": [],
   "source": [
    "# def show_info2(id):\n",
    "#     recipes_sample_with_tags_ingredients = pd.read_csv('../Lesson7/data/data/recipes_sample_with_tags_ingredients.csv')\n",
    "#\n",
    "#     with open(\"../Lesson4-json_xml_pickle/data/data/steps_sample.xml\", \"r\", encoding=\"UTF-8\") as f:\n",
    "#         steps_sample_xml = bs(f, \"xml\")\n",
    "#     step_dict = {}\n",
    "#     for recipe in steps_sample_xml.recipes.find_all(\"recipe\"):\n",
    "#         if recipe.id.text not in step_dict:\n",
    "#             step_dict[int(recipe.id.text)] = [] #recipe.find_all(\"steps\")\n",
    "#         for steps in recipe.find_all(\"step\"):\n",
    "#             step_dict[int(recipe.id.text)].append(steps.text)\n",
    "#\n",
    "#     with open(\"../Lesson5/data/data/tags_sample.json\", \"r\") as f:\n",
    "#         tags_sample_json = json.load(f)\n",
    "#\n",
    "#     for recipe in recipes_sample_with_tags_ingredients.values[:10]:\n",
    "#         recipe_name, recipe_id = recipe[0], recipe[1]\n",
    "#         steps = step_dict.get(recipe_id)\n",
    "#         print(recipe_name.upper())\n",
    "#         for i in range(len(steps)):\n",
    "#             print(f\"{i+1}. {steps[i]}\")\n",
    "#         tags = tags_sample_json[str(recipe_id)]\n",
    "#         for i in range(len(tags_sample_json[str(recipe_id)])):\n",
    "#             print(f\"#{i + 1} {tags[i]}\", end=\" \")\n",
    "#\n",
    "#         print(\"\\n\\n\")"
   ],
   "metadata": {
    "collapsed": false,
    "pycharm": {
     "name": "#%%\n"
    }
   }
  },
  {
   "cell_type": "code",
   "execution_count": 4,
   "outputs": [],
   "source": [
    "def show_info(id: int) -> str:\n",
    "    out = \"\"\n",
    "    recipes_sample_with_tags_ingredients = pd.read_csv('../Lesson7/data/data/recipes_sample_with_tags_ingredients.csv')\n",
    "    recipe_name = recipes_sample_with_tags_ingredients.loc[recipes_sample_with_tags_ingredients[\"id\"] == id][\"name\"][0]\n",
    "    out += f'{recipe_name.capitalize()}\\n\\n'\n",
    "    with open(\"../Lesson4-json_xml_pickle/data/data/steps_sample.xml\", \"r\", encoding=\"UTF-8\") as f:\n",
    "        steps_sample_xml = bs(f, \"xml\")\n",
    "        for recipe in steps_sample_xml.recipes.find_all(\"recipe\"):\n",
    "            if recipe.id.text == str(id):\n",
    "                num = 1\n",
    "                for step in recipe.find_all(\"step\"):\n",
    "                    out += f\"{num}. {step.text.capitalize()}.\\n\"\n",
    "                    num += 1\n",
    "    out += f\"{'-'*10}\\n\"\n",
    "    with open(\"../Lesson5/data/data/tags_sample.json\", \"r\") as f:\n",
    "        tags_sample_json = json.load(f)\n",
    "        for tag in tags_sample_json[str(id)]:\n",
    "            out += f\"#{tag} \"\n",
    "    return out"
   ],
   "metadata": {
    "collapsed": false,
    "pycharm": {
     "name": "#%%\n"
    }
   }
  },
  {
   "cell_type": "code",
   "execution_count": 5,
   "outputs": [
    {
     "name": "stdout",
     "output_type": "stream",
     "text": [
      "George s at the cove  black bean soup\n",
      "\n",
      "1. In 1 / 4 cup butter , saute carrots , onion , celery and broccoli stems for 5 minutes.\n",
      "2. Add thyme , oregano and basil.\n",
      "3. Saute 5 minutes more.\n",
      "4. Add wine and deglaze pan.\n",
      "5. Add hot chicken stock and reduce by one-third.\n",
      "6. Add worcestershire sauce , tabasco , smoked chicken , beans and broccoli florets.\n",
      "7. Simmer 5 minutes.\n",
      "8. Add cream , simmer 5 minutes more and season to taste.\n",
      "9. Drop in remaining butter , piece by piece , stirring until melted and serve immediately.\n",
      "10. Smoked chicken: on a covered grill , slightly smoke boneless chicken , cooking to medium rare.\n",
      "11. Chef meskan uses applewood chips and does not allow the grill to become too hot.\n",
      "----------\n",
      "#weeknight #time-to-make #course #main-ingredient #cuisine #preparation #occasion #north-american #soups-stews #beans #poultry #american #chicken #stove-top #dietary #gluten-free #comfort-food #californian #black-beans #free-of-something #meat #taste-mood #equipment #grilling #4-hours-or-less \n"
     ]
    }
   ],
   "source": [
    "print(show_info(44123))"
   ],
   "metadata": {
    "collapsed": false,
    "pycharm": {
     "name": "#%%\n"
    }
   }
  },
  {
   "cell_type": "markdown",
   "source": [
    "## Работа с регулярными выражениями"
   ],
   "metadata": {
    "collapsed": false
   }
  },
  {
   "cell_type": "markdown",
   "source": [
    "В задачах данного блока подразумевается, что вы не будете использовать никаких строковые методы (`split`, `startswith` и т.д.). Все задачи необходимо решить при помощи регулярных выражений."
   ],
   "metadata": {
    "collapsed": false
   }
  },
  {
   "cell_type": "markdown",
   "source": [
    "2.1 Посчитайте кол-во отзывов, в которых встречаются числа."
   ],
   "metadata": {
    "collapsed": false
   }
  },
  {
   "cell_type": "code",
   "execution_count": 181,
   "outputs": [
    {
     "data": {
      "text/plain": "49246"
     },
     "execution_count": 181,
     "metadata": {},
     "output_type": "execute_result"
    }
   ],
   "source": [
    "reviews_sample = pd.read_csv(\"./data/data/reviews_sample_b.csv\", index_col=0, parse_dates=[\"date\"], encoding=\"UTF-8\")\n",
    "\n",
    "r = re.compile('\\d+')\n",
    "vmatch = np.vectorize(lambda x: bool(r.findall(x)))\n",
    "\n",
    "np.sum(vmatch(reviews_sample[\"review\"].astype(str)))"
   ],
   "metadata": {
    "collapsed": false,
    "pycharm": {
     "name": "#%%\n"
    }
   }
  },
  {
   "cell_type": "markdown",
   "source": [
    "2.2 Найдите все смайлики в отзывах. Смайлик состоит из трех частей: глаза (символ `=` или `:`), нос (символ `-`), губы (символ `)` или `(`). Смайлик может иметь вид \"глаза-нос-губы\" или \"губы-нос-глаза\". Нос может отсутствовать."
   ],
   "metadata": {
    "collapsed": false
   }
  },
  {
   "cell_type": "code",
   "execution_count": 182,
   "outputs": [
    {
     "data": {
      "text/plain": "\"I love this sandwich!! I'm on the go alot and this is sooo healthy and easy to make. Lite bread and brown mustard and horse relish and add some olives are my add on's. Next time balsamic dressing...it just came to mind. :) Thanks cbreezie\""
     },
     "execution_count": 182,
     "metadata": {},
     "output_type": "execute_result"
    }
   ],
   "source": [
    "reviews_sample = pd.read_csv(\"./data/data/reviews_sample.csv\", index_col=0, parse_dates=[\"date\"], encoding=\"UTF-8\")\n",
    "\n",
    "r = re.compile(r'(=|:|\\)|\\()(-?)(\\)|\\(|=|:)')\n",
    "vfind_smile = np.vectorize(lambda x: bool(re.findall(r, x)))\n",
    "\n",
    "copy = reviews_sample.copy()\n",
    "copy = copy[vfind_smile(np.array(copy[\"review\"].astype(str)))]\n",
    "copy[\"review\"].iloc[0]"
   ],
   "metadata": {
    "collapsed": false,
    "pycharm": {
     "name": "#%%\n"
    }
   }
  },
  {
   "cell_type": "code",
   "execution_count": 180,
   "outputs": [
    {
     "data": {
      "text/plain": "         user_id  recipe_id       date  rating  \\\n765972    110278     114415 2005-10-17       5   \n115270    383346     328668 2010-12-21       5   \n756876    564229      75168 2008-05-06       5   \n467504     41578      39468 2002-09-20       5   \n1017762   278516      49444 2007-09-30       4   \n...          ...        ...        ...     ...   \n678123    696326     288570 2008-03-13       5   \n248254    280271     362382 2012-01-25       5   \n935935     65502     460278 2012-07-29       0   \n895930    383346     321000 2012-04-10       5   \n112348     41578      59223 2003-09-07       5   \n\n                                                    review  \n765972   I love this sandwich!! I'm on the go alot and ...  \n115270   This soup is so comforting.  I used low-sodium...  \n756876   these were fantastic! very soft and chewy and ...  \n467504   This is a wonderful marinade.  I made it exact...  \n1017762  Wow! What amazing stuff! I love Hokey Pokey ic...  \n...                                                    ...  \n678123   Loved it!!!!! These were fantastic!  We made a...  \n248254   Looks like there is another 5 stars here...DH ...  \n935935   I made 1/8 of this recipe and there was still ...  \n895930   This is a great recipe.  Very kid pleaser.  My...  \n112348   What a great way to prepare pork tenderloin! T...  \n\n[7424 rows x 5 columns]",
      "text/html": "<div>\n<style scoped>\n    .dataframe tbody tr th:only-of-type {\n        vertical-align: middle;\n    }\n\n    .dataframe tbody tr th {\n        vertical-align: top;\n    }\n\n    .dataframe thead th {\n        text-align: right;\n    }\n</style>\n<table border=\"1\" class=\"dataframe\">\n  <thead>\n    <tr style=\"text-align: right;\">\n      <th></th>\n      <th>user_id</th>\n      <th>recipe_id</th>\n      <th>date</th>\n      <th>rating</th>\n      <th>review</th>\n    </tr>\n  </thead>\n  <tbody>\n    <tr>\n      <th>765972</th>\n      <td>110278</td>\n      <td>114415</td>\n      <td>2005-10-17</td>\n      <td>5</td>\n      <td>I love this sandwich!! I'm on the go alot and ...</td>\n    </tr>\n    <tr>\n      <th>115270</th>\n      <td>383346</td>\n      <td>328668</td>\n      <td>2010-12-21</td>\n      <td>5</td>\n      <td>This soup is so comforting.  I used low-sodium...</td>\n    </tr>\n    <tr>\n      <th>756876</th>\n      <td>564229</td>\n      <td>75168</td>\n      <td>2008-05-06</td>\n      <td>5</td>\n      <td>these were fantastic! very soft and chewy and ...</td>\n    </tr>\n    <tr>\n      <th>467504</th>\n      <td>41578</td>\n      <td>39468</td>\n      <td>2002-09-20</td>\n      <td>5</td>\n      <td>This is a wonderful marinade.  I made it exact...</td>\n    </tr>\n    <tr>\n      <th>1017762</th>\n      <td>278516</td>\n      <td>49444</td>\n      <td>2007-09-30</td>\n      <td>4</td>\n      <td>Wow! What amazing stuff! I love Hokey Pokey ic...</td>\n    </tr>\n    <tr>\n      <th>...</th>\n      <td>...</td>\n      <td>...</td>\n      <td>...</td>\n      <td>...</td>\n      <td>...</td>\n    </tr>\n    <tr>\n      <th>678123</th>\n      <td>696326</td>\n      <td>288570</td>\n      <td>2008-03-13</td>\n      <td>5</td>\n      <td>Loved it!!!!! These were fantastic!  We made a...</td>\n    </tr>\n    <tr>\n      <th>248254</th>\n      <td>280271</td>\n      <td>362382</td>\n      <td>2012-01-25</td>\n      <td>5</td>\n      <td>Looks like there is another 5 stars here...DH ...</td>\n    </tr>\n    <tr>\n      <th>935935</th>\n      <td>65502</td>\n      <td>460278</td>\n      <td>2012-07-29</td>\n      <td>0</td>\n      <td>I made 1/8 of this recipe and there was still ...</td>\n    </tr>\n    <tr>\n      <th>895930</th>\n      <td>383346</td>\n      <td>321000</td>\n      <td>2012-04-10</td>\n      <td>5</td>\n      <td>This is a great recipe.  Very kid pleaser.  My...</td>\n    </tr>\n    <tr>\n      <th>112348</th>\n      <td>41578</td>\n      <td>59223</td>\n      <td>2003-09-07</td>\n      <td>5</td>\n      <td>What a great way to prepare pork tenderloin! T...</td>\n    </tr>\n  </tbody>\n</table>\n<p>7424 rows × 5 columns</p>\n</div>"
     },
     "execution_count": 180,
     "metadata": {},
     "output_type": "execute_result"
    }
   ],
   "source": [
    "copy"
   ],
   "metadata": {
    "collapsed": false,
    "pycharm": {
     "name": "#%%\n"
    }
   }
  },
  {
   "cell_type": "code",
   "execution_count": 172,
   "outputs": [
    {
     "data": {
      "text/plain": "[(':', '', ')')]"
     },
     "execution_count": 172,
     "metadata": {},
     "output_type": "execute_result"
    }
   ],
   "source": [
    "r = re.compile(r'(=|:|\\)|\\()(-?)(\\)|\\(|=|:)')\n",
    "r.findall(\":) \")"
   ],
   "metadata": {
    "collapsed": false,
    "pycharm": {
     "name": "#%%\n"
    }
   }
  },
  {
   "cell_type": "markdown",
   "source": [
    "2.3 Проверьте, что все даты в датасете имеют вид \"YYYY-MM-DD\". Продемонстрируйте работу вашего решения, приведя пример из датасета и контрпример не из датасета."
   ],
   "metadata": {
    "collapsed": false
   }
  },
  {
   "cell_type": "code",
   "execution_count": 212,
   "outputs": [
    {
     "name": "stdout",
     "output_type": "stream",
     "text": [
      "Все даты в датасете имеют вид 'YYYY-MM-DD'\n"
     ]
    }
   ],
   "source": [
    "reviews_sample = pd.read_csv(\"./data/data/reviews_sample.csv\", index_col=0, parse_dates=[\"date\"], encoding=\"UTF-8\")\n",
    "\n",
    "r = re.compile(r'[0-9]{4}-[0-9]{2}-[0-9]{2}')\n",
    "vmatch = np.vectorize(lambda x: bool(r.match(x)))\n",
    "\n",
    "copy = reviews_sample.copy()\n",
    "copy[\"review\"] = copy[\"review\"].astype(str)\n",
    "\n",
    "c = np.sum(vmatch(np.array(reviews_sample[\"date\"].astype(str))))\n",
    "if copy.shape[0] == c:\n",
    "    print(\"Все даты в датасете имеют вид 'YYYY-MM-DD'\")\n",
    "else:\n",
    "    print(\"Кол-во несовпадений = \", c)"
   ],
   "metadata": {
    "collapsed": false,
    "pycharm": {
     "name": "#%%\n"
    }
   }
  },
  {
   "cell_type": "code",
   "execution_count": 216,
   "outputs": [
    {
     "name": "stdout",
     "output_type": "stream",
     "text": [
      "Совпадение\n"
     ]
    }
   ],
   "source": [
    "if re.match(r, str(copy.iloc[0][\"date\"])):\n",
    "    print(\"Совпадение\")\n",
    "else:\n",
    "    print(\"Совпадения нет\")"
   ],
   "metadata": {
    "collapsed": false,
    "pycharm": {
     "name": "#%%\n"
    }
   }
  },
  {
   "cell_type": "code",
   "execution_count": 217,
   "outputs": [
    {
     "name": "stdout",
     "output_type": "stream",
     "text": [
      "Совпадения нет\n"
     ]
    }
   ],
   "source": [
    "if re.match(r, \"d234-92-11\"):\n",
    "    print(\"Совпадение\")\n",
    "else:\n",
    "    print(\"Совпадения нет\")"
   ],
   "metadata": {
    "collapsed": false,
    "pycharm": {
     "name": "#%%\n"
    }
   }
  },
  {
   "cell_type": "markdown",
   "source": [
    "2.4 Используя строку-результат задачи 1.2, найдите первое слово каждого шага в рецепте"
   ],
   "metadata": {
    "collapsed": false
   }
  },
  {
   "cell_type": "code",
   "execution_count": 218,
   "outputs": [],
   "source": [
    "# recipes_sample_with_tags_ingredients = pd.read_csv('../Lesson7/data/data/recipes_sample_with_tags_ingredients.csv')\n",
    "#\n",
    "# with open(\"../Lesson4-json_xml_pickle/data/data/steps_sample.xml\", \"r\", encoding=\"UTF-8\") as f:\n",
    "#     steps_sample_xml = bs(f, \"xml\")\n",
    "#\n",
    "# step_dict = {}\n",
    "# for recipe in steps_sample_xml.recipes.find_all(\"recipe\"):\n",
    "#         if recipe.id.text not in step_dict:\n",
    "#             step_dict[int(recipe.id.text)] = [] #recipe.find_all(\"steps\")\n",
    "#         for steps in recipe.find_all(\"step\"):\n",
    "#             step_dict[int(recipe.id.text)].append(steps.text)\n",
    "#\n",
    "# pattern = re.compile(r'^\\w+')\n",
    "# for recipe in recipes_sample_with_tags_ingredients.values[:10]:\n",
    "#     recipe_name, recipe_id = recipe[0], recipe[1]\n",
    "#     steps = step_dict.get(recipe_id)\n",
    "#     print(recipe_name.upper())\n",
    "#     for i in range(len(steps)):\n",
    "#         print(re.findall(pattern, steps[i]).pop())\n",
    "#\n",
    "#     print(\"\\n\\n\")"
   ],
   "metadata": {
    "collapsed": false,
    "pycharm": {
     "name": "#%%\n"
    }
   }
  },
  {
   "cell_type": "code",
   "execution_count": 9,
   "outputs": [],
   "source": [
    "pattern = re.compile('\\. ([^\\.]+)\\.')\n",
    "pattern2 = re.compile('^([\\w\\-]+)')\n",
    "string_need = show_info(44123)"
   ],
   "metadata": {
    "collapsed": false,
    "pycharm": {
     "name": "#%%\n"
    }
   }
  },
  {
   "cell_type": "code",
   "execution_count": 10,
   "outputs": [
    {
     "name": "stdout",
     "output_type": "stream",
     "text": [
      "In\n",
      "Add\n",
      "Saute\n",
      "Add\n",
      "Add\n",
      "Add\n",
      "Simmer\n",
      "Add\n",
      "Drop\n",
      "Smoked\n",
      "Chef\n"
     ]
    }
   ],
   "source": [
    "strings = re.split(pattern, string_need)\n",
    "for st in strings[1:]:\n",
    "    if re.findall(pattern2, st):\n",
    "        print(re.findall(pattern2, st)[0])"
   ],
   "metadata": {
    "collapsed": false,
    "pycharm": {
     "name": "#%%\n"
    }
   }
  },
  {
   "cell_type": "markdown",
   "source": [
    "2.5 Используя регулярные выражения, удалите из описаний все символы, кроме английских букв, цифр и пробелов. Сохраните предобработанные описания в файл `preprocessed_descriptions.csv`, содержащий 2 столбца: `name` и `preprocessed_descriptions`."
   ],
   "metadata": {
    "collapsed": false
   }
  },
  {
   "cell_type": "code",
   "execution_count": 16,
   "outputs": [],
   "source": [
    "recipes_sample_with_tags_ingredients = pd.read_csv('../Lesson7/data/data/recipes_sample_with_tags_ingredients.csv')\n",
    "\n",
    "recipes_sample_with_tags_ingredients[\"description\"] = recipes_sample_with_tags_ingredients[\"description\"].astype(str)\n",
    "recipes_sample_with_tags_ingredients[\"description\"] = recipes_sample_with_tags_ingredients[\"description\"]\\\n",
    "    .map(lambda x: re.sub(r'[^A-Za-z0-9 ]+', '', x))\n",
    "name_preprocessed_descriptions = recipes_sample_with_tags_ingredients[[\"name\", \"description\"]]\n",
    "name_preprocessed_descriptions.to_csv(\"data/data/preprocessed_descriptions.csv\", index=False)"
   ],
   "metadata": {
    "collapsed": false,
    "pycharm": {
     "name": "#%%\n"
    }
   }
  },
  {
   "cell_type": "code",
   "execution_count": 17,
   "outputs": [
    {
     "data": {
      "text/plain": "                                               name  \\\n0             george s at the cove  black bean soup   \n1                healthy for them  yogurt popsicles   \n2                      i can t believe it s spinach   \n3                              italian  gut busters   \n4          love is in the air  beef fondue   sauces   \n...                                             ...   \n29995  zurie s holey rustic olive and cheddar bread   \n29996          zwetschgenkuchen  bavarian plum cake   \n29997   zwiebelkuchen   southwest german onion cake   \n29998                                   zydeco soup   \n29999        cookies by design   cookies on a stick   \n\n                                             description  \n0      an original recipe created by chef scott meska...  \n1      my children and their friends ask for my homem...  \n2                  these were so go it surprised even me  \n3      my sisterinlaw made these for us at a family g...  \n4      i think a fondue is a very romantic casual din...  \n...                                                  ...  \n29995  this is based on a french recipe but i changed...  \n29996  this is a traditional fresh plum cake thought ...  \n29997  this is a traditional late summer early fall s...  \n29998  this is a delicious soup that i originally fou...  \n29999  ive heard of the cookies by design company but...  \n\n[30000 rows x 2 columns]",
      "text/html": "<div>\n<style scoped>\n    .dataframe tbody tr th:only-of-type {\n        vertical-align: middle;\n    }\n\n    .dataframe tbody tr th {\n        vertical-align: top;\n    }\n\n    .dataframe thead th {\n        text-align: right;\n    }\n</style>\n<table border=\"1\" class=\"dataframe\">\n  <thead>\n    <tr style=\"text-align: right;\">\n      <th></th>\n      <th>name</th>\n      <th>description</th>\n    </tr>\n  </thead>\n  <tbody>\n    <tr>\n      <th>0</th>\n      <td>george s at the cove  black bean soup</td>\n      <td>an original recipe created by chef scott meska...</td>\n    </tr>\n    <tr>\n      <th>1</th>\n      <td>healthy for them  yogurt popsicles</td>\n      <td>my children and their friends ask for my homem...</td>\n    </tr>\n    <tr>\n      <th>2</th>\n      <td>i can t believe it s spinach</td>\n      <td>these were so go it surprised even me</td>\n    </tr>\n    <tr>\n      <th>3</th>\n      <td>italian  gut busters</td>\n      <td>my sisterinlaw made these for us at a family g...</td>\n    </tr>\n    <tr>\n      <th>4</th>\n      <td>love is in the air  beef fondue   sauces</td>\n      <td>i think a fondue is a very romantic casual din...</td>\n    </tr>\n    <tr>\n      <th>...</th>\n      <td>...</td>\n      <td>...</td>\n    </tr>\n    <tr>\n      <th>29995</th>\n      <td>zurie s holey rustic olive and cheddar bread</td>\n      <td>this is based on a french recipe but i changed...</td>\n    </tr>\n    <tr>\n      <th>29996</th>\n      <td>zwetschgenkuchen  bavarian plum cake</td>\n      <td>this is a traditional fresh plum cake thought ...</td>\n    </tr>\n    <tr>\n      <th>29997</th>\n      <td>zwiebelkuchen   southwest german onion cake</td>\n      <td>this is a traditional late summer early fall s...</td>\n    </tr>\n    <tr>\n      <th>29998</th>\n      <td>zydeco soup</td>\n      <td>this is a delicious soup that i originally fou...</td>\n    </tr>\n    <tr>\n      <th>29999</th>\n      <td>cookies by design   cookies on a stick</td>\n      <td>ive heard of the cookies by design company but...</td>\n    </tr>\n  </tbody>\n</table>\n<p>30000 rows × 2 columns</p>\n</div>"
     },
     "execution_count": 17,
     "metadata": {},
     "output_type": "execute_result"
    }
   ],
   "source": [
    "name_preprocessed_descriptions"
   ],
   "metadata": {
    "collapsed": false,
    "pycharm": {
     "name": "#%%\n"
    }
   }
  },
  {
   "cell_type": "markdown",
   "source": [
    "### Сегментация текста"
   ],
   "metadata": {
    "collapsed": false
   }
  },
  {
   "cell_type": "markdown",
   "source": [
    "3.1 Разбейте предобработанные отзывы из задания 2.5 на предложения, а предложения - на слова (используйте `sent_tokenize` и `word_tokenize` из `nltk`). Каждый отзыв представьте в виде списка списков: внешний список - предложения, вложенные списки - слова в предложении.\n",
    "\n",
    "`'Предложение номер один. Предложение номер два.' => [['Предложение', 'номер', 'один', '.'], ['Предложение', 'номер', 'два', '.']]`"
   ],
   "metadata": {
    "collapsed": false
   }
  },
  {
   "cell_type": "code",
   "execution_count": 166,
   "outputs": [],
   "source": [
    "recipes_sample_with_tags_ingredients = pd.read_csv('../Lesson7/data/data/recipes_sample_with_tags_ingredients.csv')\n",
    "recipes_sample_with_tags_ingredients[\"description\"] = recipes_sample_with_tags_ingredients[\"description\"].astype(str)\n",
    "recipes_sample_with_tags_ingredients = recipes_sample_with_tags_ingredients[[\"name\", \"description\"]]"
   ],
   "metadata": {
    "collapsed": false,
    "pycharm": {
     "name": "#%%\n"
    }
   }
  },
  {
   "cell_type": "code",
   "execution_count": 168,
   "outputs": [],
   "source": [
    "recipes_sample_with_tags_ingredients[\"description\"] = recipes_sample_with_tags_ingredients[\"description\"]\\\n",
    "    .map(lambda x: nltk.sent_tokenize(x))\\\n",
    "    .map(lambda x: [nltk.word_tokenize(i) for i in x])"
   ],
   "metadata": {
    "collapsed": false,
    "pycharm": {
     "name": "#%%\n"
    }
   }
  },
  {
   "cell_type": "code",
   "execution_count": 169,
   "outputs": [
    {
     "data": {
      "text/plain": "[['my',\n  'children',\n  'and',\n  'their',\n  'friends',\n  'ask',\n  'for',\n  'my',\n  'homemade',\n  'popsicles',\n  'morning',\n  ',',\n  'noon',\n  'and',\n  'night',\n  '.'],\n ['i',\n  'never',\n  'turn',\n  'them',\n  'down',\n  ';',\n  'who',\n  'am',\n  'i',\n  'to',\n  'tell',\n  'them',\n  'that',\n  'they',\n  'are',\n  'good',\n  'for',\n  'them',\n  '!'],\n ['for',\n  'variety',\n  'i',\n  'substitute',\n  'different',\n  'flavours',\n  'of',\n  'frozen',\n  'juice',\n  '-',\n  'grape',\n  ',',\n  'fruit',\n  'punch',\n  ',',\n  'tropical',\n  'etc',\n  '.']]"
     },
     "execution_count": 169,
     "metadata": {},
     "output_type": "execute_result"
    }
   ],
   "source": [
    "recipes_sample_with_tags_ingredients[\"description\"].iloc[1]"
   ],
   "metadata": {
    "collapsed": false,
    "pycharm": {
     "name": "#%%\n"
    }
   }
  },
  {
   "cell_type": "markdown",
   "source": [
    "3.2 Посчитайте кол-во уникальных слов в датасете (без учета регистра)."
   ],
   "metadata": {
    "collapsed": false
   }
  },
  {
   "cell_type": "code",
   "execution_count": 242,
   "outputs": [
    {
     "data": {
      "text/plain": "29122"
     },
     "execution_count": 242,
     "metadata": {},
     "output_type": "execute_result"
    }
   ],
   "source": [
    "from pandas.core.common import flatten\n",
    "\n",
    "recipes_sample_with_tags_ingredients = pd.read_csv('../Lesson7/data/data/recipes_sample_with_tags_ingredients.csv')\n",
    "recipes_sample_with_tags_ingredients[\"description\"] = recipes_sample_with_tags_ingredients[\"description\"].astype(str)\n",
    "recipes_sample_with_tags_ingredients = recipes_sample_with_tags_ingredients[[\"name\", \"description\"]]\n",
    "recipes_sample_with_tags_ingredients[\"description\"] = recipes_sample_with_tags_ingredients[\"description\"]\\\n",
    "    .map(lambda x: re.sub(r'[^A-Za-z0-9 ]+', '', x))\n",
    "\n",
    "unique_words = set()\n",
    "list_of_desc = list(flatten(recipes_sample_with_tags_ingredients[\"description\"]))\n",
    "for i in list_of_desc:\n",
    "    unique_words.add(i)\n",
    "\n",
    "len(unique_words)"
   ],
   "metadata": {
    "collapsed": false,
    "pycharm": {
     "name": "#%%\n"
    }
   }
  },
  {
   "cell_type": "markdown",
   "source": [
    "3.3 Найдите 5 самых длинных (по количеству слов) отзывов в датасете и выведите их в порядке убывания длины."
   ],
   "metadata": {
    "collapsed": false
   }
  },
  {
   "cell_type": "code",
   "execution_count": 240,
   "outputs": [
    {
     "data": {
      "text/plain": "18408    this wonderful icing is used for icing cakes a...\n481      a translucent golden-brown crust allows the gr...\n14136    this is the recipe as taught in the main line ...\n16296    the first time i made this cake i grated a mil...\n14935    the sweet of all sweet..............to quench ...\nName: description, dtype: object"
     },
     "execution_count": 240,
     "metadata": {},
     "output_type": "execute_result"
    }
   ],
   "source": [
    "recipes_sample_with_tags_ingredients = pd.read_csv('../Lesson7/data/data/recipes_sample_with_tags_ingredients.csv')\n",
    "recipes_sample_with_tags_ingredients[\"description\"] = recipes_sample_with_tags_ingredients[\"description\"].astype(str)\n",
    "recipes_sample_with_tags_ingredients = recipes_sample_with_tags_ingredients[[\"name\", \"description\"]]\n",
    "\n",
    "ids_with_longest_num_of_words = recipes_sample_with_tags_ingredients[\"description\"].str.len().sort_values(ascending=False).iloc[0:5].index\n",
    "recipes_sample_with_tags_ingredients[\"description\"][ids_with_longest_num_of_words]"
   ],
   "metadata": {
    "collapsed": false,
    "pycharm": {
     "name": "#%%\n"
    }
   }
  },
  {
   "cell_type": "markdown",
   "source": [
    "3.4 Напишите функцию, которая для заданного предложения выводит информацию о частях речи слов, входящих в предложение в следующем виде:\n",
    "```\n",
    "PRP   VBD   DT      NNS     CC   VBD      NNS        RB\n",
    " I  omitted the raspberries and added strawberries instead\n",
    "```\n",
    "Для определения части речи слова можно воспользоваться `nltk.pos_tag`.\n",
    "\n",
    "Проверьте работоспособность функции на любом предложении из отзывов."
   ],
   "metadata": {
    "collapsed": false
   }
  },
  {
   "cell_type": "code",
   "execution_count": 270,
   "outputs": [
    {
     "name": "stdout",
     "output_type": "stream",
     "text": [
      "PRP   VBD   DT      NNS     CC   VBD      NNS        RB    \n",
      " I  omitted the raspberries and added strawberries instead \n"
     ]
    }
   ],
   "source": [
    "# nltk.download('averaged_perceptron_tagger')\n",
    "def parts_of_speech(sentence) -> None:\n",
    "    tokens = nltk.word_tokenize(sentence)\n",
    "    tagged = nltk.pos_tag(tokens)\n",
    "\n",
    "    tags = \"\"\n",
    "    words = \"\"\n",
    "\n",
    "    for word,tag in tagged:\n",
    "        length_of_word = max(len(word), len(tag))\n",
    "        tags = tags + f\"{tag:^{length_of_word}} \"\n",
    "        words = words + f\"{word:^{length_of_word}} \"\n",
    "\n",
    "    print(tags)\n",
    "    print(words)\n",
    "\n",
    "\n",
    "parts_of_speech(\"\"\"I  omitted the raspberries and added strawberries instead\"\"\")"
   ],
   "metadata": {
    "collapsed": false,
    "pycharm": {
     "name": "#%%\n"
    }
   }
  },
  {
   "cell_type": "code",
   "execution_count": null,
   "outputs": [],
   "source": [],
   "metadata": {
    "collapsed": false,
    "pycharm": {
     "name": "#%%\n"
    }
   }
  }
 ],
 "metadata": {
  "kernelspec": {
   "display_name": "Python 3",
   "language": "python",
   "name": "python3"
  },
  "language_info": {
   "codemirror_mode": {
    "name": "ipython",
    "version": 2
   },
   "file_extension": ".py",
   "mimetype": "text/x-python",
   "name": "python",
   "nbconvert_exporter": "python",
   "pygments_lexer": "ipython2",
   "version": "2.7.6"
  }
 },
 "nbformat": 4,
 "nbformat_minor": 0
}