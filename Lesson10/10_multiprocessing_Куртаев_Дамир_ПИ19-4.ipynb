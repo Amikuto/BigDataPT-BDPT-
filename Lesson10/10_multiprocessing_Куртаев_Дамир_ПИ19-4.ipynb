{
 "cells": [
  {
   "cell_type": "markdown",
   "metadata": {},
   "source": [
    "# Параллельные вычисления"
   ]
  },
  {
   "cell_type": "markdown",
   "metadata": {},
   "source": [
    "Материалы:\n",
    "* Макрушин С.В. Лекция 10: Параллельные вычисления\n",
    "* https://docs.python.org/3/library/multiprocessing.html"
   ]
  },
  {
   "cell_type": "markdown",
   "metadata": {},
   "source": [
    "## Задачи для совместного разбора"
   ]
  },
  {
   "cell_type": "markdown",
   "metadata": {},
   "source": [
    "1. Посчитайте, сколько раз встречается каждый из символов (заглавные и строчные символы не различаются) в файле `Dostoevskiy Fedor. Prestuplenie i nakazanie - BooksCafe.Net.txt` и в файле `Dostoevskiy Fedor. Igrok - BooksCafe.Net.txt`."
   ]
  },
  {
   "cell_type": "code",
   "execution_count": 1,
   "metadata": {
    "pycharm": {
     "name": "#%%\n"
    }
   },
   "outputs": [],
   "source": [
    "# %%file count count_letters.py\n",
    "from collections import Counter\n",
    "\n",
    "def count_letters(file):\n",
    "\twith open(file) as fp:\n",
    "\t\ttext = fp.read().lower()\n",
    "\treturn Counter(text)"
   ]
  },
  {
   "cell_type": "code",
   "execution_count": 2,
   "metadata": {
    "pycharm": {
     "name": "#%%\n"
    }
   },
   "outputs": [
    {
     "data": {
      "text/plain": [
       "Counter({'с': 50084,\n",
       "         'п': 25652,\n",
       "         'а': 73555,\n",
       "         'и': 62030,\n",
       "         'б': 16016,\n",
       "         'о': 106740,\n",
       "         ',': 26973,\n",
       "         ' ': 182305,\n",
       "         'ч': 16492,\n",
       "         'т': 59813,\n",
       "         'к': 30802,\n",
       "         'л': 42328,\n",
       "         'н': 60920,\n",
       "         'г': 16174,\n",
       "         'у': 27309,\n",
       "         'в': 43700,\n",
       "         'е': 80972,\n",
       "         'й': 9747,\n",
       "         'э': 3203,\n",
       "         'р': 39784,\n",
       "         'b': 25,\n",
       "         'o': 104,\n",
       "         'k': 16,\n",
       "         's': 96,\n",
       "         'c': 42,\n",
       "         'a': 98,\n",
       "         'f': 23,\n",
       "         'e': 162,\n",
       "         '.': 9864,\n",
       "         'n': 114,\n",
       "         't': 98,\n",
       "         ':': 984,\n",
       "         'h': 48,\n",
       "         'p': 29,\n",
       "         '/': 22,\n",
       "         '\\n': 8583,\n",
       "         'u': 86,\n",
       "         'r': 76,\n",
       "         'd': 38,\n",
       "         'v': 65,\n",
       "         'i': 235,\n",
       "         'y': 5,\n",
       "         '_': 8,\n",
       "         '-': 3558,\n",
       "         '1': 384,\n",
       "         '0': 110,\n",
       "         '9': 100,\n",
       "         '6': 271,\n",
       "         'm': 54,\n",
       "         'l': 46,\n",
       "         'ж': 10552,\n",
       "         'д': 29633,\n",
       "         'х': 8127,\n",
       "         'ф': 1237,\n",
       "         'м': 29312,\n",
       "         'z': 11,\n",
       "         '2': 141,\n",
       "         '8': 297,\n",
       "         '5': 136,\n",
       "         'я': 19751,\n",
       "         '!': 3280,\n",
       "         '\\xa0': 6092,\n",
       "         'з': 14414,\n",
       "         'ш': 7437,\n",
       "         'ь': 20554,\n",
       "         'ю': 5418,\n",
       "         'ц': 2782,\n",
       "         '«': 1187,\n",
       "         '»': 1175,\n",
       "         'ы': 15449,\n",
       "         'щ': 3039,\n",
       "         'x': 52,\n",
       "         '—': 6440,\n",
       "         '(': 528,\n",
       "         ')': 527,\n",
       "         '[': 85,\n",
       "         ']': 85,\n",
       "         'ъ': 223,\n",
       "         '7': 121,\n",
       "         '3': 120,\n",
       "         '&': 22,\n",
       "         '#': 22,\n",
       "         ';': 1322,\n",
       "         '…': 2263,\n",
       "         '?': 2266,\n",
       "         '4': 130,\n",
       "         '–': 49,\n",
       "         '№': 45,\n",
       "         'ё': 969,\n",
       "         '\\t': 48,\n",
       "         '„': 44,\n",
       "         '“': 44,\n",
       "         \"'\": 11,\n",
       "         'g': 19,\n",
       "         'j': 1,\n",
       "         'q': 9,\n",
       "         'w': 4})"
      ]
     },
     "execution_count": 2,
     "metadata": {},
     "output_type": "execute_result"
    }
   ],
   "source": [
    "count_letters(r\"F:\\Programming\\Python\\BigDataPT-BDPT-\\Lesson10/10_multiprocessing_data\\10_multiprocessing_data\\Dostoevskiy Fedor. Prestuplenie i nakazanie - BooksCafe.Net.txt\")"
   ]
  },
  {
   "cell_type": "markdown",
   "metadata": {},
   "source": [
    "2. Решить задачу 1, распараллелив вычисления с помощью модуля `multiprocessing`. Для обработки каждого файла создать свой собственный процесс."
   ]
  },
  {
   "cell_type": "code",
   "execution_count": 3,
   "metadata": {
    "pycharm": {
     "name": "#%%\n"
    }
   },
   "outputs": [],
   "source": [
    "import multiprocessing as mp"
   ]
  },
  {
   "cell_type": "code",
   "execution_count": null,
   "metadata": {
    "pycharm": {
     "is_executing": true,
     "name": "#%%\n"
    }
   },
   "outputs": [],
   "source": [
    "# files = [r\"F:\\Programming\\Python\\BigDataPT-BDPT-\\Lesson10\\10_multiprocessing_data\\10_multiprocessing_data\\Dostoevskiy Fedor. Igrok - BooksCafe.Net.txt\",\n",
    "#          r\"F:\\Programming\\Python\\BigDataPT-BDPT-\\Lesson10/10_multiprocessing_data\\10_multiprocessing_data\\Dostoevskiy Fedor. Prestuplenie i nakazanie - BooksCafe.Net.txt\"]\n",
    "#\n",
    "# with mp.Pool(processes=len(files)) as pool:\n",
    "# \tcounters = pool.map(count_letters, files)\n",
    "# print(files)"
   ]
  },
  {
   "cell_type": "markdown",
   "metadata": {},
   "source": [
    "## Лабораторная работа 10"
   ]
  },
  {
   "cell_type": "markdown",
   "metadata": {},
   "source": [
    "1. Разбейте файл `recipes_full.csv` на несколько (например, 8) примерно одинаковых по объему файлов c названиями `id_tag_nsteps_*.csv`. Каждый файл содержит 3 столбца: `id`, `tag` и `n_steps`, разделенных символом `;`. Для разбора строк используйте `csv.reader`.\n",
    "\n",
    "__Важно__: вы не можете загружать в память весь файл сразу. Посмотреть на первые несколько строк файла вы можете, написав код, который считывает эти строки.\n",
    "\n",
    "Подсказка: примерное кол-во строк в файле - 2.3 млн.\n",
    "\n",
    "Фрагмент одного из файлов, которые должны получиться в результате:\n",
    "```\n",
    "id;tag;n_steps\n",
    "137739;60-minutes-or-less;11\n",
    "137739;time-to-make;11\n",
    "137739;course;11\n",
    "```\n"
   ]
  },
  {
   "cell_type": "code",
   "execution_count": 3,
   "metadata": {},
   "outputs": [],
   "source": [
    "import multiprocessing as mp"
   ]
  },
  {
   "cell_type": "code",
   "execution_count": null,
   "metadata": {
    "pycharm": {
     "is_executing": true,
     "name": "#%%\n"
    }
   },
   "outputs": [],
   "source": [
    "import pandas as pd\n",
    "\n",
    "NUMBER_OF_PROCESSES = 8\n",
    "\n",
    "\n"
   ]
  },
  {
   "cell_type": "code",
   "execution_count": null,
   "metadata": {
    "pycharm": {
     "name": "#%%\n"
    }
   },
   "outputs": [],
   "source": [
    "df"
   ]
  },
  {
   "cell_type": "markdown",
   "metadata": {},
   "source": [
    "2. Напишите функцию, которая принимает на вход название файла, созданного в результате решения задачи 1, считает среднее значение количества шагов для каждого тэга и возвращает результат в виде словаря."
   ]
  },
  {
   "cell_type": "markdown",
   "metadata": {},
   "source": [
    "3. Напишите функцию, которая считает среднее значение количества шагов для каждого тэга по всем файлам, полученным в задаче 1, и возвращает результат в виде словаря. Не используйте параллельных вычислений. При реализации выделите функцию, которая объединяет результаты обработки отдельных файлов. Модифицируйте код из задачи 2 таким образом, чтобы получить результат, имея результаты обработки отдельных файлов. Определите, за какое время задача решается для всех файлов.\n"
   ]
  },
  {
   "cell_type": "markdown",
   "metadata": {},
   "source": [
    "4. Решите задачу 3, распараллелив вычисления с помощью модуля `multiprocessing`. Для обработки каждого файла создайте свой собственный процесс. Определите, за какое время задача решается для всех файлов."
   ]
  },
  {
   "cell_type": "markdown",
   "metadata": {},
   "source": [
    "5. Решите задачу 3, распараллелив вычисления с помощью модуля `multiprocessing`. Создайте фиксированное количество процессов (равное половине количества ядер на компьютере). При помощи очереди `multiprocessing.queue` передайте названия файлов для обработки процессам и при помощи другой очереди заберите от них ответы."
   ]
  },
  {
   "cell_type": "code",
   "execution_count": null,
   "metadata": {
    "collapsed": true
   },
   "outputs": [],
   "source": []
  }
 ],
 "metadata": {
  "kernelspec": {
   "display_name": "Python 3 (ipykernel)",
   "language": "python",
   "name": "python3"
  },
  "language_info": {
   "codemirror_mode": {
    "name": "ipython",
    "version": 3
   },
   "file_extension": ".py",
   "mimetype": "text/x-python",
   "name": "python",
   "nbconvert_exporter": "python",
   "pygments_lexer": "ipython3",
   "version": "3.9.9"
  }
 },
 "nbformat": 4,
 "nbformat_minor": 1
}