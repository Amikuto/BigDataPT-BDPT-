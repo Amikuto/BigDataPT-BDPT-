{
 "cells": [
  {
   "cell_type": "markdown",
   "metadata": {},
   "source": [
    "# Параллельные вычисления"
   ]
  },
  {
   "cell_type": "markdown",
   "metadata": {},
   "source": [
    "Материалы:\n",
    "* Макрушин С.В. Лекция 10: Параллельные вычисления\n",
    "* https://docs.python.org/3/library/multiprocessing.html"
   ]
  },
  {
   "cell_type": "markdown",
   "metadata": {},
   "source": [
    "## Задачи для совместного разбора"
   ]
  },
  {
   "cell_type": "markdown",
   "metadata": {},
   "source": [
    "1. Посчитайте, сколько раз встречается каждый из символов (заглавные и строчные символы не различаются) в файле `Dostoevskiy Fedor. Prestuplenie i nakazanie - BooksCafe.Net.txt` и в файле `Dostoevskiy Fedor. Igrok - BooksCafe.Net.txt`."
   ]
  },
  {
   "cell_type": "code",
   "execution_count": 4,
   "metadata": {
    "pycharm": {
     "name": "#%%\n"
    }
   },
   "outputs": [
    {
     "name": "stdout",
     "output_type": "stream",
     "text": [
      "Writing count_letters.py\n"
     ]
    }
   ],
   "source": [
    "import csv\n",
    "%%file count_letters.py\n",
    "from collections import Counter\n",
    "\n",
    "def count_letters(file):\n",
    "\twith open(file) as fp:\n",
    "\t\ttext = fp.read().lower()\n",
    "\treturn Counter(text)"
   ]
  },
  {
   "cell_type": "code",
   "execution_count": 2,
   "metadata": {
    "pycharm": {
     "name": "#%%\n"
    }
   },
   "outputs": [
    {
     "data": {
      "text/plain": [
       "Counter({'с': 50084,\n",
       "         'п': 25652,\n",
       "         'а': 73555,\n",
       "         'и': 62030,\n",
       "         'б': 16016,\n",
       "         'о': 106740,\n",
       "         ',': 26973,\n",
       "         ' ': 182305,\n",
       "         'ч': 16492,\n",
       "         'т': 59813,\n",
       "         'к': 30802,\n",
       "         'л': 42328,\n",
       "         'н': 60920,\n",
       "         'г': 16174,\n",
       "         'у': 27309,\n",
       "         'в': 43700,\n",
       "         'е': 80972,\n",
       "         'й': 9747,\n",
       "         'э': 3203,\n",
       "         'р': 39784,\n",
       "         'b': 25,\n",
       "         'o': 104,\n",
       "         'k': 16,\n",
       "         's': 96,\n",
       "         'c': 42,\n",
       "         'a': 98,\n",
       "         'f': 23,\n",
       "         'e': 162,\n",
       "         '.': 9864,\n",
       "         'n': 114,\n",
       "         't': 98,\n",
       "         ':': 984,\n",
       "         'h': 48,\n",
       "         'p': 29,\n",
       "         '/': 22,\n",
       "         '\\n': 8583,\n",
       "         'u': 86,\n",
       "         'r': 76,\n",
       "         'd': 38,\n",
       "         'v': 65,\n",
       "         'i': 235,\n",
       "         'y': 5,\n",
       "         '_': 8,\n",
       "         '-': 3558,\n",
       "         '1': 384,\n",
       "         '0': 110,\n",
       "         '9': 100,\n",
       "         '6': 271,\n",
       "         'm': 54,\n",
       "         'l': 46,\n",
       "         'ж': 10552,\n",
       "         'д': 29633,\n",
       "         'х': 8127,\n",
       "         'ф': 1237,\n",
       "         'м': 29312,\n",
       "         'z': 11,\n",
       "         '2': 141,\n",
       "         '8': 297,\n",
       "         '5': 136,\n",
       "         'я': 19751,\n",
       "         '!': 3280,\n",
       "         '\\xa0': 6092,\n",
       "         'з': 14414,\n",
       "         'ш': 7437,\n",
       "         'ь': 20554,\n",
       "         'ю': 5418,\n",
       "         'ц': 2782,\n",
       "         '«': 1187,\n",
       "         '»': 1175,\n",
       "         'ы': 15449,\n",
       "         'щ': 3039,\n",
       "         'x': 52,\n",
       "         '—': 6440,\n",
       "         '(': 528,\n",
       "         ')': 527,\n",
       "         '[': 85,\n",
       "         ']': 85,\n",
       "         'ъ': 223,\n",
       "         '7': 121,\n",
       "         '3': 120,\n",
       "         '&': 22,\n",
       "         '#': 22,\n",
       "         ';': 1322,\n",
       "         '…': 2263,\n",
       "         '?': 2266,\n",
       "         '4': 130,\n",
       "         '–': 49,\n",
       "         '№': 45,\n",
       "         'ё': 969,\n",
       "         '\\t': 48,\n",
       "         '„': 44,\n",
       "         '“': 44,\n",
       "         \"'\": 11,\n",
       "         'g': 19,\n",
       "         'j': 1,\n",
       "         'q': 9,\n",
       "         'w': 4})"
      ]
     },
     "execution_count": 2,
     "metadata": {},
     "output_type": "execute_result"
    }
   ],
   "source": [
    "count_letters(r\"F:\\Programming\\Python\\BigDataPT-BDPT-\\Lesson10/10_multiprocessing_data\\10_multiprocessing_data\\Dostoevskiy Fedor. Prestuplenie i nakazanie - BooksCafe.Net.txt\")"
   ]
  },
  {
   "cell_type": "markdown",
   "metadata": {},
   "source": [
    "2. Решить задачу 1, распараллелив вычисления с помощью модуля `multiprocessing`. Для обработки каждого файла создать свой собственный процесс."
   ]
  },
  {
   "cell_type": "code",
   "execution_count": 9,
   "metadata": {
    "pycharm": {
     "name": "#%%\n"
    }
   },
   "outputs": [],
   "source": [
    "import multiprocessing as mp\n",
    "from pprint import pprint as pp"
   ]
  },
  {
   "cell_type": "code",
   "execution_count": null,
   "outputs": [],
   "source": [
    "import count_letters"
   ],
   "metadata": {
    "collapsed": false,
    "pycharm": {
     "name": "#%%\n"
    }
   }
  },
  {
   "cell_type": "code",
   "execution_count": 13,
   "metadata": {
    "pycharm": {
     "name": "#%%\n"
    }
   },
   "outputs": [
    {
     "name": "stdout",
     "output_type": "stream",
     "text": [
      "[Counter({' ': 45076,\n",
      "          'о': 23130,\n",
      "          'е': 20054,\n",
      "          'а': 18236,\n",
      "          'т': 14245,\n",
      "          'н': 14240,\n",
      "          'и': 13587,\n",
      "          'с': 11507,\n",
      "          'л': 9961,\n",
      "          'р': 9482,\n",
      "          'в': 9398,\n",
      "          'м': 7106,\n",
      "          'к': 6744,\n",
      "          'д': 6681,\n",
      "          ',': 6372,\n",
      "          'у': 6044,\n",
      "          'п': 5489,\n",
      "          'я': 5458,\n",
      "          'ь': 4857,\n",
      "          'ч': 4113,\n",
      "          'б': 3980,\n",
      "          'г': 3948,\n",
      "          'ы': 3869,\n",
      "          'з': 3355,\n",
      "          '.': 2954,\n",
      "          '\\n': 2734,\n",
      "          'ж': 2297,\n",
      "          'й': 2028,\n",
      "          'ш': 1943,\n",
      "          '—': 1726,\n",
      "          'х': 1535,\n",
      "          '\\xa0': 1472,\n",
      "          'ю': 1323,\n",
      "          'e': 1200,\n",
      "          '-': 900,\n",
      "          'э': 836,\n",
      "          'ц': 817,\n",
      "          '!': 718,\n",
      "          'ф': 634,\n",
      "          'a': 590,\n",
      "          'щ': 587,\n",
      "          'l': 571,\n",
      "          '?': 571,\n",
      "          'n': 459,\n",
      "          's': 429,\n",
      "          ';': 406,\n",
      "          'm': 401,\n",
      "          'o': 377,\n",
      "          'i': 369,\n",
      "          't': 332,\n",
      "          'c': 324,\n",
      "          'r': 308,\n",
      "          'u': 285,\n",
      "          '…': 280,\n",
      "          '(': 276,\n",
      "          ')': 276,\n",
      "          'h': 227,\n",
      "          'b': 220,\n",
      "          ':': 212,\n",
      "          'd': 192,\n",
      "          '«': 129,\n",
      "          '»': 128,\n",
      "          'p': 100,\n",
      "          '[': 97,\n",
      "          ']': 97,\n",
      "          'v': 87,\n",
      "          'g': 73,\n",
      "          'ъ': 63,\n",
      "          \"'\": 59,\n",
      "          'f': 52,\n",
      "          'q': 50,\n",
      "          '1': 46,\n",
      "          'z': 44,\n",
      "          '6': 42,\n",
      "          '2': 42,\n",
      "          '4': 42,\n",
      "          '7': 42,\n",
      "          '3': 40,\n",
      "          '5': 40,\n",
      "          'j': 40,\n",
      "          '8': 38,\n",
      "          '9': 36,\n",
      "          'x': 24,\n",
      "          '0': 22,\n",
      "          'k': 21,\n",
      "          '/': 20,\n",
      "          '`': 9,\n",
      "          'y': 8,\n",
      "          'w': 7,\n",
      "          '_': 4}),\n",
      " Counter({' ': 182305,\n",
      "          'о': 106740,\n",
      "          'е': 80972,\n",
      "          'а': 73555,\n",
      "          'и': 62030,\n",
      "          'н': 60920,\n",
      "          'т': 59813,\n",
      "          'с': 50084,\n",
      "          'в': 43700,\n",
      "          'л': 42328,\n",
      "          'р': 39784,\n",
      "          'к': 30802,\n",
      "          'д': 29633,\n",
      "          'м': 29312,\n",
      "          'у': 27309,\n",
      "          ',': 26973,\n",
      "          'п': 25652,\n",
      "          'ь': 20554,\n",
      "          'я': 19751,\n",
      "          'ч': 16492,\n",
      "          'г': 16174,\n",
      "          'б': 16016,\n",
      "          'ы': 15449,\n",
      "          'з': 14414,\n",
      "          'ж': 10552,\n",
      "          '.': 9864,\n",
      "          'й': 9747,\n",
      "          '\\n': 8583,\n",
      "          'х': 8127,\n",
      "          'ш': 7437,\n",
      "          '—': 6440,\n",
      "          '\\xa0': 6092,\n",
      "          'ю': 5418,\n",
      "          '-': 3558,\n",
      "          '!': 3280,\n",
      "          'э': 3203,\n",
      "          'щ': 3039,\n",
      "          'ц': 2782,\n",
      "          '?': 2266,\n",
      "          '…': 2263,\n",
      "          ';': 1322,\n",
      "          'ф': 1237,\n",
      "          '«': 1187,\n",
      "          '»': 1175,\n",
      "          ':': 984,\n",
      "          'ё': 969,\n",
      "          '(': 528,\n",
      "          ')': 527,\n",
      "          '1': 384,\n",
      "          '8': 297,\n",
      "          '6': 271,\n",
      "          'i': 235,\n",
      "          'ъ': 223,\n",
      "          'e': 162,\n",
      "          '2': 141,\n",
      "          '5': 136,\n",
      "          '4': 130,\n",
      "          '7': 121,\n",
      "          '3': 120,\n",
      "          'n': 114,\n",
      "          '0': 110,\n",
      "          'o': 104,\n",
      "          '9': 100,\n",
      "          'a': 98,\n",
      "          't': 98,\n",
      "          's': 96,\n",
      "          'u': 86,\n",
      "          '[': 85,\n",
      "          ']': 85,\n",
      "          'r': 76,\n",
      "          'v': 65,\n",
      "          'm': 54,\n",
      "          'x': 52,\n",
      "          '–': 49,\n",
      "          'h': 48,\n",
      "          '\\t': 48,\n",
      "          'l': 46,\n",
      "          '№': 45,\n",
      "          '„': 44,\n",
      "          '“': 44,\n",
      "          'c': 42,\n",
      "          'd': 38,\n",
      "          'p': 29,\n",
      "          'b': 25,\n",
      "          'f': 23,\n",
      "          '/': 22,\n",
      "          '&': 22,\n",
      "          '#': 22,\n",
      "          'g': 19,\n",
      "          'k': 16,\n",
      "          'z': 11,\n",
      "          \"'\": 11,\n",
      "          'q': 9,\n",
      "          '_': 8,\n",
      "          'y': 5,\n",
      "          'w': 4,\n",
      "          'j': 1})]\n"
     ]
    }
   ],
   "source": [
    "files = [r\"F:\\Programming\\Python\\BigDataPT-BDPT-\\Lesson10\\10_multiprocessing_data\\10_multiprocessing_data\\Dostoevskiy Fedor. Igrok - BooksCafe.Net.txt\",\n",
    "         r\"F:\\Programming\\Python\\BigDataPT-BDPT-\\Lesson10/10_multiprocessing_data\\10_multiprocessing_data\\Dostoevskiy Fedor. Prestuplenie i nakazanie - BooksCafe.Net.txt\"]\n",
    "\n",
    "pool = mp.Pool(processes=4)\n",
    "results = [pool.apply(count_letters.count_letters, args=[f]) for f in files]\n",
    "pp(results)"
   ]
  },
  {
   "cell_type": "markdown",
   "metadata": {},
   "source": [
    "## Лабораторная работа 10"
   ]
  },
  {
   "cell_type": "markdown",
   "metadata": {},
   "source": [
    "1. Разбейте файл `recipes_full.csv` на несколько (например, 8) примерно одинаковых по объему файлов c названиями `id_tag_nsteps_*.csv`. Каждый файл содержит 3 столбца: `id`, `tag` и `n_steps`, разделенных символом `;`. Для разбора строк используйте `csv.reader`.\n",
    "\n",
    "__Важно__: вы не можете загружать в память весь файл сразу. Посмотреть на первые несколько строк файла вы можете, написав код, который считывает эти строки.\n",
    "\n",
    "Подсказка: примерное кол-во строк в файле - 2.3 млн.\n",
    "\n",
    "Фрагмент одного из файлов, которые должны получиться в результате:\n",
    "```\n",
    "id;tag;n_steps\n",
    "137739;60-minutes-or-less;11\n",
    "137739;time-to-make;11\n",
    "137739;course;11\n",
    "```\n"
   ]
  },
  {
   "cell_type": "code",
   "execution_count": 53,
   "metadata": {},
   "outputs": [],
   "source": [
    "import multiprocessing as mp\n",
    "import pandas as pd\n",
    "import csv\n",
    "\n",
    "from pprint import pprint as pp\n",
    "\n",
    "\n",
    "NUMBER_OF_PROCESSES = 8"
   ]
  },
  {
   "cell_type": "code",
   "execution_count": 66,
   "outputs": [
    {
     "data": {
      "text/plain": "['id_tag_nsteps_1.csv',\n 'id_tag_nsteps_2.csv',\n 'id_tag_nsteps_3.csv',\n 'id_tag_nsteps_4.csv',\n 'id_tag_nsteps_5.csv',\n 'id_tag_nsteps_6.csv',\n 'id_tag_nsteps_7.csv',\n 'id_tag_nsteps_8.csv']"
     },
     "execution_count": 66,
     "metadata": {},
     "output_type": "execute_result"
    }
   ],
   "source": [
    "file_names = [f\"id_tag_nsteps_{i}.csv\" for i in range(1, 9)]\n",
    "file_names"
   ],
   "metadata": {
    "collapsed": false,
    "pycharm": {
     "name": "#%%\n"
    }
   }
  },
  {
   "cell_type": "code",
   "execution_count": 61,
   "metadata": {
    "pycharm": {
     "name": "#%%\n"
    }
   },
   "outputs": [
    {
     "name": "stdout",
     "output_type": "stream",
     "text": [
      "['name', 'id', 'minutes', 'contributor_id', 'submitted', 'tags', 'n_steps', 'steps', 'description', 'ingredients', 'n_ingredients']\n",
      "['vant ivoire mickies nothing',\n",
      " '683970',\n",
      " '33',\n",
      " '803776',\n",
      " '2019-08-22',\n",
      " \"['mexican', 'healthy-2', 'orange-roughy', 'chicken-thighs-legs', 'freezer', \"\n",
      " \"'whitefish', 'pork-sausage']\",\n",
      " '4',\n",
      " \"['remove the fat cap and any large areas or pockets of external fat that can \"\n",
      " \"be easily trimmed away', 'cut the eggplants in half lengthwise and , taking \"\n",
      " \"care not to break the skins , gently scoop out the flesh', 'bake uncovered \"\n",
      " \"in a 350f for one hour or until golden and hot through', 'refrigerate']\",\n",
      " \"pat and gina neely and their family own and operate some of tennessee's best \"\n",
      " '- and devilishly delicious - barbecue restaurants. but when they are '\n",
      " 'relaxing at home in memphis, they love to create tasty dishes their whole '\n",
      " \"family can enjoy. now they're ready to share secrets from their famous \"\n",
      " 'restaurant dishes.  here is the recipe for their barbecue chicken.  courtesy '\n",
      " 'of food network.  this recipe is absolutely wonderful!  i made it for 4th of '\n",
      " 'july and it went over big!!!  when grilling make sure you keep your heat '\n",
      " 'low, as the sugar can char while cooking.  make sure you use tongs so you '\n",
      " \"don't puncture your meat while turning.  also, make sure you soak your wood \"\n",
      " \"in water for 1/2 hr. before putting in your smoker or grill so it won't \"\n",
      " 'burn.  preparation time does not include marinating time.',\n",
      " \"['fresh sauerkraut', 'gyro mix', 'black sesame seed', 'bacon drippings', \"\n",
      " \"'frappuccino caramel coffee drink', 'marble loaf cake', 'sesame powder', \"\n",
      " \"'sparkling apple juice', 'dory fillets']\",\n",
      " '9']\n",
      "['kremsils mariposa baccala cookies class borage buta gokittengo curd',\n",
      " '1089012',\n",
      " '23',\n",
      " '51579',\n",
      " '2013-03-02',\n",
      " \"['brunch', 'ham-and-bean-soup', 'colombian', 'savory-pies', 'refrigerator', \"\n",
      " \"'australian', 'served-cold', 'spaghetti']\",\n",
      " '1',\n",
      " \"['combine all of the ingredients in a bowl']\",\n",
      " 'a light, tasty and easy to put together chicken and rice dish.  something '\n",
      " 'for a night when there just isnt enough time to put too much energy into the '\n",
      " 'cooking.  you can either use a can of cream of mushroom soup or a can of '\n",
      " 'cream of chicken soup for this dish.  you can make this dish without the '\n",
      " 'eggs on top - i have had it both ways and they are both equally delicious '\n",
      " 'and easy to digest.',\n",
      " \"['durum flour', 'veal stew meat', 'campbells condensed creamy verde soup', \"\n",
      " \"'cheese tortellini', 'cherry jam']\",\n",
      " '5']\n",
      "['tania lander',\n",
      " '1428572',\n",
      " '0',\n",
      " '68884',\n",
      " '1980-11-09',\n",
      " \"['passover', 'quick-breads', 'californian', 'namibian', 'candy', \"\n",
      " \"'independence-day']\",\n",
      " '1',\n",
      " \"['wash quinces well to remove the fuzz']\",\n",
      " 'a delicious melt in your mouth appetizer. for zaar world tour 8',\n",
      " \"['head of broccoli', 'cranberry beans', 'pear halves', 'cornmeal', 'white \"\n",
      " \"corn kernels']\",\n",
      " '5']\n",
      "['heloise milli asher doogh zojirushi',\n",
      " '1400250',\n",
      " '24',\n",
      " '678862',\n",
      " '2018-04-29',\n",
      " \"['baking', 'pennsylvania-dutch']\",\n",
      " '3',\n",
      " \"['add peppermint schnapps , kahlua , and coffee to a large mug', 'cupcakes', \"\n",
      " \"'form into 8- 5 inch patties']\",\n",
      " 'delicious cream cheese and peach filled crescent rolls topped with a brown '\n",
      " 'sugar, almond topping and made easy with canned pie filling and refrigerated '\n",
      " 'crescent rolls. have not tried it, but i assume this can be made with other '\n",
      " 'pie fillings as well. super easy!',\n",
      " \"['cocoa krispies']\",\n",
      " '1']\n",
      "['nutty chocolate chunk cookies',\n",
      " '387709',\n",
      " '47',\n",
      " '489552',\n",
      " '2009-08-31',\n",
      " \"['weeknight', '60-minutes-or-less', 'time-to-make', 'course', 'cuisine', \"\n",
      " \"'preparation', 'occasion', 'north-american', 'desserts', 'dinner-party', \"\n",
      " \"'holiday-event', 'cookies-and-brownies']\",\n",
      " '8',\n",
      " \"['heat oven to 375f', 'in large mixer bowl combine brown sugar , sugar , egg \"\n",
      " \"and vanilla', 'beat at med speed scraping bowl often , until mixed', 'add \"\n",
      " \"flour , baking soda and salt , continue beating until well mixed', 'by hand \"\n",
      " ', stir in walnuts and chocolate\\', \\'drop dough by rounded tablespoonfuls 2\" '\n",
      " \"apart onto cookie sheet', 'bake for 9 to 11 minutes or until lightly \"\n",
      " \"browned', 'cool before removing from cookie sheet']\",\n",
      " 'everyone loves these buttery cookies chock full of chocolate and nuts.\\r\\n'\n",
      " 'land-o-lakes cookbook.',\n",
      " \"['brown sugar', 'sugar', 'butter', 'egg', 'vanilla', 'all-purpose flour', \"\n",
      " \"'baking soda', 'salt', 'walnuts', 'milk chocolate candy bars']\",\n",
      " '10']\n"
     ]
    }
   ],
   "source": [
    "with open(\"10_multiprocessing_data/10_multiprocessing_data/recipes_full.csv\", 'r', newline='') as csvfile:\n",
    "\treader = csv.reader(csvfile, delimiter=',')\n",
    "\ti = 100\n",
    "\theader = next(reader)\n",
    "\tprint(header)\n",
    "\t# header = (header[0].split(\",\"))\n",
    "\t# print(header)\n",
    "\t# print(header[1], header[5], header[6], sep=\"    \")\n",
    "\n",
    "\tfor row in reader:\n",
    "\t\tif i == 5:\n",
    "\t\t\tbreak\n",
    "\t\ti += 1\n",
    "\t\tpp(row)\n",
    "\t\t# print(row[1], row[5], row[6], sep=\"    \")"
   ]
  },
  {
   "cell_type": "code",
   "execution_count": 48,
   "outputs": [
    {
     "name": "stdout",
     "output_type": "stream",
     "text": [
      "tags\n",
      "['mexican', 'healthy-2', 'orange-roughy', 'chicken-thighs-legs', 'freezer', 'whitefish', 'pork-sausage']\n",
      "['brunch', 'ham-and-bean-soup', 'colombian', 'savory-pies', 'refrigerator', 'australian', 'served-cold', 'spaghetti']\n",
      "['passover', 'quick-breads', 'californian', 'namibian', 'candy', 'independence-day']\n",
      "['baking', 'pennsylvania-dutch']\n"
     ]
    }
   ],
   "source": [
    "with open(\"10_multiprocessing_data/10_multiprocessing_data/recipes_full.csv\", 'r', newline='') as csvfile:\n",
    "\treader = csv.reader(csvfile, delimiter=',')\n",
    "\ti = 0\n",
    "\t# header = next(reader)\n",
    "\t# print(header)\n",
    "\t# header = (header[0].split(\",\"))\n",
    "\t# print(header[1], header[5], header[6], sep=\"    \")\n",
    "\n",
    "\tfor row in reader:\n",
    "\t\tif i == 5:\n",
    "\t\t\tbreak\n",
    "\t\ti += 1\n",
    "\t\tprint(row[5])\n",
    "\t\t# print(row[\"id\"])\n",
    "\t\t# print(row[1], row[5], row[6], sep=\"    \")"
   ],
   "metadata": {
    "collapsed": false,
    "pycharm": {
     "name": "#%%\n"
    }
   }
  },
  {
   "cell_type": "code",
   "execution_count": 63,
   "outputs": [
    {
     "ename": "TypeError",
     "evalue": "'_csv.reader' object is not subscriptable",
     "output_type": "error",
     "traceback": [
      "\u001B[1;31m---------------------------------------------------------------------------\u001B[0m",
      "\u001B[1;31mTypeError\u001B[0m                                 Traceback (most recent call last)",
      "\u001B[1;32m~\\AppData\\Local\\Temp/ipykernel_28940/902848971.py\u001B[0m in \u001B[0;36m<module>\u001B[1;34m\u001B[0m\n\u001B[0;32m      3\u001B[0m         \u001B[0mi\u001B[0m \u001B[1;33m=\u001B[0m \u001B[1;36m0\u001B[0m\u001B[1;33m\u001B[0m\u001B[1;33m\u001B[0m\u001B[0m\n\u001B[0;32m      4\u001B[0m         \u001B[0miterator\u001B[0m \u001B[1;33m=\u001B[0m \u001B[0mreader\u001B[0m\u001B[1;33m.\u001B[0m\u001B[0m__iter__\u001B[0m\u001B[1;33m(\u001B[0m\u001B[1;33m)\u001B[0m\u001B[1;33m\u001B[0m\u001B[1;33m\u001B[0m\u001B[0m\n\u001B[1;32m----> 5\u001B[1;33m         \u001B[0mprint\u001B[0m\u001B[1;33m(\u001B[0m\u001B[0mreader\u001B[0m\u001B[1;33m[\u001B[0m\u001B[1;36m0\u001B[0m\u001B[1;33m]\u001B[0m\u001B[1;33m)\u001B[0m\u001B[1;33m\u001B[0m\u001B[1;33m\u001B[0m\u001B[0m\n\u001B[0m\u001B[0;32m      6\u001B[0m \u001B[1;33m\u001B[0m\u001B[0m\n\u001B[0;32m      7\u001B[0m         \u001B[1;31m# for row in reader:\u001B[0m\u001B[1;33m\u001B[0m\u001B[1;33m\u001B[0m\u001B[0m\n",
      "\u001B[1;31mTypeError\u001B[0m: '_csv.reader' object is not subscriptable"
     ]
    }
   ],
   "source": [
    "with open(\"10_multiprocessing_data/10_multiprocessing_data/recipes_full.csv\", 'r', newline='') as csvfile:\n",
    "\treader = csv.reader(csvfile, delimiter=',')\n",
    "\ti = 0\n",
    "\titerator = reader.__iter__()\n",
    "\t# print(reader[0])\n",
    "\n",
    "\t# for row in reader:\n"
   ],
   "metadata": {
    "collapsed": false,
    "pycharm": {
     "name": "#%%\n"
    }
   }
  },
  {
   "cell_type": "markdown",
   "metadata": {},
   "source": [
    "2. Напишите функцию, которая принимает на вход название файла, созданного в результате решения задачи 1, считает среднее значение количества шагов для каждого тэга и возвращает результат в виде словаря."
   ]
  },
  {
   "cell_type": "markdown",
   "metadata": {},
   "source": [
    "3. Напишите функцию, которая считает среднее значение количества шагов для каждого тэга по всем файлам, полученным в задаче 1, и возвращает результат в виде словаря. Не используйте параллельных вычислений. При реализации выделите функцию, которая объединяет результаты обработки отдельных файлов. Модифицируйте код из задачи 2 таким образом, чтобы получить результат, имея результаты обработки отдельных файлов. Определите, за какое время задача решается для всех файлов.\n"
   ]
  },
  {
   "cell_type": "markdown",
   "metadata": {},
   "source": [
    "4. Решите задачу 3, распараллелив вычисления с помощью модуля `multiprocessing`. Для обработки каждого файла создайте свой собственный процесс. Определите, за какое время задача решается для всех файлов."
   ]
  },
  {
   "cell_type": "markdown",
   "metadata": {},
   "source": [
    "5. Решите задачу 3, распараллелив вычисления с помощью модуля `multiprocessing`. Создайте фиксированное количество процессов (равное половине количества ядер на компьютере). При помощи очереди `multiprocessing.queue` передайте названия файлов для обработки процессам и при помощи другой очереди заберите от них ответы."
   ]
  },
  {
   "cell_type": "code",
   "execution_count": null,
   "metadata": {
    "collapsed": true
   },
   "outputs": [],
   "source": []
  }
 ],
 "metadata": {
  "kernelspec": {
   "display_name": "Python 3 (ipykernel)",
   "language": "python",
   "name": "python3"
  },
  "language_info": {
   "codemirror_mode": {
    "name": "ipython",
    "version": 3
   },
   "file_extension": ".py",
   "mimetype": "text/x-python",
   "name": "python",
   "nbconvert_exporter": "python",
   "pygments_lexer": "ipython3",
   "version": "3.9.9"
  }
 },
 "nbformat": 4,
 "nbformat_minor": 1
}