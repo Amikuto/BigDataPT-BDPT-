{
 "cells": [
  {
   "cell_type": "markdown",
   "metadata": {},
   "source": [
    "# Параллельные вычисления"
   ]
  },
  {
   "cell_type": "markdown",
   "metadata": {},
   "source": [
    "Материалы:\n",
    "* Макрушин С.В. Лекция 10: Параллельные вычисления\n",
    "* https://docs.python.org/3/library/multiprocessing.html"
   ]
  },
  {
   "cell_type": "markdown",
   "metadata": {},
   "source": [
    "## Задачи для совместного разбора"
   ]
  },
  {
   "cell_type": "markdown",
   "metadata": {},
   "source": [
    "1. Посчитайте, сколько раз встречается каждый из символов (заглавные и строчные символы не различаются) в файле `Dostoevskiy Fedor. Prestuplenie i nakazanie - BooksCafe.Net.txt` и в файле `Dostoevskiy Fedor. Igrok - BooksCafe.Net.txt`."
   ]
  },
  {
   "cell_type": "code",
   "execution_count": 4,
   "metadata": {
    "pycharm": {
     "name": "#%%\n"
    }
   },
   "outputs": [
    {
     "name": "stdout",
     "output_type": "stream",
     "text": [
      "Writing count_letters.py\n"
     ]
    }
   ],
   "source": [
    "import csv\n",
    "%%file count_letters.py\n",
    "from collections import Counter\n",
    "\n",
    "def count_letters(file):\n",
    "\twith open(file) as fp:\n",
    "\t\ttext = fp.read().lower()\n",
    "\treturn Counter(text)"
   ]
  },
  {
   "cell_type": "code",
   "execution_count": 2,
   "metadata": {
    "pycharm": {
     "name": "#%%\n"
    }
   },
   "outputs": [
    {
     "data": {
      "text/plain": [
       "Counter({'с': 50084,\n",
       "         'п': 25652,\n",
       "         'а': 73555,\n",
       "         'и': 62030,\n",
       "         'б': 16016,\n",
       "         'о': 106740,\n",
       "         ',': 26973,\n",
       "         ' ': 182305,\n",
       "         'ч': 16492,\n",
       "         'т': 59813,\n",
       "         'к': 30802,\n",
       "         'л': 42328,\n",
       "         'н': 60920,\n",
       "         'г': 16174,\n",
       "         'у': 27309,\n",
       "         'в': 43700,\n",
       "         'е': 80972,\n",
       "         'й': 9747,\n",
       "         'э': 3203,\n",
       "         'р': 39784,\n",
       "         'b': 25,\n",
       "         'o': 104,\n",
       "         'k': 16,\n",
       "         's': 96,\n",
       "         'c': 42,\n",
       "         'a': 98,\n",
       "         'f': 23,\n",
       "         'e': 162,\n",
       "         '.': 9864,\n",
       "         'n': 114,\n",
       "         't': 98,\n",
       "         ':': 984,\n",
       "         'h': 48,\n",
       "         'p': 29,\n",
       "         '/': 22,\n",
       "         '\\n': 8583,\n",
       "         'u': 86,\n",
       "         'r': 76,\n",
       "         'd': 38,\n",
       "         'v': 65,\n",
       "         'i': 235,\n",
       "         'y': 5,\n",
       "         '_': 8,\n",
       "         '-': 3558,\n",
       "         '1': 384,\n",
       "         '0': 110,\n",
       "         '9': 100,\n",
       "         '6': 271,\n",
       "         'm': 54,\n",
       "         'l': 46,\n",
       "         'ж': 10552,\n",
       "         'д': 29633,\n",
       "         'х': 8127,\n",
       "         'ф': 1237,\n",
       "         'м': 29312,\n",
       "         'z': 11,\n",
       "         '2': 141,\n",
       "         '8': 297,\n",
       "         '5': 136,\n",
       "         'я': 19751,\n",
       "         '!': 3280,\n",
       "         '\\xa0': 6092,\n",
       "         'з': 14414,\n",
       "         'ш': 7437,\n",
       "         'ь': 20554,\n",
       "         'ю': 5418,\n",
       "         'ц': 2782,\n",
       "         '«': 1187,\n",
       "         '»': 1175,\n",
       "         'ы': 15449,\n",
       "         'щ': 3039,\n",
       "         'x': 52,\n",
       "         '—': 6440,\n",
       "         '(': 528,\n",
       "         ')': 527,\n",
       "         '[': 85,\n",
       "         ']': 85,\n",
       "         'ъ': 223,\n",
       "         '7': 121,\n",
       "         '3': 120,\n",
       "         '&': 22,\n",
       "         '#': 22,\n",
       "         ';': 1322,\n",
       "         '…': 2263,\n",
       "         '?': 2266,\n",
       "         '4': 130,\n",
       "         '–': 49,\n",
       "         '№': 45,\n",
       "         'ё': 969,\n",
       "         '\\t': 48,\n",
       "         '„': 44,\n",
       "         '“': 44,\n",
       "         \"'\": 11,\n",
       "         'g': 19,\n",
       "         'j': 1,\n",
       "         'q': 9,\n",
       "         'w': 4})"
      ]
     },
     "execution_count": 2,
     "metadata": {},
     "output_type": "execute_result"
    }
   ],
   "source": [
    "count_letters(r\"F:\\Programming\\Python\\BigDataPT-BDPT-\\Lesson10/10_multiprocessing_data\\10_multiprocessing_data\\Dostoevskiy Fedor. Prestuplenie i nakazanie - BooksCafe.Net.txt\")"
   ]
  },
  {
   "cell_type": "markdown",
   "metadata": {},
   "source": [
    "2. Решить задачу 1, распараллелив вычисления с помощью модуля `multiprocessing`. Для обработки каждого файла создать свой собственный процесс."
   ]
  },
  {
   "cell_type": "code",
   "execution_count": 9,
   "metadata": {
    "pycharm": {
     "name": "#%%\n"
    }
   },
   "outputs": [],
   "source": [
    "import multiprocessing as mp\n",
    "from pprint import pprint as pp"
   ]
  },
  {
   "cell_type": "code",
   "execution_count": null,
   "outputs": [],
   "source": [
    "import count_letters"
   ],
   "metadata": {
    "collapsed": false,
    "pycharm": {
     "name": "#%%\n"
    }
   }
  },
  {
   "cell_type": "code",
   "execution_count": 13,
   "metadata": {
    "pycharm": {
     "name": "#%%\n"
    }
   },
   "outputs": [
    {
     "name": "stdout",
     "output_type": "stream",
     "text": [
      "[Counter({' ': 45076,\n",
      "          'о': 23130,\n",
      "          'е': 20054,\n",
      "          'а': 18236,\n",
      "          'т': 14245,\n",
      "          'н': 14240,\n",
      "          'и': 13587,\n",
      "          'с': 11507,\n",
      "          'л': 9961,\n",
      "          'р': 9482,\n",
      "          'в': 9398,\n",
      "          'м': 7106,\n",
      "          'к': 6744,\n",
      "          'д': 6681,\n",
      "          ',': 6372,\n",
      "          'у': 6044,\n",
      "          'п': 5489,\n",
      "          'я': 5458,\n",
      "          'ь': 4857,\n",
      "          'ч': 4113,\n",
      "          'б': 3980,\n",
      "          'г': 3948,\n",
      "          'ы': 3869,\n",
      "          'з': 3355,\n",
      "          '.': 2954,\n",
      "          '\\n': 2734,\n",
      "          'ж': 2297,\n",
      "          'й': 2028,\n",
      "          'ш': 1943,\n",
      "          '—': 1726,\n",
      "          'х': 1535,\n",
      "          '\\xa0': 1472,\n",
      "          'ю': 1323,\n",
      "          'e': 1200,\n",
      "          '-': 900,\n",
      "          'э': 836,\n",
      "          'ц': 817,\n",
      "          '!': 718,\n",
      "          'ф': 634,\n",
      "          'a': 590,\n",
      "          'щ': 587,\n",
      "          'l': 571,\n",
      "          '?': 571,\n",
      "          'n': 459,\n",
      "          's': 429,\n",
      "          ';': 406,\n",
      "          'm': 401,\n",
      "          'o': 377,\n",
      "          'i': 369,\n",
      "          't': 332,\n",
      "          'c': 324,\n",
      "          'r': 308,\n",
      "          'u': 285,\n",
      "          '…': 280,\n",
      "          '(': 276,\n",
      "          ')': 276,\n",
      "          'h': 227,\n",
      "          'b': 220,\n",
      "          ':': 212,\n",
      "          'd': 192,\n",
      "          '«': 129,\n",
      "          '»': 128,\n",
      "          'p': 100,\n",
      "          '[': 97,\n",
      "          ']': 97,\n",
      "          'v': 87,\n",
      "          'g': 73,\n",
      "          'ъ': 63,\n",
      "          \"'\": 59,\n",
      "          'f': 52,\n",
      "          'q': 50,\n",
      "          '1': 46,\n",
      "          'z': 44,\n",
      "          '6': 42,\n",
      "          '2': 42,\n",
      "          '4': 42,\n",
      "          '7': 42,\n",
      "          '3': 40,\n",
      "          '5': 40,\n",
      "          'j': 40,\n",
      "          '8': 38,\n",
      "          '9': 36,\n",
      "          'x': 24,\n",
      "          '0': 22,\n",
      "          'k': 21,\n",
      "          '/': 20,\n",
      "          '`': 9,\n",
      "          'y': 8,\n",
      "          'w': 7,\n",
      "          '_': 4}),\n",
      " Counter({' ': 182305,\n",
      "          'о': 106740,\n",
      "          'е': 80972,\n",
      "          'а': 73555,\n",
      "          'и': 62030,\n",
      "          'н': 60920,\n",
      "          'т': 59813,\n",
      "          'с': 50084,\n",
      "          'в': 43700,\n",
      "          'л': 42328,\n",
      "          'р': 39784,\n",
      "          'к': 30802,\n",
      "          'д': 29633,\n",
      "          'м': 29312,\n",
      "          'у': 27309,\n",
      "          ',': 26973,\n",
      "          'п': 25652,\n",
      "          'ь': 20554,\n",
      "          'я': 19751,\n",
      "          'ч': 16492,\n",
      "          'г': 16174,\n",
      "          'б': 16016,\n",
      "          'ы': 15449,\n",
      "          'з': 14414,\n",
      "          'ж': 10552,\n",
      "          '.': 9864,\n",
      "          'й': 9747,\n",
      "          '\\n': 8583,\n",
      "          'х': 8127,\n",
      "          'ш': 7437,\n",
      "          '—': 6440,\n",
      "          '\\xa0': 6092,\n",
      "          'ю': 5418,\n",
      "          '-': 3558,\n",
      "          '!': 3280,\n",
      "          'э': 3203,\n",
      "          'щ': 3039,\n",
      "          'ц': 2782,\n",
      "          '?': 2266,\n",
      "          '…': 2263,\n",
      "          ';': 1322,\n",
      "          'ф': 1237,\n",
      "          '«': 1187,\n",
      "          '»': 1175,\n",
      "          ':': 984,\n",
      "          'ё': 969,\n",
      "          '(': 528,\n",
      "          ')': 527,\n",
      "          '1': 384,\n",
      "          '8': 297,\n",
      "          '6': 271,\n",
      "          'i': 235,\n",
      "          'ъ': 223,\n",
      "          'e': 162,\n",
      "          '2': 141,\n",
      "          '5': 136,\n",
      "          '4': 130,\n",
      "          '7': 121,\n",
      "          '3': 120,\n",
      "          'n': 114,\n",
      "          '0': 110,\n",
      "          'o': 104,\n",
      "          '9': 100,\n",
      "          'a': 98,\n",
      "          't': 98,\n",
      "          's': 96,\n",
      "          'u': 86,\n",
      "          '[': 85,\n",
      "          ']': 85,\n",
      "          'r': 76,\n",
      "          'v': 65,\n",
      "          'm': 54,\n",
      "          'x': 52,\n",
      "          '–': 49,\n",
      "          'h': 48,\n",
      "          '\\t': 48,\n",
      "          'l': 46,\n",
      "          '№': 45,\n",
      "          '„': 44,\n",
      "          '“': 44,\n",
      "          'c': 42,\n",
      "          'd': 38,\n",
      "          'p': 29,\n",
      "          'b': 25,\n",
      "          'f': 23,\n",
      "          '/': 22,\n",
      "          '&': 22,\n",
      "          '#': 22,\n",
      "          'g': 19,\n",
      "          'k': 16,\n",
      "          'z': 11,\n",
      "          \"'\": 11,\n",
      "          'q': 9,\n",
      "          '_': 8,\n",
      "          'y': 5,\n",
      "          'w': 4,\n",
      "          'j': 1})]\n"
     ]
    }
   ],
   "source": [
    "files = [r\"F:\\Programming\\Python\\BigDataPT-BDPT-\\Lesson10\\10_multiprocessing_data\\10_multiprocessing_data\\Dostoevskiy Fedor. Igrok - BooksCafe.Net.txt\",\n",
    "         r\"F:\\Programming\\Python\\BigDataPT-BDPT-\\Lesson10/10_multiprocessing_data\\10_multiprocessing_data\\Dostoevskiy Fedor. Prestuplenie i nakazanie - BooksCafe.Net.txt\"]\n",
    "\n",
    "pool = mp.Pool(processes=4)\n",
    "results = [pool.apply(count_letters.count_letters, args=[f]) for f in files]\n",
    "pp(results)"
   ]
  },
  {
   "cell_type": "markdown",
   "metadata": {},
   "source": [
    "## Лабораторная работа 10"
   ]
  },
  {
   "cell_type": "markdown",
   "metadata": {},
   "source": [
    "1. Разбейте файл `recipes_full.csv` на несколько (например, 8) примерно одинаковых по объему файлов c названиями `id_tag_nsteps_*.csv`. Каждый файл содержит 3 столбца: `id`, `tag` и `n_steps`, разделенных символом `;`. Для разбора строк используйте `csv.reader`.\n",
    "\n",
    "__Важно__: вы не можете загружать в память весь файл сразу. Посмотреть на первые несколько строк файла вы можете, написав код, который считывает эти строки.\n",
    "\n",
    "Подсказка: примерное кол-во строк в файле - 2.3 млн.\n",
    "\n",
    "Фрагмент одного из файлов, которые должны получиться в результате:\n",
    "```\n",
    "id;tag;n_steps\n",
    "137739;60-minutes-or-less;11\n",
    "137739;time-to-make;11\n",
    "137739;course;11\n",
    "```\n"
   ]
  },
  {
   "cell_type": "code",
   "execution_count": 1,
   "metadata": {},
   "outputs": [],
   "source": [
    "import multiprocessing as mp\n",
    "import pandas as pd\n",
    "import csv\n",
    "\n",
    "from pprint import pprint as pp\n",
    "\n",
    "\n",
    "NUMBER_OF_PROCESSES = 8"
   ]
  },
  {
   "cell_type": "code",
   "execution_count": 96,
   "outputs": [
    {
     "data": {
      "text/plain": "['id_tag_nsteps_1.csv',\n 'id_tag_nsteps_2.csv',\n 'id_tag_nsteps_3.csv',\n 'id_tag_nsteps_4.csv',\n 'id_tag_nsteps_5.csv',\n 'id_tag_nsteps_6.csv',\n 'id_tag_nsteps_7.csv',\n 'id_tag_nsteps_8.csv']"
     },
     "execution_count": 96,
     "metadata": {},
     "output_type": "execute_result"
    }
   ],
   "source": [
    "file_names = [f\"id_tag_nsteps_{i}.csv\" for i in range(1, 9)]\n",
    "file_names"
   ],
   "metadata": {
    "collapsed": false,
    "pycharm": {
     "name": "#%%\n"
    }
   }
  },
  {
   "cell_type": "code",
   "execution_count": 137,
   "metadata": {
    "pycharm": {
     "name": "#%%\n"
    }
   },
   "outputs": [],
   "source": [
    "import ast\n",
    "\n",
    "with open(\"10_multiprocessing_data/10_multiprocessing_data/recipes_full.csv\", 'r', newline='', encoding='utf-8') as readfile:\n",
    "\treader = csv.reader(readfile, delimiter=',')\n",
    "\ti = 0\n",
    "\theader = next(reader)\n",
    "\n",
    "\tfor name_id in range(len(file_names)):\n",
    "\t\twith open(f\"out/{file_names[name_id]}\", \"w\", newline='') as writefile:\n",
    "\t\t\twriter = csv.writer(writefile, delimiter=';')\n",
    "\t\t\twriter.writerows([[\"id\", \"tag\", \"n_steps\"]])\n",
    "\t\t\tfor row in reader:\n",
    "\t\t\t\tif i == (name_id+1) * 300000:\n",
    "\t\t\t\t\tbreak\n",
    "\t\t\t\ti += 1\n",
    "\t\t\t\tfor tag in ast.literal_eval(row[5]):\n",
    "\t\t\t\t\twriter.writerows([[row[1], tag, row[6]]])\n"
   ]
  },
  {
   "cell_type": "markdown",
   "metadata": {},
   "source": [
    "2. Напишите функцию, которая принимает на вход название файла, созданного в результате решения задачи 1, считает среднее значение количества шагов для каждого тэга и возвращает результат в виде словаря."
   ]
  },
  {
   "cell_type": "code",
   "execution_count": 169,
   "outputs": [],
   "source": [
    "def avg_num_of_steps(file_name: str) -> dict:\n",
    "\tdf = pd.read_csv(file_name, delimiter=\";\")\n",
    "\tgrouped_df = df.groupby(\"tag\")\n",
    "\tsum_of_steps = grouped_df.sum()[\"n_steps\"]\n",
    "\tcount_of_steps = grouped_df.count()[\"n_steps\"]\n",
    "\tavg = sum_of_steps/count_of_steps\n",
    "\treturn avg.to_dict()"
   ],
   "metadata": {
    "collapsed": false,
    "pycharm": {
     "name": "#%%\n"
    }
   }
  },
  {
   "cell_type": "code",
   "execution_count": 170,
   "outputs": [
    {
     "data": {
      "text/plain": "{'1-day-or-more': 4.585138162808065,\n '15-minutes-or-less': 4.978743845322445,\n '3-steps-or-less': 4.688845401174168,\n '30-minutes-or-less': 7.5650156360334915,\n '4-hours-or-less': 10.122780092085069,\n '5-ingredients-or-less': 5.365439868655082,\n '60-minutes-or-less': 9.31799336650083,\n 'Throw the ultimate fiesta with this sopaipillas recipe from Food.com.': 3.4979591836734696,\n 'a1-sauce': 3.493458708094849,\n 'african': 4.281183932346723,\n 'american': 7.555473591029802,\n 'amish-mennonite': 3.5908726981585266,\n 'angolan': 3.4979773462783172,\n 'appetizers': 6.243116578793204,\n 'apples': 4.766677306096393,\n 'april-fools-day': 3.553635998392929,\n 'argentine': 3.5873949579831934,\n 'artichoke': 3.5382139983909897,\n 'asian': 6.42365233911185,\n 'asparagus': 4.019281663516068,\n 'australian': 4.244301994301995,\n 'austrian': 3.566666666666667,\n 'avocado': 3.4665022605836415,\n 'bacon': 4.074665676077266,\n 'baja': 3.495065789473684,\n 'baked-beans': 3.4942291838417145,\n 'baking': 3.570494483040458,\n 'bananas': 3.9829692706405035,\n 'bar-cookies': 4.839549612948628,\n 'barbecue': 4.637471188673032,\n 'bass': 3.5650754793961648,\n 'bean-soup': 3.482338611449452,\n 'beans': 5.561972573839663,\n 'beans-side-dishes': 3.4833197721724978,\n 'bear': 3.4869418702611625,\n 'beef': 6.947687800795145,\n 'beef-barley-soup': 3.5014516798009123,\n 'beef-crock-pot': 3.480546357615894,\n 'beef-kidney': 3.5023454157782514,\n 'beef-liver': 3.5710168793742283,\n 'beef-organ-meats': 3.5102291325695583,\n 'beef-ribs': 3.6239717978848414,\n 'beef-sauces': 3.5410041841004185,\n 'beef-sausage': 3.706232631996824,\n 'beginner-cook': 6.328306102499651,\n 'beijing': 3.505104124132299,\n 'belgian': 3.6133709222714456,\n 'berries': 4.979263385948623,\n 'beverages': 3.871769383697813,\n 'birthday': 3.5543390105433903,\n 'biscotti': 3.745411013567438,\n 'bisques-cream-soups': 4.170971262277192,\n 'black-bean-soup': 3.44993870044953,\n 'black-beans': 3.8902529761904763,\n 'blueberries': 3.92680262199563,\n 'bok-choys': 3.523673469387755,\n 'brazilian': 3.607433217189315,\n 'bread-machine': 3.710014947683109,\n 'bread-pudding': 3.520378756689996,\n 'breads': 6.926705202312139,\n 'breakfast': 6.072769409038239,\n 'breakfast-casseroles': 3.482128013300083,\n 'breakfast-eggs': 3.494146144529673,\n 'breakfast-potatoes': 3.5134340890008398,\n 'brewing': 3.505180273518442,\n 'british-columbian': 3.6445951336258475,\n 'broccoli': 4.0928652321630805,\n 'broil': 4.013498312710911,\n 'brown-bag': 4.437543372657877,\n 'brown-rice': 3.601275917065391,\n 'brownies': 3.950832365466512,\n 'brunch': 6.885559131134352,\n 'burgers': 3.627528758429195,\n 'cabbage': 3.5188442211055277,\n 'cajun': 3.9222179437812863,\n 'cake-fillings-and-frostings': 3.920780711825488,\n 'cakes': 6.7654483302655795,\n 'californian': 3.752927400468384,\n 'cambodian': 3.5447983014861997,\n 'camping': 3.9482361963190185,\n 'canadian': 4.789369428854408,\n 'candy': 4.279507603186097,\n 'canning': 3.998796147672552,\n 'cantonese': 3.5758196721311477,\n 'caribbean': 4.050072568940493,\n 'carrots': 4.36234458259325,\n 'casseroles': 5.259598346131128,\n 'catfish': 3.5704863973619125,\n 'cauliflower': 3.7592307692307694,\n 'celebrity': 3.8275726630007854,\n 'central-american': 4.079057392626378,\n 'chard': 3.567311650885138,\n 'cheese': 6.540258007117438,\n 'cheesecake': 4.513128282070517,\n 'cherries': 3.623552894211577,\n 'chick-peas-garbanzos': 3.9083969465648853,\n 'chicken': 7.333522727272728,\n 'chicken-breasts': 5.811878374538221,\n 'chicken-crock-pot': 3.572738142686329,\n 'chicken-livers': 3.4983753046303816,\n 'chicken-stew': 3.5053533190578157,\n 'chicken-stews': 3.508001641362331,\n 'chicken-thighs-legs': 4.181818181818182,\n 'chilean': 3.5627022653721685,\n 'chili': 3.930072602216278,\n 'chinese': 4.286200378071833,\n 'chinese-new-year': 3.5486868686868687,\n 'chocolate': 6.24689357104268,\n 'chocolate-chip-cookies': 3.5554187192118225,\n 'chowders': 3.8548323471400394,\n 'christmas': 5.92230504587156,\n 'chutneys': 3.5851318944844124,\n 'cinco-de-mayo': 3.560550830295666,\n 'citrus': 4.605405405405405,\n 'clams': 3.621259842519685,\n 'clear-soups': 3.6942081814499796,\n 'cobblers-and-crisps': 3.9408495434696307,\n 'cocktails': 3.5821782178217823,\n 'coconut': 4.2363090772693175,\n 'cod': 3.638834186687672,\n 'coffee-cakes': 3.9793613707165107,\n 'collard-greens': 3.5035431429762403,\n 'college': 3.536706760680216,\n 'colombian': 3.574144486692015,\n 'comfort-food': 7.491307255098629,\n 'condiments-etc': 4.82156226603444,\n 'congolese': 3.5623973727422005,\n 'cookies-and-brownies': 6.7785365853658535,\n 'cooking-mixes': 3.683371298405467,\n 'copycat': 4.220883534136546,\n 'corn': 4.085798816568047,\n 'costa-rican': 3.5342005874947544,\n 'course': 9.227486674355537,\n 'crab': 3.995793499043977,\n 'cranberry-sauce': 3.4493644936449366,\n 'crawfish': 3.5311120032115615,\n 'creole': 3.7875968992248064,\n 'crock-pot-main-dish': 3.5277440259214257,\n 'crock-pot-slow-cooker': 4.772902460717463,\n 'crusts-pastry-dough-2': 3.708777686628384,\n 'cuban': 3.5560897435897436,\n 'cuisine': 9.12790306294177,\n 'cupcakes': 3.939072327044025,\n 'curries': 4.0511278195488725,\n 'czech': 3.5656286953094205,\n 'dairy-free': 3.5876330876330877,\n 'danish': 3.579776212184003,\n 'deep-fry': 4.032089851584437,\n 'deer': 3.6170037144036318,\n 'dehydrator': 3.5457802547770703,\n 'desserts': 9.132531584062196,\n 'desserts-easy': 3.4900550148116802,\n 'desserts-fruit': 3.5074446680080484,\n 'diabetic': 4.841581259150805,\n 'dietary': 8.814344460570876,\n 'dinner-party': 8.24538914323087,\n 'dips': 4.034983498349835,\n 'dips-lunch-snacks': 3.5141815235008105,\n 'dips-summer': 3.466532258064516,\n 'drop-cookies': 4.385021097046414,\n 'duck': 3.636880584890333,\n 'duck-breasts': 3.4821286735504366,\n 'dutch': 3.559866499791406,\n 'easter': 4.37238644556597,\n 'easy': 7.2316464718460445,\n 'ecuadorean': 3.525341914722446,\n 'egg-free': 4.690453230472517,\n 'eggplant': 3.632963419646527,\n 'eggs': 5.950815142304504,\n 'eggs-breakfast': 3.494299674267101,\n 'eggs-dairy': 7.611195851128737,\n 'egyptian': 3.6266829865361077,\n 'elbow-macaroni': 4.052459016393443,\n 'elk': 3.4925192074403557,\n 'english': 4.121859767529059,\n 'equipment': 8.55585172844648,\n 'ethiopian': 3.500432525951557,\n 'european': 7.99328049620951,\n 'fall': 5.492437463641652,\n 'fathers-day': 3.4785976355483084,\n 'filipino': 3.6204114562323517,\n 'fillings-and-frostings-chocolate': 3.480218855218855,\n 'finger-food': 5.294135802469135,\n 'finnish': 3.517335410985586,\n 'fish': 5.210111046171829,\n 'flat-shapes': 3.7641660015961693,\n 'food-processor-blender': 4.578843626806833,\n 'for-1-or-2': 5.37318650585562,\n 'for-large-groups': 7.402831402831403,\n 'for-large-groups-holiday-event': 3.532840722495895,\n 'free-of-something': 5.717705735660848,\n 'freezer': 3.898805078416729,\n 'french': 4.444362835108336,\n 'freshwater-fish': 3.813652412710867,\n 'from-scratch': 4.626203576341128,\n 'frozen-desserts': 4.046903627702455,\n 'fruit': 7.3125653668011354,\n 'fudge': 3.7229287090558767,\n 'garnishes': 3.5554254488680717,\n 'gelatin': 3.765982636148382,\n 'georgian': 3.4732980024459845,\n 'german': 4.045558958652373,\n 'gifts': 5.574961832061069,\n 'gluten-free': 4.7618746041798605,\n 'goose': 3.484667463162087,\n 'grains': 5.142723004694836,\n 'granola-and-porridge': 3.658307210031348,\n 'grapes': 3.5608678184009643,\n 'greek': 4.299928418038654,\n 'green-yellow-beans': 3.950261780104712,\n 'greens': 4.661124043897573,\n 'grilling': 4.901607084289931,\n 'ground-beef': 5.5461426491994175,\n 'guatemalan': 3.5245298446443174,\n 'gumbo': 3.602910602910603,\n 'halibut': 3.560416666666667,\n 'halloween': 3.797324685853263,\n 'halloween-cakes': 3.4892,\n 'halloween-cocktails': 3.5309661436829067,\n 'halloween-cupcakes': 3.4843304843304845,\n 'ham': 3.8948580199539524,\n 'ham-and-bean-soup': 3.515957446808511,\n 'hand-formed-cookies': 4.265684051398337,\n 'hanukkah': 3.7330946698488465,\n 'hawaiian': 3.617578125,\n 'healthy': 6.994588472187264,\n 'healthy-2': 6.325539568345324,\n 'heirloom-historical': 5.035194585448393,\n 'heirloom-historical-recipes': 3.535547041294168,\n 'herb-and-spice-mixes': 3.5337758688012495,\n 'hidden-valley-ranch': 3.5444137386498222,\n 'high-calcium': 4.518614438329556,\n 'high-fiber': 3.5600849256900213,\n 'high-in-something': 5.486633663366336,\n 'high-in-something-diabetic-friendly': 3.5556011489536314,\n 'high-protein': 5.104014063873425,\n 'holiday-event': 8.330828133862735,\n 'honduran': 3.466419447878039,\n 'hunan': 3.509755085097551,\n 'hungarian': 3.6351242983159584,\n 'ice-cream': 3.557959183673469,\n 'icelandic': 3.547029702970297,\n 'independence-day': 4.1339508371927325,\n 'indian': 4.386614453542186,\n 'indonesian': 3.560647965231134,\n 'inexpensive': 6.885917744513879,\n 'infant-baby-friendly': 3.6355177993527508,\n 'iranian-persian': 3.6028880866425994,\n 'iraqi': 3.556087824351297,\n 'irish': 3.8095808383233534,\n 'irish-st-patricks-day': 3.4940255459414917,\n 'italian': 5.929671607090962,\n 'jams-and-preserves': 3.8385703063629224,\n 'japanese': 3.8169068952084144,\n 'jellies': 3.609775641025641,\n 'jewish-ashkenazi': 3.8386178861788616,\n 'jewish-sephardi': 3.5620967741935483,\n 'kid-friendly': 7.0601723857537815,\n 'kiwifruit': 3.5303643724696356,\n 'korean': 3.5902255639097747,\n 'kosher': 4.778286461739699,\n 'kwanzaa': 3.666532420459122,\n 'labor-day': 3.5203155818540433,\n 'lactose': 4.57584541062802,\n 'lamb-sheep': 4.144546147978642,\n 'lamb-sheep-main-dish': 3.5006294586655478,\n 'laotian': 3.4956340956340957,\n 'lasagna': 4.139904610492846,\n 'lasagne': 3.5387136419500207,\n 'lebanese': 3.678773204196933,\n 'leftovers': 3.623762376237624,\n 'lemon': 4.119701726844584,\n 'lentils': 3.9463166144200628,\n 'less_thansql:name_topics_of_recipegreater_than': 3.486290322580645,\n 'lettuces': 3.68793235972329,\n 'libyan': 3.4226887363746465,\n 'lime': 3.570097087378641,\n 'lobster': 3.5928192574459406,\n 'long-grain-rice': 3.9479923518164437,\n 'low-calorie': 6.662642521797451,\n 'low-carb': 7.273603317882411,\n 'low-cholesterol': 6.570605573419078,\n 'low-fat': 5.838811513463324,\n 'low-in-something': 7.981382409586989,\n 'low-protein': 6.3175149700598805,\n 'low-saturated-fat': 6.454640875693507,\n 'low-sodium': 7.335887917614657,\n 'lunch': 6.751316984559492,\n 'macaroni-and-cheese': 3.510594947025265,\n 'mahi-mahi': 3.5846214823622673,\n 'main-dish': 9.422308776000662,\n 'main-dish-beef': 3.48762677484787,\n 'main-dish-chicken': 3.5117817279867714,\n 'main-dish-pasta': 3.4635482511588704,\n 'main-dish-pork': 3.493862520458265,\n 'main-dish-seafood': 3.445228215767635,\n 'main-ingredient': 9.306303837118246,\n 'malaysian': 3.5663286004056793,\n 'mango': 3.651825110308865,\n 'manicotti': 3.6010860484544693,\n 'mardi-gras-carnival': 3.6522976819845465,\n 'marinades-and-rubs': 3.5813777441332326,\n 'marinara-sauce': 3.525409491810164,\n 'mashed-potatoes': 3.5750901081297557,\n 'meat': 8.94032081299193,\n 'meatballs': 3.606550404083369,\n 'meatloaf': 3.535159443990188,\n 'medium-grain-rice': 3.500811688311688,\n 'melons': 3.6059551430781127,\n 'memorial-day': 3.523982265215639,\n 'mexican': 5.330695308083663,\n 'micro-melanesia': 3.50191407911527,\n 'microwave': 4.127465303140979,\n 'middle-eastern': 4.200663961637772,\n 'middle-eastern-main-dish': 3.4943632567849687,\n 'midwestern': 4.410795653697862,\n 'mixer': 4.334348819497334,\n 'mongolian': 3.4724826742763963,\n 'moose': 3.4834355828220858,\n 'moroccan': 3.7729449321628095,\n 'mothers-day': 3.490812576561862,\n 'muffins': 4.303608605135323,\n 'mushroom-soup': 3.5051710421638824,\n 'mushrooms': 4.612427051150017,\n 'mussels': 3.6192229038854804,\n 'namibian': 3.508786268900695,\n 'native-american': 3.537052456286428,\n 'nepalese': 3.4531786941580758,\n 'new-years': 4.3894389438943895,\n 'new-zealand': 3.652501985702939,\n 'nigerian': 3.4697768762677486,\n 'no-cook': 3.951061865189289,\n 'no-shell-fish': 3.5874901029295327,\n 'non-alcoholic': 3.553033429632687,\n 'north-american': 8.154872580115935,\n 'northeastern-united-states': 4.273188405797101,\n 'norwegian': 3.5529212531752754,\n 'novelty': 4.859273670557717,\n 'number-of-servings': 7.825610701822412,\n 'nut-free': 3.595382746051033,\n 'nuts': 5.574214202561118,\n 'oamc-freezer-make-ahead': 4.996657754010696,\n 'oatmeal': 3.5180032733224222,\n 'oaxacan': 3.5177133655394526,\n 'occasion': 9.16440035666518,\n 'octopus': 3.4684963277928103,\n 'omelets-and-frittatas': 3.9623447204968945,\n 'one-dish-meal': 6.952933591231464,\n 'onions': 5.091111111111111,\n 'ontario': 3.7613328167376987,\n 'orange-roughy': 3.4485144485144485,\n 'oranges': 3.9098422238918107,\n 'oven': 8.26212867592178,\n 'oysters': 3.5780933062880322,\n 'pacific-northwest': 3.8074102663064453,\n 'pakistani': 3.516183270281631,\n 'palestinian': 3.4905582922824303,\n 'pancakes-and-waffles': 4.189591078066915,\n 'papaya': 3.5714865962632008,\n 'passover': 3.628488129945856,\n 'pasta': 6.568314975392547,\n 'pasta-elbow-macaroni': 3.4496732026143793,\n 'pasta-rice-and-grains': 7.688568110170897,\n 'pasta-rice-and-grains-elbow-macaroni': 3.4801816680429396,\n 'pasta-salad': 3.45850622406639,\n 'pasta-shells': 3.7239950269374225,\n 'peaches': 3.8060792612543284,\n 'peanut-butter': 3.5798423890501865,\n 'pears': 3.772348033373063,\n 'penne': 3.9403268719118207,\n 'pennsylvania-dutch': 3.5411530815109344,\n 'peppers': 4.502919958777053,\n 'perch': 3.523121387283237,\n 'peruvian': 3.607404218682738,\n 'pheasant': 3.4761904761904763,\n 'pickeral': 3.5322033898305083,\n 'picnic': 5.117866360768569,\n 'pies': 4.621563727240272,\n 'pies-and-tarts': 5.165256994144437,\n 'pineapple': 3.958588404753331,\n 'pitted-fruit': 4.138920347300869,\n 'pizza': 4.092854413450516,\n 'plums': 3.5678000819336337,\n 'polish': 3.651053864168618,\n 'polynesian': 3.5288801571709234,\n 'pork': 6.425018111567255,\n 'pork-chops': 4.048507462686567,\n 'pork-crock-pot': 3.539784086365454,\n 'pork-loin': 3.516612641815235,\n 'pork-loins': 3.945194905441914,\n 'pork-loins-roast': 3.5492778249787595,\n 'pork-ribs': 3.6858041683051512,\n 'pork-sausage': 4.305029154518951,\n 'portuguese': 3.655102864058088,\n 'pot-pie': 3.5352056962025316,\n 'pot-roast': 3.490916431166734,\n 'potatoes': 5.838963079340141,\n 'potluck': 5.704498448810755,\n 'poultry': 7.635875216637782,\n 'preparation': 9.282038330114396,\n 'prepared-potatoes': 3.503238866396761,\n 'presentation': 7.285113098369279,\n 'pressure-canning': 3.498963085856491,\n 'pressure-cooker': 3.6762560777957862,\n 'puddings-and-mousses': 4.33002572583609,\n 'puerto-rican': 3.5300041963911037,\n 'pumpkin': 3.501796407185629,\n 'pumpkin-bread': 3.521474878444084,\n 'punch': 3.5179467387109224,\n 'quail': 3.5518655186551866,\n 'quebec': 3.547169811320755,\n 'quiche': 3.533278553820871,\n 'quick-breads': 4.974930362116992,\n 'rabbit': 3.5187101910828025,\n 'ragu-recipe-contest': 3.553927553927554,\n 'ramadan': 3.588623248145095,\n 'raspberries': 3.7844580777096115,\n 'ravioli-tortellini': 3.7792706333973127,\n 'refrigerator': 4.7554366008698565,\n 'reynolds-wrap': 3.5857371794871793,\n 'rice': 5.028580208973571,\n 'roast': 4.104845115170771,\n 'roast-beef': 4.000781555295037,\n 'roast-beef-comfort-food': 3.5504040833687793,\n 'roast-beef-main-dish': 3.5608163265306123,\n 'rolled-cookies': 3.805674310143801,\n 'rolls-biscuits': 4.288348082595871,\n 'romantic': 5.087306701030927,\n 'rosh-hashana': 3.6117599677809102,\n 'rosh-hashanah': 3.558167330677291,\n 'russian': 3.789473684210526,\n 'salad-dressings': 3.7773826458036983,\n 'salads': 5.124630429838526,\n 'salmon': 4.190667152752461,\n 'salsas': 3.588351822503962,\n 'saltwater-fish': 4.735109717868339,\n 'sandwiches': 4.80875,\n 'sauces': 4.239987183595002,\n 'saudi-arabian': 3.530438311688312,\n 'savory': 6.187964148527529,\n 'savory-pies': 4.310015290519877,\n 'savory-sauces': 3.850751879699248,\n 'scallops': 3.6934773909563825,\n 'scandinavian': 3.8523286633850815,\n 'scones': 3.896293375394322,\n 'scottish': 3.843238930993219,\n 'seafood': 6.38432079297139,\n 'seasonal': 6.777153558052435,\n 'served-cold': 4.923877490336009,\n 'served-hot': 6.527744124061061,\n 'served-hot-new-years': 3.5180273518441774,\n 'shakes': 3.529850746268657,\n 'shellfish': 5.457930225740252,\n 'short-grain-rice': 3.667779632721202,\n 'shrimp': 4.951103565365026,\n 'shrimp-main-dish': 3.429153094462541,\n 'side-dishes': 6.584308554475029,\n 'side-dishes-beans': 3.4954918032786884,\n 'simply-potatoes': 3.64948859166011,\n 'simply-potatoes2': 3.5278604849000423,\n 'small-appliance': 5.313741721854305,\n 'smoker': 3.5225531914893615,\n 'smoothies': 3.4808940158615718,\n 'snacks': 4.9494778436353375,\n 'snacks-kid-friendly': 3.5032414910858996,\n 'snacks-sweet': 3.482260726072607,\n 'sole-and-flounder': 3.564799331103679,\n 'somalian': 3.489448051948052,\n 'soul': 3.5611916264090175,\n 'soups-stews': 5.906421105027377,\n 'sourdough': 3.585665818490246,\n 'south-african': 3.630182421227197,\n 'south-american': 3.886799693016117,\n 'south-west-pacific': 4.482485128883014,\n 'southern-united-states': 5.287949015063731,\n 'southwestern-united-states': 4.5211409395973154,\n 'soy-tofu': 3.958960843373494,\n 'spaghetti': 4.113092979127135,\n 'spaghetti-sauce': 3.4854209445585216,\n 'spanish': 3.8456349206349207,\n 'spicy': 5.567993129115374,\n 'spinach': 4.167990919409761,\n 'spreads': 3.8711566617862374,\n 'spring': 4.533465215957798,\n 'squash': 4.732558139534884,\n 'squid': 3.4828711256117457,\n 'st-patricks-day': 3.7139516757599376,\n 'steak': 3.9061085972850678,\n 'steaks': 3.9178515007898893,\n 'steam': 3.6859344894026975,\n 'stews': 4.014508928571429,\n 'stews-poultry': 3.4771371769383697,\n 'stir-fry': 4.1907600596125185,\n 'stocks': 3.6598943518894758,\n 'stove-top': 7.216734242535938,\n 'strawberries': 4.094496741491673,\n 'stuffings-dressings': 3.70933014354067,\n 'sudanese': 3.4264585045193097,\n 'sugar-cookies': 3.557798891528108,\n 'summer': 5.29106313200328,\n 'super-bowl': 3.596146283916634,\n 'superbowl': 4.00228397411496,\n 'swedish': 3.5169912180221456,\n 'sweet': 6.121490422461296,\n 'sweet-sauces': 3.5960238568588467,\n 'swiss': 3.620123203285421,\n 'szechuan': 3.580814187827489,\n 'tarts': 3.755310778914241,\n 'taste-mood': 8.54810434047946,\n 'technique': 5.368184092046023,\n 'tempeh': 3.4782982380747742,\n 'tex-mex': 4.017287744909719,\n 'thai': 3.939486786671773,\n 'thanksgiving': 4.913190912173619,\n 'tilapia': 3.5454545454545454,\n 'time-to-make': 9.239042501811157,\n 'to-go': 6.464321012057719,\n 'toddler-friendly': 4.463195114111218,\n 'tomatoes': 4.792319508448541,\n 'tropical-fruit': 4.608060933037131,\n 'trout': 3.581636892397175,\n 'tuna': 3.774588595484118,\n 'turkey': 4.3192111029948865,\n 'turkey-breasts': 3.614042207792208,\n 'turkey-burgers': 3.4989648033126293,\n 'turkish': 3.6472244569589702,\n 'unprocessed-freezer': 3.4743276283618583,\n 'valentines-day': 4.296455424274973,\n 'veal': 3.6418946508779095,\n 'vegan': 5.173015873015873,\n 'vegetables': 8.04457880713261,\n 'vegetarian': 7.17903448275862,\n 'veggie-burgers': 3.5208075813761845,\n 'venezuelan': 3.5381803411860275,\n 'very-low-carbs': 5.3870344827586205,\n 'vietnamese': 3.6010466988727856,\n 'water-bath': 3.758662369057212,\n 'wedding': 3.890139751552795,\n 'weeknight': 7.4460674157303375,\n 'welsh': 3.6353039134054956,\n 'white-rice': 3.864130434782609,\n 'whitefish': 3.5384615384615383,\n 'whole-chicken': 3.9881282152750295,\n 'whole-duck': 3.579791499599038,\n 'whole-turkey': 3.6087866108786613,\n 'wild-game': 3.706766917293233,\n 'wings': 3.793300653594771,\n 'winter': 5.4926814988290396,\n 'yams-sweet-potatoes': 4.019969856819895,\n 'yeast': 5.0594059405940595,\n 'zucchini': 3.637735849056604}"
     },
     "execution_count": 170,
     "metadata": {},
     "output_type": "execute_result"
    }
   ],
   "source": [
    "avg_num_of_steps(\"out/id_tag_nsteps_1.csv\")"
   ],
   "metadata": {
    "collapsed": false,
    "pycharm": {
     "name": "#%%\n"
    }
   }
  },
  {
   "cell_type": "markdown",
   "metadata": {},
   "source": [
    "3. Напишите функцию, которая считает среднее значение количества шагов для каждого тэга по всем файлам, полученным в задаче 1, и возвращает результат в виде словаря. Не используйте параллельных вычислений. При реализации выделите функцию, которая объединяет результаты обработки отдельных файлов. Модифицируйте код из задачи 2 таким образом, чтобы получить результат, имея результаты обработки отдельных файлов. Определите, за какое время задача решается для всех файлов.\n"
   ]
  },
  {
   "cell_type": "markdown",
   "metadata": {},
   "source": [
    "4. Решите задачу 3, распараллелив вычисления с помощью модуля `multiprocessing`. Для обработки каждого файла создайте свой собственный процесс. Определите, за какое время задача решается для всех файлов."
   ]
  },
  {
   "cell_type": "markdown",
   "metadata": {},
   "source": [
    "5. Решите задачу 3, распараллелив вычисления с помощью модуля `multiprocessing`. Создайте фиксированное количество процессов (равное половине количества ядер на компьютере). При помощи очереди `multiprocessing.queue` передайте названия файлов для обработки процессам и при помощи другой очереди заберите от них ответы."
   ]
  },
  {
   "cell_type": "code",
   "execution_count": null,
   "metadata": {
    "collapsed": true
   },
   "outputs": [],
   "source": []
  }
 ],
 "metadata": {
  "kernelspec": {
   "display_name": "Python 3 (ipykernel)",
   "language": "python",
   "name": "python3"
  },
  "language_info": {
   "codemirror_mode": {
    "name": "ipython",
    "version": 3
   },
   "file_extension": ".py",
   "mimetype": "text/x-python",
   "name": "python",
   "nbconvert_exporter": "python",
   "pygments_lexer": "ipython3",
   "version": "3.9.9"
  }
 },
 "nbformat": 4,
 "nbformat_minor": 1
}