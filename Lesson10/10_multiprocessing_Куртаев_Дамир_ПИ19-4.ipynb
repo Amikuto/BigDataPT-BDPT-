{
 "cells": [
  {
   "cell_type": "markdown",
   "metadata": {},
   "source": [
    "# Параллельные вычисления"
   ]
  },
  {
   "cell_type": "markdown",
   "metadata": {},
   "source": [
    "Материалы:\n",
    "* Макрушин С.В. Лекция 10: Параллельные вычисления\n",
    "* https://docs.python.org/3/library/multiprocessing.html"
   ]
  },
  {
   "cell_type": "markdown",
   "metadata": {},
   "source": [
    "## Задачи для совместного разбора"
   ]
  },
  {
   "cell_type": "markdown",
   "metadata": {},
   "source": [
    "1. Посчитайте, сколько раз встречается каждый из символов (заглавные и строчные символы не различаются) в файле `Dostoevskiy Fedor. Prestuplenie i nakazanie - BooksCafe.Net.txt` и в файле `Dostoevskiy Fedor. Igrok - BooksCafe.Net.txt`."
   ]
  },
  {
   "cell_type": "code",
   "execution_count": 4,
   "metadata": {
    "pycharm": {
     "name": "#%%\n"
    }
   },
   "outputs": [
    {
     "name": "stdout",
     "output_type": "stream",
     "text": [
      "Writing count_letters.py\n"
     ]
    }
   ],
   "source": [
    "import csv\n",
    "%%file count_letters.py\n",
    "from collections import Counter\n",
    "\n",
    "def count_letters(file):\n",
    "\twith open(file) as fp:\n",
    "\t\ttext = fp.read().lower()\n",
    "\treturn Counter(text)"
   ]
  },
  {
   "cell_type": "code",
   "execution_count": 2,
   "metadata": {
    "pycharm": {
     "name": "#%%\n"
    }
   },
   "outputs": [
    {
     "data": {
      "text/plain": [
       "Counter({'с': 50084,\n",
       "         'п': 25652,\n",
       "         'а': 73555,\n",
       "         'и': 62030,\n",
       "         'б': 16016,\n",
       "         'о': 106740,\n",
       "         ',': 26973,\n",
       "         ' ': 182305,\n",
       "         'ч': 16492,\n",
       "         'т': 59813,\n",
       "         'к': 30802,\n",
       "         'л': 42328,\n",
       "         'н': 60920,\n",
       "         'г': 16174,\n",
       "         'у': 27309,\n",
       "         'в': 43700,\n",
       "         'е': 80972,\n",
       "         'й': 9747,\n",
       "         'э': 3203,\n",
       "         'р': 39784,\n",
       "         'b': 25,\n",
       "         'o': 104,\n",
       "         'k': 16,\n",
       "         's': 96,\n",
       "         'c': 42,\n",
       "         'a': 98,\n",
       "         'f': 23,\n",
       "         'e': 162,\n",
       "         '.': 9864,\n",
       "         'n': 114,\n",
       "         't': 98,\n",
       "         ':': 984,\n",
       "         'h': 48,\n",
       "         'p': 29,\n",
       "         '/': 22,\n",
       "         '\\n': 8583,\n",
       "         'u': 86,\n",
       "         'r': 76,\n",
       "         'd': 38,\n",
       "         'v': 65,\n",
       "         'i': 235,\n",
       "         'y': 5,\n",
       "         '_': 8,\n",
       "         '-': 3558,\n",
       "         '1': 384,\n",
       "         '0': 110,\n",
       "         '9': 100,\n",
       "         '6': 271,\n",
       "         'm': 54,\n",
       "         'l': 46,\n",
       "         'ж': 10552,\n",
       "         'д': 29633,\n",
       "         'х': 8127,\n",
       "         'ф': 1237,\n",
       "         'м': 29312,\n",
       "         'z': 11,\n",
       "         '2': 141,\n",
       "         '8': 297,\n",
       "         '5': 136,\n",
       "         'я': 19751,\n",
       "         '!': 3280,\n",
       "         '\\xa0': 6092,\n",
       "         'з': 14414,\n",
       "         'ш': 7437,\n",
       "         'ь': 20554,\n",
       "         'ю': 5418,\n",
       "         'ц': 2782,\n",
       "         '«': 1187,\n",
       "         '»': 1175,\n",
       "         'ы': 15449,\n",
       "         'щ': 3039,\n",
       "         'x': 52,\n",
       "         '—': 6440,\n",
       "         '(': 528,\n",
       "         ')': 527,\n",
       "         '[': 85,\n",
       "         ']': 85,\n",
       "         'ъ': 223,\n",
       "         '7': 121,\n",
       "         '3': 120,\n",
       "         '&': 22,\n",
       "         '#': 22,\n",
       "         ';': 1322,\n",
       "         '…': 2263,\n",
       "         '?': 2266,\n",
       "         '4': 130,\n",
       "         '–': 49,\n",
       "         '№': 45,\n",
       "         'ё': 969,\n",
       "         '\\t': 48,\n",
       "         '„': 44,\n",
       "         '“': 44,\n",
       "         \"'\": 11,\n",
       "         'g': 19,\n",
       "         'j': 1,\n",
       "         'q': 9,\n",
       "         'w': 4})"
      ]
     },
     "execution_count": 2,
     "metadata": {},
     "output_type": "execute_result"
    }
   ],
   "source": [
    "count_letters(r\"F:\\Programming\\Python\\BigDataPT-BDPT-\\Lesson10/10_multiprocessing_data\\10_multiprocessing_data\\Dostoevskiy Fedor. Prestuplenie i nakazanie - BooksCafe.Net.txt\")"
   ]
  },
  {
   "cell_type": "markdown",
   "metadata": {},
   "source": [
    "2. Решить задачу 1, распараллелив вычисления с помощью модуля `multiprocessing`. Для обработки каждого файла создать свой собственный процесс."
   ]
  },
  {
   "cell_type": "code",
   "execution_count": 9,
   "metadata": {
    "pycharm": {
     "name": "#%%\n"
    }
   },
   "outputs": [],
   "source": [
    "import multiprocessing as mp\n",
    "from pprint import pprint as pp"
   ]
  },
  {
   "cell_type": "code",
   "execution_count": null,
   "outputs": [],
   "source": [
    "import count_letters"
   ],
   "metadata": {
    "collapsed": false,
    "pycharm": {
     "name": "#%%\n"
    }
   }
  },
  {
   "cell_type": "code",
   "execution_count": 13,
   "metadata": {
    "pycharm": {
     "name": "#%%\n"
    }
   },
   "outputs": [
    {
     "name": "stdout",
     "output_type": "stream",
     "text": [
      "[Counter({' ': 45076,\n",
      "          'о': 23130,\n",
      "          'е': 20054,\n",
      "          'а': 18236,\n",
      "          'т': 14245,\n",
      "          'н': 14240,\n",
      "          'и': 13587,\n",
      "          'с': 11507,\n",
      "          'л': 9961,\n",
      "          'р': 9482,\n",
      "          'в': 9398,\n",
      "          'м': 7106,\n",
      "          'к': 6744,\n",
      "          'д': 6681,\n",
      "          ',': 6372,\n",
      "          'у': 6044,\n",
      "          'п': 5489,\n",
      "          'я': 5458,\n",
      "          'ь': 4857,\n",
      "          'ч': 4113,\n",
      "          'б': 3980,\n",
      "          'г': 3948,\n",
      "          'ы': 3869,\n",
      "          'з': 3355,\n",
      "          '.': 2954,\n",
      "          '\\n': 2734,\n",
      "          'ж': 2297,\n",
      "          'й': 2028,\n",
      "          'ш': 1943,\n",
      "          '—': 1726,\n",
      "          'х': 1535,\n",
      "          '\\xa0': 1472,\n",
      "          'ю': 1323,\n",
      "          'e': 1200,\n",
      "          '-': 900,\n",
      "          'э': 836,\n",
      "          'ц': 817,\n",
      "          '!': 718,\n",
      "          'ф': 634,\n",
      "          'a': 590,\n",
      "          'щ': 587,\n",
      "          'l': 571,\n",
      "          '?': 571,\n",
      "          'n': 459,\n",
      "          's': 429,\n",
      "          ';': 406,\n",
      "          'm': 401,\n",
      "          'o': 377,\n",
      "          'i': 369,\n",
      "          't': 332,\n",
      "          'c': 324,\n",
      "          'r': 308,\n",
      "          'u': 285,\n",
      "          '…': 280,\n",
      "          '(': 276,\n",
      "          ')': 276,\n",
      "          'h': 227,\n",
      "          'b': 220,\n",
      "          ':': 212,\n",
      "          'd': 192,\n",
      "          '«': 129,\n",
      "          '»': 128,\n",
      "          'p': 100,\n",
      "          '[': 97,\n",
      "          ']': 97,\n",
      "          'v': 87,\n",
      "          'g': 73,\n",
      "          'ъ': 63,\n",
      "          \"'\": 59,\n",
      "          'f': 52,\n",
      "          'q': 50,\n",
      "          '1': 46,\n",
      "          'z': 44,\n",
      "          '6': 42,\n",
      "          '2': 42,\n",
      "          '4': 42,\n",
      "          '7': 42,\n",
      "          '3': 40,\n",
      "          '5': 40,\n",
      "          'j': 40,\n",
      "          '8': 38,\n",
      "          '9': 36,\n",
      "          'x': 24,\n",
      "          '0': 22,\n",
      "          'k': 21,\n",
      "          '/': 20,\n",
      "          '`': 9,\n",
      "          'y': 8,\n",
      "          'w': 7,\n",
      "          '_': 4}),\n",
      " Counter({' ': 182305,\n",
      "          'о': 106740,\n",
      "          'е': 80972,\n",
      "          'а': 73555,\n",
      "          'и': 62030,\n",
      "          'н': 60920,\n",
      "          'т': 59813,\n",
      "          'с': 50084,\n",
      "          'в': 43700,\n",
      "          'л': 42328,\n",
      "          'р': 39784,\n",
      "          'к': 30802,\n",
      "          'д': 29633,\n",
      "          'м': 29312,\n",
      "          'у': 27309,\n",
      "          ',': 26973,\n",
      "          'п': 25652,\n",
      "          'ь': 20554,\n",
      "          'я': 19751,\n",
      "          'ч': 16492,\n",
      "          'г': 16174,\n",
      "          'б': 16016,\n",
      "          'ы': 15449,\n",
      "          'з': 14414,\n",
      "          'ж': 10552,\n",
      "          '.': 9864,\n",
      "          'й': 9747,\n",
      "          '\\n': 8583,\n",
      "          'х': 8127,\n",
      "          'ш': 7437,\n",
      "          '—': 6440,\n",
      "          '\\xa0': 6092,\n",
      "          'ю': 5418,\n",
      "          '-': 3558,\n",
      "          '!': 3280,\n",
      "          'э': 3203,\n",
      "          'щ': 3039,\n",
      "          'ц': 2782,\n",
      "          '?': 2266,\n",
      "          '…': 2263,\n",
      "          ';': 1322,\n",
      "          'ф': 1237,\n",
      "          '«': 1187,\n",
      "          '»': 1175,\n",
      "          ':': 984,\n",
      "          'ё': 969,\n",
      "          '(': 528,\n",
      "          ')': 527,\n",
      "          '1': 384,\n",
      "          '8': 297,\n",
      "          '6': 271,\n",
      "          'i': 235,\n",
      "          'ъ': 223,\n",
      "          'e': 162,\n",
      "          '2': 141,\n",
      "          '5': 136,\n",
      "          '4': 130,\n",
      "          '7': 121,\n",
      "          '3': 120,\n",
      "          'n': 114,\n",
      "          '0': 110,\n",
      "          'o': 104,\n",
      "          '9': 100,\n",
      "          'a': 98,\n",
      "          't': 98,\n",
      "          's': 96,\n",
      "          'u': 86,\n",
      "          '[': 85,\n",
      "          ']': 85,\n",
      "          'r': 76,\n",
      "          'v': 65,\n",
      "          'm': 54,\n",
      "          'x': 52,\n",
      "          '–': 49,\n",
      "          'h': 48,\n",
      "          '\\t': 48,\n",
      "          'l': 46,\n",
      "          '№': 45,\n",
      "          '„': 44,\n",
      "          '“': 44,\n",
      "          'c': 42,\n",
      "          'd': 38,\n",
      "          'p': 29,\n",
      "          'b': 25,\n",
      "          'f': 23,\n",
      "          '/': 22,\n",
      "          '&': 22,\n",
      "          '#': 22,\n",
      "          'g': 19,\n",
      "          'k': 16,\n",
      "          'z': 11,\n",
      "          \"'\": 11,\n",
      "          'q': 9,\n",
      "          '_': 8,\n",
      "          'y': 5,\n",
      "          'w': 4,\n",
      "          'j': 1})]\n"
     ]
    }
   ],
   "source": [
    "files = [r\"F:\\Programming\\Python\\BigDataPT-BDPT-\\Lesson10\\10_multiprocessing_data\\10_multiprocessing_data\\Dostoevskiy Fedor. Igrok - BooksCafe.Net.txt\",\n",
    "         r\"F:\\Programming\\Python\\BigDataPT-BDPT-\\Lesson10/10_multiprocessing_data\\10_multiprocessing_data\\Dostoevskiy Fedor. Prestuplenie i nakazanie - BooksCafe.Net.txt\"]\n",
    "\n",
    "pool = mp.Pool(processes=4)\n",
    "results = [pool.apply(count_letters.count_letters, args=[f]) for f in files]\n",
    "pp(results)"
   ]
  },
  {
   "cell_type": "markdown",
   "metadata": {},
   "source": [
    "## Лабораторная работа 10"
   ]
  },
  {
   "cell_type": "markdown",
   "metadata": {},
   "source": [
    "1. Разбейте файл `recipes_full.csv` на несколько (например, 8) примерно одинаковых по объему файлов c названиями `id_tag_nsteps_*.csv`. Каждый файл содержит 3 столбца: `id`, `tag` и `n_steps`, разделенных символом `;`. Для разбора строк используйте `csv.reader`.\n",
    "\n",
    "__Важно__: вы не можете загружать в память весь файл сразу. Посмотреть на первые несколько строк файла вы можете, написав код, который считывает эти строки.\n",
    "\n",
    "Подсказка: примерное кол-во строк в файле - 2.3 млн.\n",
    "\n",
    "Фрагмент одного из файлов, которые должны получиться в результате:\n",
    "```\n",
    "id;tag;n_steps\n",
    "137739;60-minutes-or-less;11\n",
    "137739;time-to-make;11\n",
    "137739;course;11\n",
    "```\n"
   ]
  },
  {
   "cell_type": "code",
   "execution_count": 1,
   "metadata": {},
   "outputs": [],
   "source": [
    "import multiprocessing as mp\n",
    "import pandas as pd\n",
    "import csv\n",
    "\n",
    "from pprint import pprint as pp"
   ]
  },
  {
   "cell_type": "code",
   "execution_count": 2,
   "outputs": [
    {
     "data": {
      "text/plain": "['id_tag_nsteps_1.csv',\n 'id_tag_nsteps_2.csv',\n 'id_tag_nsteps_3.csv',\n 'id_tag_nsteps_4.csv',\n 'id_tag_nsteps_5.csv',\n 'id_tag_nsteps_6.csv',\n 'id_tag_nsteps_7.csv',\n 'id_tag_nsteps_8.csv']"
     },
     "execution_count": 2,
     "metadata": {},
     "output_type": "execute_result"
    }
   ],
   "source": [
    "file_names = [f\"id_tag_nsteps_{i}.csv\" for i in range(1, 9)]\n",
    "file_names"
   ],
   "metadata": {
    "collapsed": false,
    "pycharm": {
     "name": "#%%\n"
    }
   }
  },
  {
   "cell_type": "code",
   "execution_count": 137,
   "metadata": {
    "pycharm": {
     "name": "#%%\n"
    }
   },
   "outputs": [],
   "source": [
    "import ast\n",
    "\n",
    "with open(\"10_multiprocessing_data/10_multiprocessing_data/recipes_full.csv\", 'r', newline='', encoding='utf-8') as readfile:\n",
    "\treader = csv.reader(readfile, delimiter=',')\n",
    "\ti = 0\n",
    "\theader = next(reader)\n",
    "\n",
    "\tfor name_id in range(len(file_names)):\n",
    "\t\twith open(f\"out/{file_names[name_id]}\", \"w\", newline='') as writefile:\n",
    "\t\t\twriter = csv.writer(writefile, delimiter=';')\n",
    "\t\t\twriter.writerows([[\"id\", \"tag\", \"n_steps\"]])\n",
    "\t\t\tfor row in reader:\n",
    "\t\t\t\tif i == (name_id+1) * 300000:\n",
    "\t\t\t\t\tbreak\n",
    "\t\t\t\ti += 1\n",
    "\t\t\t\tfor tag in ast.literal_eval(row[5]):\n",
    "\t\t\t\t\twriter.writerows([[row[1], tag, row[6]]])\n"
   ]
  },
  {
   "cell_type": "markdown",
   "metadata": {},
   "source": [
    "2. Напишите функцию, которая принимает на вход название файла, созданного в результате решения задачи 1, считает среднее значение количества шагов для каждого тэга и возвращает результат в виде словаря."
   ]
  },
  {
   "cell_type": "code",
   "execution_count": 11,
   "outputs": [
    {
     "name": "stdout",
     "output_type": "stream",
     "text": [
      "Overwriting avgNumOfSteps.py\n"
     ]
    }
   ],
   "source": [
    "%%file avgNumOfSteps.py\n",
    "import pandas as pd\n",
    "\n",
    "def avg_num_of_steps(file_name: str) -> dict:\n",
    "\tdf = pd.read_csv(file_name, delimiter=\";\")\n",
    "\tgrouped_df = df.groupby(\"tag\")\n",
    "\tsum_of_steps = grouped_df.sum()[\"n_steps\"]\n",
    "\tcount_of_steps = grouped_df.count()[\"n_steps\"]\n",
    "\tavg = sum_of_steps/count_of_steps\n",
    "\treturn avg.to_dict()"
   ],
   "metadata": {
    "collapsed": false,
    "pycharm": {
     "name": "#%%\n"
    }
   }
  },
  {
   "cell_type": "code",
   "execution_count": 170,
   "outputs": [
    {
     "data": {
      "text/plain": "{'1-day-or-more': 4.585138162808065,\n '15-minutes-or-less': 4.978743845322445,\n '3-steps-or-less': 4.688845401174168,\n '30-minutes-or-less': 7.5650156360334915,\n '4-hours-or-less': 10.122780092085069,\n '5-ingredients-or-less': 5.365439868655082,\n '60-minutes-or-less': 9.31799336650083,\n 'Throw the ultimate fiesta with this sopaipillas recipe from Food.com.': 3.4979591836734696,\n 'a1-sauce': 3.493458708094849,\n 'african': 4.281183932346723,\n 'american': 7.555473591029802,\n 'amish-mennonite': 3.5908726981585266,\n 'angolan': 3.4979773462783172,\n 'appetizers': 6.243116578793204,\n 'apples': 4.766677306096393,\n 'april-fools-day': 3.553635998392929,\n 'argentine': 3.5873949579831934,\n 'artichoke': 3.5382139983909897,\n 'asian': 6.42365233911185,\n 'asparagus': 4.019281663516068,\n 'australian': 4.244301994301995,\n 'austrian': 3.566666666666667,\n 'avocado': 3.4665022605836415,\n 'bacon': 4.074665676077266,\n 'baja': 3.495065789473684,\n 'baked-beans': 3.4942291838417145,\n 'baking': 3.570494483040458,\n 'bananas': 3.9829692706405035,\n 'bar-cookies': 4.839549612948628,\n 'barbecue': 4.637471188673032,\n 'bass': 3.5650754793961648,\n 'bean-soup': 3.482338611449452,\n 'beans': 5.561972573839663,\n 'beans-side-dishes': 3.4833197721724978,\n 'bear': 3.4869418702611625,\n 'beef': 6.947687800795145,\n 'beef-barley-soup': 3.5014516798009123,\n 'beef-crock-pot': 3.480546357615894,\n 'beef-kidney': 3.5023454157782514,\n 'beef-liver': 3.5710168793742283,\n 'beef-organ-meats': 3.5102291325695583,\n 'beef-ribs': 3.6239717978848414,\n 'beef-sauces': 3.5410041841004185,\n 'beef-sausage': 3.706232631996824,\n 'beginner-cook': 6.328306102499651,\n 'beijing': 3.505104124132299,\n 'belgian': 3.6133709222714456,\n 'berries': 4.979263385948623,\n 'beverages': 3.871769383697813,\n 'birthday': 3.5543390105433903,\n 'biscotti': 3.745411013567438,\n 'bisques-cream-soups': 4.170971262277192,\n 'black-bean-soup': 3.44993870044953,\n 'black-beans': 3.8902529761904763,\n 'blueberries': 3.92680262199563,\n 'bok-choys': 3.523673469387755,\n 'brazilian': 3.607433217189315,\n 'bread-machine': 3.710014947683109,\n 'bread-pudding': 3.520378756689996,\n 'breads': 6.926705202312139,\n 'breakfast': 6.072769409038239,\n 'breakfast-casseroles': 3.482128013300083,\n 'breakfast-eggs': 3.494146144529673,\n 'breakfast-potatoes': 3.5134340890008398,\n 'brewing': 3.505180273518442,\n 'british-columbian': 3.6445951336258475,\n 'broccoli': 4.0928652321630805,\n 'broil': 4.013498312710911,\n 'brown-bag': 4.437543372657877,\n 'brown-rice': 3.601275917065391,\n 'brownies': 3.950832365466512,\n 'brunch': 6.885559131134352,\n 'burgers': 3.627528758429195,\n 'cabbage': 3.5188442211055277,\n 'cajun': 3.9222179437812863,\n 'cake-fillings-and-frostings': 3.920780711825488,\n 'cakes': 6.7654483302655795,\n 'californian': 3.752927400468384,\n 'cambodian': 3.5447983014861997,\n 'camping': 3.9482361963190185,\n 'canadian': 4.789369428854408,\n 'candy': 4.279507603186097,\n 'canning': 3.998796147672552,\n 'cantonese': 3.5758196721311477,\n 'caribbean': 4.050072568940493,\n 'carrots': 4.36234458259325,\n 'casseroles': 5.259598346131128,\n 'catfish': 3.5704863973619125,\n 'cauliflower': 3.7592307692307694,\n 'celebrity': 3.8275726630007854,\n 'central-american': 4.079057392626378,\n 'chard': 3.567311650885138,\n 'cheese': 6.540258007117438,\n 'cheesecake': 4.513128282070517,\n 'cherries': 3.623552894211577,\n 'chick-peas-garbanzos': 3.9083969465648853,\n 'chicken': 7.333522727272728,\n 'chicken-breasts': 5.811878374538221,\n 'chicken-crock-pot': 3.572738142686329,\n 'chicken-livers': 3.4983753046303816,\n 'chicken-stew': 3.5053533190578157,\n 'chicken-stews': 3.508001641362331,\n 'chicken-thighs-legs': 4.181818181818182,\n 'chilean': 3.5627022653721685,\n 'chili': 3.930072602216278,\n 'chinese': 4.286200378071833,\n 'chinese-new-year': 3.5486868686868687,\n 'chocolate': 6.24689357104268,\n 'chocolate-chip-cookies': 3.5554187192118225,\n 'chowders': 3.8548323471400394,\n 'christmas': 5.92230504587156,\n 'chutneys': 3.5851318944844124,\n 'cinco-de-mayo': 3.560550830295666,\n 'citrus': 4.605405405405405,\n 'clams': 3.621259842519685,\n 'clear-soups': 3.6942081814499796,\n 'cobblers-and-crisps': 3.9408495434696307,\n 'cocktails': 3.5821782178217823,\n 'coconut': 4.2363090772693175,\n 'cod': 3.638834186687672,\n 'coffee-cakes': 3.9793613707165107,\n 'collard-greens': 3.5035431429762403,\n 'college': 3.536706760680216,\n 'colombian': 3.574144486692015,\n 'comfort-food': 7.491307255098629,\n 'condiments-etc': 4.82156226603444,\n 'congolese': 3.5623973727422005,\n 'cookies-and-brownies': 6.7785365853658535,\n 'cooking-mixes': 3.683371298405467,\n 'copycat': 4.220883534136546,\n 'corn': 4.085798816568047,\n 'costa-rican': 3.5342005874947544,\n 'course': 9.227486674355537,\n 'crab': 3.995793499043977,\n 'cranberry-sauce': 3.4493644936449366,\n 'crawfish': 3.5311120032115615,\n 'creole': 3.7875968992248064,\n 'crock-pot-main-dish': 3.5277440259214257,\n 'crock-pot-slow-cooker': 4.772902460717463,\n 'crusts-pastry-dough-2': 3.708777686628384,\n 'cuban': 3.5560897435897436,\n 'cuisine': 9.12790306294177,\n 'cupcakes': 3.939072327044025,\n 'curries': 4.0511278195488725,\n 'czech': 3.5656286953094205,\n 'dairy-free': 3.5876330876330877,\n 'danish': 3.579776212184003,\n 'deep-fry': 4.032089851584437,\n 'deer': 3.6170037144036318,\n 'dehydrator': 3.5457802547770703,\n 'desserts': 9.132531584062196,\n 'desserts-easy': 3.4900550148116802,\n 'desserts-fruit': 3.5074446680080484,\n 'diabetic': 4.841581259150805,\n 'dietary': 8.814344460570876,\n 'dinner-party': 8.24538914323087,\n 'dips': 4.034983498349835,\n 'dips-lunch-snacks': 3.5141815235008105,\n 'dips-summer': 3.466532258064516,\n 'drop-cookies': 4.385021097046414,\n 'duck': 3.636880584890333,\n 'duck-breasts': 3.4821286735504366,\n 'dutch': 3.559866499791406,\n 'easter': 4.37238644556597,\n 'easy': 7.2316464718460445,\n 'ecuadorean': 3.525341914722446,\n 'egg-free': 4.690453230472517,\n 'eggplant': 3.632963419646527,\n 'eggs': 5.950815142304504,\n 'eggs-breakfast': 3.494299674267101,\n 'eggs-dairy': 7.611195851128737,\n 'egyptian': 3.6266829865361077,\n 'elbow-macaroni': 4.052459016393443,\n 'elk': 3.4925192074403557,\n 'english': 4.121859767529059,\n 'equipment': 8.55585172844648,\n 'ethiopian': 3.500432525951557,\n 'european': 7.99328049620951,\n 'fall': 5.492437463641652,\n 'fathers-day': 3.4785976355483084,\n 'filipino': 3.6204114562323517,\n 'fillings-and-frostings-chocolate': 3.480218855218855,\n 'finger-food': 5.294135802469135,\n 'finnish': 3.517335410985586,\n 'fish': 5.210111046171829,\n 'flat-shapes': 3.7641660015961693,\n 'food-processor-blender': 4.578843626806833,\n 'for-1-or-2': 5.37318650585562,\n 'for-large-groups': 7.402831402831403,\n 'for-large-groups-holiday-event': 3.532840722495895,\n 'free-of-something': 5.717705735660848,\n 'freezer': 3.898805078416729,\n 'french': 4.444362835108336,\n 'freshwater-fish': 3.813652412710867,\n 'from-scratch': 4.626203576341128,\n 'frozen-desserts': 4.046903627702455,\n 'fruit': 7.3125653668011354,\n 'fudge': 3.7229287090558767,\n 'garnishes': 3.5554254488680717,\n 'gelatin': 3.765982636148382,\n 'georgian': 3.4732980024459845,\n 'german': 4.045558958652373,\n 'gifts': 5.574961832061069,\n 'gluten-free': 4.7618746041798605,\n 'goose': 3.484667463162087,\n 'grains': 5.142723004694836,\n 'granola-and-porridge': 3.658307210031348,\n 'grapes': 3.5608678184009643,\n 'greek': 4.299928418038654,\n 'green-yellow-beans': 3.950261780104712,\n 'greens': 4.661124043897573,\n 'grilling': 4.901607084289931,\n 'ground-beef': 5.5461426491994175,\n 'guatemalan': 3.5245298446443174,\n 'gumbo': 3.602910602910603,\n 'halibut': 3.560416666666667,\n 'halloween': 3.797324685853263,\n 'halloween-cakes': 3.4892,\n 'halloween-cocktails': 3.5309661436829067,\n 'halloween-cupcakes': 3.4843304843304845,\n 'ham': 3.8948580199539524,\n 'ham-and-bean-soup': 3.515957446808511,\n 'hand-formed-cookies': 4.265684051398337,\n 'hanukkah': 3.7330946698488465,\n 'hawaiian': 3.617578125,\n 'healthy': 6.994588472187264,\n 'healthy-2': 6.325539568345324,\n 'heirloom-historical': 5.035194585448393,\n 'heirloom-historical-recipes': 3.535547041294168,\n 'herb-and-spice-mixes': 3.5337758688012495,\n 'hidden-valley-ranch': 3.5444137386498222,\n 'high-calcium': 4.518614438329556,\n 'high-fiber': 3.5600849256900213,\n 'high-in-something': 5.486633663366336,\n 'high-in-something-diabetic-friendly': 3.5556011489536314,\n 'high-protein': 5.104014063873425,\n 'holiday-event': 8.330828133862735,\n 'honduran': 3.466419447878039,\n 'hunan': 3.509755085097551,\n 'hungarian': 3.6351242983159584,\n 'ice-cream': 3.557959183673469,\n 'icelandic': 3.547029702970297,\n 'independence-day': 4.1339508371927325,\n 'indian': 4.386614453542186,\n 'indonesian': 3.560647965231134,\n 'inexpensive': 6.885917744513879,\n 'infant-baby-friendly': 3.6355177993527508,\n 'iranian-persian': 3.6028880866425994,\n 'iraqi': 3.556087824351297,\n 'irish': 3.8095808383233534,\n 'irish-st-patricks-day': 3.4940255459414917,\n 'italian': 5.929671607090962,\n 'jams-and-preserves': 3.8385703063629224,\n 'japanese': 3.8169068952084144,\n 'jellies': 3.609775641025641,\n 'jewish-ashkenazi': 3.8386178861788616,\n 'jewish-sephardi': 3.5620967741935483,\n 'kid-friendly': 7.0601723857537815,\n 'kiwifruit': 3.5303643724696356,\n 'korean': 3.5902255639097747,\n 'kosher': 4.778286461739699,\n 'kwanzaa': 3.666532420459122,\n 'labor-day': 3.5203155818540433,\n 'lactose': 4.57584541062802,\n 'lamb-sheep': 4.144546147978642,\n 'lamb-sheep-main-dish': 3.5006294586655478,\n 'laotian': 3.4956340956340957,\n 'lasagna': 4.139904610492846,\n 'lasagne': 3.5387136419500207,\n 'lebanese': 3.678773204196933,\n 'leftovers': 3.623762376237624,\n 'lemon': 4.119701726844584,\n 'lentils': 3.9463166144200628,\n 'less_thansql:name_topics_of_recipegreater_than': 3.486290322580645,\n 'lettuces': 3.68793235972329,\n 'libyan': 3.4226887363746465,\n 'lime': 3.570097087378641,\n 'lobster': 3.5928192574459406,\n 'long-grain-rice': 3.9479923518164437,\n 'low-calorie': 6.662642521797451,\n 'low-carb': 7.273603317882411,\n 'low-cholesterol': 6.570605573419078,\n 'low-fat': 5.838811513463324,\n 'low-in-something': 7.981382409586989,\n 'low-protein': 6.3175149700598805,\n 'low-saturated-fat': 6.454640875693507,\n 'low-sodium': 7.335887917614657,\n 'lunch': 6.751316984559492,\n 'macaroni-and-cheese': 3.510594947025265,\n 'mahi-mahi': 3.5846214823622673,\n 'main-dish': 9.422308776000662,\n 'main-dish-beef': 3.48762677484787,\n 'main-dish-chicken': 3.5117817279867714,\n 'main-dish-pasta': 3.4635482511588704,\n 'main-dish-pork': 3.493862520458265,\n 'main-dish-seafood': 3.445228215767635,\n 'main-ingredient': 9.306303837118246,\n 'malaysian': 3.5663286004056793,\n 'mango': 3.651825110308865,\n 'manicotti': 3.6010860484544693,\n 'mardi-gras-carnival': 3.6522976819845465,\n 'marinades-and-rubs': 3.5813777441332326,\n 'marinara-sauce': 3.525409491810164,\n 'mashed-potatoes': 3.5750901081297557,\n 'meat': 8.94032081299193,\n 'meatballs': 3.606550404083369,\n 'meatloaf': 3.535159443990188,\n 'medium-grain-rice': 3.500811688311688,\n 'melons': 3.6059551430781127,\n 'memorial-day': 3.523982265215639,\n 'mexican': 5.330695308083663,\n 'micro-melanesia': 3.50191407911527,\n 'microwave': 4.127465303140979,\n 'middle-eastern': 4.200663961637772,\n 'middle-eastern-main-dish': 3.4943632567849687,\n 'midwestern': 4.410795653697862,\n 'mixer': 4.334348819497334,\n 'mongolian': 3.4724826742763963,\n 'moose': 3.4834355828220858,\n 'moroccan': 3.7729449321628095,\n 'mothers-day': 3.490812576561862,\n 'muffins': 4.303608605135323,\n 'mushroom-soup': 3.5051710421638824,\n 'mushrooms': 4.612427051150017,\n 'mussels': 3.6192229038854804,\n 'namibian': 3.508786268900695,\n 'native-american': 3.537052456286428,\n 'nepalese': 3.4531786941580758,\n 'new-years': 4.3894389438943895,\n 'new-zealand': 3.652501985702939,\n 'nigerian': 3.4697768762677486,\n 'no-cook': 3.951061865189289,\n 'no-shell-fish': 3.5874901029295327,\n 'non-alcoholic': 3.553033429632687,\n 'north-american': 8.154872580115935,\n 'northeastern-united-states': 4.273188405797101,\n 'norwegian': 3.5529212531752754,\n 'novelty': 4.859273670557717,\n 'number-of-servings': 7.825610701822412,\n 'nut-free': 3.595382746051033,\n 'nuts': 5.574214202561118,\n 'oamc-freezer-make-ahead': 4.996657754010696,\n 'oatmeal': 3.5180032733224222,\n 'oaxacan': 3.5177133655394526,\n 'occasion': 9.16440035666518,\n 'octopus': 3.4684963277928103,\n 'omelets-and-frittatas': 3.9623447204968945,\n 'one-dish-meal': 6.952933591231464,\n 'onions': 5.091111111111111,\n 'ontario': 3.7613328167376987,\n 'orange-roughy': 3.4485144485144485,\n 'oranges': 3.9098422238918107,\n 'oven': 8.26212867592178,\n 'oysters': 3.5780933062880322,\n 'pacific-northwest': 3.8074102663064453,\n 'pakistani': 3.516183270281631,\n 'palestinian': 3.4905582922824303,\n 'pancakes-and-waffles': 4.189591078066915,\n 'papaya': 3.5714865962632008,\n 'passover': 3.628488129945856,\n 'pasta': 6.568314975392547,\n 'pasta-elbow-macaroni': 3.4496732026143793,\n 'pasta-rice-and-grains': 7.688568110170897,\n 'pasta-rice-and-grains-elbow-macaroni': 3.4801816680429396,\n 'pasta-salad': 3.45850622406639,\n 'pasta-shells': 3.7239950269374225,\n 'peaches': 3.8060792612543284,\n 'peanut-butter': 3.5798423890501865,\n 'pears': 3.772348033373063,\n 'penne': 3.9403268719118207,\n 'pennsylvania-dutch': 3.5411530815109344,\n 'peppers': 4.502919958777053,\n 'perch': 3.523121387283237,\n 'peruvian': 3.607404218682738,\n 'pheasant': 3.4761904761904763,\n 'pickeral': 3.5322033898305083,\n 'picnic': 5.117866360768569,\n 'pies': 4.621563727240272,\n 'pies-and-tarts': 5.165256994144437,\n 'pineapple': 3.958588404753331,\n 'pitted-fruit': 4.138920347300869,\n 'pizza': 4.092854413450516,\n 'plums': 3.5678000819336337,\n 'polish': 3.651053864168618,\n 'polynesian': 3.5288801571709234,\n 'pork': 6.425018111567255,\n 'pork-chops': 4.048507462686567,\n 'pork-crock-pot': 3.539784086365454,\n 'pork-loin': 3.516612641815235,\n 'pork-loins': 3.945194905441914,\n 'pork-loins-roast': 3.5492778249787595,\n 'pork-ribs': 3.6858041683051512,\n 'pork-sausage': 4.305029154518951,\n 'portuguese': 3.655102864058088,\n 'pot-pie': 3.5352056962025316,\n 'pot-roast': 3.490916431166734,\n 'potatoes': 5.838963079340141,\n 'potluck': 5.704498448810755,\n 'poultry': 7.635875216637782,\n 'preparation': 9.282038330114396,\n 'prepared-potatoes': 3.503238866396761,\n 'presentation': 7.285113098369279,\n 'pressure-canning': 3.498963085856491,\n 'pressure-cooker': 3.6762560777957862,\n 'puddings-and-mousses': 4.33002572583609,\n 'puerto-rican': 3.5300041963911037,\n 'pumpkin': 3.501796407185629,\n 'pumpkin-bread': 3.521474878444084,\n 'punch': 3.5179467387109224,\n 'quail': 3.5518655186551866,\n 'quebec': 3.547169811320755,\n 'quiche': 3.533278553820871,\n 'quick-breads': 4.974930362116992,\n 'rabbit': 3.5187101910828025,\n 'ragu-recipe-contest': 3.553927553927554,\n 'ramadan': 3.588623248145095,\n 'raspberries': 3.7844580777096115,\n 'ravioli-tortellini': 3.7792706333973127,\n 'refrigerator': 4.7554366008698565,\n 'reynolds-wrap': 3.5857371794871793,\n 'rice': 5.028580208973571,\n 'roast': 4.104845115170771,\n 'roast-beef': 4.000781555295037,\n 'roast-beef-comfort-food': 3.5504040833687793,\n 'roast-beef-main-dish': 3.5608163265306123,\n 'rolled-cookies': 3.805674310143801,\n 'rolls-biscuits': 4.288348082595871,\n 'romantic': 5.087306701030927,\n 'rosh-hashana': 3.6117599677809102,\n 'rosh-hashanah': 3.558167330677291,\n 'russian': 3.789473684210526,\n 'salad-dressings': 3.7773826458036983,\n 'salads': 5.124630429838526,\n 'salmon': 4.190667152752461,\n 'salsas': 3.588351822503962,\n 'saltwater-fish': 4.735109717868339,\n 'sandwiches': 4.80875,\n 'sauces': 4.239987183595002,\n 'saudi-arabian': 3.530438311688312,\n 'savory': 6.187964148527529,\n 'savory-pies': 4.310015290519877,\n 'savory-sauces': 3.850751879699248,\n 'scallops': 3.6934773909563825,\n 'scandinavian': 3.8523286633850815,\n 'scones': 3.896293375394322,\n 'scottish': 3.843238930993219,\n 'seafood': 6.38432079297139,\n 'seasonal': 6.777153558052435,\n 'served-cold': 4.923877490336009,\n 'served-hot': 6.527744124061061,\n 'served-hot-new-years': 3.5180273518441774,\n 'shakes': 3.529850746268657,\n 'shellfish': 5.457930225740252,\n 'short-grain-rice': 3.667779632721202,\n 'shrimp': 4.951103565365026,\n 'shrimp-main-dish': 3.429153094462541,\n 'side-dishes': 6.584308554475029,\n 'side-dishes-beans': 3.4954918032786884,\n 'simply-potatoes': 3.64948859166011,\n 'simply-potatoes2': 3.5278604849000423,\n 'small-appliance': 5.313741721854305,\n 'smoker': 3.5225531914893615,\n 'smoothies': 3.4808940158615718,\n 'snacks': 4.9494778436353375,\n 'snacks-kid-friendly': 3.5032414910858996,\n 'snacks-sweet': 3.482260726072607,\n 'sole-and-flounder': 3.564799331103679,\n 'somalian': 3.489448051948052,\n 'soul': 3.5611916264090175,\n 'soups-stews': 5.906421105027377,\n 'sourdough': 3.585665818490246,\n 'south-african': 3.630182421227197,\n 'south-american': 3.886799693016117,\n 'south-west-pacific': 4.482485128883014,\n 'southern-united-states': 5.287949015063731,\n 'southwestern-united-states': 4.5211409395973154,\n 'soy-tofu': 3.958960843373494,\n 'spaghetti': 4.113092979127135,\n 'spaghetti-sauce': 3.4854209445585216,\n 'spanish': 3.8456349206349207,\n 'spicy': 5.567993129115374,\n 'spinach': 4.167990919409761,\n 'spreads': 3.8711566617862374,\n 'spring': 4.533465215957798,\n 'squash': 4.732558139534884,\n 'squid': 3.4828711256117457,\n 'st-patricks-day': 3.7139516757599376,\n 'steak': 3.9061085972850678,\n 'steaks': 3.9178515007898893,\n 'steam': 3.6859344894026975,\n 'stews': 4.014508928571429,\n 'stews-poultry': 3.4771371769383697,\n 'stir-fry': 4.1907600596125185,\n 'stocks': 3.6598943518894758,\n 'stove-top': 7.216734242535938,\n 'strawberries': 4.094496741491673,\n 'stuffings-dressings': 3.70933014354067,\n 'sudanese': 3.4264585045193097,\n 'sugar-cookies': 3.557798891528108,\n 'summer': 5.29106313200328,\n 'super-bowl': 3.596146283916634,\n 'superbowl': 4.00228397411496,\n 'swedish': 3.5169912180221456,\n 'sweet': 6.121490422461296,\n 'sweet-sauces': 3.5960238568588467,\n 'swiss': 3.620123203285421,\n 'szechuan': 3.580814187827489,\n 'tarts': 3.755310778914241,\n 'taste-mood': 8.54810434047946,\n 'technique': 5.368184092046023,\n 'tempeh': 3.4782982380747742,\n 'tex-mex': 4.017287744909719,\n 'thai': 3.939486786671773,\n 'thanksgiving': 4.913190912173619,\n 'tilapia': 3.5454545454545454,\n 'time-to-make': 9.239042501811157,\n 'to-go': 6.464321012057719,\n 'toddler-friendly': 4.463195114111218,\n 'tomatoes': 4.792319508448541,\n 'tropical-fruit': 4.608060933037131,\n 'trout': 3.581636892397175,\n 'tuna': 3.774588595484118,\n 'turkey': 4.3192111029948865,\n 'turkey-breasts': 3.614042207792208,\n 'turkey-burgers': 3.4989648033126293,\n 'turkish': 3.6472244569589702,\n 'unprocessed-freezer': 3.4743276283618583,\n 'valentines-day': 4.296455424274973,\n 'veal': 3.6418946508779095,\n 'vegan': 5.173015873015873,\n 'vegetables': 8.04457880713261,\n 'vegetarian': 7.17903448275862,\n 'veggie-burgers': 3.5208075813761845,\n 'venezuelan': 3.5381803411860275,\n 'very-low-carbs': 5.3870344827586205,\n 'vietnamese': 3.6010466988727856,\n 'water-bath': 3.758662369057212,\n 'wedding': 3.890139751552795,\n 'weeknight': 7.4460674157303375,\n 'welsh': 3.6353039134054956,\n 'white-rice': 3.864130434782609,\n 'whitefish': 3.5384615384615383,\n 'whole-chicken': 3.9881282152750295,\n 'whole-duck': 3.579791499599038,\n 'whole-turkey': 3.6087866108786613,\n 'wild-game': 3.706766917293233,\n 'wings': 3.793300653594771,\n 'winter': 5.4926814988290396,\n 'yams-sweet-potatoes': 4.019969856819895,\n 'yeast': 5.0594059405940595,\n 'zucchini': 3.637735849056604}"
     },
     "execution_count": 170,
     "metadata": {},
     "output_type": "execute_result"
    }
   ],
   "source": [
    "avg_num_of_steps(\"out/id_tag_nsteps_1.csv\")"
   ],
   "metadata": {
    "collapsed": false,
    "pycharm": {
     "name": "#%%\n"
    }
   }
  },
  {
   "cell_type": "markdown",
   "metadata": {},
   "source": [
    "3. Напишите функцию, которая считает среднее значение количества шагов для каждого тэга по всем файлам, полученным в задаче 1, и возвращает результат в виде словаря. Не используйте параллельных вычислений. При реализации выделите функцию, которая объединяет результаты обработки отдельных файлов. Модифицируйте код из задачи 2 таким образом, чтобы получить результат, имея результаты обработки отдельных файлов. Определите, за какое время задача решается для всех файлов."
   ]
  },
  {
   "cell_type": "code",
   "execution_count": 49,
   "outputs": [],
   "source": [
    "def avg_steps_in_all_files(file_names_list) -> dict:\n",
    "\tfrom functools import reduce\n",
    "\n",
    "\tsum_all = reduce(lambda x,y: x+y, [pd.DataFrame.from_dict(avg_num_of_steps(\"out/\" + i), orient=\"index\") for i in file_names_list])\n",
    "\tout = (sum_all / len(file_names))\n",
    "\treturn out[0].to_dict()"
   ],
   "metadata": {
    "collapsed": false,
    "pycharm": {
     "name": "#%%\n"
    }
   }
  },
  {
   "cell_type": "code",
   "execution_count": 50,
   "outputs": [
    {
     "data": {
      "text/plain": "{'1-day-or-more': 4.459966880692864,\n '15-minutes-or-less': 4.9908400335992935,\n '3-steps-or-less': 4.731775636152013,\n '30-minutes-or-less': 7.608229951710424,\n '4-hours-or-less': 10.078432046410873,\n '5-ingredients-or-less': 5.3538637919625325,\n '60-minutes-or-less': 9.416607077638588,\n 'Throw the ultimate fiesta with this sopaipillas recipe from Food.com.': 3.5167459786849373,\n 'a1-sauce': 3.5306930533445002,\n 'african': 4.369745244254025,\n 'american': 7.586744931907737,\n 'amish-mennonite': 3.5674631998442448,\n 'angolan': 3.4937118163962064,\n 'appetizers': 6.226964849131035,\n 'apples': 4.863346112891727,\n 'april-fools-day': 3.5132917106592103,\n 'argentine': 3.5672403423588306,\n 'artichoke': 3.4949008832841857,\n 'asian': 6.453290714944966,\n 'asparagus': 4.049990165155667,\n 'australian': 4.222064798196951,\n 'austrian': 3.5811518342049142,\n 'avocado': 3.5251769300832243,\n 'bacon': 4.1087102876039125,\n 'baja': 3.5394751522539223,\n 'baked-beans': 3.4906156754334616,\n 'baking': 3.6381727872519374,\n 'bananas': 4.009523733059467,\n 'bar-cookies': 4.840750154406037,\n 'barbecue': 4.595801460258986,\n 'bass': 3.543584856349954,\n 'bean-soup': 3.5004806180668107,\n 'beans': 5.485898256430882,\n 'beans-side-dishes': 3.5162888243764177,\n 'bear': 3.4958650750752147,\n 'beef': 6.929186820540259,\n 'beef-barley-soup': 3.5055083725815015,\n 'beef-crock-pot': 3.4969733198278705,\n 'beef-kidney': 3.5013343096954666,\n 'beef-liver': 3.545915844683353,\n 'beef-organ-meats': 3.5590946796123446,\n 'beef-ribs': 3.6213236766624814,\n 'beef-sauces': 3.5010266674161175,\n 'beef-sausage': 3.6705132623664536,\n 'beginner-cook': 6.3257861611920285,\n 'beijing': 3.5087292206734015,\n 'belgian': 3.570233519630975,\n 'berries': 4.99766772988551,\n 'beverages': 3.90148543944079,\n 'birthday': 3.629895462951305,\n 'biscotti': 3.739061124215282,\n 'bisques-cream-soups': 4.134704171213914,\n 'black-bean-soup': 3.4933200182755306,\n 'black-beans': 3.926171586854977,\n 'blueberries': 3.9629397536497954,\n 'bok-choys': 3.5451000176874157,\n 'brazilian': 3.594405400947569,\n 'bread-machine': 3.797125856344858,\n 'bread-pudding': 3.5047056596417194,\n 'breads': 7.147635804776104,\n 'breakfast': 6.086594760613895,\n 'breakfast-casseroles': 3.50803119273385,\n 'breakfast-eggs': 3.510731828853432,\n 'breakfast-potatoes': 3.5035983868678615,\n 'brewing': 3.534540951483992,\n 'british-columbian': 3.7137106370561077,\n 'broccoli': 4.1003189192315705,\n 'broil': 4.073753363627869,\n 'brown-bag': 4.355561517429362,\n 'brown-rice': 3.717080595285704,\n 'brownies': 3.978711062693178,\n 'brunch': 6.865287306591367,\n 'burgers': 3.5772395701337225,\n 'cabbage': 3.510438559734392,\n 'cajun': 3.915725908874447,\n 'cake-fillings-and-frostings': 3.9329214508158445,\n 'cakes': 6.735142445060158,\n 'californian': 3.744763031896146,\n 'cambodian': 3.511582206864989,\n 'camping': 3.929645646975709,\n 'canadian': 4.767289015257805,\n 'candy': 4.226251871595659,\n 'canning': 3.9591157206088505,\n 'cantonese': 3.5666990361503985,\n 'caribbean': 3.9969708219715026,\n 'carrots': 4.315710795809299,\n 'casseroles': 5.342022371955752,\n 'catfish': 3.5539452050161957,\n 'cauliflower': 3.8589838254085627,\n 'celebrity': 3.7796092797808836,\n 'central-american': 4.059277455904316,\n 'chard': 3.592078085829607,\n 'cheese': 6.529322075718256,\n 'cheesecake': 4.460979247088611,\n 'cherries': 3.7042739493933614,\n 'chick-peas-garbanzos': 3.8134067794991604,\n 'chicken': 7.316126330623858,\n 'chicken-breasts': 5.753319435361762,\n 'chicken-crock-pot': 3.5038564157549965,\n 'chicken-livers': 3.541267916008823,\n 'chicken-stew': 3.480269464017411,\n 'chicken-stews': 3.5050520155806018,\n 'chicken-thighs-legs': 4.145080672401439,\n 'chilean': 3.5249706140549133,\n 'chili': 3.9426241362776517,\n 'chinese': 4.312118306807647,\n 'chinese-new-year': 3.521605406531614,\n 'chocolate': 6.19472651983921,\n 'chocolate-chip-cookies': 3.520227764591209,\n 'chowders': 3.8441805822701287,\n 'christmas': 5.938447396845797,\n 'chutneys': 3.5601971039422335,\n 'cinco-de-mayo': 3.554993676555054,\n 'citrus': 4.55664259349819,\n 'clams': 3.6314026463912183,\n 'clear-soups': 3.697654153419084,\n 'cobblers-and-crisps': 3.9145047483415976,\n 'cocktails': 3.6210937065942685,\n 'coconut': 4.100142367698287,\n 'cod': 3.6569494741985995,\n 'coffee-cakes': 4.038961702820848,\n 'collard-greens': 3.536502635220078,\n 'college': 3.5104010919116986,\n 'colombian': 3.534398674060328,\n 'comfort-food': 7.49483428256887,\n 'condiments-etc': 4.786693624330559,\n 'congolese': 3.5001868336619633,\n 'cookies-and-brownies': 6.725713787614565,\n 'cooking-mixes': 3.6092388310112904,\n 'copycat': 4.2617664501127,\n 'corn': 4.07477791244104,\n 'costa-rican': 3.510827124617085,\n 'course': 9.278911506561062,\n 'crab': 3.953071538005791,\n 'cranberry-sauce': 3.491261848303784,\n 'crawfish': 3.5309951590400646,\n 'creole': 3.8044112949616644,\n 'crock-pot-main-dish': 3.517557617502247,\n 'crock-pot-slow-cooker': 4.700660308220886,\n 'crusts-pastry-dough-2': 3.684459337869047,\n 'cuban': 3.6010314262839245,\n 'cuisine': 9.178138637231608,\n 'cupcakes': 3.943833871103073,\n 'curries': 4.0478387754785,\n 'czech': 3.5769847368974528,\n 'dairy-free': 3.5595672093119677,\n 'danish': 3.5903157224982856,\n 'deep-fry': 4.026458421372175,\n 'deer': 3.603623631406595,\n 'dehydrator': 3.5056082739036096,\n 'desserts': 9.02801768387307,\n 'desserts-easy': 3.505648521071089,\n 'desserts-fruit': 3.5021843084984656,\n 'diabetic': 4.886561181469834,\n 'dietary': 8.848763914595448,\n 'dinner-party': 8.237155041543474,\n 'dips': 4.029822240119936,\n 'dips-lunch-snacks': 3.5122641720167858,\n 'dips-summer': 3.4924865639337073,\n 'drop-cookies': 4.390995058106862,\n 'duck': 3.6045386962316868,\n 'duck-breasts': 3.5423488294164063,\n 'dutch': 3.5769935782553643,\n 'easter': 4.455316678802361,\n 'easy': 7.251541876541679,\n 'ecuadorean': 3.512909053582918,\n 'egg-free': 4.796453966339985,\n 'eggplant': 3.5604176000663097,\n 'eggs': 5.900422897863399,\n 'eggs-breakfast': 3.481507380294408,\n 'eggs-dairy': 7.628077463661604,\n 'egyptian': 3.573319466618293,\n 'elbow-macaroni': 4.065523163008541,\n 'elk': 3.5066793238145655,\n 'english': 4.151132203437702,\n 'equipment': 8.576556907006086,\n 'ethiopian': 3.499750635540625,\n 'european': 8.023723321189024,\n 'fall': 5.567146386335988,\n 'fathers-day': 3.5024891572309156,\n 'filipino': 3.5723190877672413,\n 'fillings-and-frostings-chocolate': 3.5072895695308994,\n 'finger-food': 5.222521985889581,\n 'finnish': 3.561141616251072,\n 'fish': 5.299549803490051,\n 'flat-shapes': 3.8386997366526696,\n 'food-processor-blender': 4.482034121879816,\n 'for-1-or-2': 5.472279215760226,\n 'for-large-groups': 7.294141110347821,\n 'for-large-groups-holiday-event': 3.51836228925511,\n 'free-of-something': 5.7198884086660335,\n 'freezer': 4.035405239317,\n 'french': 4.483253960742542,\n 'freshwater-fish': 3.8388703341816237,\n 'from-scratch': 4.737215137359327,\n 'frozen-desserts': 4.04561511470752,\n 'fruit': 7.323416376725767,\n 'fudge': 3.7255003409435163,\n 'garnishes': 3.615836312969098,\n 'gelatin': 3.739027167928726,\n 'georgian': 3.5042759375521597,\n 'german': 4.056926712175318,\n 'gifts': 5.5745346058428105,\n 'gluten-free': 4.804425294858953,\n 'goose': 3.512089520541677,\n 'grains': 5.1997139197020275,\n 'granola-and-porridge': 3.7435005743488574,\n 'grapes': 3.5656800083047524,\n 'greek': 4.335903539303139,\n 'green-yellow-beans': 3.8708858612456702,\n 'greens': 4.666095716353545,\n 'grilling': 4.786987303650963,\n 'ground-beef': 5.524575926471861,\n 'guatemalan': 3.495978497180245,\n 'gumbo': 3.602230238048617,\n 'halibut': 3.6198171483615944,\n 'halloween': 3.741600634834569,\n 'halloween-cakes': 3.4934747595963165,\n 'halloween-cocktails': 3.5138411033121493,\n 'halloween-cupcakes': 3.500121283585467,\n 'ham': 4.034838857531263,\n 'ham-and-bean-soup': 3.50128321056807,\n 'hand-formed-cookies': 4.2613842542098554,\n 'hanukkah': 3.773451357897329,\n 'hawaiian': 3.6301384475930103,\n 'healthy': 7.084054095357629,\n 'healthy-2': 6.390307281146132,\n 'heirloom-historical': 5.06430072209948,\n 'heirloom-historical-recipes': 3.5200715052401454,\n 'herb-and-spice-mixes': 3.5482721953111986,\n 'hidden-valley-ranch': 3.562682089300557,\n 'high-calcium': 4.511865311101162,\n 'high-fiber': 3.512985065033887,\n 'high-in-something': 5.463312584021627,\n 'high-in-something-diabetic-friendly': 3.497475148652117,\n 'high-protein': 5.008237641415882,\n 'holiday-event': 8.31571702757843,\n 'honduran': 3.5102467368974803,\n 'hunan': 3.5160983017867626,\n 'hungarian': 3.6683262776302086,\n 'ice-cream': 3.524206895626584,\n 'icelandic': 3.5020135106569144,\n 'independence-day': 4.0971873365944464,\n 'indian': 4.469041710092329,\n 'indonesian': 3.584207291064396,\n 'inexpensive': 6.925079375349785,\n 'infant-baby-friendly': 3.6149426188270324,\n 'iranian-persian': 3.623228508537874,\n 'iraqi': 3.53023823284036,\n 'irish': 3.7664068422432253,\n 'irish-st-patricks-day': 3.5155828033300143,\n 'italian': 5.884051578075327,\n 'jams-and-preserves': 3.846455689745701,\n 'japanese': 3.793742423742246,\n 'jellies': 3.5745105202167147,\n 'jewish-ashkenazi': 3.7860243779798295,\n 'jewish-sephardi': 3.565968773219175,\n 'kid-friendly': 7.093640731621531,\n 'kiwifruit': 3.5307380369737964,\n 'korean': 3.5786883025112455,\n 'kosher': 4.828203693558025,\n 'kwanzaa': 3.6083879902160243,\n 'labor-day': 3.519650770338047,\n 'lactose': 4.539380887073266,\n 'lamb-sheep': 4.130112413066484,\n 'lamb-sheep-main-dish': 3.495674937010793,\n 'laotian': 3.4952135680288383,\n 'lasagna': 4.103487339677166,\n 'lasagne': 3.513608035819257,\n 'lebanese': 3.6232085868702923,\n 'leftovers': 3.628394455286667,\n 'lemon': 4.116279960945941,\n 'lentils': 3.9259618469289594,\n 'less_thansql:name_topics_of_recipegreater_than': 3.517601620975554,\n 'lettuces': 3.7239733653083884,\n 'libyan': 3.4695537565663073,\n 'lime': 3.6804146470836026,\n 'lobster': 3.5942323079256315,\n 'long-grain-rice': 3.9468095994041503,\n 'low-calorie': 6.734330166151794,\n 'low-carb': 7.256149922812117,\n 'low-cholesterol': 6.619801485216522,\n 'low-fat': 5.943183388314464,\n 'low-in-something': 8.063213120575293,\n 'low-protein': 6.3041631625941745,\n 'low-saturated-fat': 6.499446318075944,\n 'low-sodium': 7.3848104741063505,\n 'lunch': 6.675760055958243,\n 'macaroni-and-cheese': 3.532416218609726,\n 'mahi-mahi': 3.534218640113685,\n 'main-dish': 9.443036615441361,\n 'main-dish-beef': 3.515694362248455,\n 'main-dish-chicken': 3.508114151146669,\n 'main-dish-pasta': 3.5107257234354425,\n 'main-dish-pork': 3.516203564617564,\n 'main-dish-seafood': 3.5030840627590822,\n 'main-ingredient': 9.314949495483607,\n 'malaysian': 3.5760113697917144,\n 'mango': 3.676548171538615,\n 'manicotti': 3.6146504437641327,\n 'mardi-gras-carnival': 3.6012817428738164,\n 'marinades-and-rubs': 3.588766495463709,\n 'marinara-sauce': 3.519799299307797,\n 'mashed-potatoes': 3.5294973907111062,\n 'meat': 8.914957389939135,\n 'meatballs': 3.5445316393654513,\n 'meatloaf': 3.5539658902441715,\n 'medium-grain-rice': 3.5569921404067055,\n 'melons': 3.6171388687224315,\n 'memorial-day': 3.5258401060481015,\n 'mexican': 5.300503394926179,\n 'micro-melanesia': 3.5191595887030287,\n 'microwave': 4.075959843604102,\n 'middle-eastern': 4.1920647486416485,\n 'middle-eastern-main-dish': 3.4841512151759835,\n 'midwestern': 4.388364223870091,\n 'mixer': 4.297559759688619,\n 'mongolian': 3.522325681547077,\n 'moose': 3.525428603952486,\n 'moroccan': 3.8279094903000432,\n 'mothers-day': 3.5576899040129497,\n 'muffins': 4.297847097848846,\n 'mushroom-soup': 3.4819155990551014,\n 'mushrooms': 4.6605280986262505,\n 'mussels': 3.592917195425411,\n 'namibian': 3.5104003515998645,\n 'native-american': 3.573147913857918,\n 'nepalese': 3.521740820963608,\n 'new-years': 4.313732058024016,\n 'new-zealand': 3.67851241396295,\n 'nigerian': 3.4890795006515773,\n 'no-cook': 3.9580792039557338,\n 'no-shell-fish': 3.5654630676564674,\n 'non-alcoholic': 3.524950699238288,\n 'north-american': 8.201726910070947,\n 'northeastern-united-states': 4.321441866667386,\n 'norwegian': 3.5634098928872158,\n 'novelty': 4.809435010627016,\n 'number-of-servings': 7.853297589920051,\n 'nut-free': 3.582685082204017,\n 'nuts': 5.493880233547541,\n 'oamc-freezer-make-ahead': 5.096092511922979,\n 'oatmeal': 3.503307027259209,\n 'oaxacan': 3.5254923991412515,\n 'occasion': 9.143234338348199,\n 'octopus': 3.497017113697767,\n 'omelets-and-frittatas': 3.9493566965729485,\n 'one-dish-meal': 7.008896182302598,\n 'onions': 5.006458753504526,\n 'ontario': 3.735194446700087,\n 'orange-roughy': 3.509027332623849,\n 'oranges': 3.8941043337424004,\n 'oven': 8.355707094847304,\n 'oysters': 3.5718828208944102,\n 'pacific-northwest': 3.7621406331265033,\n 'pakistani': 3.5568094636795475,\n 'palestinian': 3.524224660716353,\n 'pancakes-and-waffles': 4.167544271641982,\n 'papaya': 3.5523274391679673,\n 'passover': 3.6509660776743873,\n 'pasta': 6.59731438962665,\n 'pasta-elbow-macaroni': 3.489011514908332,\n 'pasta-rice-and-grains': 7.787233403697369,\n 'pasta-rice-and-grains-elbow-macaroni': 3.495510856147726,\n 'pasta-salad': 3.5063491972808447,\n 'pasta-shells': 3.6943917831100075,\n 'peaches': 3.77565088666487,\n 'peanut-butter': 3.5861297496967244,\n 'pears': 3.7617255061475223,\n 'penne': 3.953951331992502,\n 'pennsylvania-dutch': 3.5542972263666055,\n 'peppers': 4.512900416401622,\n 'perch': 3.49320334014666,\n 'peruvian': 3.5630182217865167,\n 'pheasant': 3.523091624141991,\n 'pickeral': 3.4935760340306756,\n 'picnic': 5.05599726218189,\n 'pies': 4.697168929626202,\n 'pies-and-tarts': 5.251503542048709,\n 'pineapple': 3.9746440771648057,\n 'pitted-fruit': 4.118468101512674,\n 'pizza': 4.149506588001121,\n 'plums': 3.564821152880654,\n 'polish': 3.6841272685278184,\n 'polynesian': 3.552943397207589,\n 'pork': 6.4431944392440785,\n 'pork-chops': 4.04870325333321,\n 'pork-crock-pot': 3.508651507543993,\n 'pork-loin': 3.487997487968194,\n 'pork-loins': 4.014578146293444,\n 'pork-loins-roast': 3.511886388481718,\n 'pork-ribs': 3.7114649478829946,\n 'pork-sausage': 4.263846503412724,\n 'portuguese': 3.6396812407586467,\n 'pot-pie': 3.5062238948842768,\n 'pot-roast': 3.486609420224026,\n 'potatoes': 5.88708768660874,\n 'potluck': 5.757653729695106,\n 'poultry': 7.670570251095926,\n 'preparation': 9.299027776323925,\n 'prepared-potatoes': 3.5123839569158233,\n 'presentation': 7.179378704622339,\n 'pressure-canning': 3.5390335352457014,\n 'pressure-cooker': 3.6702395264703997,\n 'puddings-and-mousses': 4.316533277652483,\n 'puerto-rican': 3.5406214604753385,\n 'pumpkin': 3.555517489488367,\n 'pumpkin-bread': 3.5096210479964096,\n 'punch': 3.595210233714715,\n 'quail': 3.5003212880646446,\n 'quebec': 3.576565972144701,\n 'quiche': 3.5357268446596395,\n 'quick-breads': 5.062586255130547,\n 'rabbit': 3.5264605049821296,\n 'ragu-recipe-contest': 3.5022376869919953,\n 'ramadan': 3.6016213958232246,\n 'raspberries': 3.9222517211807193,\n 'ravioli-tortellini': 3.7462616274601723,\n 'refrigerator': 4.708824356753004,\n 'reynolds-wrap': 3.5678458884688053,\n 'rice': 5.141026121247121,\n 'roast': 4.021305726493098,\n 'roast-beef': 4.018030532186639,\n 'roast-beef-comfort-food': 3.497490581127451,\n 'roast-beef-main-dish': 3.525347637241681,\n 'rolled-cookies': 3.9355316285903874,\n 'rolls-biscuits': 4.377774289351985,\n 'romantic': 5.164765802518185,\n 'rosh-hashana': 3.695316380843902,\n 'rosh-hashanah': 3.532752778771809,\n 'russian': 3.7007018209330025,\n 'salad-dressings': 3.718044248322464,\n 'salads': 5.059388305919109,\n 'salmon': 4.200072750764429,\n 'salsas': 3.6126120191076425,\n 'saltwater-fish': 4.827757473960418,\n 'sandwiches': 4.795501053272056,\n 'sauces': 4.234746436882139,\n 'saudi-arabian': 3.527716599273674,\n 'savory': 6.036563703479249,\n 'savory-pies': 4.296135668046658,\n 'savory-sauces': 3.8055599322281948,\n 'scallops': 3.7759343010174606,\n 'scandinavian': 3.9509927183270226,\n 'scones': 3.8076827584596247,\n 'scottish': 3.7957046130021683,\n 'seafood': 6.373473360568129,\n 'seasonal': 6.817063103279979,\n 'served-cold': 4.92423873806121,\n 'served-hot': 6.443462625455739,\n 'served-hot-new-years': 3.5083822265098514,\n 'shakes': 3.527646876769346,\n 'shellfish': 5.4049342936537075,\n 'short-grain-rice': 3.6910008643694354,\n 'shrimp': 4.855171732875062,\n 'shrimp-main-dish': 3.493749339635583,\n 'side-dishes': 6.672185241956969,\n 'side-dishes-beans': 3.4993477725339193,\n 'simply-potatoes': 3.6317496760823698,\n 'simply-potatoes2': 3.511327718207898,\n 'small-appliance': 5.2354881814548815,\n 'smoker': 3.5803049491379064,\n 'smoothies': 3.487701068744485,\n 'snacks': 4.966517389712491,\n 'snacks-kid-friendly': 3.503626133939763,\n 'snacks-sweet': 3.4956611632367376,\n 'sole-and-flounder': 3.5822054364813187,\n 'somalian': 3.520011692676361,\n 'soul': 3.562865203631226,\n 'soups-stews': 5.92918196347738,\n 'sourdough': 3.5973069972547544,\n 'south-african': 3.6265303610210387,\n 'south-american': 3.940786212822758,\n 'south-west-pacific': 4.421643211134972,\n 'southern-united-states': 5.229041254871064,\n 'southwestern-united-states': 4.496803923660718,\n 'soy-tofu': 3.9304219157216287,\n 'spaghetti': 4.089657782277589,\n 'spaghetti-sauce': 3.5094835121086447,\n 'spanish': 3.868305515258901,\n 'spicy': 5.453909830261334,\n 'spinach': 4.186845891766746,\n 'spreads': 3.846838946810597,\n 'spring': 4.5324102888690145,\n 'squash': 4.692220705127862,\n 'squid': 3.549376556136407,\n 'st-patricks-day': 3.7655528753564216,\n 'steak': 3.9141589319036085,\n 'steaks': 3.874950755433068,\n 'steam': 3.682242940149743,\n 'stews': 4.124724138948106,\n 'stews-poultry': 3.4854914828972,\n 'stir-fry': 4.16937975315211,\n 'stocks': 3.6250686606418516,\n 'stove-top': 7.258081381334086,\n 'strawberries': 4.112420526590251,\n 'stuffings-dressings': 3.71907799325016,\n 'sudanese': 3.4989589382201083,\n 'sugar-cookies': 3.5400602398966297,\n 'summer': 5.3059939003851095,\n 'super-bowl': 3.5802435086771416,\n 'superbowl': 4.051295893330369,\n 'swedish': 3.6244738728243915,\n 'sweet': 6.075171209514574,\n 'sweet-sauces': 3.620478064716459,\n 'swiss': 3.6452320015229063,\n 'szechuan': 3.5482299393617733,\n 'tarts': 3.750146922579391,\n 'taste-mood': 8.457659028919458,\n 'technique': 5.342679884327002,\n 'tempeh': 3.524607704098996,\n 'tex-mex': 3.952490369236837,\n 'thai': 3.8980133466899654,\n 'thanksgiving': 4.9678909402987355,\n 'tilapia': 3.6147919536410305,\n 'time-to-make': 9.283614509910263,\n 'to-go': 6.445117891413486,\n 'toddler-friendly': 4.590897601507302,\n 'tomatoes': 4.860799615136012,\n 'tropical-fruit': 4.598357531420778,\n 'trout': 3.5616226951049264,\n 'tuna': 3.858375734682028,\n 'turkey': 4.416953071153548,\n 'turkey-breasts': 3.631796166746661,\n 'turkey-burgers': 3.4894075851125868,\n 'turkish': 3.6209891891898334,\n 'unprocessed-freezer': 3.518390867714424,\n 'valentines-day': 4.467217940188746,\n 'veal': 3.6848032615466924,\n 'vegan': 5.18976144254621,\n 'vegetables': 8.084850262490352,\n 'vegetarian': 7.215549516730244,\n 'veggie-burgers': 3.511122049707742,\n 'venezuelan': 3.497650271423681,\n 'very-low-carbs': 5.322554162067173,\n 'vietnamese': 3.6667020160599035,\n 'water-bath': 3.7396764032259613,\n 'wedding': 3.9156097912788783,\n 'weeknight': 7.4092860892279955,\n 'welsh': 3.591387028984651,\n 'white-rice': 3.8430885480134602,\n 'whitefish': 3.5173716215151773,\n 'whole-chicken': 4.03839080757738,\n 'whole-duck': 3.5425636362556854,\n 'whole-turkey': 3.695207179537358,\n 'wild-game': 3.692160190606341,\n 'wings': 3.7040751015197273,\n 'winter': 5.50567941083986,\n 'yams-sweet-potatoes': 4.012433737658445,\n 'yeast': 5.186131126756895,\n 'zucchini': 3.590985915644892}"
     },
     "execution_count": 50,
     "metadata": {},
     "output_type": "execute_result"
    }
   ],
   "source": [
    "avg_steps_in_all_files(file_names)"
   ],
   "metadata": {
    "collapsed": false,
    "pycharm": {
     "name": "#%%\n"
    }
   }
  },
  {
   "cell_type": "code",
   "execution_count": 102,
   "outputs": [
    {
     "name": "stdout",
     "output_type": "stream",
     "text": [
      "3.29 s ± 50.6 ms per loop (mean ± std. dev. of 7 runs, 1 loop each)\n"
     ]
    }
   ],
   "source": [
    "%timeit avg_steps_in_all_files(file_names)"
   ],
   "metadata": {
    "collapsed": false,
    "pycharm": {
     "name": "#%%\n"
    }
   }
  },
  {
   "cell_type": "code",
   "execution_count": 53,
   "outputs": [
    {
     "name": "stdout",
     "output_type": "stream",
     "text": [
      "Wall time: 3.42 s\n"
     ]
    },
    {
     "data": {
      "text/plain": "{'1-day-or-more': 4.459966880692864,\n '15-minutes-or-less': 4.9908400335992935,\n '3-steps-or-less': 4.731775636152013,\n '30-minutes-or-less': 7.608229951710424,\n '4-hours-or-less': 10.078432046410873,\n '5-ingredients-or-less': 5.3538637919625325,\n '60-minutes-or-less': 9.416607077638588,\n 'Throw the ultimate fiesta with this sopaipillas recipe from Food.com.': 3.5167459786849373,\n 'a1-sauce': 3.5306930533445002,\n 'african': 4.369745244254025,\n 'american': 7.586744931907737,\n 'amish-mennonite': 3.5674631998442448,\n 'angolan': 3.4937118163962064,\n 'appetizers': 6.226964849131035,\n 'apples': 4.863346112891727,\n 'april-fools-day': 3.5132917106592103,\n 'argentine': 3.5672403423588306,\n 'artichoke': 3.4949008832841857,\n 'asian': 6.453290714944966,\n 'asparagus': 4.049990165155667,\n 'australian': 4.222064798196951,\n 'austrian': 3.5811518342049142,\n 'avocado': 3.5251769300832243,\n 'bacon': 4.1087102876039125,\n 'baja': 3.5394751522539223,\n 'baked-beans': 3.4906156754334616,\n 'baking': 3.6381727872519374,\n 'bananas': 4.009523733059467,\n 'bar-cookies': 4.840750154406037,\n 'barbecue': 4.595801460258986,\n 'bass': 3.543584856349954,\n 'bean-soup': 3.5004806180668107,\n 'beans': 5.485898256430882,\n 'beans-side-dishes': 3.5162888243764177,\n 'bear': 3.4958650750752147,\n 'beef': 6.929186820540259,\n 'beef-barley-soup': 3.5055083725815015,\n 'beef-crock-pot': 3.4969733198278705,\n 'beef-kidney': 3.5013343096954666,\n 'beef-liver': 3.545915844683353,\n 'beef-organ-meats': 3.5590946796123446,\n 'beef-ribs': 3.6213236766624814,\n 'beef-sauces': 3.5010266674161175,\n 'beef-sausage': 3.6705132623664536,\n 'beginner-cook': 6.3257861611920285,\n 'beijing': 3.5087292206734015,\n 'belgian': 3.570233519630975,\n 'berries': 4.99766772988551,\n 'beverages': 3.90148543944079,\n 'birthday': 3.629895462951305,\n 'biscotti': 3.739061124215282,\n 'bisques-cream-soups': 4.134704171213914,\n 'black-bean-soup': 3.4933200182755306,\n 'black-beans': 3.926171586854977,\n 'blueberries': 3.9629397536497954,\n 'bok-choys': 3.5451000176874157,\n 'brazilian': 3.594405400947569,\n 'bread-machine': 3.797125856344858,\n 'bread-pudding': 3.5047056596417194,\n 'breads': 7.147635804776104,\n 'breakfast': 6.086594760613895,\n 'breakfast-casseroles': 3.50803119273385,\n 'breakfast-eggs': 3.510731828853432,\n 'breakfast-potatoes': 3.5035983868678615,\n 'brewing': 3.534540951483992,\n 'british-columbian': 3.7137106370561077,\n 'broccoli': 4.1003189192315705,\n 'broil': 4.073753363627869,\n 'brown-bag': 4.355561517429362,\n 'brown-rice': 3.717080595285704,\n 'brownies': 3.978711062693178,\n 'brunch': 6.865287306591367,\n 'burgers': 3.5772395701337225,\n 'cabbage': 3.510438559734392,\n 'cajun': 3.915725908874447,\n 'cake-fillings-and-frostings': 3.9329214508158445,\n 'cakes': 6.735142445060158,\n 'californian': 3.744763031896146,\n 'cambodian': 3.511582206864989,\n 'camping': 3.929645646975709,\n 'canadian': 4.767289015257805,\n 'candy': 4.226251871595659,\n 'canning': 3.9591157206088505,\n 'cantonese': 3.5666990361503985,\n 'caribbean': 3.9969708219715026,\n 'carrots': 4.315710795809299,\n 'casseroles': 5.342022371955752,\n 'catfish': 3.5539452050161957,\n 'cauliflower': 3.8589838254085627,\n 'celebrity': 3.7796092797808836,\n 'central-american': 4.059277455904316,\n 'chard': 3.592078085829607,\n 'cheese': 6.529322075718256,\n 'cheesecake': 4.460979247088611,\n 'cherries': 3.7042739493933614,\n 'chick-peas-garbanzos': 3.8134067794991604,\n 'chicken': 7.316126330623858,\n 'chicken-breasts': 5.753319435361762,\n 'chicken-crock-pot': 3.5038564157549965,\n 'chicken-livers': 3.541267916008823,\n 'chicken-stew': 3.480269464017411,\n 'chicken-stews': 3.5050520155806018,\n 'chicken-thighs-legs': 4.145080672401439,\n 'chilean': 3.5249706140549133,\n 'chili': 3.9426241362776517,\n 'chinese': 4.312118306807647,\n 'chinese-new-year': 3.521605406531614,\n 'chocolate': 6.19472651983921,\n 'chocolate-chip-cookies': 3.520227764591209,\n 'chowders': 3.8441805822701287,\n 'christmas': 5.938447396845797,\n 'chutneys': 3.5601971039422335,\n 'cinco-de-mayo': 3.554993676555054,\n 'citrus': 4.55664259349819,\n 'clams': 3.6314026463912183,\n 'clear-soups': 3.697654153419084,\n 'cobblers-and-crisps': 3.9145047483415976,\n 'cocktails': 3.6210937065942685,\n 'coconut': 4.100142367698287,\n 'cod': 3.6569494741985995,\n 'coffee-cakes': 4.038961702820848,\n 'collard-greens': 3.536502635220078,\n 'college': 3.5104010919116986,\n 'colombian': 3.534398674060328,\n 'comfort-food': 7.49483428256887,\n 'condiments-etc': 4.786693624330559,\n 'congolese': 3.5001868336619633,\n 'cookies-and-brownies': 6.725713787614565,\n 'cooking-mixes': 3.6092388310112904,\n 'copycat': 4.2617664501127,\n 'corn': 4.07477791244104,\n 'costa-rican': 3.510827124617085,\n 'course': 9.278911506561062,\n 'crab': 3.953071538005791,\n 'cranberry-sauce': 3.491261848303784,\n 'crawfish': 3.5309951590400646,\n 'creole': 3.8044112949616644,\n 'crock-pot-main-dish': 3.517557617502247,\n 'crock-pot-slow-cooker': 4.700660308220886,\n 'crusts-pastry-dough-2': 3.684459337869047,\n 'cuban': 3.6010314262839245,\n 'cuisine': 9.178138637231608,\n 'cupcakes': 3.943833871103073,\n 'curries': 4.0478387754785,\n 'czech': 3.5769847368974528,\n 'dairy-free': 3.5595672093119677,\n 'danish': 3.5903157224982856,\n 'deep-fry': 4.026458421372175,\n 'deer': 3.603623631406595,\n 'dehydrator': 3.5056082739036096,\n 'desserts': 9.02801768387307,\n 'desserts-easy': 3.505648521071089,\n 'desserts-fruit': 3.5021843084984656,\n 'diabetic': 4.886561181469834,\n 'dietary': 8.848763914595448,\n 'dinner-party': 8.237155041543474,\n 'dips': 4.029822240119936,\n 'dips-lunch-snacks': 3.5122641720167858,\n 'dips-summer': 3.4924865639337073,\n 'drop-cookies': 4.390995058106862,\n 'duck': 3.6045386962316868,\n 'duck-breasts': 3.5423488294164063,\n 'dutch': 3.5769935782553643,\n 'easter': 4.455316678802361,\n 'easy': 7.251541876541679,\n 'ecuadorean': 3.512909053582918,\n 'egg-free': 4.796453966339985,\n 'eggplant': 3.5604176000663097,\n 'eggs': 5.900422897863399,\n 'eggs-breakfast': 3.481507380294408,\n 'eggs-dairy': 7.628077463661604,\n 'egyptian': 3.573319466618293,\n 'elbow-macaroni': 4.065523163008541,\n 'elk': 3.5066793238145655,\n 'english': 4.151132203437702,\n 'equipment': 8.576556907006086,\n 'ethiopian': 3.499750635540625,\n 'european': 8.023723321189024,\n 'fall': 5.567146386335988,\n 'fathers-day': 3.5024891572309156,\n 'filipino': 3.5723190877672413,\n 'fillings-and-frostings-chocolate': 3.5072895695308994,\n 'finger-food': 5.222521985889581,\n 'finnish': 3.561141616251072,\n 'fish': 5.299549803490051,\n 'flat-shapes': 3.8386997366526696,\n 'food-processor-blender': 4.482034121879816,\n 'for-1-or-2': 5.472279215760226,\n 'for-large-groups': 7.294141110347821,\n 'for-large-groups-holiday-event': 3.51836228925511,\n 'free-of-something': 5.7198884086660335,\n 'freezer': 4.035405239317,\n 'french': 4.483253960742542,\n 'freshwater-fish': 3.8388703341816237,\n 'from-scratch': 4.737215137359327,\n 'frozen-desserts': 4.04561511470752,\n 'fruit': 7.323416376725767,\n 'fudge': 3.7255003409435163,\n 'garnishes': 3.615836312969098,\n 'gelatin': 3.739027167928726,\n 'georgian': 3.5042759375521597,\n 'german': 4.056926712175318,\n 'gifts': 5.5745346058428105,\n 'gluten-free': 4.804425294858953,\n 'goose': 3.512089520541677,\n 'grains': 5.1997139197020275,\n 'granola-and-porridge': 3.7435005743488574,\n 'grapes': 3.5656800083047524,\n 'greek': 4.335903539303139,\n 'green-yellow-beans': 3.8708858612456702,\n 'greens': 4.666095716353545,\n 'grilling': 4.786987303650963,\n 'ground-beef': 5.524575926471861,\n 'guatemalan': 3.495978497180245,\n 'gumbo': 3.602230238048617,\n 'halibut': 3.6198171483615944,\n 'halloween': 3.741600634834569,\n 'halloween-cakes': 3.4934747595963165,\n 'halloween-cocktails': 3.5138411033121493,\n 'halloween-cupcakes': 3.500121283585467,\n 'ham': 4.034838857531263,\n 'ham-and-bean-soup': 3.50128321056807,\n 'hand-formed-cookies': 4.2613842542098554,\n 'hanukkah': 3.773451357897329,\n 'hawaiian': 3.6301384475930103,\n 'healthy': 7.084054095357629,\n 'healthy-2': 6.390307281146132,\n 'heirloom-historical': 5.06430072209948,\n 'heirloom-historical-recipes': 3.5200715052401454,\n 'herb-and-spice-mixes': 3.5482721953111986,\n 'hidden-valley-ranch': 3.562682089300557,\n 'high-calcium': 4.511865311101162,\n 'high-fiber': 3.512985065033887,\n 'high-in-something': 5.463312584021627,\n 'high-in-something-diabetic-friendly': 3.497475148652117,\n 'high-protein': 5.008237641415882,\n 'holiday-event': 8.31571702757843,\n 'honduran': 3.5102467368974803,\n 'hunan': 3.5160983017867626,\n 'hungarian': 3.6683262776302086,\n 'ice-cream': 3.524206895626584,\n 'icelandic': 3.5020135106569144,\n 'independence-day': 4.0971873365944464,\n 'indian': 4.469041710092329,\n 'indonesian': 3.584207291064396,\n 'inexpensive': 6.925079375349785,\n 'infant-baby-friendly': 3.6149426188270324,\n 'iranian-persian': 3.623228508537874,\n 'iraqi': 3.53023823284036,\n 'irish': 3.7664068422432253,\n 'irish-st-patricks-day': 3.5155828033300143,\n 'italian': 5.884051578075327,\n 'jams-and-preserves': 3.846455689745701,\n 'japanese': 3.793742423742246,\n 'jellies': 3.5745105202167147,\n 'jewish-ashkenazi': 3.7860243779798295,\n 'jewish-sephardi': 3.565968773219175,\n 'kid-friendly': 7.093640731621531,\n 'kiwifruit': 3.5307380369737964,\n 'korean': 3.5786883025112455,\n 'kosher': 4.828203693558025,\n 'kwanzaa': 3.6083879902160243,\n 'labor-day': 3.519650770338047,\n 'lactose': 4.539380887073266,\n 'lamb-sheep': 4.130112413066484,\n 'lamb-sheep-main-dish': 3.495674937010793,\n 'laotian': 3.4952135680288383,\n 'lasagna': 4.103487339677166,\n 'lasagne': 3.513608035819257,\n 'lebanese': 3.6232085868702923,\n 'leftovers': 3.628394455286667,\n 'lemon': 4.116279960945941,\n 'lentils': 3.9259618469289594,\n 'less_thansql:name_topics_of_recipegreater_than': 3.517601620975554,\n 'lettuces': 3.7239733653083884,\n 'libyan': 3.4695537565663073,\n 'lime': 3.6804146470836026,\n 'lobster': 3.5942323079256315,\n 'long-grain-rice': 3.9468095994041503,\n 'low-calorie': 6.734330166151794,\n 'low-carb': 7.256149922812117,\n 'low-cholesterol': 6.619801485216522,\n 'low-fat': 5.943183388314464,\n 'low-in-something': 8.063213120575293,\n 'low-protein': 6.3041631625941745,\n 'low-saturated-fat': 6.499446318075944,\n 'low-sodium': 7.3848104741063505,\n 'lunch': 6.675760055958243,\n 'macaroni-and-cheese': 3.532416218609726,\n 'mahi-mahi': 3.534218640113685,\n 'main-dish': 9.443036615441361,\n 'main-dish-beef': 3.515694362248455,\n 'main-dish-chicken': 3.508114151146669,\n 'main-dish-pasta': 3.5107257234354425,\n 'main-dish-pork': 3.516203564617564,\n 'main-dish-seafood': 3.5030840627590822,\n 'main-ingredient': 9.314949495483607,\n 'malaysian': 3.5760113697917144,\n 'mango': 3.676548171538615,\n 'manicotti': 3.6146504437641327,\n 'mardi-gras-carnival': 3.6012817428738164,\n 'marinades-and-rubs': 3.588766495463709,\n 'marinara-sauce': 3.519799299307797,\n 'mashed-potatoes': 3.5294973907111062,\n 'meat': 8.914957389939135,\n 'meatballs': 3.5445316393654513,\n 'meatloaf': 3.5539658902441715,\n 'medium-grain-rice': 3.5569921404067055,\n 'melons': 3.6171388687224315,\n 'memorial-day': 3.5258401060481015,\n 'mexican': 5.300503394926179,\n 'micro-melanesia': 3.5191595887030287,\n 'microwave': 4.075959843604102,\n 'middle-eastern': 4.1920647486416485,\n 'middle-eastern-main-dish': 3.4841512151759835,\n 'midwestern': 4.388364223870091,\n 'mixer': 4.297559759688619,\n 'mongolian': 3.522325681547077,\n 'moose': 3.525428603952486,\n 'moroccan': 3.8279094903000432,\n 'mothers-day': 3.5576899040129497,\n 'muffins': 4.297847097848846,\n 'mushroom-soup': 3.4819155990551014,\n 'mushrooms': 4.6605280986262505,\n 'mussels': 3.592917195425411,\n 'namibian': 3.5104003515998645,\n 'native-american': 3.573147913857918,\n 'nepalese': 3.521740820963608,\n 'new-years': 4.313732058024016,\n 'new-zealand': 3.67851241396295,\n 'nigerian': 3.4890795006515773,\n 'no-cook': 3.9580792039557338,\n 'no-shell-fish': 3.5654630676564674,\n 'non-alcoholic': 3.524950699238288,\n 'north-american': 8.201726910070947,\n 'northeastern-united-states': 4.321441866667386,\n 'norwegian': 3.5634098928872158,\n 'novelty': 4.809435010627016,\n 'number-of-servings': 7.853297589920051,\n 'nut-free': 3.582685082204017,\n 'nuts': 5.493880233547541,\n 'oamc-freezer-make-ahead': 5.096092511922979,\n 'oatmeal': 3.503307027259209,\n 'oaxacan': 3.5254923991412515,\n 'occasion': 9.143234338348199,\n 'octopus': 3.497017113697767,\n 'omelets-and-frittatas': 3.9493566965729485,\n 'one-dish-meal': 7.008896182302598,\n 'onions': 5.006458753504526,\n 'ontario': 3.735194446700087,\n 'orange-roughy': 3.509027332623849,\n 'oranges': 3.8941043337424004,\n 'oven': 8.355707094847304,\n 'oysters': 3.5718828208944102,\n 'pacific-northwest': 3.7621406331265033,\n 'pakistani': 3.5568094636795475,\n 'palestinian': 3.524224660716353,\n 'pancakes-and-waffles': 4.167544271641982,\n 'papaya': 3.5523274391679673,\n 'passover': 3.6509660776743873,\n 'pasta': 6.59731438962665,\n 'pasta-elbow-macaroni': 3.489011514908332,\n 'pasta-rice-and-grains': 7.787233403697369,\n 'pasta-rice-and-grains-elbow-macaroni': 3.495510856147726,\n 'pasta-salad': 3.5063491972808447,\n 'pasta-shells': 3.6943917831100075,\n 'peaches': 3.77565088666487,\n 'peanut-butter': 3.5861297496967244,\n 'pears': 3.7617255061475223,\n 'penne': 3.953951331992502,\n 'pennsylvania-dutch': 3.5542972263666055,\n 'peppers': 4.512900416401622,\n 'perch': 3.49320334014666,\n 'peruvian': 3.5630182217865167,\n 'pheasant': 3.523091624141991,\n 'pickeral': 3.4935760340306756,\n 'picnic': 5.05599726218189,\n 'pies': 4.697168929626202,\n 'pies-and-tarts': 5.251503542048709,\n 'pineapple': 3.9746440771648057,\n 'pitted-fruit': 4.118468101512674,\n 'pizza': 4.149506588001121,\n 'plums': 3.564821152880654,\n 'polish': 3.6841272685278184,\n 'polynesian': 3.552943397207589,\n 'pork': 6.4431944392440785,\n 'pork-chops': 4.04870325333321,\n 'pork-crock-pot': 3.508651507543993,\n 'pork-loin': 3.487997487968194,\n 'pork-loins': 4.014578146293444,\n 'pork-loins-roast': 3.511886388481718,\n 'pork-ribs': 3.7114649478829946,\n 'pork-sausage': 4.263846503412724,\n 'portuguese': 3.6396812407586467,\n 'pot-pie': 3.5062238948842768,\n 'pot-roast': 3.486609420224026,\n 'potatoes': 5.88708768660874,\n 'potluck': 5.757653729695106,\n 'poultry': 7.670570251095926,\n 'preparation': 9.299027776323925,\n 'prepared-potatoes': 3.5123839569158233,\n 'presentation': 7.179378704622339,\n 'pressure-canning': 3.5390335352457014,\n 'pressure-cooker': 3.6702395264703997,\n 'puddings-and-mousses': 4.316533277652483,\n 'puerto-rican': 3.5406214604753385,\n 'pumpkin': 3.555517489488367,\n 'pumpkin-bread': 3.5096210479964096,\n 'punch': 3.595210233714715,\n 'quail': 3.5003212880646446,\n 'quebec': 3.576565972144701,\n 'quiche': 3.5357268446596395,\n 'quick-breads': 5.062586255130547,\n 'rabbit': 3.5264605049821296,\n 'ragu-recipe-contest': 3.5022376869919953,\n 'ramadan': 3.6016213958232246,\n 'raspberries': 3.9222517211807193,\n 'ravioli-tortellini': 3.7462616274601723,\n 'refrigerator': 4.708824356753004,\n 'reynolds-wrap': 3.5678458884688053,\n 'rice': 5.141026121247121,\n 'roast': 4.021305726493098,\n 'roast-beef': 4.018030532186639,\n 'roast-beef-comfort-food': 3.497490581127451,\n 'roast-beef-main-dish': 3.525347637241681,\n 'rolled-cookies': 3.9355316285903874,\n 'rolls-biscuits': 4.377774289351985,\n 'romantic': 5.164765802518185,\n 'rosh-hashana': 3.695316380843902,\n 'rosh-hashanah': 3.532752778771809,\n 'russian': 3.7007018209330025,\n 'salad-dressings': 3.718044248322464,\n 'salads': 5.059388305919109,\n 'salmon': 4.200072750764429,\n 'salsas': 3.6126120191076425,\n 'saltwater-fish': 4.827757473960418,\n 'sandwiches': 4.795501053272056,\n 'sauces': 4.234746436882139,\n 'saudi-arabian': 3.527716599273674,\n 'savory': 6.036563703479249,\n 'savory-pies': 4.296135668046658,\n 'savory-sauces': 3.8055599322281948,\n 'scallops': 3.7759343010174606,\n 'scandinavian': 3.9509927183270226,\n 'scones': 3.8076827584596247,\n 'scottish': 3.7957046130021683,\n 'seafood': 6.373473360568129,\n 'seasonal': 6.817063103279979,\n 'served-cold': 4.92423873806121,\n 'served-hot': 6.443462625455739,\n 'served-hot-new-years': 3.5083822265098514,\n 'shakes': 3.527646876769346,\n 'shellfish': 5.4049342936537075,\n 'short-grain-rice': 3.6910008643694354,\n 'shrimp': 4.855171732875062,\n 'shrimp-main-dish': 3.493749339635583,\n 'side-dishes': 6.672185241956969,\n 'side-dishes-beans': 3.4993477725339193,\n 'simply-potatoes': 3.6317496760823698,\n 'simply-potatoes2': 3.511327718207898,\n 'small-appliance': 5.2354881814548815,\n 'smoker': 3.5803049491379064,\n 'smoothies': 3.487701068744485,\n 'snacks': 4.966517389712491,\n 'snacks-kid-friendly': 3.503626133939763,\n 'snacks-sweet': 3.4956611632367376,\n 'sole-and-flounder': 3.5822054364813187,\n 'somalian': 3.520011692676361,\n 'soul': 3.562865203631226,\n 'soups-stews': 5.92918196347738,\n 'sourdough': 3.5973069972547544,\n 'south-african': 3.6265303610210387,\n 'south-american': 3.940786212822758,\n 'south-west-pacific': 4.421643211134972,\n 'southern-united-states': 5.229041254871064,\n 'southwestern-united-states': 4.496803923660718,\n 'soy-tofu': 3.9304219157216287,\n 'spaghetti': 4.089657782277589,\n 'spaghetti-sauce': 3.5094835121086447,\n 'spanish': 3.868305515258901,\n 'spicy': 5.453909830261334,\n 'spinach': 4.186845891766746,\n 'spreads': 3.846838946810597,\n 'spring': 4.5324102888690145,\n 'squash': 4.692220705127862,\n 'squid': 3.549376556136407,\n 'st-patricks-day': 3.7655528753564216,\n 'steak': 3.9141589319036085,\n 'steaks': 3.874950755433068,\n 'steam': 3.682242940149743,\n 'stews': 4.124724138948106,\n 'stews-poultry': 3.4854914828972,\n 'stir-fry': 4.16937975315211,\n 'stocks': 3.6250686606418516,\n 'stove-top': 7.258081381334086,\n 'strawberries': 4.112420526590251,\n 'stuffings-dressings': 3.71907799325016,\n 'sudanese': 3.4989589382201083,\n 'sugar-cookies': 3.5400602398966297,\n 'summer': 5.3059939003851095,\n 'super-bowl': 3.5802435086771416,\n 'superbowl': 4.051295893330369,\n 'swedish': 3.6244738728243915,\n 'sweet': 6.075171209514574,\n 'sweet-sauces': 3.620478064716459,\n 'swiss': 3.6452320015229063,\n 'szechuan': 3.5482299393617733,\n 'tarts': 3.750146922579391,\n 'taste-mood': 8.457659028919458,\n 'technique': 5.342679884327002,\n 'tempeh': 3.524607704098996,\n 'tex-mex': 3.952490369236837,\n 'thai': 3.8980133466899654,\n 'thanksgiving': 4.9678909402987355,\n 'tilapia': 3.6147919536410305,\n 'time-to-make': 9.283614509910263,\n 'to-go': 6.445117891413486,\n 'toddler-friendly': 4.590897601507302,\n 'tomatoes': 4.860799615136012,\n 'tropical-fruit': 4.598357531420778,\n 'trout': 3.5616226951049264,\n 'tuna': 3.858375734682028,\n 'turkey': 4.416953071153548,\n 'turkey-breasts': 3.631796166746661,\n 'turkey-burgers': 3.4894075851125868,\n 'turkish': 3.6209891891898334,\n 'unprocessed-freezer': 3.518390867714424,\n 'valentines-day': 4.467217940188746,\n 'veal': 3.6848032615466924,\n 'vegan': 5.18976144254621,\n 'vegetables': 8.084850262490352,\n 'vegetarian': 7.215549516730244,\n 'veggie-burgers': 3.511122049707742,\n 'venezuelan': 3.497650271423681,\n 'very-low-carbs': 5.322554162067173,\n 'vietnamese': 3.6667020160599035,\n 'water-bath': 3.7396764032259613,\n 'wedding': 3.9156097912788783,\n 'weeknight': 7.4092860892279955,\n 'welsh': 3.591387028984651,\n 'white-rice': 3.8430885480134602,\n 'whitefish': 3.5173716215151773,\n 'whole-chicken': 4.03839080757738,\n 'whole-duck': 3.5425636362556854,\n 'whole-turkey': 3.695207179537358,\n 'wild-game': 3.692160190606341,\n 'wings': 3.7040751015197273,\n 'winter': 5.50567941083986,\n 'yams-sweet-potatoes': 4.012433737658445,\n 'yeast': 5.186131126756895,\n 'zucchini': 3.590985915644892}"
     },
     "execution_count": 53,
     "metadata": {},
     "output_type": "execute_result"
    }
   ],
   "source": [
    "%%time\n",
    "avg_steps_in_all_files(file_names)"
   ],
   "metadata": {
    "collapsed": false,
    "pycharm": {
     "name": "#%%\n"
    }
   }
  },
  {
   "cell_type": "markdown",
   "metadata": {},
   "source": [
    "4. Решите задачу 3, распараллелив вычисления с помощью модуля `multiprocessing`. Для обработки каждого файла создайте свой собственный процесс. Определите, за какое время задача решается для всех файлов."
   ]
  },
  {
   "cell_type": "code",
   "execution_count": 15,
   "outputs": [
    {
     "name": "stdout",
     "output_type": "stream",
     "text": [
      "Overwriting fdtd.py\n"
     ]
    }
   ],
   "source": [
    "%%file fdtd.py\n",
    "import pandas as pd\n",
    "\n",
    "from avgNumOfSteps import avg_num_of_steps\n",
    "\n",
    "def from_dict_to_dfs(file_name):\n",
    "\treturn pd.DataFrame.from_dict(avg_num_of_steps(\"out/\" + file_name), orient='index')"
   ],
   "metadata": {
    "collapsed": false,
    "pycharm": {
     "name": "#%%\n"
    }
   }
  },
  {
   "cell_type": "code",
   "execution_count": 101,
   "outputs": [],
   "source": [
    "from functools import reduce\n",
    "# from fdtd import from_dict_to_dfs\n",
    "\n",
    "def from_dict_to_dfs123(file_name):\n",
    "\tprint(111)\n",
    "\treturn pd.DataFrame.from_dict(avg_num_of_steps(\"out/\" + file_name), orient='index')\n",
    "\n",
    "# if __name__ == '__main__':\n",
    "process = mp.Process(target=from_dict_to_dfs123, args=(file_names[0], ))\n",
    "process.start()"
   ],
   "metadata": {
    "collapsed": false,
    "pycharm": {
     "name": "#%%\n"
    }
   }
  },
  {
   "cell_type": "code",
   "execution_count": null,
   "outputs": [],
   "source": [
    "from functools import reduce\n",
    "from fdtd import from_dict_to_dfs\n",
    "\n",
    "# processes = [mp.Process(target=from_dict_to_dfs, args=(x, )) for x in file_names]\n",
    "# for p in processes:\n",
    "# \tp.start()\n",
    "#\n",
    "# for p in processes:\n",
    "# \tp.join()\n",
    "\n",
    "\n",
    "\n",
    "results = [pool.apply(from_dict_to_dfs, args=(x, )) for x in file_names]\n",
    "\n",
    "sum_all = reduce(lambda x,y: x+y, results)\n",
    "out = (sum_all / len(file_names))\n",
    "print(out[0].to_dict())"
   ],
   "metadata": {
    "collapsed": false,
    "pycharm": {
     "name": "#%%\n"
    }
   }
  },
  {
   "cell_type": "code",
   "execution_count": 98,
   "outputs": [],
   "source": [
    "def parallel(file_names):\n",
    "\tfrom functools import reduce\n",
    "\tfrom fdtd import from_dict_to_dfs\n",
    "\n",
    "\tpool = mp.Pool()\n",
    "\tresults = [pool.apply_async(from_dict_to_dfs, args=(x, )) for x in file_names]\n",
    "\n",
    "\tsum_all = reduce(lambda x,y: x+y, [i.get() for i in results])\n",
    "\tout = (sum_all / len(file_names))\n",
    "\treturn out[0].to_dict()"
   ],
   "metadata": {
    "collapsed": false,
    "pycharm": {
     "name": "#%%\n"
    }
   }
  },
  {
   "cell_type": "code",
   "execution_count": 31,
   "outputs": [
    {
     "name": "stdout",
     "output_type": "stream",
     "text": [
      "988 ms ± 24.4 ms per loop (mean ± std. dev. of 7 runs, 1 loop each)\n"
     ]
    }
   ],
   "source": [
    "%timeit parallel(file_names)"
   ],
   "metadata": {
    "collapsed": false,
    "pycharm": {
     "name": "#%%\n"
    }
   }
  },
  {
   "cell_type": "code",
   "execution_count": 83,
   "outputs": [
    {
     "name": "stdout",
     "output_type": "stream",
     "text": [
      "{'1-day-or-more': 4.459966880692864, '15-minutes-or-less': 4.9908400335992935, '3-steps-or-less': 4.731775636152013, '30-minutes-or-less': 7.608229951710424, '4-hours-or-less': 10.078432046410873, '5-ingredients-or-less': 5.3538637919625325, '60-minutes-or-less': 9.416607077638588, 'Throw the ultimate fiesta with this sopaipillas recipe from Food.com.': 3.5167459786849373, 'a1-sauce': 3.5306930533445002, 'african': 4.369745244254025, 'american': 7.586744931907737, 'amish-mennonite': 3.5674631998442448, 'angolan': 3.4937118163962064, 'appetizers': 6.226964849131035, 'apples': 4.863346112891727, 'april-fools-day': 3.5132917106592103, 'argentine': 3.5672403423588306, 'artichoke': 3.4949008832841857, 'asian': 6.453290714944966, 'asparagus': 4.049990165155667, 'australian': 4.222064798196951, 'austrian': 3.5811518342049142, 'avocado': 3.5251769300832243, 'bacon': 4.1087102876039125, 'baja': 3.5394751522539223, 'baked-beans': 3.4906156754334616, 'baking': 3.6381727872519374, 'bananas': 4.009523733059467, 'bar-cookies': 4.840750154406037, 'barbecue': 4.595801460258986, 'bass': 3.543584856349954, 'bean-soup': 3.5004806180668107, 'beans': 5.485898256430882, 'beans-side-dishes': 3.5162888243764177, 'bear': 3.4958650750752147, 'beef': 6.929186820540259, 'beef-barley-soup': 3.5055083725815015, 'beef-crock-pot': 3.4969733198278705, 'beef-kidney': 3.5013343096954666, 'beef-liver': 3.545915844683353, 'beef-organ-meats': 3.5590946796123446, 'beef-ribs': 3.6213236766624814, 'beef-sauces': 3.5010266674161175, 'beef-sausage': 3.6705132623664536, 'beginner-cook': 6.3257861611920285, 'beijing': 3.5087292206734015, 'belgian': 3.570233519630975, 'berries': 4.99766772988551, 'beverages': 3.90148543944079, 'birthday': 3.629895462951305, 'biscotti': 3.739061124215282, 'bisques-cream-soups': 4.134704171213914, 'black-bean-soup': 3.4933200182755306, 'black-beans': 3.926171586854977, 'blueberries': 3.9629397536497954, 'bok-choys': 3.5451000176874157, 'brazilian': 3.594405400947569, 'bread-machine': 3.797125856344858, 'bread-pudding': 3.5047056596417194, 'breads': 7.147635804776104, 'breakfast': 6.086594760613895, 'breakfast-casseroles': 3.50803119273385, 'breakfast-eggs': 3.510731828853432, 'breakfast-potatoes': 3.5035983868678615, 'brewing': 3.534540951483992, 'british-columbian': 3.7137106370561077, 'broccoli': 4.1003189192315705, 'broil': 4.073753363627869, 'brown-bag': 4.355561517429362, 'brown-rice': 3.717080595285704, 'brownies': 3.978711062693178, 'brunch': 6.865287306591367, 'burgers': 3.5772395701337225, 'cabbage': 3.510438559734392, 'cajun': 3.915725908874447, 'cake-fillings-and-frostings': 3.9329214508158445, 'cakes': 6.735142445060158, 'californian': 3.744763031896146, 'cambodian': 3.511582206864989, 'camping': 3.929645646975709, 'canadian': 4.767289015257805, 'candy': 4.226251871595659, 'canning': 3.9591157206088505, 'cantonese': 3.5666990361503985, 'caribbean': 3.9969708219715026, 'carrots': 4.315710795809299, 'casseroles': 5.342022371955752, 'catfish': 3.5539452050161957, 'cauliflower': 3.8589838254085627, 'celebrity': 3.7796092797808836, 'central-american': 4.059277455904316, 'chard': 3.592078085829607, 'cheese': 6.529322075718256, 'cheesecake': 4.460979247088611, 'cherries': 3.7042739493933614, 'chick-peas-garbanzos': 3.8134067794991604, 'chicken': 7.316126330623858, 'chicken-breasts': 5.753319435361762, 'chicken-crock-pot': 3.5038564157549965, 'chicken-livers': 3.541267916008823, 'chicken-stew': 3.480269464017411, 'chicken-stews': 3.5050520155806018, 'chicken-thighs-legs': 4.145080672401439, 'chilean': 3.5249706140549133, 'chili': 3.9426241362776517, 'chinese': 4.312118306807647, 'chinese-new-year': 3.521605406531614, 'chocolate': 6.19472651983921, 'chocolate-chip-cookies': 3.520227764591209, 'chowders': 3.8441805822701287, 'christmas': 5.938447396845797, 'chutneys': 3.5601971039422335, 'cinco-de-mayo': 3.554993676555054, 'citrus': 4.55664259349819, 'clams': 3.6314026463912183, 'clear-soups': 3.697654153419084, 'cobblers-and-crisps': 3.9145047483415976, 'cocktails': 3.6210937065942685, 'coconut': 4.100142367698287, 'cod': 3.6569494741985995, 'coffee-cakes': 4.038961702820848, 'collard-greens': 3.536502635220078, 'college': 3.5104010919116986, 'colombian': 3.534398674060328, 'comfort-food': 7.49483428256887, 'condiments-etc': 4.786693624330559, 'congolese': 3.5001868336619633, 'cookies-and-brownies': 6.725713787614565, 'cooking-mixes': 3.6092388310112904, 'copycat': 4.2617664501127, 'corn': 4.07477791244104, 'costa-rican': 3.510827124617085, 'course': 9.278911506561062, 'crab': 3.953071538005791, 'cranberry-sauce': 3.491261848303784, 'crawfish': 3.5309951590400646, 'creole': 3.8044112949616644, 'crock-pot-main-dish': 3.517557617502247, 'crock-pot-slow-cooker': 4.700660308220886, 'crusts-pastry-dough-2': 3.684459337869047, 'cuban': 3.6010314262839245, 'cuisine': 9.178138637231608, 'cupcakes': 3.943833871103073, 'curries': 4.0478387754785, 'czech': 3.5769847368974528, 'dairy-free': 3.5595672093119677, 'danish': 3.5903157224982856, 'deep-fry': 4.026458421372175, 'deer': 3.603623631406595, 'dehydrator': 3.5056082739036096, 'desserts': 9.02801768387307, 'desserts-easy': 3.505648521071089, 'desserts-fruit': 3.5021843084984656, 'diabetic': 4.886561181469834, 'dietary': 8.848763914595448, 'dinner-party': 8.237155041543474, 'dips': 4.029822240119936, 'dips-lunch-snacks': 3.5122641720167858, 'dips-summer': 3.4924865639337073, 'drop-cookies': 4.390995058106862, 'duck': 3.6045386962316868, 'duck-breasts': 3.5423488294164063, 'dutch': 3.5769935782553643, 'easter': 4.455316678802361, 'easy': 7.251541876541679, 'ecuadorean': 3.512909053582918, 'egg-free': 4.796453966339985, 'eggplant': 3.5604176000663097, 'eggs': 5.900422897863399, 'eggs-breakfast': 3.481507380294408, 'eggs-dairy': 7.628077463661604, 'egyptian': 3.573319466618293, 'elbow-macaroni': 4.065523163008541, 'elk': 3.5066793238145655, 'english': 4.151132203437702, 'equipment': 8.576556907006086, 'ethiopian': 3.499750635540625, 'european': 8.023723321189024, 'fall': 5.567146386335988, 'fathers-day': 3.5024891572309156, 'filipino': 3.5723190877672413, 'fillings-and-frostings-chocolate': 3.5072895695308994, 'finger-food': 5.222521985889581, 'finnish': 3.561141616251072, 'fish': 5.299549803490051, 'flat-shapes': 3.8386997366526696, 'food-processor-blender': 4.482034121879816, 'for-1-or-2': 5.472279215760226, 'for-large-groups': 7.294141110347821, 'for-large-groups-holiday-event': 3.51836228925511, 'free-of-something': 5.7198884086660335, 'freezer': 4.035405239317, 'french': 4.483253960742542, 'freshwater-fish': 3.8388703341816237, 'from-scratch': 4.737215137359327, 'frozen-desserts': 4.04561511470752, 'fruit': 7.323416376725767, 'fudge': 3.7255003409435163, 'garnishes': 3.615836312969098, 'gelatin': 3.739027167928726, 'georgian': 3.5042759375521597, 'german': 4.056926712175318, 'gifts': 5.5745346058428105, 'gluten-free': 4.804425294858953, 'goose': 3.512089520541677, 'grains': 5.1997139197020275, 'granola-and-porridge': 3.7435005743488574, 'grapes': 3.5656800083047524, 'greek': 4.335903539303139, 'green-yellow-beans': 3.8708858612456702, 'greens': 4.666095716353545, 'grilling': 4.786987303650963, 'ground-beef': 5.524575926471861, 'guatemalan': 3.495978497180245, 'gumbo': 3.602230238048617, 'halibut': 3.6198171483615944, 'halloween': 3.741600634834569, 'halloween-cakes': 3.4934747595963165, 'halloween-cocktails': 3.5138411033121493, 'halloween-cupcakes': 3.500121283585467, 'ham': 4.034838857531263, 'ham-and-bean-soup': 3.50128321056807, 'hand-formed-cookies': 4.2613842542098554, 'hanukkah': 3.773451357897329, 'hawaiian': 3.6301384475930103, 'healthy': 7.084054095357629, 'healthy-2': 6.390307281146132, 'heirloom-historical': 5.06430072209948, 'heirloom-historical-recipes': 3.5200715052401454, 'herb-and-spice-mixes': 3.5482721953111986, 'hidden-valley-ranch': 3.562682089300557, 'high-calcium': 4.511865311101162, 'high-fiber': 3.512985065033887, 'high-in-something': 5.463312584021627, 'high-in-something-diabetic-friendly': 3.497475148652117, 'high-protein': 5.008237641415882, 'holiday-event': 8.31571702757843, 'honduran': 3.5102467368974803, 'hunan': 3.5160983017867626, 'hungarian': 3.6683262776302086, 'ice-cream': 3.524206895626584, 'icelandic': 3.5020135106569144, 'independence-day': 4.0971873365944464, 'indian': 4.469041710092329, 'indonesian': 3.584207291064396, 'inexpensive': 6.925079375349785, 'infant-baby-friendly': 3.6149426188270324, 'iranian-persian': 3.623228508537874, 'iraqi': 3.53023823284036, 'irish': 3.7664068422432253, 'irish-st-patricks-day': 3.5155828033300143, 'italian': 5.884051578075327, 'jams-and-preserves': 3.846455689745701, 'japanese': 3.793742423742246, 'jellies': 3.5745105202167147, 'jewish-ashkenazi': 3.7860243779798295, 'jewish-sephardi': 3.565968773219175, 'kid-friendly': 7.093640731621531, 'kiwifruit': 3.5307380369737964, 'korean': 3.5786883025112455, 'kosher': 4.828203693558025, 'kwanzaa': 3.6083879902160243, 'labor-day': 3.519650770338047, 'lactose': 4.539380887073266, 'lamb-sheep': 4.130112413066484, 'lamb-sheep-main-dish': 3.495674937010793, 'laotian': 3.4952135680288383, 'lasagna': 4.103487339677166, 'lasagne': 3.513608035819257, 'lebanese': 3.6232085868702923, 'leftovers': 3.628394455286667, 'lemon': 4.116279960945941, 'lentils': 3.9259618469289594, 'less_thansql:name_topics_of_recipegreater_than': 3.517601620975554, 'lettuces': 3.7239733653083884, 'libyan': 3.4695537565663073, 'lime': 3.6804146470836026, 'lobster': 3.5942323079256315, 'long-grain-rice': 3.9468095994041503, 'low-calorie': 6.734330166151794, 'low-carb': 7.256149922812117, 'low-cholesterol': 6.619801485216522, 'low-fat': 5.943183388314464, 'low-in-something': 8.063213120575293, 'low-protein': 6.3041631625941745, 'low-saturated-fat': 6.499446318075944, 'low-sodium': 7.3848104741063505, 'lunch': 6.675760055958243, 'macaroni-and-cheese': 3.532416218609726, 'mahi-mahi': 3.534218640113685, 'main-dish': 9.443036615441361, 'main-dish-beef': 3.515694362248455, 'main-dish-chicken': 3.508114151146669, 'main-dish-pasta': 3.5107257234354425, 'main-dish-pork': 3.516203564617564, 'main-dish-seafood': 3.5030840627590822, 'main-ingredient': 9.314949495483607, 'malaysian': 3.5760113697917144, 'mango': 3.676548171538615, 'manicotti': 3.6146504437641327, 'mardi-gras-carnival': 3.6012817428738164, 'marinades-and-rubs': 3.588766495463709, 'marinara-sauce': 3.519799299307797, 'mashed-potatoes': 3.5294973907111062, 'meat': 8.914957389939135, 'meatballs': 3.5445316393654513, 'meatloaf': 3.5539658902441715, 'medium-grain-rice': 3.5569921404067055, 'melons': 3.6171388687224315, 'memorial-day': 3.5258401060481015, 'mexican': 5.300503394926179, 'micro-melanesia': 3.5191595887030287, 'microwave': 4.075959843604102, 'middle-eastern': 4.1920647486416485, 'middle-eastern-main-dish': 3.4841512151759835, 'midwestern': 4.388364223870091, 'mixer': 4.297559759688619, 'mongolian': 3.522325681547077, 'moose': 3.525428603952486, 'moroccan': 3.8279094903000432, 'mothers-day': 3.5576899040129497, 'muffins': 4.297847097848846, 'mushroom-soup': 3.4819155990551014, 'mushrooms': 4.6605280986262505, 'mussels': 3.592917195425411, 'namibian': 3.5104003515998645, 'native-american': 3.573147913857918, 'nepalese': 3.521740820963608, 'new-years': 4.313732058024016, 'new-zealand': 3.67851241396295, 'nigerian': 3.4890795006515773, 'no-cook': 3.9580792039557338, 'no-shell-fish': 3.5654630676564674, 'non-alcoholic': 3.524950699238288, 'north-american': 8.201726910070947, 'northeastern-united-states': 4.321441866667386, 'norwegian': 3.5634098928872158, 'novelty': 4.809435010627016, 'number-of-servings': 7.853297589920051, 'nut-free': 3.582685082204017, 'nuts': 5.493880233547541, 'oamc-freezer-make-ahead': 5.096092511922979, 'oatmeal': 3.503307027259209, 'oaxacan': 3.5254923991412515, 'occasion': 9.143234338348199, 'octopus': 3.497017113697767, 'omelets-and-frittatas': 3.9493566965729485, 'one-dish-meal': 7.008896182302598, 'onions': 5.006458753504526, 'ontario': 3.735194446700087, 'orange-roughy': 3.509027332623849, 'oranges': 3.8941043337424004, 'oven': 8.355707094847304, 'oysters': 3.5718828208944102, 'pacific-northwest': 3.7621406331265033, 'pakistani': 3.5568094636795475, 'palestinian': 3.524224660716353, 'pancakes-and-waffles': 4.167544271641982, 'papaya': 3.5523274391679673, 'passover': 3.6509660776743873, 'pasta': 6.59731438962665, 'pasta-elbow-macaroni': 3.489011514908332, 'pasta-rice-and-grains': 7.787233403697369, 'pasta-rice-and-grains-elbow-macaroni': 3.495510856147726, 'pasta-salad': 3.5063491972808447, 'pasta-shells': 3.6943917831100075, 'peaches': 3.77565088666487, 'peanut-butter': 3.5861297496967244, 'pears': 3.7617255061475223, 'penne': 3.953951331992502, 'pennsylvania-dutch': 3.5542972263666055, 'peppers': 4.512900416401622, 'perch': 3.49320334014666, 'peruvian': 3.5630182217865167, 'pheasant': 3.523091624141991, 'pickeral': 3.4935760340306756, 'picnic': 5.05599726218189, 'pies': 4.697168929626202, 'pies-and-tarts': 5.251503542048709, 'pineapple': 3.9746440771648057, 'pitted-fruit': 4.118468101512674, 'pizza': 4.149506588001121, 'plums': 3.564821152880654, 'polish': 3.6841272685278184, 'polynesian': 3.552943397207589, 'pork': 6.4431944392440785, 'pork-chops': 4.04870325333321, 'pork-crock-pot': 3.508651507543993, 'pork-loin': 3.487997487968194, 'pork-loins': 4.014578146293444, 'pork-loins-roast': 3.511886388481718, 'pork-ribs': 3.7114649478829946, 'pork-sausage': 4.263846503412724, 'portuguese': 3.6396812407586467, 'pot-pie': 3.5062238948842768, 'pot-roast': 3.486609420224026, 'potatoes': 5.88708768660874, 'potluck': 5.757653729695106, 'poultry': 7.670570251095926, 'preparation': 9.299027776323925, 'prepared-potatoes': 3.5123839569158233, 'presentation': 7.179378704622339, 'pressure-canning': 3.5390335352457014, 'pressure-cooker': 3.6702395264703997, 'puddings-and-mousses': 4.316533277652483, 'puerto-rican': 3.5406214604753385, 'pumpkin': 3.555517489488367, 'pumpkin-bread': 3.5096210479964096, 'punch': 3.595210233714715, 'quail': 3.5003212880646446, 'quebec': 3.576565972144701, 'quiche': 3.5357268446596395, 'quick-breads': 5.062586255130547, 'rabbit': 3.5264605049821296, 'ragu-recipe-contest': 3.5022376869919953, 'ramadan': 3.6016213958232246, 'raspberries': 3.9222517211807193, 'ravioli-tortellini': 3.7462616274601723, 'refrigerator': 4.708824356753004, 'reynolds-wrap': 3.5678458884688053, 'rice': 5.141026121247121, 'roast': 4.021305726493098, 'roast-beef': 4.018030532186639, 'roast-beef-comfort-food': 3.497490581127451, 'roast-beef-main-dish': 3.525347637241681, 'rolled-cookies': 3.9355316285903874, 'rolls-biscuits': 4.377774289351985, 'romantic': 5.164765802518185, 'rosh-hashana': 3.695316380843902, 'rosh-hashanah': 3.532752778771809, 'russian': 3.7007018209330025, 'salad-dressings': 3.718044248322464, 'salads': 5.059388305919109, 'salmon': 4.200072750764429, 'salsas': 3.6126120191076425, 'saltwater-fish': 4.827757473960418, 'sandwiches': 4.795501053272056, 'sauces': 4.234746436882139, 'saudi-arabian': 3.527716599273674, 'savory': 6.036563703479249, 'savory-pies': 4.296135668046658, 'savory-sauces': 3.8055599322281948, 'scallops': 3.7759343010174606, 'scandinavian': 3.9509927183270226, 'scones': 3.8076827584596247, 'scottish': 3.7957046130021683, 'seafood': 6.373473360568129, 'seasonal': 6.817063103279979, 'served-cold': 4.92423873806121, 'served-hot': 6.443462625455739, 'served-hot-new-years': 3.5083822265098514, 'shakes': 3.527646876769346, 'shellfish': 5.4049342936537075, 'short-grain-rice': 3.6910008643694354, 'shrimp': 4.855171732875062, 'shrimp-main-dish': 3.493749339635583, 'side-dishes': 6.672185241956969, 'side-dishes-beans': 3.4993477725339193, 'simply-potatoes': 3.6317496760823698, 'simply-potatoes2': 3.511327718207898, 'small-appliance': 5.2354881814548815, 'smoker': 3.5803049491379064, 'smoothies': 3.487701068744485, 'snacks': 4.966517389712491, 'snacks-kid-friendly': 3.503626133939763, 'snacks-sweet': 3.4956611632367376, 'sole-and-flounder': 3.5822054364813187, 'somalian': 3.520011692676361, 'soul': 3.562865203631226, 'soups-stews': 5.92918196347738, 'sourdough': 3.5973069972547544, 'south-african': 3.6265303610210387, 'south-american': 3.940786212822758, 'south-west-pacific': 4.421643211134972, 'southern-united-states': 5.229041254871064, 'southwestern-united-states': 4.496803923660718, 'soy-tofu': 3.9304219157216287, 'spaghetti': 4.089657782277589, 'spaghetti-sauce': 3.5094835121086447, 'spanish': 3.868305515258901, 'spicy': 5.453909830261334, 'spinach': 4.186845891766746, 'spreads': 3.846838946810597, 'spring': 4.5324102888690145, 'squash': 4.692220705127862, 'squid': 3.549376556136407, 'st-patricks-day': 3.7655528753564216, 'steak': 3.9141589319036085, 'steaks': 3.874950755433068, 'steam': 3.682242940149743, 'stews': 4.124724138948106, 'stews-poultry': 3.4854914828972, 'stir-fry': 4.16937975315211, 'stocks': 3.6250686606418516, 'stove-top': 7.258081381334086, 'strawberries': 4.112420526590251, 'stuffings-dressings': 3.71907799325016, 'sudanese': 3.4989589382201083, 'sugar-cookies': 3.5400602398966297, 'summer': 5.3059939003851095, 'super-bowl': 3.5802435086771416, 'superbowl': 4.051295893330369, 'swedish': 3.6244738728243915, 'sweet': 6.075171209514574, 'sweet-sauces': 3.620478064716459, 'swiss': 3.6452320015229063, 'szechuan': 3.5482299393617733, 'tarts': 3.750146922579391, 'taste-mood': 8.457659028919458, 'technique': 5.342679884327002, 'tempeh': 3.524607704098996, 'tex-mex': 3.952490369236837, 'thai': 3.8980133466899654, 'thanksgiving': 4.9678909402987355, 'tilapia': 3.6147919536410305, 'time-to-make': 9.283614509910263, 'to-go': 6.445117891413486, 'toddler-friendly': 4.590897601507302, 'tomatoes': 4.860799615136012, 'tropical-fruit': 4.598357531420778, 'trout': 3.5616226951049264, 'tuna': 3.858375734682028, 'turkey': 4.416953071153548, 'turkey-breasts': 3.631796166746661, 'turkey-burgers': 3.4894075851125868, 'turkish': 3.6209891891898334, 'unprocessed-freezer': 3.518390867714424, 'valentines-day': 4.467217940188746, 'veal': 3.6848032615466924, 'vegan': 5.18976144254621, 'vegetables': 8.084850262490352, 'vegetarian': 7.215549516730244, 'veggie-burgers': 3.511122049707742, 'venezuelan': 3.497650271423681, 'very-low-carbs': 5.322554162067173, 'vietnamese': 3.6667020160599035, 'water-bath': 3.7396764032259613, 'wedding': 3.9156097912788783, 'weeknight': 7.4092860892279955, 'welsh': 3.591387028984651, 'white-rice': 3.8430885480134602, 'whitefish': 3.5173716215151773, 'whole-chicken': 4.03839080757738, 'whole-duck': 3.5425636362556854, 'whole-turkey': 3.695207179537358, 'wild-game': 3.692160190606341, 'wings': 3.7040751015197273, 'winter': 5.50567941083986, 'yams-sweet-potatoes': 4.012433737658445, 'yeast': 5.186131126756895, 'zucchini': 3.590985915644892}\n",
      "Wall time: 1.08 s\n"
     ]
    }
   ],
   "source": [
    "%%time\n",
    "print(parallel(file_names))"
   ],
   "metadata": {
    "collapsed": false,
    "pycharm": {
     "name": "#%%\n"
    }
   }
  },
  {
   "cell_type": "markdown",
   "metadata": {},
   "source": [
    "5. Решите задачу 3, распараллелив вычисления с помощью модуля `multiprocessing`. Создайте фиксированное количество процессов (равное половине количества ядер на компьютере). При помощи очереди `multiprocessing.queue` передайте названия файлов для обработки процессам и при помощи другой очереди заберите от них ответы."
   ]
  },
  {
   "cell_type": "code",
   "execution_count": 1,
   "outputs": [
    {
     "name": "stdout",
     "output_type": "stream",
     "text": [
      "Overwriting fdtd2.py\n"
     ]
    }
   ],
   "source": [
    "%%file fdtd2.py\n",
    "from avgNumOfSteps import avg_num_of_steps\n",
    "import pandas as pd\n",
    "\n",
    "\n",
    "def from_dict_to_dfs2(file_name, output):\n",
    "\treturn output.put(pd.DataFrame.from_dict(avg_num_of_steps(\"out/\" + file_name), orient='index'))"
   ],
   "metadata": {
    "collapsed": false,
    "pycharm": {
     "name": "#%%\n"
    }
   }
  },
  {
   "cell_type": "code",
   "execution_count": 1,
   "outputs": [],
   "source": [
    "import multiprocessing as mp\n",
    "import pandas as pd\n",
    "import csv\n",
    "\n",
    "from pprint import pprint as pp"
   ],
   "metadata": {
    "collapsed": false,
    "pycharm": {
     "name": "#%%\n"
    }
   }
  },
  {
   "cell_type": "code",
   "execution_count": 14,
   "outputs": [
    {
     "name": "stdout",
     "output_type": "stream",
     "text": [
      "id_tag_nsteps_1.csv\n",
      "id_tag_nsteps_2.csv\n",
      "0\n"
     ]
    }
   ],
   "source": [
    "from fdtd2 import from_dict_to_dfs2\n",
    "\n",
    "# def test():\n",
    "NUMBER_OF_PROCESSES = 8\n",
    "task_queue = mp.Queue()\n",
    "done_queue = mp.Queue()\n",
    "\n",
    "for file in file_names:\n",
    "    task_queue.put(file)\n",
    "\n",
    "pool = mp.Pool(processes=NUMBER_OF_PROCESSES)\n",
    "# pool.apply_async(from_dict_to_dfs2, args=(task_queue.get(), done_queue))\n",
    "# mp.Process(target=from_dict_to_dfs2, args=(task_queue, done_queue)).start()\n",
    "\n",
    "# print(task_queue.get())\n",
    "# print(task_queue.get())\n",
    "print(done_queue.qsize())"
   ],
   "metadata": {
    "collapsed": false,
    "pycharm": {
     "name": "#%%\n"
    }
   }
  },
  {
   "cell_type": "code",
   "execution_count": 2,
   "outputs": [
    {
     "data": {
      "text/plain": "['id_tag_nsteps_1.csv',\n 'id_tag_nsteps_2.csv',\n 'id_tag_nsteps_3.csv',\n 'id_tag_nsteps_4.csv',\n 'id_tag_nsteps_5.csv',\n 'id_tag_nsteps_6.csv',\n 'id_tag_nsteps_7.csv',\n 'id_tag_nsteps_8.csv']"
     },
     "execution_count": 2,
     "metadata": {},
     "output_type": "execute_result"
    }
   ],
   "source": [
    "file_names = [f\"id_tag_nsteps_{i}.csv\" for i in range(1, 9)]\n",
    "file_names"
   ],
   "metadata": {
    "collapsed": false,
    "pycharm": {
     "name": "#%%\n"
    }
   }
  },
  {
   "cell_type": "code",
   "execution_count": 1,
   "outputs": [],
   "source": [
    "import multiprocessing as mp\n",
    "import pandas as pd\n",
    "import csv\n",
    "\n",
    "from pprint import pprint as pp\n",
    "\n",
    "file_names = [f\"id_tag_nsteps_{i}.csv\" for i in range(1, 9)]\n",
    "# file_names\n",
    "\n",
    "def test():\n",
    "\tfrom fdtd2 import from_dict_to_dfs2\n",
    "\tfrom functools import reduce\n",
    "\n",
    "\tNUMBER_OF_PROCESSES = 8\n",
    "\ttask_queue = mp.Queue()\n",
    "\tdone_queue = mp.Queue()\n",
    "\n",
    "\tfor file in file_names:\n",
    "\t    task_queue.put(file)\n",
    "\n",
    "\tprocesses = [mp.Process(target=from_dict_to_dfs2, args=(task_queue.get(), done_queue)) for _ in range(task_queue.qsize())]\n",
    "\n",
    "\tfor p in processes:\n",
    "\t\tp.start()\n",
    "\t\tp.join()\n",
    "\n",
    "\t# results = [done_queue.get() for _ in processes]\n",
    "\t# for i in range(NUMBER_OF_PROCESSES):\n",
    "\t#     mp.Process(target=from_dict_to_dfs2, args=(task_queue.get(), done_queue)).start()\n",
    "\n",
    "\t# print(task_queue.qsize())\n",
    "\n",
    "\t# sum_all = reduce(lambda x,y: x+y, [done_queue.get() for _ in range(NUMBER_OF_PROCESSES)])\n",
    "\t# out = (sum_all / len(file_names))\n",
    "\t# return out[0].to_dict()"
   ],
   "metadata": {
    "collapsed": false,
    "pycharm": {
     "name": "#%%\n"
    }
   }
  },
  {
   "cell_type": "code",
   "execution_count": null,
   "outputs": [],
   "source": [
    "test()"
   ],
   "metadata": {
    "collapsed": false,
    "pycharm": {
     "name": "#%%\n"
    }
   }
  },
  {
   "cell_type": "code",
   "execution_count": null,
   "outputs": [],
   "source": [
    "from fdtd2 import from_dict_to_dfs2\n",
    "\n",
    "output = mp.Queue()\n",
    "processes = [mp.Process(target=from_dict_to_dfs2, args=(x, output)) for x in file_names]\n",
    "\n",
    "for p in processes:\n",
    "\tp.start()\n",
    "\n",
    "for p in processes:\n",
    "\tp.join()\n",
    "\n",
    "results = [output.get() for p in processes]"
   ],
   "metadata": {
    "collapsed": false,
    "pycharm": {
     "name": "#%%\n"
    }
   }
  },
  {
   "cell_type": "code",
   "execution_count": 4,
   "outputs": [],
   "source": [
    "import multiprocessing\n",
    "\n",
    "def worker():\n",
    "    \"\"\"worker function\"\"\"\n",
    "    print('Worker')\n",
    "    return\n",
    "\n",
    "if __name__ == '__main__':\n",
    "    # multiprocessing.set_start_method('spawn')\n",
    "    jobs = []\n",
    "    for i in range(5):\n",
    "        p = multiprocessing.Process(target=worker)\n",
    "        jobs.append(p)\n",
    "        p.start()"
   ],
   "metadata": {
    "collapsed": false,
    "pycharm": {
     "name": "#%%\n"
    }
   }
  },
  {
   "cell_type": "code",
   "execution_count": 1,
   "outputs": [
    {
     "name": "stdout",
     "output_type": "stream",
     "text": [
      "[]\n"
     ]
    }
   ],
   "source": [
    "import multiprocessing\n",
    "\n",
    "def worker(read, write):\n",
    "    while not read.empty():\n",
    "        name_proc = multiprocessing.current_process().name\n",
    "        x = read.get()\n",
    "        res = x*x\n",
    "        print(name_proc, res)\n",
    "        write.put(res)\n",
    "    else:\n",
    "        read.close()\n",
    "        write.close()\n",
    "\n",
    "write = multiprocessing.Queue()\n",
    "read = multiprocessing.Queue()\n",
    "[read.put(x) for x in range(3, 7)]\n",
    "\n",
    "NUM_CORE = 2\n",
    "procs = []\n",
    "for i in range(NUM_CORE):\n",
    "    p = multiprocessing.Process(target=worker, args=(read, write,))\n",
    "    procs.append(p)\n",
    "    p.start()\n",
    "\n",
    "[proc.join() for proc in procs]\n",
    "print([write.get() for _ in range(write.qsize())])"
   ],
   "metadata": {
    "collapsed": false,
    "pycharm": {
     "name": "#%%\n"
    }
   }
  },
  {
   "cell_type": "code",
   "execution_count": 17,
   "outputs": [],
   "source": [
    "import multiprocessing\n",
    "from multiprocessing import Process\n",
    "import ololo\n",
    "\n",
    "# if __name__ == '__main__':\n",
    "p1 = Process(target=ololo.foozz)\n",
    "p2 = Process(target=ololo.foozz2)\n",
    "\n",
    "p1.start()\n",
    "p2.start()\n",
    "\n",
    "p1.join()\n",
    "p2.join()"
   ],
   "metadata": {
    "collapsed": false,
    "pycharm": {
     "name": "#%%\n"
    }
   }
  },
  {
   "cell_type": "code",
   "execution_count": 8,
   "outputs": [],
   "source": [
    "import multiprocessing\n",
    "def cube(num):\n",
    "\tprint(\"Cube: {}\".format(num * num * num))\n",
    "# if __name__ == \"__main__\":\n",
    "p1 = multiprocessing.Process(target=cube, args=(5,))\n",
    "p1.start()\n",
    "p1.join()"
   ],
   "metadata": {
    "collapsed": false,
    "pycharm": {
     "name": "#%%\n"
    }
   }
  },
  {
   "cell_type": "code",
   "execution_count": null,
   "metadata": {
    "collapsed": true
   },
   "outputs": [],
   "source": []
  }
 ],
 "metadata": {
  "kernelspec": {
   "display_name": "Python 3 (ipykernel)",
   "language": "python",
   "name": "python3"
  },
  "language_info": {
   "codemirror_mode": {
    "name": "ipython",
    "version": 3
   },
   "file_extension": ".py",
   "mimetype": "text/x-python",
   "name": "python",
   "nbconvert_exporter": "python",
   "pygments_lexer": "ipython3",
   "version": "3.9.9"
  }
 },
 "nbformat": 4,
 "nbformat_minor": 1
}