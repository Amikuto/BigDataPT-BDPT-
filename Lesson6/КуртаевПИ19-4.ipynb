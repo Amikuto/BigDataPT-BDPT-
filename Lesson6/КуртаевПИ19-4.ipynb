{
 "cells": [
  {
   "cell_type": "markdown",
   "source": [
    "# Работа с базами данных"
   ],
   "metadata": {
    "collapsed": false
   }
  },
  {
   "cell_type": "markdown",
   "source": [
    "Материалы:\n",
    "* Макрушин С.В. Лекция 6: Работа с базами данных\n",
    "* https://sqliteonline.com/\n",
    "* https://docs.python.org/3/library/sqlite3.html\n",
    "* https://www.geeksforgeeks.org/sql-join-set-1-inner-left-right-and-full-joins/\n",
    "* https://www.datacamp.com/community/tutorials/group-by-having-clause-sql"
   ],
   "metadata": {
    "collapsed": false
   }
  },
  {
   "cell_type": "markdown",
   "source": [
    ".fetchone()\n",
    ".fetchmany()\n",
    ".fetchall()\n",
    ".executemany()\n",
    ".executescript()"
   ],
   "metadata": {
    "collapsed": false
   }
  },
  {
   "cell_type": "code",
   "execution_count": 1,
   "outputs": [],
   "source": [
    "import sqlite3"
   ],
   "metadata": {
    "collapsed": false,
    "pycharm": {
     "name": "#%%\n"
    }
   }
  },
  {
   "cell_type": "code",
   "execution_count": null,
   "outputs": [],
   "source": [
    "con = sqlite3.connect('./data/data/Chinook_Sqlite.sqlite')\n",
    "cur = con.cursor()\n",
    "\n",
    "\n",
    "cur.execute(\"\"\"\n",
    "SELECT firstname, lastname\n",
    "FROM Customer\n",
    "WHERE country = ? AND state = ?\n",
    "\"\"\", ('Canada', 'QC'))\n",
    "\n",
    "cur.close()\n",
    "con.close()"
   ],
   "metadata": {
    "collapsed": false,
    "pycharm": {
     "name": "#%%\n"
    }
   }
  },
  {
   "cell_type": "code",
   "execution_count": null,
   "outputs": [],
   "source": [
    "con = sqlite3.connect('./data/data/test.db')\n",
    "cur = con.cursor()\n",
    "\n",
    "\n",
    "cur.execute(\"\"\"\n",
    "CREATE TABLE Student(id INTEGER, name VARCHAR(50))\n",
    "\"\"\")\n",
    "\n",
    "cur.execute(\"\"\"\n",
    "INSERT INTO Student(id, name) VALUES (1, 'Daniil')\n",
    "\"\"\")\n",
    "con.commit()\n",
    "\n",
    "cur.close()\n",
    "con.close()"
   ],
   "metadata": {
    "collapsed": false,
    "pycharm": {
     "name": "#%%\n"
    }
   }
  },
  {
   "cell_type": "markdown",
   "source": [
    "## Задачи для совместного разбора"
   ],
   "metadata": {
    "collapsed": false
   }
  },
  {
   "cell_type": "markdown",
   "source": [
    "1. Работая с базой данных `Chinook_Sqlite.sqlite`, найдите и выведите на экран имена и фамилии всех заказчиков из Канады"
   ],
   "metadata": {
    "collapsed": false
   }
  },
  {
   "cell_type": "markdown",
   "source": [
    "2. Найти и вывести на экран названия всех альбомов группы Accept"
   ],
   "metadata": {
    "collapsed": false
   }
  },
  {
   "cell_type": "markdown",
   "source": [
    "3. Создайте базу данных с названием вашей группы. В этой базе данных создайте таблицу Student, содержащую 2 столбца: id и name. Добавьте в таблицу Student информацию о студентах, сидящих с вами по соседству."
   ],
   "metadata": {
    "collapsed": false
   }
  },
  {
   "cell_type": "markdown",
   "source": [
    "## Лабораторная работа 6"
   ],
   "metadata": {
    "collapsed": false
   }
  },
  {
   "cell_type": "markdown",
   "source": [
    "1. Создайте файл базы данных c названием `recipes.db`. Создайте объект-курсор."
   ],
   "metadata": {
    "collapsed": false
   }
  },
  {
   "cell_type": "code",
   "execution_count": null,
   "outputs": [],
   "source": [
    "conn = sqlite3.connect('./data/data/recipes.db')\n",
    "curr = conn.cursor()\n",
    "\n",
    "\n",
    "# curr.close()\n",
    "# conn.close()"
   ],
   "metadata": {
    "collapsed": false,
    "pycharm": {
     "name": "#%%\n"
    }
   }
  },
  {
   "cell_type": "markdown",
   "source": [
    "2. Напишите и выполните SQL-запрос для создания таблицы рецептов `Recipe`. Таблица должна содержать следующие поля:\n",
    "`id`, `name`, `minutes`, `submitted`, `description`, `n_ingredients`. Определитесь с типами и составом ключевых полей."
   ],
   "metadata": {
    "collapsed": false
   }
  },
  {
   "cell_type": "code",
   "execution_count": null,
   "outputs": [],
   "source": [
    "curr.execute(\"\"\"\n",
    "CREATE TABLE Recipe(id INTEGER, name VARCHAR(80), minutes TIME)\n",
    "\"\"\")\n",
    "\n",
    "curr.close()\n",
    "conn.close()"
   ],
   "metadata": {
    "collapsed": false,
    "pycharm": {
     "name": "#%%\n"
    }
   }
  },
  {
   "cell_type": "markdown",
   "source": [
    "3. Напишите и выполните SQL-запрос для создания таблицы отзывов `Review`. Таблица должна содержать следующие поля:\n",
    "`id`, `user_id`, `recipe_id`, `date`, `rating`, `review`. Определитесь с типами полей, набором ключевых полей. При помощи внешнего ключа соедините две таблицы."
   ],
   "metadata": {
    "collapsed": false
   }
  },
  {
   "cell_type": "markdown",
   "source": [
    "4. Загрузите данные из файлов `reviews_sample.csv` (__ЛР2__) и `recipes_sample_with_tags_ingredients.csv` (__ЛР5__) в созданные таблицы"
   ],
   "metadata": {
    "collapsed": false
   }
  },
  {
   "cell_type": "markdown",
   "source": [
    "5. Найдите все рецепты, для выполнения которых нужно ровно 10 ингредиентов. Выведите на экран первые 5 из найденных рецептов."
   ],
   "metadata": {
    "collapsed": false
   }
  },
  {
   "cell_type": "markdown",
   "source": [
    "6. Найдите название рецепта, для выполнения которого требуется больше всего времени."
   ],
   "metadata": {
    "collapsed": false
   }
  },
  {
   "cell_type": "markdown",
   "source": [
    "7. Запросите у пользователя id рецепта и верните информацию об этом рецепте. Если рецепт отсуствует, выведите соответствующее сообщение."
   ],
   "metadata": {
    "collapsed": false
   }
  },
  {
   "cell_type": "markdown",
   "source": [
    "8. Найдите кол-во отзывов с рейтингом 5."
   ],
   "metadata": {
    "collapsed": false
   }
  },
  {
   "cell_type": "markdown",
   "source": [
    "9. Найдите кол-во уникальных рецептов, не имеющих отзывов с рейтингом, меньше 4."
   ],
   "metadata": {
    "collapsed": false
   }
  },
  {
   "cell_type": "markdown",
   "source": [
    "10. Найдите кол-во рецептов, опубликованных в 2010 году и имеющих длину не менее 15 минут."
   ],
   "metadata": {
    "collapsed": false
   }
  },
  {
   "cell_type": "markdown",
   "source": [
    "11. Выберите id рецепта, название рецепта, id пользователя, оставившего отзыв, дату отзыва и рейтинг для тех рецептов, которые имеют не менее 3 ингредиентов. Отсортируйте результат по id рецепта."
   ],
   "metadata": {
    "collapsed": false
   }
  }
 ],
 "metadata": {
  "kernelspec": {
   "display_name": "Python 3",
   "language": "python",
   "name": "python3"
  },
  "language_info": {
   "codemirror_mode": {
    "name": "ipython",
    "version": 2
   },
   "file_extension": ".py",
   "mimetype": "text/x-python",
   "name": "python",
   "nbconvert_exporter": "python",
   "pygments_lexer": "ipython2",
   "version": "2.7.6"
  }
 },
 "nbformat": 4,
 "nbformat_minor": 0
}