{
 "cells": [
  {
   "cell_type": "markdown",
   "source": [
    "# Работа с базами данных"
   ],
   "metadata": {
    "collapsed": false
   }
  },
  {
   "cell_type": "markdown",
   "source": [
    "Материалы:\n",
    "* Макрушин С.В. Лекция 6: Работа с базами данных\n",
    "* https://sqliteonline.com/\n",
    "* https://docs.python.org/3/library/sqlite3.html\n",
    "* https://www.geeksforgeeks.org/sql-join-set-1-inner-left-right-and-full-joins/\n",
    "* https://www.datacamp.com/community/tutorials/group-by-having-clause-sql"
   ],
   "metadata": {
    "collapsed": false
   }
  },
  {
   "cell_type": "markdown",
   "source": [
    ".fetchone()\n",
    ".fetchmany()\n",
    ".fetchall()\n",
    ".executemany()\n",
    ".executescript()"
   ],
   "metadata": {
    "collapsed": false
   }
  },
  {
   "cell_type": "code",
   "execution_count": 1,
   "outputs": [],
   "source": [
    "import csv\n",
    "# import json\n",
    "# import pickle\n",
    "# import pandas as pd\n",
    "# import numpy as np\n",
    "# import h5py\n",
    "\n",
    "# from bs4 import BeautifulSoup as bs\n",
    "from pprint import pprint as pp\n",
    "import sqlite3"
   ],
   "metadata": {
    "collapsed": false,
    "pycharm": {
     "name": "#%%\n"
    }
   }
  },
  {
   "cell_type": "code",
   "execution_count": null,
   "outputs": [],
   "source": [
    "con = sqlite3.connect('./data/data/Chinook_Sqlite.sqlite')\n",
    "cur = con.cursor()\n",
    "\n",
    "\n",
    "cur.execute(\"\"\"\n",
    "SELECT firstname, lastname\n",
    "FROM Customer\n",
    "WHERE country = ? AND state = ?\n",
    "\"\"\", ('Canada', 'QC'))\n",
    "\n",
    "cur.close()\n",
    "con.close()"
   ],
   "metadata": {
    "collapsed": false,
    "pycharm": {
     "name": "#%%\n"
    }
   }
  },
  {
   "cell_type": "code",
   "execution_count": null,
   "outputs": [],
   "source": [
    "con = sqlite3.connect('./data/data/test.db')\n",
    "cur = con.cursor()\n",
    "\n",
    "\n",
    "cur.execute(\"\"\"\n",
    "CREATE TABLE Student(id INTEGER, name VARCHAR(50))\n",
    "\"\"\")\n",
    "\n",
    "cur.execute(\"\"\"\n",
    "INSERT INTO Student(id, name) VALUES (1, 'Daniil')\n",
    "\"\"\")\n",
    "con.commit()\n",
    "\n",
    "cur.close()\n",
    "con.close()"
   ],
   "metadata": {
    "collapsed": false,
    "pycharm": {
     "name": "#%%\n"
    }
   }
  },
  {
   "cell_type": "markdown",
   "source": [
    "## Задачи для совместного разбора"
   ],
   "metadata": {
    "collapsed": false
   }
  },
  {
   "cell_type": "markdown",
   "source": [
    "1. Работая с базой данных `Chinook_Sqlite.sqlite`, найдите и выведите на экран имена и фамилии всех заказчиков из Канады"
   ],
   "metadata": {
    "collapsed": false
   }
  },
  {
   "cell_type": "markdown",
   "source": [
    "2. Найти и вывести на экран названия всех альбомов группы Accept"
   ],
   "metadata": {
    "collapsed": false
   }
  },
  {
   "cell_type": "markdown",
   "source": [
    "3. Создайте базу данных с названием вашей группы. В этой базе данных создайте таблицу Student, содержащую 2 столбца: id и name. Добавьте в таблицу Student информацию о студентах, сидящих с вами по соседству."
   ],
   "metadata": {
    "collapsed": false
   }
  },
  {
   "cell_type": "markdown",
   "source": [
    "## Лабораторная работа 6"
   ],
   "metadata": {
    "collapsed": false
   }
  },
  {
   "cell_type": "markdown",
   "source": [
    "1. Создайте файл базы данных c названием `recipes.db`. Создайте объект-курсор."
   ],
   "metadata": {
    "collapsed": false
   }
  },
  {
   "cell_type": "code",
   "execution_count": null,
   "outputs": [],
   "source": [
    "conn = sqlite3.connect('./data/data/recipes.db')\n",
    "curr = conn.cursor()\n",
    "\n",
    "\n",
    "curr.close()\n",
    "conn.close()"
   ],
   "metadata": {
    "collapsed": false,
    "pycharm": {
     "name": "#%%\n"
    }
   }
  },
  {
   "cell_type": "markdown",
   "source": [
    "2. Напишите и выполните SQL-запрос для создания таблицы рецептов `Recipe`. Таблица должна содержать следующие поля:\n",
    "`id`, `name`, `minutes`, `submitted`, `description`, `n_ingredients`. Определитесь с типами и составом ключевых полей."
   ],
   "metadata": {
    "collapsed": false
   }
  },
  {
   "cell_type": "code",
   "execution_count": 3,
   "outputs": [],
   "source": [
    "conn = sqlite3.connect('./data/data/recipes.db')\n",
    "curr = conn.cursor()\n",
    "\n",
    "curr.execute(\"\"\"\n",
    "CREATE TABLE IF NOT EXISTS Recipe(\n",
    "\tid              INTEGER PRIMARY KEY,\n",
    "\tname            VARCHAR(80),\n",
    "\tminutes         TIME,\n",
    "\tsubmitted       DATE,\n",
    "\tdescription     TEXT,\n",
    "\tn_ingredients   INTEGER\n",
    ");\n",
    "\"\"\")\n",
    "\n",
    "curr.close()\n",
    "conn.close()"
   ],
   "metadata": {
    "collapsed": false,
    "pycharm": {
     "name": "#%%\n"
    }
   }
  },
  {
   "cell_type": "markdown",
   "source": [
    "3. Напишите и выполните SQL-запрос для создания таблицы отзывов `Review`. Таблица должна содержать следующие поля:\n",
    "`id`, `user_id`, `recipe_id`, `date`, `rating`, `review`. Определитесь с типами полей, набором ключевых полей. При помощи внешнего ключа соедините две таблицы."
   ],
   "metadata": {
    "collapsed": false
   }
  },
  {
   "cell_type": "code",
   "execution_count": 9,
   "outputs": [],
   "source": [
    "conn = sqlite3.connect('./data/data/recipes.db')\n",
    "curr = conn.cursor()\n",
    "\n",
    "curr.execute(\"\"\"\n",
    "CREATE TABLE IF NOT EXISTS Review(\n",
    "\tid          INTEGER PRIMARY KEY,\n",
    "\tuser_id     INTEGER,\n",
    "\trecipe_id   INTEGER,\n",
    "\tdate        DATE,\n",
    "\trating      INTEGER,\n",
    "\treview      TEXT,\n",
    "\tFOREIGN KEY (\n",
    "\t\trecipe_id\n",
    "\t)\n",
    "\tREFERENCES Recipe(id)\n",
    ");\n",
    "\"\"\")\n",
    "\n",
    "curr.close()\n",
    "conn.close()"
   ],
   "metadata": {
    "collapsed": false,
    "pycharm": {
     "name": "#%%\n"
    }
   }
  },
  {
   "cell_type": "markdown",
   "source": [
    "4. Загрузите данные из файлов `reviews_sample.csv` (__ЛР2__) и `recipes_sample_with_tags_ingredients.csv` (__ЛР5__) в созданные таблицы"
   ],
   "metadata": {
    "collapsed": false
   }
  },
  {
   "cell_type": "code",
   "execution_count": 82,
   "outputs": [],
   "source": [
    "conn = sqlite3.connect('./data/data/recipes.db')\n",
    "curr = conn.cursor()\n",
    "\n",
    "with open(\"./data/data/recipes_sample_with_tags_ingredients.csv\", \"r\", encoding=\"UTF-8\") as recipes_file:\n",
    "\tdr = csv.DictReader(recipes_file)\n",
    "\tvalues_to_db = [(i[\"id\"], i[\"name\"], i[\"minutes\"], i[\"submitted\"], i[\"description\"], i[\"n_ingredients\"]) for i in dr]\n",
    "\tquery=\"\"\"\n",
    "\tINSERT INTO Recipe (id, name, minutes, submitted, description, n_ingredients)\n",
    "\tVALUES (?, ?, ?, ?, ?, ?);\"\"\"\n",
    "\t# curr.executemany(query, values_to_db)\n",
    "\t# conn.commit()\n",
    "\n",
    "with open(\"./data/data/reviews_sample.csv\", \"r\", encoding=\"UTF-8\") as reviews_file:\n",
    "\tdr = csv.DictReader(reviews_file)\n",
    "\tvalues_to_db = [(i[\"\"], i[\"user_id\"], i[\"recipe_id\"], i[\"date\"], i[\"rating\"], i[\"review\"]) for i in dr]\n",
    "\tquery = \"\"\"\n",
    "\tINSERT INTO Review (id, user_id, recipe_id, date, rating, review)\n",
    "\tVALUES (?, ?, ?, ?, ?, ?);\"\"\"\n",
    "\t# curr.executemany(query, values_to_db)\n",
    "\t# conn.commit()\n",
    "\n",
    "curr.close()\n",
    "conn.close()"
   ],
   "metadata": {
    "collapsed": false,
    "pycharm": {
     "name": "#%%\n"
    }
   }
  },
  {
   "cell_type": "markdown",
   "source": [
    "5. Найдите все рецепты, для выполнения которых нужно ровно 10 ингредиентов. Выведите на экран первые 5 из найденных рецептов."
   ],
   "metadata": {
    "collapsed": false
   }
  },
  {
   "cell_type": "code",
   "execution_count": 98,
   "outputs": [
    {
     "name": "stdout",
     "output_type": "stream",
     "text": [
      "[(176, 'cola cake', 55, '1999-08-22', '', 10), (246, 'lee s hot crab dip', 45, '1999-09-01', \"lee's hot crab dip\", 10), (289, 'feijoada  brazilian bean soup  ii', 150, '1999-10-04', 'brazilian bean soup', 10), (373, 'tiramisu   balducci s in new york city', 95, '1999-08-17', 'this is an adopted recipe. i shall be trying it out and then post any additional information if needs be. if you are going to give any or no stars, please at least give the reason why so that you can help me improve the recipe. thank you.', 10), (544, 'greek mushroom salad', 38, '1999-08-10', '', 10)]\n"
     ]
    }
   ],
   "source": [
    "conn = sqlite3.connect('./data/data/recipes.db')\n",
    "curr = conn.cursor()\n",
    "\n",
    "query = \"\"\"\n",
    "SELECT * FROM Recipe\n",
    "\tWHERE n_ingredients=10;\"\"\"\n",
    "\n",
    "curr.execute(query)\n",
    "records = curr.fetchmany(5)\n",
    "\n",
    "print(records)\n",
    "\n",
    "curr.close()\n",
    "conn.close()"
   ],
   "metadata": {
    "collapsed": false,
    "pycharm": {
     "name": "#%%\n"
    }
   }
  },
  {
   "cell_type": "markdown",
   "source": [
    "6. Найдите название рецепта, для выполнения которого требуется больше всего времени."
   ],
   "metadata": {
    "collapsed": false
   }
  },
  {
   "cell_type": "code",
   "execution_count": 106,
   "outputs": [
    {
     "name": "stdout",
     "output_type": "stream",
     "text": [
      "(236274, 'strawberry liqueur', 129615, '2007-06-21', 'a beautiful light red shade with a delicious strawberry flavor.', 5)\n"
     ]
    }
   ],
   "source": [
    "conn = sqlite3.connect('./data/data/recipes.db')\n",
    "curr = conn.cursor()\n",
    "\n",
    "query = \"\"\"\n",
    "SELECT *\n",
    "\tFROM Recipe\n",
    "\tWHERE minutes = (SELECT MAX(minutes) FROM Recipe);\"\"\"\n",
    "\n",
    "curr.execute(query)\n",
    "records = curr.fetchone()\n",
    "\n",
    "print(records)\n",
    "\n",
    "curr.close()\n",
    "conn.close()"
   ],
   "metadata": {
    "collapsed": false,
    "pycharm": {
     "name": "#%%\n"
    }
   }
  },
  {
   "cell_type": "markdown",
   "source": [
    "7. Запросите у пользователя id рецепта и верните информацию об этом рецепте. Если рецепт отсуствует, выведите соответствующее сообщение."
   ],
   "metadata": {
    "collapsed": false
   }
  },
  {
   "cell_type": "code",
   "execution_count": 158,
   "outputs": [
    {
     "name": "stdout",
     "output_type": "stream",
     "text": [
      "(44123, 'george s at the cove  black bean soup', 90, '2002-10-25', \"an original recipe created by chef scott meskan, george's at the cove. we enjoyed this when we visited this restaurant in la jolla, california. this recipe is requested so often, they have it printed and ready at the hostess stand. it's unbeatable at the restaurant, but i do a pretty good job at home, too, if i do say so myself!\", 18)\n"
     ]
    }
   ],
   "source": [
    "conn = sqlite3.connect('./data/data/recipes.db')\n",
    "curr = conn.cursor()\n",
    "\n",
    "given_id = (44123, )\n",
    "\n",
    "query = \"\"\"\n",
    "SELECT *\n",
    "\tFROM Recipe\n",
    "\tWHERE id = ?;\"\"\"\n",
    "\n",
    "curr.execute(query, given_id)\n",
    "records = curr.fetchone()\n",
    "\n",
    "if records:\n",
    "\tprint(records)\n",
    "else:\n",
    "\tprint(\"Рецепта с заданным id не найдено!\")\n",
    "\n",
    "curr.close()\n",
    "conn.close()"
   ],
   "metadata": {
    "collapsed": false,
    "pycharm": {
     "name": "#%%\n"
    }
   }
  },
  {
   "cell_type": "markdown",
   "source": [
    "8. Найдите кол-во отзывов с рейтингом 5."
   ],
   "metadata": {
    "collapsed": false
   }
  },
  {
   "cell_type": "code",
   "execution_count": 124,
   "outputs": [
    {
     "name": "stdout",
     "output_type": "stream",
     "text": [
      "91361\n"
     ]
    }
   ],
   "source": [
    "conn = sqlite3.connect('./data/data/recipes.db')\n",
    "curr = conn.cursor()\n",
    "\n",
    "query = \"\"\"\n",
    "SELECT COUNT(*)\n",
    "\tFROM Review\n",
    "\tWHERE rating = 5;\"\"\"\n",
    "\n",
    "curr.execute(query)\n",
    "records = curr.fetchall()\n",
    "\n",
    "print(records[0][0])\n",
    "\n",
    "curr.close()\n",
    "conn.close()"
   ],
   "metadata": {
    "collapsed": false,
    "pycharm": {
     "name": "#%%\n"
    }
   }
  },
  {
   "cell_type": "markdown",
   "source": [
    "9. Найдите кол-во уникальных рецептов, не имеющих отзывов с рейтингом, меньше 4."
   ],
   "metadata": {
    "collapsed": false
   }
  },
  {
   "cell_type": "code",
   "execution_count": 40,
   "outputs": [
    {
     "name": "stdout",
     "output_type": "stream",
     "text": [
      "15\n"
     ]
    }
   ],
   "source": [
    "conn = sqlite3.connect('./data/data/recipes.db')\n",
    "curr = conn.cursor()\n",
    "\n",
    "query = \"\"\"\n",
    "SELECT COUNT(*)\n",
    "\tFROM Review\n",
    "\tWHERE rating >= 4 AND review = ''\n",
    "\tGROUP BY recipe_id;\n",
    "\"\"\"\n",
    "\n",
    "curr.execute(query)\n",
    "records = curr.fetchall()\n",
    "\n",
    "pp(len(records))\n",
    "\n",
    "curr.close()\n",
    "conn.close()"
   ],
   "metadata": {
    "collapsed": false,
    "pycharm": {
     "name": "#%%\n"
    }
   }
  },
  {
   "cell_type": "markdown",
   "source": [
    "10. Найдите кол-во рецептов, опубликованных в 2010 году и имеющих длину не менее 15 минут."
   ],
   "metadata": {
    "collapsed": false
   }
  },
  {
   "cell_type": "code",
   "execution_count": 4,
   "outputs": [
    {
     "name": "stdout",
     "output_type": "stream",
     "text": [
      "1319\n"
     ]
    }
   ],
   "source": [
    "conn = sqlite3.connect('./data/data/recipes.db')\n",
    "curr = conn.cursor()\n",
    "\n",
    "query = \"\"\"\n",
    "SELECT COUNT(*)\n",
    "\tFROM Recipe\n",
    "\tWHERE (submitted BETWEEN '2010-01-01' AND '2010-12-31') AND minutes >= 15;\"\"\"\n",
    "\n",
    "curr.execute(query)\n",
    "records = curr.fetchall()\n",
    "\n",
    "print(records[0][0])\n",
    "\n",
    "curr.close()\n",
    "conn.close()"
   ],
   "metadata": {
    "collapsed": false,
    "pycharm": {
     "name": "#%%\n"
    }
   }
  },
  {
   "cell_type": "markdown",
   "source": [
    "11. Выберите id рецепта, название рецепта, id пользователя, оставившего отзыв, дату отзыва и рейтинг для тех рецептов, которые имеют не менее 3 ингредиентов. Отсортируйте результат по id рецепта."
   ],
   "metadata": {
    "collapsed": false
   }
  },
  {
   "cell_type": "code",
   "execution_count": 38,
   "outputs": [
    {
     "name": "stdout",
     "output_type": "stream",
     "text": [
      "[(48, 'boston cream pie', 32421, '2002-03-15', 0),\n",
      " (48, 'boston cream pie', 68674, '2004-05-03', 2),\n",
      " (55, 'betty crocker s southwestern guacamole dip', 53959, '2006-01-12', 4),\n",
      " (55, 'betty crocker s southwestern guacamole dip', 165567, '2006-03-31', 5),\n",
      " (55, 'betty crocker s southwestern guacamole dip', 1060485, '2009-04-07', 5),\n",
      " (55, 'betty crocker s southwestern guacamole dip', 851190, '2010-05-23', 5),\n",
      " (66, 'black coffee barbecue sauce', 42938, '2002-10-21', 4),\n",
      " (66, 'black coffee barbecue sauce', 8679, '2003-03-17', 5),\n",
      " (66, 'black coffee barbecue sauce', 136813, '2007-04-14', 5),\n",
      " (66, 'black coffee barbecue sauce', 498631, '2007-05-11', 5),\n",
      " (66, 'black coffee barbecue sauce', 352271, '2007-11-05', 5),\n",
      " (66, 'black coffee barbecue sauce', 314792, '2008-02-04', 5),\n",
      " (66, 'black coffee barbecue sauce', 136004, '2008-06-05', 5),\n",
      " (66, 'black coffee barbecue sauce', 330545, '2009-01-02', 5),\n",
      " (66, 'black coffee barbecue sauce', 675265, '2009-01-10', 5),\n",
      " (66, 'black coffee barbecue sauce', 983723, '2010-05-23', 5),\n",
      " (66, 'black coffee barbecue sauce', 133174, '2010-07-04', 5),\n",
      " (66, 'black coffee barbecue sauce', 124416, '2010-07-08', 5),\n",
      " (66, 'black coffee barbecue sauce', 383346, '2010-07-09', 5),\n",
      " (66, 'black coffee barbecue sauce', 744425, '2010-07-11', 5)]\n"
     ]
    }
   ],
   "source": [
    "conn = sqlite3.connect('./data/data/recipes.db')\n",
    "curr = conn.cursor()\n",
    "\n",
    "query = \"\"\"\n",
    "SELECT REV.recipe_id, REC.name, REV.user_id, REV.date, REV.rating\n",
    "\tFROM Review REV INNER JOIN Recipe REC on REC.id = REV.recipe_id\n",
    "\tWHERE n_ingredients >= 3\n",
    "\tORDER BY REC.id;\"\"\"\n",
    "\n",
    "curr.execute(query)\n",
    "records = curr.fetchmany(20)\n",
    "\n",
    "pp(records)\n",
    "\n",
    "curr.close()\n",
    "conn.close()\n"
   ],
   "metadata": {
    "collapsed": false,
    "pycharm": {
     "name": "#%%\n"
    }
   }
  }
 ],
 "metadata": {
  "kernelspec": {
   "display_name": "Python 3",
   "language": "python",
   "name": "python3"
  },
  "language_info": {
   "codemirror_mode": {
    "name": "ipython",
    "version": 2
   },
   "file_extension": ".py",
   "mimetype": "text/x-python",
   "name": "python",
   "nbconvert_exporter": "python",
   "pygments_lexer": "ipython2",
   "version": "2.7.6"
  }
 },
 "nbformat": 4,
 "nbformat_minor": 0
}